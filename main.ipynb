{
 "cells": [
  {
   "cell_type": "markdown",
   "id": "c9469d2f-7712-46e1-9425-367356fb0fda",
   "metadata": {},
   "source": [
    "### Dependencies"
   ]
  },
  {
   "cell_type": "code",
   "execution_count": 1,
   "id": "dc3777d1-224f-4436-aac9-654bc97596e1",
   "metadata": {},
   "outputs": [],
   "source": [
    "import numpy as np\n",
    "import pandas as pd\n",
    "\n",
    "import matplotlib.pyplot as plt\n",
    "import seaborn as sns\n",
    "\n",
    "import os\n",
    "from dotenv import load_dotenv\n",
    "\n",
    "from typing import Annotated, TypedDict, List, Dict, Any, Optional\n",
    "from pydantic import BaseModel, Field"
   ]
  },
  {
   "cell_type": "code",
   "execution_count": 2,
   "id": "4a16efbc-8ca2-4cdb-824c-3db93c50c72f",
   "metadata": {},
   "outputs": [],
   "source": [
    "# from langchain_experimental.agents import create_pandas_dataframe_agent\n",
    "from langchain_openai import ChatOpenAI\n",
    "from langchain_google_genai import ChatGoogleGenerativeAI\n",
    "from langchain_groq import ChatGroq\n",
    "from langchain_core.messages import HumanMessage, SystemMessage, AIMessage, ToolMessage"
   ]
  },
  {
   "cell_type": "code",
   "execution_count": 3,
   "id": "337222c3-9aad-48db-a549-7af3246d4cc2",
   "metadata": {},
   "outputs": [],
   "source": [
    "from langgraph.graph import StateGraph, START, END\n",
    "from langgraph.graph.message import add_messages\n",
    "from langgraph.prebuilt import ToolNode, tools_condition   # used by a Node to decide whether to use a tool\n",
    "from langchain.agents import Tool # required to conver function to tool\n",
    "\n",
    "from langgraph.checkpoint.memory import MemorySaver\n",
    "import uuid"
   ]
  },
  {
   "cell_type": "code",
   "execution_count": 4,
   "id": "d76d36c2-1185-4a1f-9b05-dbe6236fa2cd",
   "metadata": {},
   "outputs": [
    {
     "name": "stderr",
     "output_type": "stream",
     "text": [
      "C:\\Users\\DELL\\Desktop\\New-Era-Projects\\Data-Analyst-Assistant-App\\.venv\\Lib\\site-packages\\tqdm\\auto.py:21: TqdmWarning: IProgress not found. Please update jupyter and ipywidgets. See https://ipywidgets.readthedocs.io/en/stable/user_install.html\n",
      "  from .autonotebook import tqdm as notebook_tqdm\n"
     ]
    }
   ],
   "source": [
    "from tqdm import tqdm\n",
    "from IPython.display import Image, display\n",
    "\n",
    "import gradio as gr"
   ]
  },
  {
   "cell_type": "code",
   "execution_count": 5,
   "id": "fc45aa9c-3b11-4a27-8c5f-25b44b79c047",
   "metadata": {},
   "outputs": [
    {
     "data": {
      "text/plain": [
       "True"
      ]
     },
     "execution_count": 5,
     "metadata": {},
     "output_type": "execute_result"
    }
   ],
   "source": [
    "load_dotenv()"
   ]
  },
  {
   "cell_type": "markdown",
   "id": "263a3602-2e38-4c13-84c9-d4903e15bfec",
   "metadata": {},
   "source": [
    "### Test LangChain OpenAi Integration"
   ]
  },
  {
   "cell_type": "markdown",
   "id": "f5a53c7d-cd95-4845-8cca-481236bf9d59",
   "metadata": {},
   "source": [
    "OPENAI API USAGE"
   ]
  },
  {
   "cell_type": "code",
   "execution_count": 6,
   "id": "f0b24cdd-361e-4a8e-8392-c51bc41c7f7d",
   "metadata": {},
   "outputs": [],
   "source": [
    "# # Create an LLM instance\n",
    "# llm = ChatOpenAI(model=\"gpt-4o-mini\", temperature=0)\n",
    "\n",
    "# # Make a simple inference\n",
    "# user_prompt = \"\"\"\n",
    "# What is the capital of the US\n",
    "\n",
    "# \"\"\"\n",
    "# messages = [ HumanMessage(content=user_prompt), \n",
    "#              SystemMessage(content=\"Make sure to present your response in bullet point without markdown format\")\n",
    "#            ]\n",
    "\n",
    "# response = llm.invoke(messages)\n",
    "\n",
    "# print(response.content)"
   ]
  },
  {
   "cell_type": "markdown",
   "id": "9321db84-9010-4d3e-8fc6-0d33b0631eb4",
   "metadata": {},
   "source": [
    "GOOGLE GENERATIVE API USAGE"
   ]
  },
  {
   "cell_type": "code",
   "execution_count": 22,
   "id": "b45a5785-d101-44c7-a078-ca5ed71f0b65",
   "metadata": {},
   "outputs": [],
   "source": [
    "gemini_api_key = os.getenv(\"GEMINI_API_KEY\")"
   ]
  },
  {
   "cell_type": "code",
   "execution_count": 23,
   "id": "5a653021-ec0d-46d3-94a1-a427012ddb43",
   "metadata": {},
   "outputs": [
    {
     "name": "stdout",
     "output_type": "stream",
     "text": [
      "content='The capital of the United States is **Washington, D.C.**' additional_kwargs={} response_metadata={'prompt_feedback': {'block_reason': 0, 'safety_ratings': []}, 'finish_reason': 'STOP', 'model_name': 'gemini-2.5-flash', 'safety_ratings': []} id='run--065f077b-ce3b-4420-8e4b-2b993a7f5612-0' usage_metadata={'input_tokens': 11, 'output_tokens': 44, 'total_tokens': 55, 'input_token_details': {'cache_read': 0}, 'output_token_details': {'reasoning': 30}}\n",
      "The capital of the United States is **Washington, D.C.**\n"
     ]
    }
   ],
   "source": [
    "user_prompt = \"\"\"\n",
    "What is the capital of the US?\n",
    "\"\"\"\n",
    "\n",
    "messages = [ HumanMessage(content=user_prompt), \n",
    "             SystemMessage(content=\"Make sure to present your response in bullet point without markdown format and extra character.\")\n",
    "           ]\n",
    "\n",
    "\n",
    "google_llm = ChatGoogleGenerativeAI(\n",
    "    model=\"gemini-2.5-flash\",\n",
    "    temperature=0,\n",
    "    google_api_key=gemini_api_key\n",
    ")\n",
    "    \n",
    "response = google_llm.invoke(messages)\n",
    "print(response)\n",
    "print(response.content)"
   ]
  },
  {
   "cell_type": "markdown",
   "id": "3bf11d7e-2e8d-4c83-a106-6fefb51ae70c",
   "metadata": {},
   "source": [
    "---"
   ]
  },
  {
   "cell_type": "markdown",
   "id": "fdaa1bf1-0ae0-4337-a592-b2dc188abec0",
   "metadata": {},
   "source": [
    "GROQ"
   ]
  },
  {
   "cell_type": "code",
   "execution_count": 51,
   "id": "6b4df69a-1741-407c-98a2-8441edca39b4",
   "metadata": {},
   "outputs": [],
   "source": [
    "# key is explicitly imported from environment variable\n",
    "# groq_api_key = os.getenv(\"GROQ_API_KEY\")"
   ]
  },
  {
   "cell_type": "code",
   "execution_count": 7,
   "id": "450d8c14-8681-4c86-baf5-4f37a0eddff5",
   "metadata": {},
   "outputs": [
    {
     "name": "stdout",
     "output_type": "stream",
     "text": [
      "content='* The capital of the US is Washington D.C.' additional_kwargs={} response_metadata={'token_usage': {'completion_tokens': 12, 'prompt_tokens': 59, 'total_tokens': 71, 'completion_time': 0.025087032, 'prompt_time': 0.012629729, 'queue_time': 0.086848075, 'total_time': 0.037716761}, 'model_name': 'llama-3.3-70b-versatile', 'system_fingerprint': 'fp_3f3b593e33', 'service_tier': 'on_demand', 'finish_reason': 'stop', 'logprobs': None} id='run--be8a69e9-55c6-4538-8007-e5373818b6b9-0' usage_metadata={'input_tokens': 59, 'output_tokens': 12, 'total_tokens': 71}\n",
      "* The capital of the US is Washington D.C.\n"
     ]
    }
   ],
   "source": [
    "user_prompt = \"\"\"\n",
    "What is the capital of the US?\n",
    "\"\"\"\n",
    "\n",
    "messages = [ HumanMessage(content=user_prompt), \n",
    "             SystemMessage(content=\"Make sure to present your response in bullet point without markdown format and extra character.\")\n",
    "           ]\n",
    "\n",
    "groq_llm = ChatGroq(model=\"llama-3.3-70b-versatile\")\n",
    "\n",
    "response = groq_llm.invoke(messages)\n",
    "print(response)\n",
    "print(response.content)"
   ]
  },
  {
   "cell_type": "markdown",
   "id": "e27723fd-a852-4411-b8a5-c47b167851d4",
   "metadata": {},
   "source": [
    "### Assistant Evaluator \n",
    "\n",
    "**Schema**"
   ]
  },
  {
   "cell_type": "code",
   "execution_count": 8,
   "id": "79d8d770-83dc-4ca0-8db3-f7740d849eac",
   "metadata": {},
   "outputs": [],
   "source": [
    "class EvaluatorResponse(BaseModel):\n",
    "    feedback: str = Field(description=\"Critical feedback on the assistant response\")\n",
    "    success_criteria_met: bool = Field(description=\"Whether the success criteria has been met\") # the users request is the criteria\n",
    "    user_input_needed: bool = Field(description=\"True if more input is needed from the user for more clarity of the LLM get stucked\")"
   ]
  },
  {
   "cell_type": "markdown",
   "id": "47da69bb-afc4-441f-85f2-8f4acbf30371",
   "metadata": {},
   "source": [
    "Gemini Evaluator"
   ]
  },
  {
   "cell_type": "code",
   "execution_count": 10,
   "id": "cac10bd6-03e8-4c4d-8e54-3a181d4bbc00",
   "metadata": {},
   "outputs": [],
   "source": [
    "evaluator_llm = ChatGoogleGenerativeAI( model=\"gemini-2.5-flash\", \n",
    "                                       temperature=0, \n",
    "                                       google_api_key=gemini_api_key)\n",
    "\n",
    "evaluator_llm_with_output = evaluator_llm.with_structured_output(EvaluatorResponse)\n",
    "\n",
    "response = evaluator_llm_with_output.invoke(messages)\n",
    "print(response)"
   ]
  },
  {
   "cell_type": "markdown",
   "id": "ed42508b-0ca2-46ef-91e2-d6d24131710e",
   "metadata": {},
   "source": [
    "Groq Evaluator"
   ]
  },
  {
   "cell_type": "code",
   "execution_count": 11,
   "id": "9e8bcfae-ab60-4ff5-af0d-94a81eb441e8",
   "metadata": {},
   "outputs": [
    {
     "name": "stdout",
     "output_type": "stream",
     "text": [
      "feedback='The capital of the US is Washington, D.C.' success_criteria_met=True user_input_needed=False\n"
     ]
    }
   ],
   "source": [
    "evaluator_llm_with_output = groq_llm.with_structured_output(EvaluatorResponse)\n",
    "\n",
    "response = evaluator_llm_with_output.invoke(messages)\n",
    "print(response)"
   ]
  },
  {
   "cell_type": "markdown",
   "id": "edb99673-f4a7-4c44-9b1d-d74547f967ba",
   "metadata": {},
   "source": [
    "### Data"
   ]
  },
  {
   "cell_type": "code",
   "execution_count": 12,
   "id": "fe866ef5-50e1-4e6b-8040-59babe524f97",
   "metadata": {},
   "outputs": [],
   "source": [
    "def create_df():\n",
    "    df = pd.read_csv(\"Customer.csv\")\n",
    "    return df"
   ]
  },
  {
   "cell_type": "code",
   "execution_count": 13,
   "id": "0aee8802-efae-4db4-a632-6f3fd26a4c01",
   "metadata": {},
   "outputs": [
    {
     "data": {
      "text/html": [
       "<div>\n",
       "<style scoped>\n",
       "    .dataframe tbody tr th:only-of-type {\n",
       "        vertical-align: middle;\n",
       "    }\n",
       "\n",
       "    .dataframe tbody tr th {\n",
       "        vertical-align: top;\n",
       "    }\n",
       "\n",
       "    .dataframe thead th {\n",
       "        text-align: right;\n",
       "    }\n",
       "</style>\n",
       "<table border=\"1\" class=\"dataframe\">\n",
       "  <thead>\n",
       "    <tr style=\"text-align: right;\">\n",
       "      <th></th>\n",
       "      <th>customer_Id</th>\n",
       "      <th>DOB</th>\n",
       "      <th>Gender</th>\n",
       "      <th>city_code</th>\n",
       "    </tr>\n",
       "  </thead>\n",
       "  <tbody>\n",
       "    <tr>\n",
       "      <th>0</th>\n",
       "      <td>268408</td>\n",
       "      <td>02-01-1970</td>\n",
       "      <td>M</td>\n",
       "      <td>4.0</td>\n",
       "    </tr>\n",
       "    <tr>\n",
       "      <th>1</th>\n",
       "      <td>269696</td>\n",
       "      <td>07-01-1970</td>\n",
       "      <td>F</td>\n",
       "      <td>8.0</td>\n",
       "    </tr>\n",
       "    <tr>\n",
       "      <th>2</th>\n",
       "      <td>268159</td>\n",
       "      <td>08-01-1970</td>\n",
       "      <td>F</td>\n",
       "      <td>8.0</td>\n",
       "    </tr>\n",
       "    <tr>\n",
       "      <th>3</th>\n",
       "      <td>270181</td>\n",
       "      <td>10-01-1970</td>\n",
       "      <td>F</td>\n",
       "      <td>2.0</td>\n",
       "    </tr>\n",
       "    <tr>\n",
       "      <th>4</th>\n",
       "      <td>268073</td>\n",
       "      <td>11-01-1970</td>\n",
       "      <td>M</td>\n",
       "      <td>1.0</td>\n",
       "    </tr>\n",
       "  </tbody>\n",
       "</table>\n",
       "</div>"
      ],
      "text/plain": [
       "   customer_Id         DOB Gender  city_code\n",
       "0       268408  02-01-1970      M        4.0\n",
       "1       269696  07-01-1970      F        8.0\n",
       "2       268159  08-01-1970      F        8.0\n",
       "3       270181  10-01-1970      F        2.0\n",
       "4       268073  11-01-1970      M        1.0"
      ]
     },
     "execution_count": 13,
     "metadata": {},
     "output_type": "execute_result"
    }
   ],
   "source": [
    "df = create_df()\n",
    "df.head()"
   ]
  },
  {
   "cell_type": "code",
   "execution_count": 22,
   "id": "7348fe89-aa69-4661-8e7c-4d0d79ad4387",
   "metadata": {},
   "outputs": [
    {
     "name": "stdout",
     "output_type": "stream",
     "text": [
      "<class 'pandas.core.frame.DataFrame'>\n",
      "RangeIndex: 5647 entries, 0 to 5646\n",
      "Data columns (total 4 columns):\n",
      " #   Column       Non-Null Count  Dtype  \n",
      "---  ------       --------------  -----  \n",
      " 0   customer_Id  5647 non-null   int64  \n",
      " 1   DOB          5647 non-null   object \n",
      " 2   Gender       5645 non-null   object \n",
      " 3   city_code    5645 non-null   float64\n",
      "dtypes: float64(1), int64(1), object(2)\n",
      "memory usage: 176.6+ KB\n",
      "{'messages': [HumanMessage(content='Thank you', additional_kwargs={}, response_metadata={}, id='ee910d90-bff1-4f3f-b01a-4cb001db4255'), AIMessage(content=\"You're welcome\", additional_kwargs={}, response_metadata={'token_usage': {'completion_tokens': 4, 'prompt_tokens': 276, 'total_tokens': 280, 'completion_time': 0.015351442, 'prompt_time': 0.022229633, 'queue_time': 0.093136228, 'total_time': 0.037581075}, 'model_name': 'llama-3.3-70b-versatile', 'system_fingerprint': 'fp_3f3b593e33', 'service_tier': 'on_demand', 'finish_reason': 'stop', 'logprobs': None}, id='run--af7884e4-5cb2-4d09-8c1e-608cc79c18da-0', usage_metadata={'input_tokens': 276, 'output_tokens': 4, 'total_tokens': 280})]}\n",
      "{'messages': [HumanMessage(content='how many records are in the dataset', additional_kwargs={}, response_metadata={}, id='2091aa6d-acdd-46d6-8ccd-9d980f7157c4'), AIMessage(content='', additional_kwargs={'tool_calls': [{'id': 'j5htbtbmm', 'function': {'arguments': '{\"__arg1\":\"dataset\"}', 'name': 'summarize_data'}, 'type': 'function'}]}, response_metadata={'token_usage': {'completion_tokens': 18, 'prompt_tokens': 281, 'total_tokens': 299, 'completion_time': 0.042651583, 'prompt_time': 0.029603192, 'queue_time': 0.098369805, 'total_time': 0.072254775}, 'model_name': 'llama-3.3-70b-versatile', 'system_fingerprint': 'fp_2ddfbb0da0', 'service_tier': 'on_demand', 'finish_reason': 'tool_calls', 'logprobs': None}, id='run--261e6580-a96b-4125-80a0-eb0293d8a5cb-0', tool_calls=[{'name': 'summarize_data', 'args': {'__arg1': 'dataset'}, 'id': 'j5htbtbmm', 'type': 'tool_call'}], usage_metadata={'input_tokens': 281, 'output_tokens': 18, 'total_tokens': 299}), ToolMessage(content='summary of dataframe:\\n\\n\\nDataset contains 5647 rows and 4 columns.\\n\\nColumn Information:\\n\\n               dtype  missing_values  non_null_count\\ncustomer_Id    int64               0            5647\\nDOB           object               0            5647\\nGender        object               2            5645\\ncity_code    float64               2            5645\\n\\n', name='summarize_data', id='07b35ae4-60a4-4b4f-95b9-b47a262fc062', tool_call_id='j5htbtbmm'), AIMessage(content='The dataset contains 5647 records.', additional_kwargs={}, response_metadata={'token_usage': {'completion_tokens': 9, 'prompt_tokens': 385, 'total_tokens': 394, 'completion_time': 0.007327314, 'prompt_time': 0.050217573, 'queue_time': 0.085539209, 'total_time': 0.057544887}, 'model_name': 'llama-3.3-70b-versatile', 'system_fingerprint': 'fp_2ddfbb0da0', 'service_tier': 'on_demand', 'finish_reason': 'stop', 'logprobs': None}, id='run--b4b0f1a3-4c6d-4f80-9335-06280b6b9b60-0', usage_metadata={'input_tokens': 385, 'output_tokens': 9, 'total_tokens': 394})]}\n"
     ]
    }
   ],
   "source": [
    "df.info()"
   ]
  },
  {
   "cell_type": "markdown",
   "id": "25db549e-9fb6-4401-8138-20473e352d1d",
   "metadata": {},
   "source": [
    "----\n",
    "### State Definition"
   ]
  },
  {
   "cell_type": "code",
   "execution_count": 14,
   "id": "1ae833a8-e3d8-428f-90e8-ec6b85f93731",
   "metadata": {},
   "outputs": [],
   "source": [
    "class State(TypedDict):\n",
    "    messages: Annotated[list, add_messages]\n",
    "    success_criteria: str\n",
    "    feedback_on_assist: Optional[str]\n",
    "    success_criteria_met: bool\n",
    "    user_input_needed: bool"
   ]
  },
  {
   "cell_type": "code",
   "execution_count": 16,
   "id": "55712d87-550a-4aee-a1ac-5402bb867be6",
   "metadata": {},
   "outputs": [],
   "source": [
    "shared_data = {\"df\": None}\n",
    "\n",
    "def load_csv(file):\n",
    "    \"\"\"\n",
    "    Loads a CSV file into shared_data['df'] and returns a status message.\n",
    "    \"\"\"\n",
    "    if file is None:\n",
    "        return \"⚠️ No file uploaded yet.\"\n",
    "\n",
    "    try:\n",
    "        df = pd.read_csv(file.name if hasattr(file, \"name\") else file)\n",
    "        shared_data[\"df\"] = df\n",
    "\n",
    "        nrows, ncols = df.shape\n",
    "        response_message = (\n",
    "            f\"✅ CSV loaded successfully! \"\n",
    "            f\"Your dataset has {nrows} rows and {ncols} columns.\"\n",
    "        )\n",
    "    except Exception as e:\n",
    "        response_message = f\"❌ Error reading CSV: {e}\"\n",
    "\n",
    "    return response_message"
   ]
  },
  {
   "cell_type": "code",
   "execution_count": 17,
   "id": "6b3a3efe-6f2a-40e0-80ae-284ed587b6c6",
   "metadata": {},
   "outputs": [],
   "source": [
    "def tool_data_summary(state: State) -> str:\n",
    "    df = shared_data['df']\n",
    "    \n",
    "    summary = [\"summary of dataframe:\"]\n",
    "    summary.append(f\"\\n\\nDataset contains {df.shape[0]} rows and {df.shape[1]} columns.\\n\")\n",
    "\n",
    "    # Column info\n",
    "    col_info = pd.DataFrame({\n",
    "        \"dtype\": df.dtypes.astype(str),\n",
    "        \"missing_values\": df.isnull().sum(),\n",
    "        \"non_null_count\": df.notnull().sum()\n",
    "    })\n",
    "    summary.append(\"Column Information:\\n\")\n",
    "    summary.append(col_info.to_string())\n",
    "    summary.append(\"\\n\")\n",
    "\n",
    "    return \"\\n\".join(summary)\n",
    "\n",
    "\n",
    "tool_summary = Tool(name=\"summarize_data\", \n",
    "                    func=tool_data_summary, \n",
    "                    description=f\"Returns the shape and summary of an existing dataframe {shared_data['df']} including numerical and non-numerical fields. Use this tool when the user asks for a data summary.\"\n",
    "                )\n",
    "\n",
    "tools = [tool_summary]"
   ]
  },
  {
   "cell_type": "code",
   "execution_count": 18,
   "id": "cf0d2d2b-d6e7-41e1-81fa-35956337ff47",
   "metadata": {},
   "outputs": [],
   "source": [
    "groq_llm_with_tools = groq_llm.bind_tools(tools)"
   ]
  },
  {
   "cell_type": "code",
   "execution_count": 19,
   "id": "3b38c6ec-118e-42eb-bd23-0a171dc6d6b0",
   "metadata": {},
   "outputs": [],
   "source": [
    "def decides_if_tool(state: State):\n",
    "    \"\"\"\n",
    "    The agent's output is an AIMessage that contains a tool_call object\n",
    "    \"\"\"\n",
    "    last_message = state[\"messages\"][-1]\n",
    "    if isinstance(last_message, AIMessage) and last_message.tool_calls:\n",
    "        return \"tools\"\n",
    "    return \"end\""
   ]
  },
  {
   "cell_type": "code",
   "execution_count": 20,
   "id": "ae81a8af-b9c2-484d-82ac-fc3fec7117e2",
   "metadata": {},
   "outputs": [
    {
     "data": {
      "image/png": "[encoded data removed]",
      "text/plain": [
       "<IPython.core.display.Image object>"
      ]
     },
     "metadata": {},
     "output_type": "display_data"
    }
   ],
   "source": [
    "def assistant(state: State):\n",
    "    return {\"messages\": [groq_llm_with_tools.invoke(state[\"messages\"])]}\n",
    "\n",
    "graph_builder = StateGraph(State)\n",
    "graph_builder.add_node('agent', assistant)\n",
    "graph_builder.add_node(\"tools\", ToolNode(tools=tools))\n",
    "\n",
    "graph_builder.add_edge(START, \"agent\")\n",
    "graph_builder.add_conditional_edges(\"agent\", decides_if_tool, {\"tools\":\"tools\", \"end\": END})\n",
    "graph_builder.add_edge(\"tools\", \"agent\")\n",
    "\n",
    "graph = graph_builder.compile()\n",
    "display(Image(graph.get_graph().draw_mermaid_png()))"
   ]
  },
  {
   "cell_type": "code",
   "execution_count": 21,
   "id": "33bfa967-2994-4d94-a0b3-fb5a7fc714df",
   "metadata": {},
   "outputs": [
    {
     "name": "stdout",
     "output_type": "stream",
     "text": [
      "* Running on local URL:  http://127.0.0.1:7860\n",
      "* To create a public link, set `share=True` in `launch()`.\n"
     ]
    },
    {
     "data": {
      "text/html": [
       "<div><iframe src=\"http://127.0.0.1:7860/\" width=\"100%\" height=\"500\" allow=\"autoplay; camera; microphone; clipboard-read; clipboard-write;\" frameborder=\"0\" allowfullscreen></iframe></div>"
      ],
      "text/plain": [
       "<IPython.core.display.HTML object>"
      ]
     },
     "metadata": {},
     "output_type": "display_data"
    },
    {
     "data": {
      "text/plain": []
     },
     "execution_count": 21,
     "metadata": {},
     "output_type": "execute_result"
    },
    {
     "name": "stdout",
     "output_type": "stream",
     "text": [
      "{'messages': [HumanMessage(content='hi', additional_kwargs={}, response_metadata={}, id='083452a2-1c02-47e1-abd9-b545a99233f3'), AIMessage(content='Hello, how can I help you today?', additional_kwargs={}, response_metadata={'token_usage': {'completion_tokens': 10, 'prompt_tokens': 275, 'total_tokens': 285, 'completion_time': 0.031589816, 'prompt_time': 0.028547247, 'queue_time': 0.086100464, 'total_time': 0.060137063}, 'model_name': 'llama-3.3-70b-versatile', 'system_fingerprint': 'fp_2ddfbb0da0', 'service_tier': 'on_demand', 'finish_reason': 'stop', 'logprobs': None}, id='run--a71a2526-f81f-4c70-b133-cb7c69d2a93a-0', usage_metadata={'input_tokens': 275, 'output_tokens': 10, 'total_tokens': 285})]}\n",
      "{'messages': [HumanMessage(content='hi', additional_kwargs={}, response_metadata={}, id='732645ad-b470-4d17-b89c-847c3cb50428'), AIMessage(content='Hello, how can I assist you today?', additional_kwargs={}, response_metadata={'token_usage': {'completion_tokens': 10, 'prompt_tokens': 275, 'total_tokens': 285, 'completion_time': 0.029505272, 'prompt_time': 0.02838326, 'queue_time': 0.085944324, 'total_time': 0.057888532}, 'model_name': 'llama-3.3-70b-versatile', 'system_fingerprint': 'fp_3f3b593e33', 'service_tier': 'on_demand', 'finish_reason': 'stop', 'logprobs': None}, id='run--dd436314-e41a-4d4c-97c0-4f2c5e86baeb-0', usage_metadata={'input_tokens': 275, 'output_tokens': 10, 'total_tokens': 285})]}\n",
      "{'messages': [HumanMessage(content='I have uploaded a dataset, kindly summarize it', additional_kwargs={}, response_metadata={}, id='dd303404-246a-4c5f-95c3-258293c0cb7b'), AIMessage(content='', additional_kwargs={'tool_calls': [{'id': 'tckrckrys', 'function': {'arguments': '{\"__arg1\":\"dataset\"}', 'name': 'summarize_data'}, 'type': 'function'}]}, response_metadata={'token_usage': {'completion_tokens': 18, 'prompt_tokens': 283, 'total_tokens': 301, 'completion_time': 0.040358131, 'prompt_time': 0.032176918, 'queue_time': 0.086203431, 'total_time': 0.072535049}, 'model_name': 'llama-3.3-70b-versatile', 'system_fingerprint': 'fp_2ddfbb0da0', 'service_tier': 'on_demand', 'finish_reason': 'tool_calls', 'logprobs': None}, id='run--e55a50ff-8539-4eaa-b7b7-9f52537bb2ef-0', tool_calls=[{'name': 'summarize_data', 'args': {'__arg1': 'dataset'}, 'id': 'tckrckrys', 'type': 'tool_call'}], usage_metadata={'input_tokens': 283, 'output_tokens': 18, 'total_tokens': 301}), ToolMessage(content='summary of dataframe:\\n\\n\\nDataset contains 5647 rows and 4 columns.\\n\\nColumn Information:\\n\\n               dtype  missing_values  non_null_count\\ncustomer_Id    int64               0            5647\\nDOB           object               0            5647\\nGender        object               2            5645\\ncity_code    float64               2            5645\\n\\n', name='summarize_data', id='420b9eaa-4f34-4b19-801a-54f76a0c67c4', tool_call_id='tckrckrys'), AIMessage(content=\"Here is a summary of your dataset:\\n\\nYour dataset contains 5647 rows and 4 columns. \\n\\nThe 'customer_Id' column contains 5647 non-null integer values, the 'DOB' column contains 5647 non-null object values, the 'Gender' column contains 5645 non-null object values and has 2 missing values, and the 'city_code' column contains 5645 non-null float values and has 2 missing values.\", additional_kwargs={}, response_metadata={'token_usage': {'completion_tokens': 93, 'prompt_tokens': 387, 'total_tokens': 480, 'completion_time': 0.226002456, 'prompt_time': 0.036373523, 'queue_time': 0.087263735, 'total_time': 0.262375979}, 'model_name': 'llama-3.3-70b-versatile', 'system_fingerprint': 'fp_2ddfbb0da0', 'service_tier': 'on_demand', 'finish_reason': 'stop', 'logprobs': None}, id='run--59e2370c-8a4b-4908-a7a2-dde0622311cd-0', usage_metadata={'input_tokens': 387, 'output_tokens': 93, 'total_tokens': 480})]}\n"
     ]
    }
   ],
   "source": [
    "def chat(user_input: str, history):\n",
    "    message = [HumanMessage(content=user_input)]\n",
    "    result = graph.invoke({\"messages\": message}) # last state\n",
    "    print(result)\n",
    "    return result[\"messages\"][-1].content  # the content of the AIMessage\n",
    "\n",
    "\n",
    "with gr.Blocks() as demo:\n",
    "    gr.Markdown(\"# 📊 Data Analyst Assistant\")\n",
    "    gr.Markdown(\"Upload a CSV file and then chat with the assistant.\")\n",
    "\n",
    "    with gr.Row():\n",
    "        csv_input = gr.File(label=\"Upload CSV\", file_types=[\".csv\"])\n",
    "        csv_output = gr.Textbox(label=\"Upload Status\", interactive=False)\n",
    "\n",
    "    csv_input.change(fn=load_csv, inputs=csv_input, outputs=csv_output)\n",
    "\n",
    "    gr.ChatInterface(fn=chat, type=\"messages\")\n",
    "\n",
    "# Launch the app\n",
    "demo.launch()"
   ]
  },
  {
   "cell_type": "markdown",
   "id": "1fb1820b-c4dc-4118-8057-af3539792848",
   "metadata": {},
   "source": [
    "---"
   ]
  },
  {
   "cell_type": "markdown",
   "id": "ffd435ee-8095-46c8-bec5-34c1558ab797",
   "metadata": {},
   "source": [
    "### Customised Tools\n",
    "\n",
    "This tool can be used as a node in a graph"
   ]
  },
  {
   "cell_type": "code",
   "execution_count": 15,
   "id": "8110f7de-02dc-4f41-9922-e70d61071585",
   "metadata": {},
   "outputs": [],
   "source": [
    "def tool_data_summary(state: State) -> State:\n",
    "    \"\"\"\n",
    "    Returns a summary of the dataset including:\n",
    "    - Shape (rows, columns)\n",
    "    - Column names and data types\n",
    "    - Count of missing values per column\n",
    "    - Basic statistics for numeric columns\n",
    "    - Top unique values for categorical columns\n",
    "    \"\"\"\n",
    "    df = shared_data['df']\n",
    "    \n",
    "    summary = []\n",
    "    summary.append(f\"Dataset contains {df.shape[0]} rows and {df.shape[1]} columns.\\n\")\n",
    "\n",
    "    # Column info\n",
    "    col_info = pd.DataFrame({\n",
    "        \"dtype\": df.dtypes.astype(str),\n",
    "        \"missing_values\": df.isnull().sum(),\n",
    "        \"non_null_count\": df.notnull().sum()\n",
    "    })\n",
    "    summary.append(\"Column Information:\\n\")\n",
    "    summary.append(col_info.to_string())\n",
    "    summary.append(\"\\n\")\n",
    "\n",
    "    # Numeric stats\n",
    "    numeric_desc = df.describe(include=[float, int]).transpose()\n",
    "    summary.append(\"Numeric Column Statistics:\\n\")\n",
    "    summary.append(numeric_desc.to_string())\n",
    "    summary.append(\"\\n\")\n",
    "\n",
    "    # Categorical stats\n",
    "    cat_desc = df.describe(include=[object, \"category\"]).transpose()\n",
    "    if not cat_desc.empty:\n",
    "        summary.append(\"Categorical Column Summary:\\n\")\n",
    "        summary.append(cat_desc.to_string())\n",
    "        summary.append(\"\\n\")\n",
    "\n",
    "    return {\n",
    "                **state,  # keep previous state values\n",
    "                \"messages\": state[\"messages\"] + [{\"role\": \"assistant\", \"content\": \"\\n\".join(summary)}]\n",
    "            }\n",
    "\n",
    "\n",
    "# print(tool_data_summary(df))\n"
   ]
  },
  {
   "cell_type": "code",
   "execution_count": 16,
   "id": "fcbaa484-0a53-4fe4-8a11-16b826e5ffd0",
   "metadata": {},
   "outputs": [],
   "source": [
    "tool_summary = Tool(name=\"summarize_data\", \n",
    "                    func=tool_data_summary, \n",
    "                    description=\"Returns the summary of uploaded data including statistics for numerical and non-numerical fields.\")"
   ]
  },
  {
   "cell_type": "markdown",
   "id": "c64ce59a-766f-4e75-8ae9-142c9eefd39f",
   "metadata": {},
   "source": [
    "### Agents and List of Tools"
   ]
  },
  {
   "cell_type": "code",
   "execution_count": 17,
   "id": "7ea4f7ee-f653-4a9e-97ed-16d916e75711",
   "metadata": {},
   "outputs": [],
   "source": [
    "tools = [tool_summary]"
   ]
  },
  {
   "cell_type": "code",
   "execution_count": 18,
   "id": "322ad053-4b88-4b72-80e6-d80cbca13581",
   "metadata": {},
   "outputs": [],
   "source": [
    "# agent_llm =  ChatOpenAI(model=\"gpt-4o-mini\", temperature=0)\n",
    "google_llm = ChatGoogleGenerativeAI(\n",
    "    model=\"gemini-2.5-flash\",\n",
    "    temperature=0,\n",
    "    google_api_key=os.getenv(\"GEMINI_API_KEY\")\n",
    ")\n",
    "# bind tools to LLM\n",
    "google_llm__with_tools = google_llm.bind_tools(tools)"
   ]
  },
  {
   "cell_type": "markdown",
   "id": "8e73b3fa-f6ac-4ced-9589-ff8d0f5665e9",
   "metadata": {},
   "source": [
    "### Nodes"
   ]
  },
  {
   "cell_type": "code",
   "execution_count": 19,
   "id": "c443b548-51f4-431e-ba91-fe4398b5f9e4",
   "metadata": {},
   "outputs": [],
   "source": [
    "def assistant(state: State) -> Dict[str, Any]:\n",
    "    \"\"\"\n",
    "    Worker function that manages system instructions and invokes the LLM with tools.\n",
    "\n",
    "    This function ensures the assistant always has an up-to-date system message\n",
    "    guiding its behavior (e.g., role, success criteria, or feedback from prior attempts).\n",
    "    It updates or prepends a SystemMessage to the conversation history, sends the\n",
    "    updated messages to the LLM, and returns the assistant's latest response.\n",
    "\n",
    "    Workflow:\n",
    "        1. Construct a dynamic system message based on:\n",
    "            - The success criteria from state\n",
    "            - Optional feedback on previous work\n",
    "        2. Check if a SystemMessage already exists in state[\"messages\"]:\n",
    "            - If yes, update its content with the new system message\n",
    "            - If no, prepend a new SystemMessage to the messages list\n",
    "        3. Invoke the LLM (with tools enabled) on the updated message history\n",
    "        4. Return the new assistant response so it can be merged into state\n",
    "\n",
    "    Args:\n",
    "        state (State): The current state containing conversation history, \n",
    "                       success criteria, and optional feedback.\n",
    "\n",
    "    Returns:\n",
    "        dict: A partial state update containing:\n",
    "            - \"messages\": A list with the assistant's latest response message.\n",
    "    \"\"\"\n",
    "    system_message = f\"\"\"\n",
    "        You are a data analyst assistant that collaborates with tools to complete analysis tasks. \n",
    "        Your role is to:\n",
    "        - Present results from tools clearly and accurately to the user\n",
    "        - Provide context, explanations, or next steps if helpful\n",
    "        - Ask the user clarifying questions if needed\n",
    "        - Stop once the success criteria is met\n",
    "        \n",
    "        The success criteria for this task is:\n",
    "        {state['success_criteria']}\n",
    "        \n",
    "        If a tool has returned an analysis, include that result in your reply rather than repeating the analysis yourself.\n",
    "        If the task is incomplete or ambiguous, ask a clear question to the user.\n",
    "        If the task is complete, present the final analysis/answer.\n",
    "    \"\"\"\n",
    "\n",
    "    # Add rejection feedback (if any)\n",
    "    if state.get(\"feedback_on_assist\"):\n",
    "        system_message += f\"\"\"\n",
    "            Previously, you thought you completed the assignment, but your reply was rejected because the success criteria was not met.\n",
    "            Here is the feedback on why this was rejected:\n",
    "            {state['feedback_on_assist']}\n",
    "            With this feedback, please continue the assignment, ensuring that you meet the success criteria or ask a question to the user if \n",
    "            the data is missing.\n",
    "        \"\"\"\n",
    "    \n",
    "    found_system_message = False\n",
    "    messages = state[\"messages\"]\n",
    "    for message in messages:\n",
    "        if isinstance(message, SystemMessage):\n",
    "            message.content = system_message\n",
    "            found_system_message = True\n",
    "\n",
    "    # prepend system message if it does not already exists\n",
    "    if not found_system_message:\n",
    "        messages = [SystemMessage(content=system_message)] + messages\n",
    "    \n",
    "    response = google_llm__with_tools.invoke(messages)\n",
    "    \n",
    "    return {\n",
    "        \"messages\": state[\"messages\"] + [response]\n",
    "    }"
   ]
  },
  {
   "cell_type": "code",
   "execution_count": 20,
   "id": "b1bb1477-e33d-4909-9c71-b7f8abe6451c",
   "metadata": {},
   "outputs": [],
   "source": [
    "def decides_if_tool(state: State):\n",
    "    \"\"\"\n",
    "    Router function that decides the next node in the graph \n",
    "    based on the assistant's most recent message.\n",
    "\n",
    "    The function inspects the last message in the conversation:\n",
    "      - If the message contains a tool call, the flow should continue \n",
    "        to the \"tools\" node for execution.\n",
    "      - Otherwise, the flow proceeds to the \"evaluator\" node to \n",
    "        check if the assistant's response meets the success criteria.\n",
    "\n",
    "    Args:\n",
    "        state (State): The current state containing the conversation \n",
    "                       history and other workflow metadata.\n",
    "  \n",
    "    Returns:\n",
    "        str: The label of the next node to route to.\n",
    "             - \"tools\" if the last message requests a tool call\n",
    "             - \"evaluator\" if no tool call is present\n",
    "    \"\"\"\n",
    "    last_message = state[\"messages\"][-1]\n",
    "    if isinstance(last_message, AIMessage) and last_message.tool_calls:\n",
    "        return \"tools\"\n",
    "    return \"evaluator\""
   ]
  },
  {
   "cell_type": "code",
   "execution_count": 21,
   "id": "fcd7de56-a662-4fa8-9ae4-7132650bbbed",
   "metadata": {},
   "outputs": [],
   "source": [
    "def format_conversation(messages: List[Any]) -> str:\n",
    "    conversation = \"Conversation history:\\n\\n\"\n",
    "    for message in messages:\n",
    "        if isinstance(message, HumanMessage):\n",
    "            conversation += f\"User: {message.content}\\n\"\n",
    "        elif isinstance(message, AIMessage):\n",
    "            text = message.content or \"[Tools use]\"\n",
    "            conversation += f\"Assistant: {text}\\n\"\n",
    "    return conversation\n",
    "\n",
    "\n",
    "def evaluator(state: State) -> State:\n",
    "    last_response = state[\"messages\"][-1].content\n",
    "\n",
    "    system_message = \"\"\"\n",
    "        You are an evaluator that determines if a task has been completed successfully by an Assistant.\n",
    "        Assess the Assistant's last response based on the given criteria. Respond with your feedback, and with your decision on whether \n",
    "        the success criteria has been met, and whether more input is needed from the user.\n",
    "    \"\"\"\n",
    "    \n",
    "    user_message = f\"\"\"\n",
    "        You are evaluating a conversation between the User and Assistant. You decide what action to take based on the last response from the Assistant.\n",
    "\n",
    "        The entire conversation with the assistant, with the user's original request and all replies, is:\n",
    "        {format_conversation(state['messages'])} \n",
    "        \n",
    "        The success criteria for this assignment is:\n",
    "        {state['success_criteria']}\n",
    "        \n",
    "        And the final response from the Assistant that you are evaluating is:\n",
    "        {last_response}\n",
    "        \n",
    "        Respond with your feedback, and decide if the success criteria is met by this response.\n",
    "        Also, decide if more user input is required, either because the assistant has a question, needs clarification, or seems to be stuck and \n",
    "        unable to answer without help.\n",
    "    \"\"\"\n",
    "    if state[\"feedback_on_assist\"]:\n",
    "        user_message += f\"Also, note that in a prior attempt from the Assistant, you provided this feedback: {state['feedback_on_assist']}\\n\"\n",
    "        user_message += \"If you're seeing the Assistant repeating the same mistakes, then consider responding that user input is required.\"\n",
    "    \n",
    "    evaluator_messages = [SystemMessage(content=system_message), HumanMessage(content=user_message)]\n",
    "\n",
    "    eval_result = evaluator_llm_with_output.invoke(evaluator_messages)\n",
    "    \n",
    "    new_state = {\n",
    "        \"messages\": [AIMessage(content=f\"Evaluator Feedback on this answer: {eval_result.feedback}\")],\n",
    "        \"feedback_on_assist\": eval_result.feedback,\n",
    "        \"success_criteria_met\": eval_result.success_criteria_met,\n",
    "        \"user_input_needed\": eval_result.user_input_needed \n",
    "    }\n",
    "    return new_state"
   ]
  },
  {
   "cell_type": "code",
   "execution_count": 22,
   "id": "7132699a-f767-41ef-b3df-77444c558095",
   "metadata": {},
   "outputs": [],
   "source": [
    "def decides_based_on_evaluation(state: State) -> str:\n",
    "    if state[\"success_criteria_met\"] or state[\"user_input_needed\"]:\n",
    "        return \"END\"\n",
    "    else:\n",
    "        return \"assistant\""
   ]
  },
  {
   "cell_type": "markdown",
   "id": "6cbe01e3-b559-4116-beac-c8dccc3fe276",
   "metadata": {},
   "source": [
    "### Build Graph\n",
    "* Connect nodes\n",
    "* Compile the graph with memory saver"
   ]
  },
  {
   "cell_type": "code",
   "execution_count": 23,
   "id": "952bab04-4f59-4bb9-b0b0-474ce2d586a8",
   "metadata": {},
   "outputs": [],
   "source": [
    "graph_builder = StateGraph(State)"
   ]
  },
  {
   "cell_type": "code",
   "execution_count": 24,
   "id": "9ac0a166-3681-4c9c-ac14-3a6172f9dce1",
   "metadata": {},
   "outputs": [
    {
     "data": {
      "text/plain": [
       "<langgraph.graph.state.StateGraph at 0x1fb4668fd10>"
      ]
     },
     "execution_count": 24,
     "metadata": {},
     "output_type": "execute_result"
    }
   ],
   "source": [
    "graph_builder.add_node(\"assistant\", assistant)\n",
    "graph_builder.add_node(\"tools\", ToolNode(tools=tools))\n",
    "graph_builder.add_node(\"evaluator\", evaluator)"
   ]
  },
  {
   "cell_type": "code",
   "execution_count": 25,
   "id": "476af97a-0d52-4071-beca-df79b69fc172",
   "metadata": {},
   "outputs": [
    {
     "data": {
      "text/plain": [
       "<langgraph.graph.state.StateGraph at 0x1fb4668fd10>"
      ]
     },
     "execution_count": 25,
     "metadata": {},
     "output_type": "execute_result"
    }
   ],
   "source": [
    "graph_builder.add_edge(START, \"assistant\")\n",
    "graph_builder.add_conditional_edges(\"assistant\", decides_if_tool, {\"tools\": \"tools\", \"evaluator\": \"evaluator\"})\n",
    "graph_builder.add_edge(\"tools\", \"assistant\")\n",
    "graph_builder.add_conditional_edges(\"evaluator\", decides_based_on_evaluation, {\"assistant\": \"assistant\", \"END\": END})"
   ]
  },
  {
   "cell_type": "markdown",
   "id": "36a99ec3-82dd-4c5e-8a35-77d1ffb1943f",
   "metadata": {},
   "source": [
    "**Compile the nodes and edges**"
   ]
  },
  {
   "cell_type": "code",
   "execution_count": 26,
   "id": "d0b281ec-06be-46f7-a83b-0a7c55f9255e",
   "metadata": {},
   "outputs": [],
   "source": [
    "session_data = {\"thread_id\": None}\n",
    "\n",
    "def get_thread_id():\n",
    "    if session_data[\"thread_id\"] is None:\n",
    "        session_data[\"thread_id\"] = str(uuid.uuid4())  \n",
    "    return session_data[\"thread_id\"]\n",
    "\n",
    "memory = MemorySaver()"
   ]
  },
  {
   "cell_type": "code",
   "execution_count": 27,
   "id": "1932c2c8-ec9c-47ac-84a1-a26622ea8010",
   "metadata": {},
   "outputs": [],
   "source": [
    "graph = graph_builder.compile(checkpointer=memory)"
   ]
  },
  {
   "cell_type": "code",
   "execution_count": 28,
   "id": "37c55be2-2d92-4e88-9df5-4a5f77daa669",
   "metadata": {},
   "outputs": [
    {
     "data": {
      "image/png": "[encoded data removed]",
      "text/plain": [
       "<IPython.core.display.Image object>"
      ]
     },
     "metadata": {},
     "output_type": "display_data"
    }
   ],
   "source": [
    "display(Image(graph.get_graph().draw_mermaid_png()))"
   ]
  },
  {
   "cell_type": "markdown",
   "id": "e7a377d7-2211-4851-9e00-dc62ae509d10",
   "metadata": {},
   "source": [
    "### Gradio App"
   ]
  },
  {
   "cell_type": "markdown",
   "id": "30267b4f-a448-4400-9093-0568a37ae356",
   "metadata": {},
   "source": [
    "**Data Handler**"
   ]
  },
  {
   "cell_type": "code",
   "execution_count": 29,
   "id": "95535e37-dc61-4214-b7c2-d0eadb41ecf0",
   "metadata": {},
   "outputs": [],
   "source": [
    "shared_data = {\"df\": None}\n",
    "\n",
    "def load_csv(file):\n",
    "    \"\"\"\n",
    "    Loads a CSV file into shared_data['df'] and returns a status message.\n",
    "    \"\"\"\n",
    "    if file is None:\n",
    "        return \"⚠️ No file uploaded yet.\"\n",
    "\n",
    "    try:\n",
    "        df = pd.read_csv(file.name if hasattr(file, \"name\") else file)\n",
    "        shared_data[\"df\"] = df\n",
    "\n",
    "        nrows, ncols = df.shape\n",
    "        response_message = (\n",
    "            f\"✅ CSV loaded successfully! \"\n",
    "            f\"Your dataset has {nrows} rows and {ncols} columns.\"\n",
    "        )\n",
    "    except Exception as e:\n",
    "        response_message = f\"❌ Error reading CSV: {e}\"\n",
    "\n",
    "    return response_message\n"
   ]
  },
  {
   "cell_type": "markdown",
   "id": "ceaeaa0b-cbc7-46f3-857d-2faee0aa2fbc",
   "metadata": {},
   "source": [
    "**Chat Han**"
   ]
  },
  {
   "cell_type": "code",
   "execution_count": 30,
   "id": "75058904-6767-461e-bee7-fc4adba8db42",
   "metadata": {},
   "outputs": [],
   "source": [
    "def chat_with_assistant(user_input, history):\n",
    "    if shared_data[\"df\"] is None:\n",
    "        return \"Please upload a CSV file first.\"\n",
    "    \n",
    "    state = {\n",
    "        \"messages\": [HumanMessage(content=user_input)],\n",
    "        \"success_criteria\": \"Provide insights based on the uploaded CSV dataset.\",\n",
    "        \"feedback_on_assist\": None,\n",
    "        \"success_criteria_met\": False,\n",
    "        \"user_input_needed\": False\n",
    "    }\n",
    "\n",
    "    thread_id =  get_thread_id()\n",
    "    result = graph.invoke(state, config={\"configurable\": {\"thread_id\": thread_id}})\n",
    "\n",
    "    print(result)\n",
    "    # Get last assistant message safely\n",
    "    last_msg = result[\"messages\"][-1]\n",
    "    return getattr(last_msg, \"content\", str(last_msg))"
   ]
  },
  {
   "cell_type": "markdown",
   "id": "5b892863-a7f8-4036-af78-5584d7a27154",
   "metadata": {},
   "source": [
    "**Application Block**"
   ]
  },
  {
   "cell_type": "code",
   "execution_count": 31,
   "id": "372b9df3-d9b2-4364-9d5a-4f2d6dd0e343",
   "metadata": {},
   "outputs": [
    {
     "name": "stdout",
     "output_type": "stream",
     "text": [
      "* Running on local URL:  http://127.0.0.1:7860\n",
      "* To create a public link, set `share=True` in `launch()`.\n"
     ]
    },
    {
     "data": {
      "text/html": [
       "<div><iframe src=\"http://127.0.0.1:7860/\" width=\"100%\" height=\"500\" allow=\"autoplay; camera; microphone; clipboard-read; clipboard-write;\" frameborder=\"0\" allowfullscreen></iframe></div>"
      ],
      "text/plain": [
       "<IPython.core.display.HTML object>"
      ]
     },
     "metadata": {},
     "output_type": "display_data"
    },
    {
     "data": {
      "text/plain": []
     },
     "execution_count": 31,
     "metadata": {},
     "output_type": "execute_result"
    }
   ],
   "source": [
    "with gr.Blocks() as demo:\n",
    "    gr.Markdown(\"# 📊 Data Analyst Assistant\")\n",
    "    gr.Markdown(\"Upload a CSV file and then chat with the assistant.\")\n",
    "\n",
    "    with gr.Row():\n",
    "        csv_input = gr.File(label=\"Upload CSV\", file_types=[\".csv\"])\n",
    "        csv_output = gr.Textbox(label=\"Upload Status\", interactive=False)\n",
    "\n",
    "    csv_input.change(fn=load_csv, inputs=csv_input, outputs=csv_output)\n",
    "\n",
    "    gr.ChatInterface(fn=chat_with_assistant, type=\"messages\")\n",
    "\n",
    "# Launch the app\n",
    "demo.launch()"
   ]
  },
  {
   "cell_type": "code",
   "execution_count": 32,
   "id": "99b105ad-65c9-4954-bac8-70c9d033ba0d",
   "metadata": {},
   "outputs": [
    {
     "name": "stdout",
     "output_type": "stream",
     "text": [
      "[HumanMessage(content='summarize the dataset', additional_kwargs={}, response_metadata={}), {'role': 'assistant', 'content': 'Dataset contains 3 rows and 2 columns.\\n\\nColumn Information:\\n\\n    dtype  missing_values  non_null_count\\na   int64               0               3\\nb  object               0               3\\n\\n\\nNumeric Column Statistics:\\n\\n   count  mean  std  min  25%  50%  75%  max\\na    3.0   2.0  1.0  1.0  1.5  2.0  2.5  3.0\\n\\n\\nCategorical Column Summary:\\n\\n  count unique top freq\\nb     3      3   x    1\\n\\n'}]\n"
     ]
    }
   ],
   "source": [
    "df = pd.DataFrame({\"a\": [1,2,3], \"b\": [\"x\",\"y\",\"z\"]})\n",
    "shared_data[\"df\"] = df\n",
    "state = {\"messages\": [HumanMessage(content=\"summarize the dataset\")]}\n",
    "print(tool_data_summary(state)[\"messages\"])"
   ]
  },
  {
   "cell_type": "code",
   "execution_count": null,
   "id": "7e00c286-8e40-4be3-b471-146bbdd942be",
   "metadata": {},
   "outputs": [],
   "source": []
  }
 ],
 "metadata": {
  "kernelspec": {
   "display_name": "venv-(DA Assistant)",
   "language": "python",
   "name": ".venv"
  },
  "language_info": {
   "codemirror_mode": {
    "name": "ipython",
    "version": 3
   },
   "file_extension": ".py",
   "mimetype": "text/x-python",
   "name": "python",
   "nbconvert_exporter": "python",
   "pygments_lexer": "ipython3",
   "version": "3.11.0"
  }
 },
 "nbformat": 4,
 "nbformat_minor": 5
}
