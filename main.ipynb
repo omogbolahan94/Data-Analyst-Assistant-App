{
 "cells": [
  {
   "cell_type": "markdown",
   "id": "c9469d2f-7712-46e1-9425-367356fb0fda",
   "metadata": {},
   "source": [
    "### Dependencies"
   ]
  },
  {
   "cell_type": "code",
   "execution_count": 1,
   "id": "dc3777d1-224f-4436-aac9-654bc97596e1",
   "metadata": {},
   "outputs": [],
   "source": [
    "import numpy as np\n",
    "import pandas as pd\n",
    "\n",
    "import matplotlib.pyplot as plt\n",
    "import seaborn as sns\n",
    "\n",
    "import plotly.express as px\n",
    "import plotly.io as pio\n",
    "\n",
    "import os\n",
    "from dotenv import load_dotenv\n",
    "\n",
    "from typing import Annotated, TypedDict, List, Dict, Any, Optional\n",
    "from pydantic import BaseModel, Field"
   ]
  },
  {
   "cell_type": "code",
   "execution_count": 2,
   "id": "4a16efbc-8ca2-4cdb-824c-3db93c50c72f",
   "metadata": {},
   "outputs": [],
   "source": [
    "# from langchain_experimental.agents import create_pandas_dataframe_agent\n",
    "from langchain_openai import ChatOpenAI\n",
    "from langchain_google_genai import ChatGoogleGenerativeAI\n",
    "from langchain_groq import ChatGroq\n",
    "from langchain_core.messages import HumanMessage, SystemMessage, AIMessage, ToolMessage"
   ]
  },
  {
   "cell_type": "code",
   "execution_count": 3,
   "id": "337222c3-9aad-48db-a549-7af3246d4cc2",
   "metadata": {},
   "outputs": [],
   "source": [
    "from langgraph.graph import StateGraph, START, END\n",
    "from langgraph.graph.message import add_messages\n",
    "from langgraph.prebuilt import ToolNode, tools_condition   # used by a Node to decide whether to use a tool\n",
    "from langchain.agents import Tool # required to conver function to tool\n",
    "\n",
    "from langgraph.checkpoint.memory import MemorySaver\n",
    "import uuid"
   ]
  },
  {
   "cell_type": "code",
   "execution_count": 22,
   "id": "d76d36c2-1185-4a1f-9b05-dbe6236fa2cd",
   "metadata": {},
   "outputs": [],
   "source": [
    "from tqdm import tqdm\n",
    "from IPython.display import HTML, Image, display\n",
    "\n",
    "import gradio as gr"
   ]
  },
  {
   "cell_type": "code",
   "execution_count": 5,
   "id": "fc45aa9c-3b11-4a27-8c5f-25b44b79c047",
   "metadata": {},
   "outputs": [
    {
     "data": {
      "text/plain": [
       "True"
      ]
     },
     "execution_count": 5,
     "metadata": {},
     "output_type": "execute_result"
    }
   ],
   "source": [
    "load_dotenv()"
   ]
  },
  {
   "cell_type": "markdown",
   "id": "263a3602-2e38-4c13-84c9-d4903e15bfec",
   "metadata": {},
   "source": [
    "### Test LangChain OpenAI Integration"
   ]
  },
  {
   "cell_type": "markdown",
   "id": "f5a53c7d-cd95-4845-8cca-481236bf9d59",
   "metadata": {},
   "source": [
    "----\n",
    "OPENAI API USAGE"
   ]
  },
  {
   "cell_type": "code",
   "execution_count": 10,
   "id": "f0b24cdd-361e-4a8e-8392-c51bc41c7f7d",
   "metadata": {},
   "outputs": [],
   "source": [
    "# # Create an LLM instance\n",
    "# llm = ChatOpenAI(model=\"gpt-4o-mini\", temperature=0)\n",
    "\n",
    "# # Make a simple inference\n",
    "# user_prompt = \"\"\"\n",
    "# What is the capital of the US\n",
    "\n",
    "# \"\"\"\n",
    "# messages = [ HumanMessage(content=user_prompt), \n",
    "#              SystemMessage(content=\"Make sure to present your response in bullet point without markdown format\")\n",
    "#            ]\n",
    "\n",
    "# response = llm.invoke(messages)\n",
    "\n",
    "# print(response.content)"
   ]
  },
  {
   "cell_type": "markdown",
   "id": "9321db84-9010-4d3e-8fc6-0d33b0631eb4",
   "metadata": {},
   "source": [
    "---\n",
    "GOOGLE GENERATIVE API USAGE"
   ]
  },
  {
   "cell_type": "code",
   "execution_count": 22,
   "id": "b45a5785-d101-44c7-a078-ca5ed71f0b65",
   "metadata": {},
   "outputs": [],
   "source": [
    "gemini_api_key = os.getenv(\"GEMINI_API_KEY\")"
   ]
  },
  {
   "cell_type": "code",
   "execution_count": 23,
   "id": "5a653021-ec0d-46d3-94a1-a427012ddb43",
   "metadata": {},
   "outputs": [
    {
     "name": "stdout",
     "output_type": "stream",
     "text": [
      "content='The capital of the United States is **Washington, D.C.**' additional_kwargs={} response_metadata={'prompt_feedback': {'block_reason': 0, 'safety_ratings': []}, 'finish_reason': 'STOP', 'model_name': 'gemini-2.5-flash', 'safety_ratings': []} id='run--065f077b-ce3b-4420-8e4b-2b993a7f5612-0' usage_metadata={'input_tokens': 11, 'output_tokens': 44, 'total_tokens': 55, 'input_token_details': {'cache_read': 0}, 'output_token_details': {'reasoning': 30}}\n",
      "The capital of the United States is **Washington, D.C.**\n"
     ]
    }
   ],
   "source": [
    "user_prompt = \"\"\"\n",
    "What is the capital of the US?\n",
    "\"\"\"\n",
    "\n",
    "messages = [ HumanMessage(content=user_prompt), \n",
    "             SystemMessage(content=\"Make sure to present your response in bullet point without markdown format and extra character.\")\n",
    "           ]\n",
    "\n",
    "\n",
    "google_llm = ChatGoogleGenerativeAI(\n",
    "    model=\"gemini-2.5-flash\",\n",
    "    temperature=0,\n",
    "    google_api_key=gemini_api_key\n",
    ")\n",
    "    \n",
    "response = google_llm.invoke(messages)\n",
    "print(response)\n",
    "print(response.content)"
   ]
  },
  {
   "cell_type": "markdown",
   "id": "3bf11d7e-2e8d-4c83-a106-6fefb51ae70c",
   "metadata": {},
   "source": [
    "---"
   ]
  },
  {
   "cell_type": "markdown",
   "id": "fdaa1bf1-0ae0-4337-a592-b2dc188abec0",
   "metadata": {},
   "source": [
    "GROQ"
   ]
  },
  {
   "cell_type": "code",
   "execution_count": 51,
   "id": "6b4df69a-1741-407c-98a2-8441edca39b4",
   "metadata": {},
   "outputs": [],
   "source": [
    "# key is explicitly imported from environment variable\n",
    "# groq_api_key = os.getenv(\"GROQ_API_KEY\")"
   ]
  },
  {
   "cell_type": "code",
   "execution_count": 6,
   "id": "450d8c14-8681-4c86-baf5-4f37a0eddff5",
   "metadata": {},
   "outputs": [
    {
     "name": "stdout",
     "output_type": "stream",
     "text": [
      "content='* The capital of the US is Washington D.C.' additional_kwargs={} response_metadata={'token_usage': {'completion_tokens': 12, 'prompt_tokens': 59, 'total_tokens': 71, 'completion_time': 0.028001997, 'prompt_time': 0.003191814, 'queue_time': 0.091153837, 'total_time': 0.031193811}, 'model_name': 'llama-3.3-70b-versatile', 'system_fingerprint': 'fp_9e1e8f8435', 'service_tier': 'on_demand', 'finish_reason': 'stop', 'logprobs': None} id='run--867d5001-6a54-40fc-9210-59a19894b4c0-0' usage_metadata={'input_tokens': 59, 'output_tokens': 12, 'total_tokens': 71}\n",
      "* The capital of the US is Washington D.C.\n"
     ]
    }
   ],
   "source": [
    "user_prompt = \"\"\"\n",
    "What is the capital of the US?\n",
    "\"\"\"\n",
    "\n",
    "messages = [ HumanMessage(content=user_prompt), \n",
    "             SystemMessage(content=\"Make sure to present your response in bullet point without markdown format and extra character.\")\n",
    "           ]\n",
    "\n",
    "groq_llm = ChatGroq(model=\"llama-3.3-70b-versatile\")\n",
    "\n",
    "response = groq_llm.invoke(messages)\n",
    "print(response)\n",
    "print(response.content)"
   ]
  },
  {
   "cell_type": "markdown",
   "id": "8e11f7e4-6fef-4be1-9511-5f9c0c89f76b",
   "metadata": {},
   "source": [
    "---"
   ]
  },
  {
   "cell_type": "markdown",
   "id": "e27723fd-a852-4411-b8a5-c47b167851d4",
   "metadata": {},
   "source": [
    "### Assistant Evaluator \n",
    "\n",
    "**Schema**"
   ]
  },
  {
   "cell_type": "code",
   "execution_count": 7,
   "id": "79d8d770-83dc-4ca0-8db3-f7740d849eac",
   "metadata": {},
   "outputs": [],
   "source": [
    "class EvaluatorResponse(BaseModel):\n",
    "    feedback: str = Field(description=\"Critical feedback on the assistant response\")\n",
    "    success_criteria_met: bool = Field(description=\"Whether the success criteria has been met\") # the users request is the criteria\n",
    "    user_input_needed: bool = Field(description=\"True if more input is needed from the user for more clarity of the LLM get stucked\")"
   ]
  },
  {
   "cell_type": "markdown",
   "id": "47da69bb-afc4-441f-85f2-8f4acbf30371",
   "metadata": {},
   "source": [
    "Gemini Evaluator"
   ]
  },
  {
   "cell_type": "code",
   "execution_count": 16,
   "id": "cac10bd6-03e8-4c4d-8e54-3a181d4bbc00",
   "metadata": {},
   "outputs": [],
   "source": [
    "evaluator_llm = ChatGoogleGenerativeAI( model=\"gemini-2.5-flash\", \n",
    "                                       temperature=0, \n",
    "                                       google_api_key=gemini_api_key)\n",
    "\n",
    "evaluator_llm_with_output = evaluator_llm.with_structured_output(EvaluatorResponse)\n",
    "\n",
    "response = evaluator_llm_with_output.invoke(messages)\n",
    "print(response)"
   ]
  },
  {
   "cell_type": "markdown",
   "id": "ed42508b-0ca2-46ef-91e2-d6d24131710e",
   "metadata": {},
   "source": [
    "Groq Evaluator"
   ]
  },
  {
   "cell_type": "code",
   "execution_count": 17,
   "id": "9e8bcfae-ab60-4ff5-af0d-94a81eb441e8",
   "metadata": {},
   "outputs": [
    {
     "name": "stdout",
     "output_type": "stream",
     "text": [
      "feedback='The assistant should have answered that the capital of the US is Washington, D.C.' success_criteria_met=False user_input_needed=False\n"
     ]
    }
   ],
   "source": [
    "evaluator_llm_with_output = groq_llm.with_structured_output(EvaluatorResponse)\n",
    "\n",
    "response = evaluator_llm_with_output.invoke(messages)\n",
    "print(response)"
   ]
  },
  {
   "cell_type": "markdown",
   "id": "66454415-36f9-4de3-8459-ec3478147964",
   "metadata": {},
   "source": [
    "---"
   ]
  },
  {
   "cell_type": "markdown",
   "id": "edb99673-f4a7-4c44-9b1d-d74547f967ba",
   "metadata": {},
   "source": [
    "### Data"
   ]
  },
  {
   "cell_type": "code",
   "execution_count": 8,
   "id": "fe866ef5-50e1-4e6b-8040-59babe524f97",
   "metadata": {},
   "outputs": [],
   "source": [
    "def create_df():\n",
    "    df = pd.read_csv(\"Customer.csv\")\n",
    "    return df"
   ]
  },
  {
   "cell_type": "code",
   "execution_count": 9,
   "id": "0aee8802-efae-4db4-a632-6f3fd26a4c01",
   "metadata": {},
   "outputs": [
    {
     "data": {
      "text/html": [
       "<div>\n",
       "<style scoped>\n",
       "    .dataframe tbody tr th:only-of-type {\n",
       "        vertical-align: middle;\n",
       "    }\n",
       "\n",
       "    .dataframe tbody tr th {\n",
       "        vertical-align: top;\n",
       "    }\n",
       "\n",
       "    .dataframe thead th {\n",
       "        text-align: right;\n",
       "    }\n",
       "</style>\n",
       "<table border=\"1\" class=\"dataframe\">\n",
       "  <thead>\n",
       "    <tr style=\"text-align: right;\">\n",
       "      <th></th>\n",
       "      <th>customer_Id</th>\n",
       "      <th>DOB</th>\n",
       "      <th>Gender</th>\n",
       "      <th>city_code</th>\n",
       "    </tr>\n",
       "  </thead>\n",
       "  <tbody>\n",
       "    <tr>\n",
       "      <th>0</th>\n",
       "      <td>268408</td>\n",
       "      <td>02-01-1970</td>\n",
       "      <td>M</td>\n",
       "      <td>4.0</td>\n",
       "    </tr>\n",
       "    <tr>\n",
       "      <th>1</th>\n",
       "      <td>269696</td>\n",
       "      <td>07-01-1970</td>\n",
       "      <td>F</td>\n",
       "      <td>8.0</td>\n",
       "    </tr>\n",
       "    <tr>\n",
       "      <th>2</th>\n",
       "      <td>268159</td>\n",
       "      <td>08-01-1970</td>\n",
       "      <td>F</td>\n",
       "      <td>8.0</td>\n",
       "    </tr>\n",
       "    <tr>\n",
       "      <th>3</th>\n",
       "      <td>270181</td>\n",
       "      <td>10-01-1970</td>\n",
       "      <td>F</td>\n",
       "      <td>2.0</td>\n",
       "    </tr>\n",
       "    <tr>\n",
       "      <th>4</th>\n",
       "      <td>268073</td>\n",
       "      <td>11-01-1970</td>\n",
       "      <td>M</td>\n",
       "      <td>1.0</td>\n",
       "    </tr>\n",
       "  </tbody>\n",
       "</table>\n",
       "</div>"
      ],
      "text/plain": [
       "   customer_Id         DOB Gender  city_code\n",
       "0       268408  02-01-1970      M        4.0\n",
       "1       269696  07-01-1970      F        8.0\n",
       "2       268159  08-01-1970      F        8.0\n",
       "3       270181  10-01-1970      F        2.0\n",
       "4       268073  11-01-1970      M        1.0"
      ]
     },
     "execution_count": 9,
     "metadata": {},
     "output_type": "execute_result"
    }
   ],
   "source": [
    "df = create_df()\n",
    "df.head()"
   ]
  },
  {
   "cell_type": "code",
   "execution_count": 10,
   "id": "7348fe89-aa69-4661-8e7c-4d0d79ad4387",
   "metadata": {},
   "outputs": [
    {
     "name": "stdout",
     "output_type": "stream",
     "text": [
      "<class 'pandas.core.frame.DataFrame'>\n",
      "RangeIndex: 5647 entries, 0 to 5646\n",
      "Data columns (total 4 columns):\n",
      " #   Column       Non-Null Count  Dtype  \n",
      "---  ------       --------------  -----  \n",
      " 0   customer_Id  5647 non-null   int64  \n",
      " 1   DOB          5647 non-null   object \n",
      " 2   Gender       5645 non-null   object \n",
      " 3   city_code    5645 non-null   float64\n",
      "dtypes: float64(1), int64(1), object(2)\n",
      "memory usage: 176.6+ KB\n"
     ]
    }
   ],
   "source": [
    "df.info()"
   ]
  },
  {
   "cell_type": "markdown",
   "id": "25db549e-9fb6-4401-8138-20473e352d1d",
   "metadata": {},
   "source": [
    "----\n",
    "### State Definition"
   ]
  },
  {
   "cell_type": "code",
   "execution_count": 11,
   "id": "1ae833a8-e3d8-428f-90e8-ec6b85f93731",
   "metadata": {},
   "outputs": [],
   "source": [
    "class State(TypedDict):\n",
    "    messages: Annotated[list, add_messages]\n",
    "    success_criteria: str\n",
    "    feedback_on_assist: Optional[str]\n",
    "    success_criteria_met: bool\n",
    "    user_input_needed: bool"
   ]
  },
  {
   "cell_type": "markdown",
   "id": "dc4b737f-808e-48c2-a43c-758268c7b1b4",
   "metadata": {},
   "source": [
    "### Data Loader"
   ]
  },
  {
   "cell_type": "code",
   "execution_count": 47,
   "id": "55712d87-550a-4aee-a1ac-5402bb867be6",
   "metadata": {},
   "outputs": [],
   "source": [
    "shared_data = {\"df\": None}\n",
    "\n",
    "def load_csv(file):\n",
    "    \"\"\"\n",
    "    Loads a CSV file into shared_data['df'] and returns a status message.\n",
    "    \"\"\"\n",
    "    if file is None:\n",
    "        return \"⚠️ No file uploaded yet.\"\n",
    "\n",
    "    try:\n",
    "        df = pd.read_csv(file.name if hasattr(file, \"name\") else file)\n",
    "        shared_data[\"df\"] = df\n",
    "\n",
    "        nrows, ncols = df.shape\n",
    "        response_message = (\n",
    "            f\"✅ CSV loaded successfully! \"\n",
    "            f\"Your dataset has {nrows} rows and {ncols} columns.\"\n",
    "        )\n",
    "        preview = df.head().reset_index(drop=True)\n",
    "        \n",
    "    except Exception as e:\n",
    "        response_message = f\"❌ Error reading CSV: {e}\"\n",
    "        preview = pd.DataFrame()\n",
    "\n",
    "    return response_message, preview"
   ]
  },
  {
   "cell_type": "markdown",
   "id": "4a69e499-8b44-4b4e-af1a-74ed16d52ae0",
   "metadata": {},
   "source": [
    "### Tool"
   ]
  },
  {
   "cell_type": "code",
   "execution_count": 14,
   "id": "b0ccb054-7ed9-43e7-9cd1-39321b0cdf84",
   "metadata": {},
   "outputs": [],
   "source": [
    "def tool_data_summary(state: State) -> str:\n",
    "    \"\"\"\n",
    "    Returns a summary of the dataset including:\n",
    "    - Shape (rows, columns)\n",
    "    - Column names and data types\n",
    "    - Count of missing values per column\n",
    "    - Basic statistics for numeric columns\n",
    "    - Top unique values for categorical columns\n",
    "    \"\"\"\n",
    "    df = shared_data['df']\n",
    "\n",
    "    if df is None or df.empty:\n",
    "        return \"❌ No dataset loaded yet. Please upload a CSV first.\"\n",
    "    \n",
    "    summary = [\"summary of dataframe:\"]\n",
    "    summary.append(f\"\\n\\nDataset contains {df.shape[0]} rows and {df.shape[1]} columns.\\n\")\n",
    "\n",
    "    # Column info\n",
    "    col_info = pd.DataFrame({\n",
    "        \"dtype\": df.dtypes.astype(str),\n",
    "        \"missing_values\": df.isnull().sum(),\n",
    "        \"non_null_count\": df.notnull().sum()\n",
    "    })\n",
    "    summary.append(\"Column Information:\\n\")\n",
    "    summary.append(col_info.to_string())\n",
    "    summary.append(\"\\n\")\n",
    "\n",
    "    # Numeric stats\n",
    "    numeric_desc = df.describe(include=[float, int]).transpose()\n",
    "    summary.append(\"Numeric Column Statistics:\\n\")\n",
    "    summary.append(numeric_desc.to_string())\n",
    "    summary.append(\"\\n\")\n",
    "\n",
    "    # Categorical stats\n",
    "    cat_desc = df.describe(include=[object, \"category\"]).transpose()\n",
    "    if not cat_desc.empty:\n",
    "        summary.append(\"Categorical Column Summary:\\n\")\n",
    "        summary.append(cat_desc.to_string())\n",
    "        summary.append(\"\\n\")\n",
    "\n",
    "    return \"\\n\".join(summary)\n",
    "\n",
    "\n",
    "tool_summary = Tool(name=\"summarize_data\", \n",
    "                    func=tool_data_summary, \n",
    "                    description=f\"Returns the shape and summary of an existing dataframe {shared_data['df']} including numerical and non-numerical fields. Use this tool when the user asks for a data summary.\"\n",
    "                )"
   ]
  },
  {
   "cell_type": "code",
   "execution_count": 38,
   "id": "bc75b72a-2907-49aa-8955-4174dde5d4b7",
   "metadata": {},
   "outputs": [],
   "source": [
    "def tool_data_dashboard() -> str:\n",
    "    \"\"\"\n",
    "    Creates an interactive dashboard using Plotly from the uploaded dataset.\n",
    "    Generates scatter, histogram, and bar charts if data types allow.\n",
    "    Returns the dashboard as HTML.\n",
    "    \"\"\"\n",
    "    df = shared_data.get(\"df\")\n",
    "    \n",
    "    if df is None or df.empty:\n",
    "        return \"❌ No dataset loaded yet. Please upload a CSV first.\"\n",
    "\n",
    "    figs = []\n",
    "    num_cols = df.select_dtypes(include=[\"number\"]).columns\n",
    "    cat_cols = df.select_dtypes(include=[\"object\", \"category\"]).columns\n",
    "\n",
    "    # Scatter plot (first two numeric cols)\n",
    "    if len(num_cols) >= 2:\n",
    "        figs.append(px.scatter(df, x=num_cols[0], y=num_cols[1],\n",
    "                               title=f\"Scatter Plot: {num_cols[0]} vs {num_cols[1]}\"))\n",
    "\n",
    "    # Histogram (first numeric col)\n",
    "    if len(num_cols) >= 1:\n",
    "        figs.append(px.histogram(df, x=num_cols[0], title=f\"Distribution of {num_cols[0]}\"))\n",
    "\n",
    "    # Bar chart (first categorical col)\n",
    "    if len(cat_cols) >= 1:\n",
    "        cat_counts = df[cat_cols[0]].value_counts().reset_index()\n",
    "        cat_counts.columns = [cat_cols[0], \"Count\"]\n",
    "        figs.append(px.bar(cat_counts, x=cat_cols[0], y=\"Count\",\n",
    "                           title=f\"Counts of {cat_cols[0]}\"))\n",
    "\n",
    "    if not figs:\n",
    "        return \"⚠️ No suitable numeric or categorical columns found for visualization.\"\n",
    "\n",
    "    # Combine all charts into HTML\n",
    "    html_parts = [pio.to_html(fig, full_html=False, include_plotlyjs=\"cdn\") for fig in figs]\n",
    "    dashboard_html = \"\\n\".join(html_parts)\n",
    "\n",
    "    return dashboard_html\n",
    "\n",
    "\n",
    "tool_dashboard = Tool(\n",
    "    name=\"create_dashboard\",\n",
    "    func=tool_data_dashboard,\n",
    "    description=\"Creates an interactive Plotly dashboard from the uploaded dataset.\"\n",
    ")"
   ]
  },
  {
   "cell_type": "code",
   "execution_count": 33,
   "id": "48c97791-cc8d-4147-abc8-771809590385",
   "metadata": {},
   "outputs": [
    {
     "data": {
      "text/html": [
       "<div>                        <script type=\"text/javascript\">window.PlotlyConfig = {MathJaxConfig: 'local'};</script>\n",
       "        <script charset=\"utf-8\" src=\"https://cdn.plot.ly/plotly-3.1.0.min.js\" integrity=\"sha256-Ei4740bWZhaUTQuD6q9yQlgVCMPBz6CZWhevDYPv93A=\" crossorigin=\"anonymous\"></script>                <div id=\"7182b035-870a-4565-9dcd-3da38d129089\" class=\"plotly-graph-div\" style=\"height:100%; width:100%;\"></div>            <script type=\"text/javascript\">                window.PLOTLYENV=window.PLOTLYENV || {};                                if (document.getElementById(\"7182b035-870a-4565-9dcd-3da38d129089\")) {                    Plotly.newPlot(                        \"7182b035-870a-4565-9dcd-3da38d129089\",                        [{\"hovertemplate\":\"customer_Id=%{x}\\u003cbr\\u003ecity_code=%{y}\\u003cextra\\u003e\\u003c\\u002fextra\\u003e\",\"legendgroup\":\"\",\"marker\":{\"color\":\"#636efa\",\"symbol\":\"circle\"},\"mode\":\"markers\",\"name\":\"\",\"showlegend\":false,\"x\":{\"dtype\":\"i4\",\"bdata\":\"eBgEAIAdBAB\\u002fFwQAZR8EACkXBABAKwQAsRIEANAyBABaMgQALi4EAO0hBAD1EgQARygEAKEwBADvKwQAiRUEAPAjBADzFwQAxjAEAIUsBAD0HwQAzSwEAPgkBADQGgQAvxMEAIwWBABZFQQACiEEAPMpBADnJwQA2ygEAJwmBAAdMQQApCsEAJ4jBACeEwQA6yEEAA8sBABMJQQAoDAEAKElBACPEgQAuC8EAKowBAAvEgQAtSkEAHMUBAB4KgQA0ioEAD8mBADVKgQAiiIEANkSBADPLQQAky0EANAjBACSMQQAdyYEAMUdBADHJgQABSkEALwhBABgKQQA8ygEAJspBAByIAQAbhIEAGcwBABIHQQAAhgEADIzBACrKAQAvBkEAHYkBAAJFQQA2iIEACsWBADXGwQA\\u002fioEAHoUBACuLwQA7SwEAD8iBACIGAQAxSIEAFMZBABeIAQACiUEAK0nBADbHAQAoTEEALciBACSJgQAOicEAN8eBADQLgQAGRgEAFUiBADgIgQAaSQEAFIxBABUIQQAeSwEAAorBAD1GAQALjMEADoTBAAhHAQArDIEALAtBAD4GQQAzDEEACwtBABvKAQAHioEAJ8YBAAiLAQASRMEACITBAD\\u002fKgQA+S4EADIfBAByMAQApywEABAUBAAoFAQADTAEAFYhBAD4HwQAiRwEAEYyBAABHgQAhiUEADIWBAB1KAQAsywEAFEpBAC+MgQAwRUEAG0uBACFJwQAxDAEAHAtBAA3MQQA4x4EABcwBADYJgQArywEAOIUBAClGQQAEBUEALYjBABtLAQATRgEAM8SBAAYKAQASSMEAAQvBABdFQQAnCEEAPowBABGEgQAkSYEAKAUBAASKAQAEi8EADgvBACJKQQA3CsEAPYrBAC7FQQAEisEADQmBABuIAQAySsEAPsfBABsHQQAXx4EABgYBAC3FgQAxhoEAJApBAAbIQQAsTEEACktBADkGQQA3BIEALMbBABaIgQAVyYEACgnBADjJAQACS4EAJkZBADnIAQAWxkEAN4yBABTFQQAyhIEAIQUBAAaKgQAwRgEADQXBAA9MAQARisEAOwfBABhIgQAszIEAEUVBAC7GwQA4ioEADYwBACULAQAECAEAAAzBABUJwQAESsEAAAtBABLFgQAXBkEAJIcBAArHgQAih8EAPUmBAD6FwQAIhkEALAhBACTHQQA+BQEAGIVBABfFAQA\\u002fiYEAC4yBACfHAQAAB8EAO0wBACnMgQABh0EAMIsBAAmFQQAoCUEAGAqBAAnLwQAmCgEALUuBAAoHwQA4TEEANsjBADIGQQAHCYEANIoBAAiKAQAkiEEAOopBABbIAQAZyYEAFMbBAANGgQAIxsEACcZBADGIAQAIjIEADkgBAAqEgQAhhIEAHEoBACJLAQArB8EAF0TBAAnIQQAKhYEAN4VBABPMgQAqyIEAGYlBAAhJgQAyBYEAEkiBACyIQQA5DIEAHchBAAlGQQAmS4EAIkmBABSFAQAlzEEAAUUBAAJMAQALCoEAHcxBADoEwQAfhkEAFYUBACiGwQAsh4EACMlBABaHQQA1BgEANwTBABxGQQAGBMEADYYBACBJAQARhMEAMcUBAAQMgQAzisEAFoTBAB1LQQApSYEAH0kBABtGgQARCUEACApBAB3MAQAjy0EAIIxBACsLgQAWC4EAG8eBAB1MAQAvRsEAOcXBACOIAQAWSkEAMcpBABGHwQAKy4EABQeBADmMgQAsxIEAPoqBADbFgQA1B4EAA0YBACoFwQA7C8EAEwWBAB3FQQAlTEEAOcrBADIMAQA9SsEAOYvBABJFgQA4yMEAOYwBADTJQQAJx8EALwUBACDFAQAKyYEAOImBAD5EgQASxgEACgaBAD6IAQAIicEAKEcBAC8HQQAVSQEAPEjBAB3LAQALRwEAAQuBABVGQQApC4EALMfBACsIQQApRcEAIQkBAByFQQA4iEEAOcwBAAqIAQAJSwEAEoiBABIMAQAdy8EACcWBABhGAQAAhsEAE0uBADrGgQAzC0EAMQdBAAwLAQAihYEALwbBAABLwQAdBoEAAMcBAD9KQQA3iYEALMiBAASIwQAnBkEAKAyBAD3JQQAqCUEADgwBABuLAQAFCUEAEMXBADMMgQATBcEAGYSBABCLgQA8hkEAKUYBAB7HwQAHxYEAEofBABcLwQAmhkEAO8xBABzIAQAmywEABkVBACmKwQASyMEAA0iBAA\\u002fJQQA9RYEAL4mBADFMAQAXiwEAFkyBACuHwQAZRUEANImBAByMQQA9jIEADsYBADSLAQApDIEADoYBABnLwQAihUEAIwqBABaMAQAVTAEAOYoBAB\\u002fKQQA5xoEAKQZBAB7LwQA5B8EACoXBABVMQQAgSIEALMeBAB1HwQAVBwEAEMpBAC5LQQAmjIEAJ8aBACQJgQAgjAEAO8sBABAJwQATxYEAEgmBABKJQQARSQEAAITBABELwQAByMEAJAVBABlLgQAYiwEAE0wBADNGwQA5SYEAFYqBADsGgQAQx8EAHgjBACoMAQAxiQEAKsfBADcGgQAyiYEAEwfBADGIgQAxy0EAGgbBAD7MQQAIDMEAFshBADFMQQAXyQEAD4yBABbFgQAvi4EAHUYBACpFgQADSUEANMfBAC3JgQAWisEAMgrBACdGAQApCIEAIUuBAB2MAQAYCEEAMEhBAB4IgQA2C4EAOIvBAB1IgQARBsEANgcBADWMgQA2iEEAIEeBAAaLgQAVCAEALIVBAB4KAQA8RsEAAIoBADEGAQA6B0EAD4bBABcMgQAAhYEAE8mBACmJAQA3xUEADMoBADkKwQAsyAEAIclBABTIwQAHRQEAIQtBAAzFgQApycEAAciBAAkEgQAESQEAMMuBAAqJQQAgBcEAFksBABJKQQAYy4EAHgaBAAFLQQALy0EAEQpBAAtGAQAASYEAPAnBACgLwQAVS8EAMUmBAC1MAQAOSoEACsiBADvFwQALiMEABItBADPIgQAEC4EAA8rBAAyIgQAxiYEAJcnBACdIAQAqC0EAC8kBADdMAQAeiAEAPcYBACdGgQA4xUEAFAiBABeLwQAZxkEACQzBADzMQQABB8EAMYsBAAgLAQAViYEAGcSBAAhLQQA3yoEAIEqBAAAHQQAdBQEAJAyBAAwHQQAWCgEAPccBABFFwQA5yEEAIosBABEGQQA7R0EAFQsBAAqKgQAsiQEAIoyBACKLgQAsisEADwYBADUKQQANSsEANUaBADJFQQA0SsEAI0bBAAXFQQAEjAEAHwgBAA\\u002fMgQAlRYEAJ4cBACGKgQA9yIEAP4bBAAcLwQAZycEAOksBADNKwQAKCMEAAYwBACBIQQArS4EAFUrBABDIQQArxQEAEQdBACqLgQA4CQEAEEgBABpLwQAXSYEADsiBADaKgQAEy4EAFcsBABGHAQAqCEEAIYdBABqFAQABSsEALsZBABGGgQA3xIEAIYoBAD2GAQAjRQEAHgnBAA9HQQAVBMEAKAqBACBFgQAQS8EAAIyBAC7LAQA1CIEAIcwBAC8GgQARiwEAGgTBAAeIAQAdxYEAD4oBAA8KQQAaSgEAA4ZBAC5JwQAfCgEAEgnBABjMgQAsyMEALEoBAB8GAQAphMEAG8SBAA\\u002fFQQAciEEABUuBABiHgQAuRMEACMdBACcKwQApRQEAOwkBADSLwQA2BgEAJYcBADmLAQAtRgEAMMVBABxKwQAlygEANEXBAARMAQABhQEAFswBAA2KAQA6hoEAAstBABjFgQAHxgEAEkqBACKJgQAixcEAIMYBACwGgQA+RMEAPQcBAB\\u002fJQQAbx0EACgcBACyHAQAThgEAHwwBAB7FAQA\\u002fiwEAPceBAAXFwQA4h8EAGUjBAAEMwQAQB8EAJ4vBACRLAQASy8EAJsWBAChEwQA8CUEAHYTBAB7GAQA2DAEANYYBACoKQQALCkEAMYVBACuJgQAVykEAKsqBAAtJwQAnykEAOkaBAA4FAQA3R0EAOYdBACkHgQAPhkEAEAYBADvEgQA4h0EALAVBABQKQQAZjIEALskBAAxHQQA+hsEAHsqBADBLwQAPS8EACEzBAD3IQQAqR0EAGolBAA9MwQAkzIEAHQWBABAHAQAtC8EAMolBAA\\u002fHgQAzC4EAMAyBAAZGgQAdRUEAC0UBADlLAQAWCQEANEkBAD2JQQABCMEALwvBABcMQQAdioEAFAhBACNFwQARBUEAFkTBABrIgQAuicEAEAZBACoFAQAKRkEACAbBAA5JgQArx8EAOIsBAAwIAQAyxsEALgoBADvKQQAaisEAJocBAA6MAQAGywEAAoaBABIEgQAxCEEAD4zBABnKAQAKBgEAN4lBAD7HgQAtDEEAKwZBADwKgQA5hIEAD8UBAAHGwQAuy8EALYmBABmIgQAbBMEADEcBAC6FgQAcBYEADctBABLIgQAECYEAC8sBAAlFAQA3yMEAO0jBACyMQQA8ycEAHQbBACJGQQAPxIEADEYBABVKgQAFDAEAMsaBABLKAQAfBoEAO0gBACpKQQAZDEEAEwpBACdKgQAryMEAConBADOEwQA2hMEAAEoBAB\\u002fKAQA7CwEAG0rBACfLQQAjBcEAC0xBADVJwQAwyEEALMhBAAKMwQAWiwEAIslBAAaIgQArSkEAOwjBADQLwQAlS8EADIvBABBFQQAkyEEAIsjBADPGgQAdygEAFAWBAD8JgQApy0EAMwUBADiGwQAOiEEAOUVBADGFgQAKi0EAF0wBADSGgQA6ysEAK8eBAA1IwQApRoEAFwkBADRLgQAOSwEAJsXBACFGwQAGjMEADMuBAB6MAQADSYEAPsSBAA8GgQAZSkEALkcBAB\\u002fGAQAkigEAN8bBACnEgQAeDIEAOowBADBJAQA2i4EACAiBAAmKAQAcRQEAFQSBABsGgQAQSgEAAwiBADqHAQA4C8EADYWBADuKQQA0x0EABcoBABrLgQAsigEAAwZBAC3JAQAMzAEAB0XBADzHAQAXS0EAIMmBACUGAQA8x4EAJMrBADzIgQAtjIEAOwhBAAdKgQAViQEAEAwBABlGQQA+ysEALoXBADPMQQAQisEAJgTBACMMgQAKy8EAB0uBAApHwQAdhwEAP0xBADwFAQAIx4EAMoYBADlGwQAei4EAFwhBADjMgQAAzAEACUfBABAFAQAESgEAOUuBAC5FAQA6yQEABopBACBGQQACi0EAEshBADoIgQAERgEAK4sBACtGgQARzEEAHQyBADgGAQAqR4EAOAZBABCKQQAtigEAI8dBABhJgQAjC8EALYaBABYLAQACRQEAMQxBACPKQQAHykEAOwtBAAjJwQAkyMEAGMYBADJEwQAlikEAEAaBADrGwQAchIEAOEZBAA2FwQA\\u002fRwEAKkqBABsFwQAixYEAG4ZBAAfEgQA5SkEAHomBAAXKwQASTEEAMQWBABDLgQA+BgEAPIyBABfGQQAZR4EAF4xBAB7HQQAJjIEALUaBABlGgQAlhMEABUsBACDLQQADhQEAL0YBACVFAQAGSgEAJAiBACfLwQANiUEAActBABmLAQALDAEAFopBABcHwQAYhYEACItBABMIgQA8TEEALYSBABSLAQAXS4EAGwuBABWGwQASi8EACUXBAAGIQQA6S4EAM0SBACrJgQArisEAIwwBAD2IAQAmyoEAGQoBADqGQQAHRUEAOkmBAAvGgQALysEABkUBADyIwQAYSMEANogBACGLgQA6BUEAEUaBADFJQQADB8EABotBABOGgQA1ycEAMQnBADSIwQAeDAEALYvBABUMQQAZiEEAJcWBABqHwQA9iMEAAYmBACgGQQAoSIEAFYeBACQEgQAXxoEAHQTBAD+FwQA8xsEAFAfBAClMAQAwCwEAJQZBAA0GgQAMjAEAOMbBADcIQQAfCUEAEwYBAC9HwQAEx4EALAyBAA0JQQA4S4EAGgXBACKGQQAOCYEAFkgBADRIwQAYi4EAMcZBABqIwQAWRwEAAEYBADKLAQAOS0EAGsvBACOIQQAoigEALYxBADQJAQABycEANUYBAAsHgQAfiAEAKMpBAD\\u002fHwQAwRIEAOkfBAA\\u002fFwQAhiAEALYVBADFKQQAODIEAN4fBABOMQQAXi0EANMtBADTKAQAASEEAFYSBABAEgQAtSAEANYWBADcJwQAQBYEANUsBAB\\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\\u002fIwQA+yIEAJoYBAC6LQQAmBgEAKIWBADtGAQAnRcEAI0hBADTJwQA6RUEAFwmBAA9JwQAnjAEAIgkBABKGgQAiTAEAG0iBABGHgQAwTEEAF4aBADWFQQAtCoEAIgSBABqHgQAEiUEAEMTBAB3GwQA5yYEAMgUBADrMgQA1DEEAIckBABRGQQAyCwEAPUtBAC1EwQARDAEAJsoBACyLAQAMTAEAMsoBADbHQQAFR0EAPEwBACZJQQAGDIEAE8rBAByIwQAEy0EAMUbBAB7FQQAWyUEAEAmBADXLQQANS0EAOwTBADZKgQAZxgEAIUqBAD7FgQAtSIEAPUkBAAuJgQAMhsEALwtBAAUJAQAcRcEABwsBAAPIQQAoSEEANcwBABBJAQAuBQEAPgTBADqEgQA9hYEANEaBACAIQQAlxQEACgxBAB\\u002fEwQApxsEAEMrBAC1LwQAYxMEAP8nBAB4GwQAYTIEAC0XBADVKAQAzysEAM0yBACNHgQAzSUEABYpBAChGAQA\\u002fB4EAHYyBAAzGAQAFB0EADYZBACBLAQA0SoEAMgTBADZJAQAlhkEAPcxBAANMQQArBQEAKEdBAAfIQQAOykEAPoYBADCIAQAlR4EACssBADpJAQAMxkEAMIkBACtFAQAUx8EANcfBAB0JwQAEBwEABclBAD\\u002fGwQA0h8EAD0fBABzGAQADx4EAAkdBADSJAQAfigEAEIsBADXKQQASzIEAEAyBABcEwQAvCMEAPIlBACSHwQAShUEAN4pBABLEgQAiywEAIYXBABFIAQAYS0EAF0vBABPKQQAXC0EACodBAD\\u002fGgQAGS4EABEmBADvGAQAJB4EAP8YBABbKgQAMBwEAKcwBAA6IgQAHyAEAMkuBACKGgQA\\u002fS0EAOYWBAB9KAQAQycEAKkvBACVHwQAcjIEAJokBABsHAQAYiYEANAtBACMMQQAbC0EAKIgBAAcHQQAzRoEALQdBADWFAQAvikEAP8wBACaJQQAZhYEABkwBACVIwQAeSkEACcdBADyHgQAlhgEAEglBAA\\u002fLgQAyx8EAGYdBAAjLwQA\\u002fzEEAJchBABQGgQA+CgEABMdBADVIgQAeRQEAIsqBABbHwQAfhwEAG0TBAA1IAQAZRcEAAsoBADAHQQAciUEAJUuBAC9LwQADzEEAI4dBACxMAQAyBUEAAUYBACmMQQAGyUEAAgkBAC4GgQACC8EAE8eBADsJQQAIRcEAGsgBABMLQQAXCwEABQvBAARIAQA3xwEAJ0ZBAAYJgQAVBQEALMWBAAiIQQA4SEEABceBAD3FwQAqhwEAFwbBAAsGwQAyykEAH0hBAARFwQAfS8EAC4hBABQLQQAcyUEALAsBAAWFQQAIDIEAD4gBABMEwQAsyoEAC4fBACAFQQAEDAEAJYrBACAMgQA1RkEAEQSBACyHwQANSUEACgkBACfIQQAgxMEACYmBACeGwQATSoEAOQXBABPHQQAJiIEAF8cBABiKwQAmhMEALkuBAB+JQQAOiAEAPIYBAAjIAQA4C4EAAApBABjHQQAlCYEAAYTBAC0JAQAVxwEAHkTBAATKAQAjxoEAOgmBADVKwQA8ScEAM4eBABIHwQA8ysEAHsrBABzIQQA7xUEAGEfBAAUKQQAuSYEAPotBACRMQQA2isEAE8UBACSLwQATRMEAOQWBADBFwQAixIEABIdBABUJAQAQhYEALQsBACoEwQALCIEALQhBAAbGwQAmCsEAEIXBAB9IAQABjMEAP8uBABdMgQAzzIEAMsWBAAzIAQAhhkEAGEwBABpHAQA2hQEAHgUBACmHAQASSwEAHcyBACcLgQAHxkEACwXBAA1KgQAHjEEAO8lBAD\\u002fLwQATjAEAPIaBAALGgQAIhsEAG0fBAAmGgQAqiMEAIseBACPFQQAQiIEADEpBADcJAQARBgEAOYfBADWKwQAnSEEAGctBABZJwQAUisEAGYVBABsFAQAnBMEABYcBABZGAQAlR0EAIkxBACwHgQAwB8EAB0iBABkJQQA6iUEAOUcBABPEgQA+C0EAOYuBAB5JwQAPicEAOwZBACfMAQAdSYEAEQkBAAKGwQAhDIEADMmBACwJgQAtBsEAOIoBABgHwQArDAEAAktBADRJgQAGTMEAKwkBAD2JgQARzAEALwXBABAIAQAHSAEANQZBADWEwQArioEAAIZBABJMgQADC0EAA0pBACBHAQAKjIEAMUuBAB6GQQAYhgEAG0SBADeKAQAeSsEAKYhBACQGQQAdBcEACAkBACUMAQA5RMEABcUBAAtHQQAmRsEABIcBAAUIQQAHBkEAGIpBADtMgQA6CEEALctBAD5LwQAqRMEAGguBAAUHAQAXzIEAKsuBADxIAQA\\u002fxcEACwzBACnKAQAmiYEANUwBAC4JwQAjCgEAIUoBABXLwQAHhQEAOcTBAAMGwQAABcEADMvBAAOIwQAuS8EAIggBABeMgQAMSoEAAouBACkIAQATSIEANkjBAC0IgQAoBsEAG4lBABSJQQArSgEAGcVBACjEgQA7hMEAN0pBADiEgQAJzIEAB0wBADALQQAhisEACQdBABEHwQArykEAMApBACQIAQA2TAEALwSBABBLgQA8y4EACcsBAC5JAQA3RoEAJYxBAD9HwQAMSsEAAsxBACOLAQA\\u002fyIEAK4kBAAHFgQAFRwEAKgYBAATGwQAHyYEAJYoBACgHgQAMRkEAM4jBABeEgQAuR4EADcYBABIFwQACRYEAPIuBABFMQQA\\u002fRMEAFMlBACGJAQA\\u002fRcEAGMXBACnJQQAqBIEAJMlBABQEwQA9iIEAMclBACAJQQA6C8EAFYVBACcIgQA0CAEAAgjBACHGwQAxhsEAE8wBADuKwQARx8EADcqBADHHgQApBYEAD0bBAAwIwQAwzIEAH0XBADtKAQAxy8EAFYwBABgLAQAaBYEAG4eBACmFgQAyB8EAL4dBADOGgQAgRcEAP8ZBAAQKAQA\\u002fyYEAPwVBABALQQA8yoEALYiBAAtLwQATh0EAGgpBACsFgQA\\u002fTIEAOYlBADRHwQAejEEAKckBADsFQQAvCYEADQSBABTFgQALS0EAK8oBAAuHgQAVBsEAG4VBAAEKwQAnxYEAIkbBAB+MQQA0B0EAHgtBAArGAQAiioEAAwpBABvMAQAMRsEAKoZBADFHAQAviAEAAgrBACHIgQA+B4EAJAxBADnKAQA\\u002fi0EAKQaBACaFwQAgycEAJEpBADRLQQAzjIEAAsYBADiHgQAlBUEAI4YBABPLAQAgSAEAIwcBAAnJgQAZyUEAGAiBAANLAQAQiQEAKUfBABTEwQATBkEAFUcBAAvKAQAOBYEAI8sBADgJwQA0CkEAGESBABBIQQAIxcEAAAvBACzKQQAHS8EABMvBAB+HgQARyYEAJccBAB2GwQAehoEAN4SBACuGQQAFDMEALElBADhFgQAEhUEAH8dBADwLgQATBoEAKAdBAAyJQQA8BUEACsUBAAeMAQAkicEAOAaBAB4MQQAIhoEAOAdBABzJgQAFhQEACYxBABAKQQAWiUEADAlBADWGgQA2iMEAP4eBABjKwQA+SIEAP4xBACXFwQAPBMEAPssBAAqKAQAUiQEAEEjBADlKwQANx4EAEosBADIKAQAUyEEAK0ZBAA4HAQAAyUEAL0gBAD5GQQA+CAEALYdBAAuKAQAICUEALQeBAAHEwQA2SAEAJMVBACNHQQAByQEAPUnBAB1IwQAGCcEAGQhBABbGAQAER4EAIcqBAD5JgQAkRwEAL0qBADTFAQACRgEAPYfBABGIAQApCcEAMwgBADWEgQAsi0EANkfBADYJQQAChYEAMwlBAAEKAQAwSMEAIklBADhKQQAtRwEALMYBAD+IgQAQBsEAPkXBAA5EgQABC0EAF8tBACwMQQAvh8EAM8qBAAUIAQAyxgEAK8tBAAcHgQAviUEAFcaBAAmGwQAdisEAKYjBADkFAQAxy4EAJsrBACTLAQAqSIEALEjBAD5GwQAghkEAG4wBACbHgQAnSsEABMpBAAYJAQA+S0EACwlBADtGQQAIRsEAJUyBACkMAQA0RgEAJoeBAAzJAQAWzIEAB8uBAA7FgQA9hoEAAUvBAA3HAQAxhIEAMQUBAB7MQQAmBIEAGwyBAClFQQASCgEAAAnBAAxLgQAoiwEAL0wBAADKwQAKCYEAD0oBAD7JQQAsy4EAPQdBADbGwQAYSQEADUUBADbGgQA3TEEANUyBADsGAQA2iUEAMYyBADQFwQAWTAEAFUdBAAuJAQA5hkEADwuBADGKQQAGDMEAJQyBADsFwQA\\u002fBYEACMmBAA6KgQAWioEAKIjBACEFQQAdRcEAJgjBAD2LwQAcBwEAJ0tBAAkIQQA1S8EAP0wBADiMgQAFDIEAEocBAAzHAQAahcEAN4wBABuKAQALRsEAAIlBAB2IQQA8S0EAAQTBABSEwQAUy8EALUlBACSIgQALCwEAMAuBAAPHAQAchcEACcgBAA5IgQAdC0EAEEcBAA1KAQAEBgEAAMYBAArKwQAhhoEADcpBADNLwQAXhQEAC8lBABoLQQAghYEAMEwBAA+KwQAyy0EANofBAA8HAQA4icEAJcwBADpIwQA5C8EAMMsBAAdHQQA5CUEAA0bBADfLwQAYiMEAKsVBABqIgQANhUEAPwrBACQKwQAbRwEANEwBABnLgQA9CoEAJ8rBADOMAQAKCgEAAMdBABxMgQAUi8EAFcoBACCIgQAGSoEAHUgBABlLwQA0yMEAHEiBABnMgQAGysEANwqBABvFwQASxMEALgWBACOFgQATR0EAGQUBACCFwQA1igEAB0sBAAGLAQAzSYEAEESBADzEwQAIR4EAL8iBABoMQQAOhoEAFklBADTGwQAihcEAMcdBABzEgQA1yEEAPEUBADpLQQAIjEEAM4cBABOHAQAiCoEANceBADQJQQAOBkEAO0eBAAVJAQATCYEAKYsBAC9JwQATSwEAFIcBADRIQQAvRwEAEMgBACaFgQAKB4EAGUkBADnHgQAECMEABUUBADKHwQAsxcEABkpBACUHAQAKxwEAPQyBAAaIAQABBwEANYxBAAtMwQA3yEEABAbBADtMQQAICoEAM0eBADyIQQAZxoEAN0rBAA1EwQAKi4EAJweBABrLQQAPy0EAG4xBACNKwQAwi8EADExBAB8FQQA1RsEAOgZBAAeFgQAly4EAAceBAB9MgQAIC4EAIsnBAAFIQQADDEEAEodBABJHAQAciwEAJMvBADtLQQAAjMEADojBADdJgQA1SMEAPstBABTHAQAlSgEAA8yBABmLwQAnhYEAEchBACcKAQAkx4EANYcBAArKAQApSgEAM8gBAB5HQQA2DEEAD4eBAA1LAQApxYEAHUcBABNIwQAcBsEAOMgBACkGwQAXxsEAPskBACMKQQAoi8EAEskBAD8GAQAmRMEAMwhBABTIAQAzRcEAHQVBAD3MAQA1icEAHMbBAArLQQAZTAEALcaBADvLwQAKh4EAA8UBADMHQQA6h0EAA4fBAADLQQA5BUEAMYxBACzHAQAvxIEAFIYBACiKwQA3icEAEIlBACVJAQA3yUEAIwZBAB1EwQA0xcEAH4tBACFKwQA4yIEABwxBADRKQQAHywEAPAfBAAYGQQACBwEAOgrBADBLQQACyQEAHcpBAA9FAQAjy8EAPQYBAB2FgQAVBUEAHUlBACNGAQAvhkEAKssBAD6HwQA2zAEANMgBABPMQQA8SQEABEcBAAiFAQAUiIEAKwmBAAFMwQA2SEEAH8sBACxKQQAfR4EAKIVBABQIwQAcBUEAHQvBABqGAQAyBgEAKQhBAAiIAQAryAEABEbBABTFAQAOhIEAKMyBACuLgQAqScEAJcVBAD8KQQAMCkEAFMpBABlMQQADDIEAOcdBACFMgQAFSYEAP8VBAAxKAQA\\u002fSQEAIwVBADlIgQACRMEAKoVBAArMAQA8jEEAEEUBABDKgQAzC8EADElBAAPIAQASC4EANshBACYLwQAfCoEAAgiBABCEgQA5BMEAHsgBADYHwQAGykEAAkpBABOIQQAryYEAIAjBAD5IAQArRgEABkWBAA+HQQAFh8EAIUwBADeGAQARDIEAD8aBABzHAQA9C8EAEIfBADMGwQAaCQEANAwBABcGgQA1i8EAKkcBABfGAQAohQEAEgkBABmLgQA+SgEADkVBABZKAQADB0EAM8TBADZKwQA3zAEALggBAAmFAQANxcEABYTBAAIMgQAoBoEAIUcBADIGwQAjh4EAJ4rBABlIQQAhyMEAAsuBACxGwQA+BUEAOIcBAAbKAQAACEEACglBABRJQQA0R4EAGEuBABTGAQAiRMEAKMuBABaHAQAWSYEAIgsBABoKwQAlCEEABIZBABHIwQAPyEEAIISBAAuIAQAKBUEAOEgBAAtKQQA5zEEAP4VBADUMAQAaxkEAOgjBADiIwQASSgEAGUnBADrIAQA9RoEAAYcBAAkHwQA9xsEAL4YBAANIAQAuhUEAL4jBABkLQQAXB4EAJEfBAApKwQAEioEAPUfBACGGwQAljIEAOkYBADOIgQAuhsEAFwiBACoHAQAviwEAHokBADPJQQAfikEAIIaBAAhKQQAaRYEAGwhBABjJgQA0BMEAPMsBACfJgQARxgEAEgxBAAvLwQAZCQEAJ0nBACgIwQA6TAEADUkBAAKLwQACx8EALQpBAC3MgQAchwEAJojBACHGQQADhMEAMoTBABdMQQA\\u002fDEEAEIYBAATMAQApykEAAQYBAB8MgQA8yYEABckBADkGgQARiYEAAExBACQJAQAiC4EAC4xBAAFKAQA\\u002fSMEABsZBAD8LwQAZyAEAMIwBACkHQQAfS4EAPYtBADQEgQATR4EAC0iBAA\\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\\u002figEALUxBAAfMwQADCgEAIUhBACCGAQA9yAEAM8sBABHIgQAADAEAF4oBAAzKwQAlRsEACsdBADEGgQA4xcEAHgmBAD9IgQATyQEAK0lBACyGwQANyEEADcyBAB6IQQAuisEAA4dBAA\\u002fJwQAmBsEANAmBAAnKAQA7hIEAPsdBAD5KQQAwCUEAGcxBAC0KwQAvyYEAA4kBAAUFAQAnBYEAMocBABPIwQAxh4EAGUYBACnIQQA1ysEAHIoBADZJQQAKyUEABwjBAAbMQQAAiIEAMYvBAD7LwQAUCYEAFoSBADWGwQAdhcEAE8VBAAhKwQAdhIEAIIoBAALLwQAUicEAHckBADvFgQAdxQEADQhBADOFQQA\\u002fSwEAJwaBABRMgQAEzIEADQiBADYKgQAnhQEAA4zBACjJAQA4iAEAKwbBADXIAQAxxgEADYtBAAfMgQAQR8EANwdBABlLAQAiS0EAD4pBAByEwQA8zIEAKsnBACrHgQApSMEAIgbBAAYGwQAuB4EAHAdBAB9FgQAeSoEAH0cBACMHgQAehYEANMZBAA8IQQAQiAEADQuBABnIwQATBUEAO4uBAAbFAQAgxIEADkaBACpGAQAPx8EAGItBADCGwQA9hsEAHQkBADzFQQA6igEAK8WBAAJLAQAWCsEADIcBADAGAQA7BYEAGsfBACmHwQAjSUEAI0xBAAGGQQAnCoEAIAvBACPFAQAiDAEAFYoBAD6GgQAcRIEAIYnBACXIwQAXxcEAMogBACkLAQAKRMEAIIyBABOIgQAuh0EAIsZBAAjEwQARxkEAFgfBACCJQQAryEEANIUBAAzMQQAGBUEAE8nBADuJQQAZCMEAGggBABNJAQAMRYEAC8zBABaGwQAvCcEAOwgBADeLQQArh4EAHgdBAAxFwQA+iYEANIuBABSJgQA3y4EAFoVBADFGQQAli0EACArBAAjFQQAARkEACYgBABYGQQAcSEEABcpBAAIJgQAvTEEAJYdBABMKgQALiwEAL0rBABYIAQABi8EAPohBACYLAQApSQEAMwjBAAEMgQAODEEADEaBADBIgQAUR4EAE8uBAAIMwQAnh0EADUnBACtMgQAGhYEADIyBABOKAQApSsEABYtBABGIwQAJRoEAD0ZBABUIwQAhxcEAOoTBAAcIgQASR4EALohBAAJIAQA9BQEAJcrBAD+GgQAwSkEADYkBACTFAQA6xYEAGcqBADJKQQAJh8EAH8uBAAAMgQASxoEAG0mBAAjLQQA3B4EAGsWBAAXGgQAlSYEAIcVBADhHQQAcx0EAGkYBABgHQQAmS0EANksBABhKgQAzhQEAKMVBACZFgQAKCsEAGIvBAANLgQAAiMEABoVBABUHwQAJh4EAOYYBACjFgQAAyYEANYXBAAvMgQAQh0EAFgjBADwIAQABjEEAA8qBAB2FQQARC4EADEjBAD8GgQASy4EABocBADCGgQABBYEAOsnBACWJQQAnR0EAFIqBAABHAQAiSIEAFgYBAClMQQAliIEAJcaBAA8IAQArSsEAI0oBACvEgQAORgEAAMoBADdMgQAQR0EAHUpBABOEgQAfRsEAEQxBACWJwQAcxUEAJEYBADIIQQATRcEAPwiBABuFgQAex4EAD8sBAAOFwQAUygEAKwoBAD3EwQAxyQEAM8kBACbGQQA6RwEABkcBAAQFgQALi0EAB8tBAA\\u002fKQQAYjIEAJErBABAEwQAYCsEACQTBAA4KAQA\\u002fRoEANssBACWFgQANzAEAMMwBADJJAQAXyEEAL8cBAAhEgQAdiMEANcWBACMJQQA3DAEACkYBAD5HAQAQx4EAJIZBABJGgQAeh8EAOkZBAAZGwQAOR8EAPQWBACyGQQAeBIEABwWBAA5LgQAoR8EAO8fBAADHgQAdxgEAHIqBAAwGgQA1BIEAC4iBAACLQQAPzEEAE4WBAAnIwQA\\u002fBIEAPodBAAPIwQABBsEAH4rBAADLAQAfB4EANYjBAC\\u002fIQQAyBcEANQyBAArMQQAdTEEAE4bBAAIFQQAejIEAGkSBAA1GgQAFTMEAFAwBACOFAQAnBQEAHglBACOKAQALSYEAFooBADKGQQAfjIEABIzBACbLgQArBwEAGomBACKGwQAKisEAGgSBAApJgQALSsEAAIsBADfJAQAvisEAM8WBACaMQQAvi0EALYsBAAPHwQAVR8EALEaBACnFwQAMCcEAHggBABBMgQAXjAEAIwuBAApKAQA6SAEAAYaBACwMAQA8xoEADUpBAAfJAQABh8EADkXBADjLwQAcDAEABAzBAAmMAQA4x0EAIIcBAArHwQAcDIEAJAoBAA+FgQAvBMEANwoBADPFQQAjSMEABQsBADlHgQAgRIEAKoxBADSIgQA6hcEAAQUBAB5JQQA8yQEANYgBAD0JgQAUh0EAPkWBACtHwQAwicEAAQdBABQJwQAtBUEAFsvBABPKAQA5y8EAGgfBADCMgQARjEEABkeBAAeHwQA2BMEAGkdBABvLAQATxoEAI0aBAAuGQQA4y4EAEcvBAANGQQApy8EAAssBABgIwQAoCEEAKkSBAC\\u002fJQQAFxkEACctBAAZHQQAhykEAB4oBACdFgQA2CQEALUjBADYFAQA5C4EANkbBABNKQQAaCgEAAgfBACWFAQAbCMEABYZBAC3IAQA5hsEAFoWBAB+LwQAJS8EAHAZBADAMQQAdhQEABIuBAD8MgQA7y0EAPckBADlIQQAmCcEANEnBADiFgQA7RcEAPgrBADKHgQAHB8EANciBAA3FgQAwhwEAOYiBAALJgQA2B0EAEEnBAAFGQQANRkEAOIYBAAaFwQAQigEALgkBAAsJgQAxRoEAOAgBABmJgQAuiAEAI0vBACdEwQAqRoEAK4oBABAIgQAAhQEAHsaBACEIgQAWi0EACgsBABHEgQA+xkEAAweBAB\\u002fGwQADygEAKcqBADSMgQANS8EAE4mBACGLwQAtCAEANwUBABuKwQALjAEANoeBAAOGgQAPCcEAIQdBAD0FQQAIxoEAIUkBABJKwQAQx0EACAnBAD5GgQAECkEAC0uBADCGAQA9TEEALsaBAB2IgQAFRkEADAvBACWIQQATRsEABIeBABIMgQA3hQEAGMiBADiGQQAmy0EAGEeBABOIAQAXCMEAMkiBAAXGwQAvyQEANQTBABwLAQABRUEAIEyBAB3KgQAvxgEAL8XBAAZJgQASx8EALgZBADKJAQAryUEAAYqBACDMgQAvxUEAPoSBACUJQQA2i0EAEYiBAAmIQQAURoEAAkXBAAkMAQAkxcEAJkaBAAvKQQAKSkEAFAZBADJLwQAOi8EABMkBADVMQQAyCUEAOUaBAA3JQQAYxIEAAIhBADwEwQAfC4EAFwSBACrHAQAsx0EABoaBAC3IQQA5hUEAMYrBAAqHAQAzRgEAMsqBADuMQQA8hYEAE0gBAAYMAQAijEEAJctBACQKgQAhBMEAEUqBAA+IgQAWxwEAPcjBADvIQQARxQEAB8eBAA7JQQAgxwEAIIkBABhEwQABTEEAP0WBADLIAQAdCIEAKoXBAAhMAQAbRUEAKYmBADuJgQAqRkEANowBADCLgQAsCsEANcsBAAIJwQAFhYEAHcgBABKFAQAHDIEABAXBAB3FwQAhSAEAJ4tBAAhLwQABR0EAMkZBABTLQQAWxIEAC4dBAClHQQAmx0EAJ8nBAAhMgQAexIEAHQlBAB8LAQA\\u002fyMEAFofBACaFQQAfy8EAMUtBAC8LAQAZBYEAMMTBAAsFAQAyiMEAOAwBABEIAQA3RkEAEswBAD4GwQAUxIEAK0kBAD5MQQAnTAEAIoeBABqEgQAFhsEAOoyBABNFAQAyR8EAF8TBAAGIgQAAScEAHooBABcIAQAOhwEAGQyBACDIQQAnx4EAHAvBADgFAQAFi8EAK0XBADaGAQA5CoEAGsXBADREwQAoCQEAOYhBADCJQQAjjEEACUzBAAwMAQA1B0EAJUSBAB4FwQAvB8EAGEUBABmMAQAmC4EADcgBAD0IwQA3B8EAI8TBAArJwQAjhwEAOUoBAAhKAQAsCMEAAEbBAC4LgQAoRQEAIkdBAB6FQQAkB4EAJAuBAA+FAQAehsEACMYBABNKwQAmCEEAG8VBAAEGgQArBoEAMYjBACoIAQACCoEAMcqBACQFAQAcB8EAFkZBABGIQQAZSgEAGgyBABELQQA+DIEANEvBADhJQQAYywEAAUXBAA0LQQAhR8EAJwkBAChJwQASC8EAM4pBAAUMQQA4yoEAIkXBAAgGgQAkCwEAAgpBAC7KgQA7yYEAAInBACxKwQA9CIEAHApBACmIgQAJhMEAFUUBADAGgQAgywEADseBABGFgQAFx0EAOwUBAChFwQA7RoEAIQfBABSHgQAchkEAD4fBADqIAQACSEEANEUBACdMQQAnBsEAJUVBAD\\u002fLAQAwycEAKUlBABHKQQAyhQEAL4nBABUMgQAiy0EAG8YBADwGwQANR4EAG4aBADhEwQAHh4EAFssBACkJAQAgB4EAPwgBAD8HQQAWjEEAA4pBAAZGQQAABYEAB4VBACyLgQAGScEADIxBAC3LwQAJCgEAOsxBADPJgQAkTIEALseBADfMgQAaBgEAP0UBAAUJwQA0TEEANMhBABSMgQAIi4EAJskBACmKgQA0hgEAJAwBAAZIgQAfTEEAGYeBABgEgQAQzEEAI8eBACiGQQAqRsEAFEoBACFFQQAFiIEADkjBABmEwQAISMEAIMaBAARJQQAMh4EADQfBABDGgQAOTMEAIQXBAArIwQASisEANsrBAAgFQQAchYEAMAXBABGLQQAYiQEAG0oBABMIwQAvSIEAC0lBAAbGgQAqhMEAGMkBAD0LAQASRQEAMASBAA3HQQAnyUEAPoyBAACGgQANBMEAIsvBAAbFQQAAycEACYsBABlHQQAcBcEAPYkBAC3GQQAixMEADYUBADtEwQAcxkEAGwwBAAMHAQA1BsEADopBADPKQQA5jEEAJUgBABxLAQAHBcEAPwkBACYFwQAJhgEAO4ZBABZLwQAVSYEAJouBACJHgQAMikEAH8ZBAB\\u002fIAQAYy8EAIYhBADGFAQAOjIEAMsTBADJGAQAHxQEAA0fBAAuLwQANCAEAHktBABeJgQAeRYEAKsdBACbIAQAzhIEACUlBAB\\u002fJAQAMxMEAFYWBABVHgQAKCIEAH4fBAAHLwQA5RkEACgTBAA8FwQAVxcEAMkwBACCLAQAeC8EAIcSBAAyFwQAuR8EAJckBABbKAQAiBoEAKsZBAD8JwQAEB8EABsYBAAnMQQA7RUEACcpBAAwFQQAQRkEAPUqBADBMgQADzMEAI8ZBABZKgQAOxoEAIYWBAAoMgQAMyEEABsqBAAdJAQAcxoEAHEqBACiJQQAvSMEAB8nBABKJwQAGBcEAHEdBADuJAQA6ywEACksBAAmJAQAiTIEAE8fBAB9FAQA4ycEACcVBAC4IgQAYiEEAF8pBAB\\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\\u002fCUEAGQcBADgFgQA5icEANgrBAAaEwQAQSoEACAWBACzLwQAhSkEAMUTBAA8HgQApBMEAHUvBAAfHwQAPRcEAFQtBACuEwQAxBcEAGwlBAAEKgQAlCIEAK8TBAB1HgQAhikEALshBAAfJQQAhRkEAPMtBACAHwQAdysEAAggBAC\\u002fGgQAcCMEAIsUBAAnKwQAaR4EAAYeBADOMQQAMTIEAJsTBACTIgQAyBoEABcfBADrJQQAsC4EADQZBAAWMwQARSsEAGktBAC7LQQARR0EAKwXBAAQEwQADS0EAMgjBAAHGAQAJxgEAEETBAA0KgQAPjAEABMWBADFMgQAySUEAOclBACEJwQARyAEAB8xBABiJQQAQTMEAA4hBABkGQQALCgEAIUmBAD1IQQAABMEAGQSBACPJwQA9ykEAHMnBAC2FwQAUBQEAEYXBAA4KQQA1BwEANkcBABfEgQALhgEAKYZBAA7FAQAhS8EAEscBABrHQQAqiAEABAZBAASFgQAvSUEAH8WBADCIgQAcScEAOgkBAAbMAQAdi8EAAgwBAC0EwQAEh8EAPAeBAAKKQQAURIEAHgVBADOIAQA4iQEAMkUBABxIAQAuTEEAIQZBAApJQQA6xMEAOAcBADjJQQAAh0EAHkgBACuGAQAES0EACkVBAClEwQAUSIEAOEkBAAiJQQAdiYEAHUkBADsHgQAVRsEAO8TBAAoGwQAXhkEANsmBACuHQQA+ycEAMUvBACvLwQAZicEAA4qBAB1GwQAihQEABMrBAAIEwQAAyoEAOkxBADgEgQAFjIEALUbBADzIwQAXRIEACQqBACAGgQAaBoEACkxBADxJgQAxxcEAF8iBABeIwQArhoEAEgVBADxKQQAFh4EABMmBACtIgQA9icEACckBAAIGgQA\\u002fCgEAOEUBAATIgQAuBMEAHssBACPHAQAHjMEAAAZBACNHwQANycEAEUhBABcMAQAvysEAOAfBADpIQQAVSEEAEYkBAAEJAQAlSoEANQfBADsMQQAdCgEALkYBAA5MAQA\\u002ficEADcjBABjLQQAzCoEAK0sBAD8GwQA2hUEAOYpBAB7JgQAniQEAMMpBAD2EwQA4isEALcTBABgGAQAJBQEAFUjBAB9JwQAkS8EAGYgBAC9EgQAUSwEAKAgBADuGAQAbCwEAOAtBADOHwQAuDAEAPkjBACWIAQAURwEAIshBABFLQQA9i4EAMMWBACKKwQAoCwEAKIdBABgHgQA6isEAOEwBACMEgQARCYEAGUSBAAUKgQAGyAEAPkkBAAjMgQAujIEAB8XBAAwFwQAnx8EAEsrBABQGAQAFyEEAFgcBACbGAQADy0EAJ8XBABvLQQASBgEABodBABzIgQA2ikEAL0uBAAVJwQAdR0EAOYtBACKEwQAkxMEAIArBAC4JgQAWBYEAPwXBAB\\u002fMAQAeB4EAJIyBAC1FAQA5yIEABQYBADDJQQAJScEAM8oBAB5MQQAgBYEAPcrBACbJQQAPxsEAGUiBADeLwQAlyUEACUWBAApIQQA8h8EAEsXBACVEwQAfhIEACgzBAAcKAQAZjEEAGMaBADbFwQAjRMEAFwdBAAqMwQAeC4EAIUxBAC5KwQAyxQEAEIjBAAVIQQAWxsEAEckBAAVKwQAsiUEALAgBABZIwQAtyUEAKccBABpFwQAgBkEACkiBAAbFgQAERUEADItBABnLAQALisEALQoBABfMAQA6hQEAGAUBACjKAQAMioEAEAeBAAfMAQAhy8EAN8XBACXLwQAmiwEALgjBABEFwQAWS4EAI0cBACpLQQAkRsEAAYjBABZEgQAhRgEALkqBAB8JwQAGiYEAA0vBAD+IwQA\\u002fCMEAIEdBADCLQQAXBQEABEaBACRKAQAGigEAGkaBAC+KAQAABgEAAcaBABeKgQABScEAJ0mBAANHAQAHSsEACYrBACDFQQAEiwEAJglBAAxIQQATCEEAB4rBADxFgQAxh0EACEWBACCJwQA3hYEAGUUBACKLQQAkBYEACwZBABkGwQAcBIEADskBAAqFAQA2icEANAoBABqMgQAYjEEAFgtBADILwQARy4EAHMqBAABMgQAiSoEADAUBADfFgQATisEAFEnBADbLQQAbSQEAM4WBADBGwQAuhQEANoyBAB+FQQAMiYEAIMoBAD0GwQAPDEEAFUsBADvJAQAdxoEAKkwBACeKAQAlB0EAIUiBACDJAQAxCIEALwkBAC3MAQAVSUEAOMxBADXGgQARSUEAIgVBACzGQQAJikEAGwSBACHLgQARicEALsmBADfGQQApSIEAKwYBAAhLgQAOx8EABkfBACGMQQA3ScEAPcqBABvMQQASRkEAFceBABhHQQA3hMEAJoSBAC4HwQACx0EABQVBACTMQQAxicEAKYuBACSIAQArR4EAM8jBAABFAQAMzMEAPUcBABQKgQApCoEAFcbBADTKwQApysEABAqBAAdFgQAnSMEADwUBADrEgQAqyEEAJQTBAAeGgQAtxwEAN8dBAAqJAQAPi4EAEMkBABgMgQAsCkEAAoqBABAMwQAiBQEAIEwBAA7EwQAJSoEACMpBABULwQA5SoEAIocBAAlMQQA3SQEAP0hBACvFwQAzR8EAC0aBABKIAQAATAEALghBABYKQQAkRoEAEUnBADJFgQAox4EAA8pBADJMgQAhhUEADYSBABjGQQAaBUEACASBABfJwQALyoEAHIrBACrLQQAryIEAPUZBACOKgQAbxYEAIQeBABFEgQAFiQEAJMgBACcGAQA4xkEAAwjBAB\\u002fKwQAcxcEAGYbBACJFgQAei8EAMcrBAAZIAQA2igEAOkrBACHHgQAriMEADcvBABXGQQAKRYEAK0dBABiKAQA8xYEAKEuBAAIHgQAYxsEAGMoBABhGwQAGRcEAOsZBAAhIQQAMhMEADolBADRJQQAtCcEALkSBABWJQQAkRkEACMWBADTJAQAMx8EAM0qBADGKgQAVSAEADQUBACUKAQAUB4EAHAeBACIHwQAxyIEABwkBACiJwQAYCUEAPMwBADsHQQAuBsEAJwsBAB9KQQAhiIEAH4dBAC9HQQAWysEAO4hBACdKQQAwCoEAAYWBAA\\u002fHAQA4xwEANYuBABuIgQAiB4EAN8pBACbEgQA\\u002fhkEAAUmBABuJwQAxBkEADkoBAAqGwQAiSAEAIEVBACqJAQApC8EAGknBABzJAQADxcEAJwvBAAsJAQANS4EAJkgBAA8IgQASS0EAJgfBABeGwQAEhsEABseBAA1HAQAvhsEAOAyBABkKQQAJR4EABAlBAAAMQQAGRMEALUVBACZFQQA2B4EAOUyBACrFwQAlRkEANcyBABkFQQAjBgEAAEiBACjIwQAdyUEAIEuBADBFAQA1RYEAIgXBACZKwQA4jEEADEvBABtKgQAdiwEAO0qBACtLQQAzCsEAIItBAC2FAQAyyQEANAbBAAKJgQABCYEALAWBAAYKQQASSYEANAfBAARFgQAQiEEAGEaBAAYHgQAoS0EAIYeBAAjMQQAdScEAFIWBACELgQA9SwEAMMSBAD4IwQAgxYEAEQjBAA1FQQAExcEAIIgBAB9IgQAXR0EAAwsBABvKwQAcicEAFYaBAD6KAQAySgEALsuBAC\\u002fKQQAyhYEABIXBAAhHQQAPBYEAKMbBAAiHQQAhSUEANAcBAA\\u002fKAQA9hQEAI0wBADTMQQAlhIEAKkfBADDGAQA+iUEAP4fBAA3FQQA\\u002fBwEABQtBABpKQQAiDEEAG8hBADjLAQAfhMEALYfBAB7IwQA4hoEAI4lBADCIQQAVxUEAN8fBAA3GgQAUikEABQTBADrLQQAVCUEAEQrBAC5GwQApx4EAJQgBAAOIAQA+CwEACspBACjLwQAUCAEAPQgBACfEwQAXhMEAA8nBAAyIAQAph0EACkqBAC7MQQAqCMEAJQUBABbIwQAUSsEAPUoBAByGgQAzxwEAMgeBABJEgQAVhMEAHQsBAC\\u002fLwQAFiYEADwvBADXFAQAqiYEAA0nBACtMAQAWRsEAJcdBABrMgQAJBYEAEgjBAA9IQQAZyEEALkZBAAwGQQABiQEAA0eBACtMQQAGSQEALowBADdGwQAgRoEAEEXBAA1HQQAnCUEAP0mBAAqMAQAkhUEAIwgBAA6HQQAhC8EAA==\"},\"xaxis\":\"x\",\"y\":{\"dtype\":\"f8\",\"bdata\":\"AAAAAAAAEEAAAAAAAAAgQAAAAAAAACBAAAAAAAAAAEAAAAAAAADwPwAAAAAAABRAAAAAAAAAIEAAAAAAAAAQQAAAAAAAABBAAAAAAAAAIEAAAAAAAAAgQAAAAAAAACJAAAAAAAAAHEAAAAAAAAAkQAAAAAAAAABAAAAAAAAAHEAAAAAAAAAUQAAAAAAAABxAAAAAAAAAEEAAAAAAAAAQQAAAAAAAAPA\\u002fAAAAAAAA8D8AAAAAAAAQQAAAAAAAABhAAAAAAAAAAEAAAAAAAAAgQAAAAAAAAABAAAAAAAAAFEAAAAAAAAAUQAAAAAAAABBAAAAAAAAAIkAAAAAAAADwPwAAAAAAABxAAAAAAAAAAEAAAAAAAAAAQAAAAAAAABBAAAAAAAAAJEAAAAAAAAAQQAAAAAAAABRAAAAAAAAAFEAAAAAAAAAgQAAAAAAAABBAAAAAAAAAFEAAAAAAAAAIQAAAAAAAABRAAAAAAAAACEAAAAAAAAAAQAAAAAAAAAhAAAAAAAAAAEAAAAAAAAAUQAAAAAAAABRAAAAAAAAAJEAAAAAAAAAAQAAAAAAAABxAAAAAAAAAIEAAAAAAAAAUQAAAAAAAABBAAAAAAAAAFEAAAAAAAAAiQAAAAAAAABhAAAAAAAAAAEAAAAAAAAAIQAAAAAAAAPA\\u002fAAAAAAAACEAAAAAAAADwPwAAAAAAAAhAAAAAAAAAFEAAAAAAAAAQQAAAAAAAABxAAAAAAAAAHEAAAAAAAADwPwAAAAAAAPA\\u002fAAAAAAAAAEAAAAAAAADwPwAAAAAAABBAAAAAAAAAIEAAAAAAAAAiQAAAAAAAABRAAAAAAAAAJEAAAAAAAAAcQAAAAAAAAAhAAAAAAAAAEEAAAAAAAAAAQAAAAAAAACBAAAAAAAAAHEAAAAAAAAAiQAAAAAAAABxAAAAAAAAAGEAAAAAAAAAgQAAAAAAAAABAAAAAAAAAEEAAAAAAAAAAQAAAAAAAABhAAAAAAAAAJEAAAAAAAADwPwAAAAAAACRAAAAAAAAAIEAAAAAAAAAgQAAAAAAAABhAAAAAAAAAIkAAAAAAAAAAQAAAAAAAABRAAAAAAAAA8D8AAAAAAAAgQAAAAAAAABhAAAAAAAAACEAAAAAAAAAkQAAAAAAAACRAAAAAAAAAFEAAAAAAAAAIQAAAAAAAABBAAAAAAAAAIEAAAAAAAAAcQAAAAAAAACBAAAAAAAAAEEAAAAAAAAD4fwAAAAAAABBAAAAAAAAACEAAAAAAAAAgQAAAAAAAABBAAAAAAAAA8D8AAAAAAAAiQAAAAAAAAAhAAAAAAAAA8D8AAAAAAAAUQAAAAAAAABBAAAAAAAAAIEAAAAAAAAAQQAAAAAAAABBAAAAAAAAAGEAAAAAAAAAQQAAAAAAAABBAAAAAAAAAGEAAAAAAAAAcQAAAAAAAAPA\\u002fAAAAAAAA8D8AAAAAAAAgQAAAAAAAACBAAAAAAAAA8D8AAAAAAADwPwAAAAAAACJAAAAAAAAAFEAAAAAAAAAAQAAAAAAAABBAAAAAAAAAIEAAAAAAAAAkQAAAAAAAABRAAAAAAAAAFEAAAAAAAAAQQAAAAAAAAPh\\u002fAAAAAAAACEAAAAAAAADwPwAAAAAAABRAAAAAAAAAFEAAAAAAAADwPwAAAAAAABhAAAAAAAAAFEAAAAAAAAAYQAAAAAAAAAhAAAAAAAAAFEAAAAAAAAAkQAAAAAAAACJAAAAAAAAAIEAAAAAAAAAcQAAAAAAAACRAAAAAAAAAFEAAAAAAAAAUQAAAAAAAABxAAAAAAAAA8D8AAAAAAADwPwAAAAAAAABAAAAAAAAAIEAAAAAAAAAUQAAAAAAAACRAAAAAAAAAEEAAAAAAAAAkQAAAAAAAACBAAAAAAAAA8D8AAAAAAAAiQAAAAAAAABhAAAAAAAAAHEAAAAAAAAAgQAAAAAAAABhAAAAAAAAAIEAAAAAAAAAUQAAAAAAAAAhAAAAAAAAAHEAAAAAAAAAQQAAAAAAAACJAAAAAAAAAIkAAAAAAAAAAQAAAAAAAACRAAAAAAAAAFEAAAAAAAADwPwAAAAAAACBAAAAAAAAAEEAAAAAAAAAkQAAAAAAAAPA\\u002fAAAAAAAAEEAAAAAAAAAiQAAAAAAAABxAAAAAAAAACEAAAAAAAADwPwAAAAAAABRAAAAAAAAAGEAAAAAAAAAQQAAAAAAAAPA\\u002fAAAAAAAAIkAAAAAAAAAiQAAAAAAAABxAAAAAAAAAEEAAAAAAAAAiQAAAAAAAAAhAAAAAAAAAAEAAAAAAAAAgQAAAAAAAABBAAAAAAAAACEAAAAAAAAAYQAAAAAAAAAhAAAAAAAAAEEAAAAAAAAAkQAAAAAAAAPA\\u002fAAAAAAAAIEAAAAAAAAAkQAAAAAAAAPA\\u002fAAAAAAAAHEAAAAAAAAAkQAAAAAAAACRAAAAAAAAAHEAAAAAAAAAAQAAAAAAAAPA\\u002fAAAAAAAAIkAAAAAAAAAiQAAAAAAAAABAAAAAAAAAIEAAAAAAAAAiQAAAAAAAACBAAAAAAAAAFEAAAAAAAAAAQAAAAAAAABhAAAAAAAAAJEAAAAAAAADwPwAAAAAAACBAAAAAAAAAAEAAAAAAAADwPwAAAAAAACJAAAAAAAAAIEAAAAAAAADwPwAAAAAAAABAAAAAAAAAIkAAAAAAAAAkQAAAAAAAABhAAAAAAAAA8D8AAAAAAADwPwAAAAAAABRAAAAAAAAAAEAAAAAAAAAIQAAAAAAAABxAAAAAAAAAJEAAAAAAAAAgQAAAAAAAABxAAAAAAAAAIkAAAAAAAADwPwAAAAAAACJAAAAAAAAA8D8AAAAAAAAkQAAAAAAAAAhAAAAAAAAAFEAAAAAAAAAgQAAAAAAAACBAAAAAAAAAAEAAAAAAAAAUQAAAAAAAABhAAAAAAAAAFEAAAAAAAAAYQAAAAAAAAABAAAAAAAAAJEAAAAAAAAAcQAAAAAAAABRAAAAAAAAA8D8AAAAAAAAcQAAAAAAAACJAAAAAAAAAJEAAAAAAAAAgQAAAAAAAABxAAAAAAAAAHEAAAAAAAAAQQAAAAAAAAPA\\u002fAAAAAAAA8D8AAAAAAAAcQAAAAAAAABhAAAAAAAAAIkAAAAAAAAAiQAAAAAAAACBAAAAAAAAAHEAAAAAAAADwPwAAAAAAABhAAAAAAAAAHEAAAAAAAAAYQAAAAAAAACBAAAAAAAAAEEAAAAAAAAAcQAAAAAAAACJAAAAAAAAAFEAAAAAAAAAQQAAAAAAAACJAAAAAAAAAIEAAAAAAAAAiQAAAAAAAAAhAAAAAAAAAHEAAAAAAAAAkQAAAAAAAAABAAAAAAAAAEEAAAAAAAAAkQAAAAAAAAAhAAAAAAAAAIkAAAAAAAAAQQAAAAAAAACJAAAAAAAAAGEAAAAAAAAAQQAAAAAAAAPA\\u002fAAAAAAAAEEAAAAAAAADwPwAAAAAAABxAAAAAAAAAAEAAAAAAAAAgQAAAAAAAACBAAAAAAAAAHEAAAAAAAAAiQAAAAAAAACRAAAAAAAAAEEAAAAAAAAAUQAAAAAAAABBAAAAAAAAAIEAAAAAAAADwPwAAAAAAAPA\\u002fAAAAAAAAEEAAAAAAAAAiQAAAAAAAACBAAAAAAAAACEAAAAAAAAAYQAAAAAAAAAhAAAAAAAAAFEAAAAAAAADwPwAAAAAAAAhAAAAAAAAAIkAAAAAAAAAcQAAAAAAAAAhAAAAAAAAAAEAAAAAAAAAUQAAAAAAAABhAAAAAAAAAHEAAAAAAAAAQQAAAAAAAABhAAAAAAAAAJEAAAAAAAAAgQAAAAAAAAABAAAAAAAAAFEAAAAAAAAAQQAAAAAAAAAhAAAAAAAAACEAAAAAAAAAgQAAAAAAAAABAAAAAAAAAIkAAAAAAAAAcQAAAAAAAACJAAAAAAAAAFEAAAAAAAAAUQAAAAAAAAPA\\u002fAAAAAAAACEAAAAAAAAAUQAAAAAAAABRAAAAAAAAA8D8AAAAAAADwPwAAAAAAAABAAAAAAAAAAEAAAAAAAAAcQAAAAAAAABRAAAAAAAAA8D8AAAAAAAAkQAAAAAAAABBAAAAAAAAAIEAAAAAAAAAIQAAAAAAAAABAAAAAAAAAAEAAAAAAAAAUQAAAAAAAABhAAAAAAAAAIEAAAAAAAAAgQAAAAAAAABRAAAAAAAAAGEAAAAAAAAAAQAAAAAAAACRAAAAAAAAAHEAAAAAAAAAgQAAAAAAAAABAAAAAAAAACEAAAAAAAAAIQAAAAAAAAPA\\u002fAAAAAAAACEAAAAAAAAAcQAAAAAAAACBAAAAAAAAAIkAAAAAAAAAUQAAAAAAAABBAAAAAAAAAHEAAAAAAAAAUQAAAAAAAACJAAAAAAAAAJEAAAAAAAAAIQAAAAAAAABBAAAAAAAAAHEAAAAAAAAAQQAAAAAAAACJAAAAAAAAAFEAAAAAAAAAIQAAAAAAAACRAAAAAAAAAGEAAAAAAAAAgQAAAAAAAABBAAAAAAAAAFEAAAAAAAAAQQAAAAAAAABRAAAAAAAAAJEAAAAAAAAAUQAAAAAAAABRAAAAAAAAACEAAAAAAAAAkQAAAAAAAABxAAAAAAAAAHEAAAAAAAAAUQAAAAAAAACJAAAAAAAAAGEAAAAAAAAAYQAAAAAAAACJAAAAAAAAAIEAAAAAAAAAcQAAAAAAAAABAAAAAAAAAFEAAAAAAAAAAQAAAAAAAABxAAAAAAAAAJEAAAAAAAAAgQAAAAAAAACBAAAAAAAAAJEAAAAAAAAAUQAAAAAAAABxAAAAAAAAAIkAAAAAAAAAUQAAAAAAAACBAAAAAAAAAFEAAAAAAAAAUQAAAAAAAAAhAAAAAAAAACEAAAAAAAAAgQAAAAAAAACBAAAAAAAAAAEAAAAAAAAAIQAAAAAAAABxAAAAAAAAAGEAAAAAAAAAcQAAAAAAAAAhAAAAAAAAAHEAAAAAAAAAUQAAAAAAAACBAAAAAAAAAFEAAAAAAAAAQQAAAAAAAAABAAAAAAAAAAEAAAAAAAAAkQAAAAAAAACJAAAAAAAAACEAAAAAAAAAkQAAAAAAAABxAAAAAAAAACEAAAAAAAAAkQAAAAAAAAABAAAAAAAAAGEAAAAAAAAAiQAAAAAAAAPA\\u002fAAAAAAAAGEAAAAAAAAAQQAAAAAAAABBAAAAAAAAAJEAAAAAAAAAYQAAAAAAAABBAAAAAAAAAGEAAAAAAAADwPwAAAAAAABRAAAAAAAAAJEAAAAAAAAAUQAAAAAAAAPA\\u002fAAAAAAAAIkAAAAAAAAAAQAAAAAAAAAhAAAAAAAAAFEAAAAAAAAAQQAAAAAAAAPA\\u002fAAAAAAAAFEAAAAAAAAAgQAAAAAAAABBAAAAAAAAACEAAAAAAAAAUQAAAAAAAABhAAAAAAAAAJEAAAAAAAAAUQAAAAAAAABxAAAAAAAAAAEAAAAAAAAAAQAAAAAAAABRAAAAAAAAA8D8AAAAAAAAcQAAAAAAAAABAAAAAAAAACEAAAAAAAAAcQAAAAAAAAAhAAAAAAAAA8D8AAAAAAAAgQAAAAAAAAPA\\u002fAAAAAAAAGEAAAAAAAAAcQAAAAAAAAAhAAAAAAAAAGEAAAAAAAAAAQAAAAAAAACJAAAAAAAAAGEAAAAAAAAAYQAAAAAAAABRAAAAAAAAAHEAAAAAAAAAQQAAAAAAAABBAAAAAAAAAJEAAAAAAAAAcQAAAAAAAACBAAAAAAAAAGEAAAAAAAAAgQAAAAAAAAPA\\u002fAAAAAAAAAEAAAAAAAAAUQAAAAAAAABxAAAAAAAAAGEAAAAAAAAAcQAAAAAAAAABAAAAAAAAAHEAAAAAAAAAAQAAAAAAAACRAAAAAAAAAHEAAAAAAAAAAQAAAAAAAABxAAAAAAAAAGEAAAAAAAADwPwAAAAAAACJAAAAAAAAAEEAAAAAAAAAkQAAAAAAAACBAAAAAAAAA8D8AAAAAAAAIQAAAAAAAACRAAAAAAAAAEEAAAAAAAAAgQAAAAAAAACJAAAAAAAAA8D8AAAAAAAAYQAAAAAAAAAhAAAAAAAAAIEAAAAAAAAAgQAAAAAAAAAhAAAAAAAAAIkAAAAAAAAAiQAAAAAAAAAhAAAAAAAAAJEAAAAAAAAAiQAAAAAAAACJAAAAAAAAAIEAAAAAAAAAAQAAAAAAAACBAAAAAAAAAAEAAAAAAAAAQQAAAAAAAAABAAAAAAAAAFEAAAAAAAAAAQAAAAAAAAPA\\u002fAAAAAAAAIkAAAAAAAAAAQAAAAAAAACRAAAAAAAAAEEAAAAAAAAAkQAAAAAAAACJAAAAAAAAAIkAAAAAAAAAkQAAAAAAAAPA\\u002fAAAAAAAAIkAAAAAAAAAYQAAAAAAAAABAAAAAAAAAEEAAAAAAAAAAQAAAAAAAACBAAAAAAAAAFEAAAAAAAADwPwAAAAAAAAhAAAAAAAAAFEAAAAAAAAAiQAAAAAAAABBAAAAAAAAAGEAAAAAAAAAcQAAAAAAAACBAAAAAAAAAFEAAAAAAAAAiQAAAAAAAACRAAAAAAAAA8D8AAAAAAAAUQAAAAAAAACRAAAAAAAAAAEAAAAAAAADwPwAAAAAAACJAAAAAAAAAIEAAAAAAAAAgQAAAAAAAABxAAAAAAAAAIkAAAAAAAAAUQAAAAAAAABBAAAAAAAAAEEAAAAAAAAAQQAAAAAAAAAhAAAAAAAAACEAAAAAAAAAQQAAAAAAAAPA\\u002fAAAAAAAAFEAAAAAAAAAAQAAAAAAAACJAAAAAAAAAAEAAAAAAAAAYQAAAAAAAAPA\\u002fAAAAAAAAAEAAAAAAAAAIQAAAAAAAACRAAAAAAAAA8D8AAAAAAAAAQAAAAAAAACRAAAAAAAAAIkAAAAAAAAAgQAAAAAAAABRAAAAAAAAAEEAAAAAAAADwPwAAAAAAACBAAAAAAAAAIkAAAAAAAAAYQAAAAAAAAPA\\u002fAAAAAAAAIEAAAAAAAAAYQAAAAAAAABBAAAAAAAAACEAAAAAAAAAgQAAAAAAAABxAAAAAAAAAEEAAAAAAAAAiQAAAAAAAACJAAAAAAAAAAEAAAAAAAAAcQAAAAAAAABhAAAAAAAAAHEAAAAAAAAAIQAAAAAAAACJAAAAAAAAAIkAAAAAAAAAQQAAAAAAAAAhAAAAAAAAAEEAAAAAAAAAAQAAAAAAAABhAAAAAAAAACEAAAAAAAAAcQAAAAAAAAAhAAAAAAAAAJEAAAAAAAAAcQAAAAAAAABhAAAAAAAAAGEAAAAAAAAAQQAAAAAAAABRAAAAAAAAAIkAAAAAAAAAQQAAAAAAAABBAAAAAAAAAAEAAAAAAAAAgQAAAAAAAABBAAAAAAAAA8D8AAAAAAAAYQAAAAAAAABBAAAAAAAAA8D8AAAAAAAAgQAAAAAAAABRAAAAAAAAA8D8AAAAAAAAQQAAAAAAAAPA\\u002fAAAAAAAAAEAAAAAAAAAiQAAAAAAAABhAAAAAAAAAGEAAAAAAAAAYQAAAAAAAACBAAAAAAAAAJEAAAAAAAAAcQAAAAAAAABRAAAAAAAAAEEAAAAAAAAAUQAAAAAAAABBAAAAAAAAAAEAAAAAAAAAgQAAAAAAAACJAAAAAAAAAJEAAAAAAAAAcQAAAAAAAACBAAAAAAAAAJEAAAAAAAAAUQAAAAAAAABRAAAAAAAAACEAAAAAAAAAIQAAAAAAAABBAAAAAAAAAEEAAAAAAAAAUQAAAAAAAAAhAAAAAAAAAEEAAAAAAAAAIQAAAAAAAABRAAAAAAAAAIkAAAAAAAAAgQAAAAAAAACJAAAAAAAAAJEAAAAAAAAAUQAAAAAAAABRAAAAAAAAA8D8AAAAAAAAcQAAAAAAAAPA\\u002fAAAAAAAAFEAAAAAAAAAUQAAAAAAAAAhAAAAAAAAAFEAAAAAAAAAkQAAAAAAAACBAAAAAAAAAHEAAAAAAAAAgQAAAAAAAAPA\\u002fAAAAAAAAIEAAAAAAAAAYQAAAAAAAABhAAAAAAAAAGEAAAAAAAAAiQAAAAAAAABRAAAAAAAAACEAAAAAAAAAUQAAAAAAAACBAAAAAAAAAGEAAAAAAAAAYQAAAAAAAAAhAAAAAAAAAAEAAAAAAAAAQQAAAAAAAABhAAAAAAAAA8D8AAAAAAAAgQAAAAAAAABRAAAAAAAAAJEAAAAAAAAAgQAAAAAAAAABAAAAAAAAAJEAAAAAAAAAcQAAAAAAAAAhAAAAAAAAAGEAAAAAAAAAQQAAAAAAAACJAAAAAAAAAJEAAAAAAAAAUQAAAAAAAABRAAAAAAAAAGEAAAAAAAAAYQAAAAAAAACRAAAAAAAAAAEAAAAAAAAAQQAAAAAAAACBAAAAAAAAAIkAAAAAAAAAcQAAAAAAAAABAAAAAAAAA8D8AAAAAAAAQQAAAAAAAABhAAAAAAAAAEEAAAAAAAADwPwAAAAAAAABAAAAAAAAAEEAAAAAAAAAIQAAAAAAAACBAAAAAAAAAJEAAAAAAAAAkQAAAAAAAABhAAAAAAAAAEEAAAAAAAAAAQAAAAAAAACBAAAAAAAAAIEAAAAAAAAAAQAAAAAAAAPA\\u002fAAAAAAAA8D8AAAAAAAAgQAAAAAAAABRAAAAAAAAAEEAAAAAAAAAgQAAAAAAAABhAAAAAAAAA8D8AAAAAAAAYQAAAAAAAACBAAAAAAAAAHEAAAAAAAAAkQAAAAAAAABRAAAAAAAAAIEAAAAAAAAAYQAAAAAAAABBAAAAAAAAAFEAAAAAAAAAYQAAAAAAAABxAAAAAAAAAEEAAAAAAAAAkQAAAAAAAACJAAAAAAAAAHEAAAAAAAAAUQAAAAAAAAAhAAAAAAAAAAEAAAAAAAAAAQAAAAAAAABBAAAAAAAAAFEAAAAAAAAAIQAAAAAAAAAhAAAAAAAAA8D8AAAAAAADwPwAAAAAAABhAAAAAAAAAHEAAAAAAAAAkQAAAAAAAACJAAAAAAAAAJEAAAAAAAAAiQAAAAAAAAABAAAAAAAAAFEAAAAAAAAAgQAAAAAAAAABAAAAAAAAACEAAAAAAAAAkQAAAAAAAAABAAAAAAAAAFEAAAAAAAAAQQAAAAAAAACBAAAAAAAAAEEAAAAAAAAAkQAAAAAAAACBAAAAAAAAAEEAAAAAAAAAYQAAAAAAAABBAAAAAAAAACEAAAAAAAADwPwAAAAAAABxAAAAAAAAAAEAAAAAAAAAQQAAAAAAAABRAAAAAAAAACEAAAAAAAAAUQAAAAAAAABhAAAAAAAAAAEAAAAAAAAAAQAAAAAAAABRAAAAAAAAACEAAAAAAAAAiQAAAAAAAACJAAAAAAAAA8D8AAAAAAAAkQAAAAAAAACJAAAAAAAAAGEAAAAAAAAAcQAAAAAAAAABAAAAAAAAAJEAAAAAAAAAAQAAAAAAAACJAAAAAAAAAHEAAAAAAAAAIQAAAAAAAABxAAAAAAAAAIEAAAAAAAAAkQAAAAAAAAAhAAAAAAAAAFEAAAAAAAAAAQAAAAAAAAAhAAAAAAAAAIEAAAAAAAAAkQAAAAAAAACBAAAAAAAAAFEAAAAAAAAAQQAAAAAAAAABAAAAAAAAAGEAAAAAAAAAkQAAAAAAAAPA\\u002fAAAAAAAAJEAAAAAAAAAkQAAAAAAAAABAAAAAAAAAJEAAAAAAAAAYQAAAAAAAABhAAAAAAAAAIEAAAAAAAAAQQAAAAAAAAAhAAAAAAAAACEAAAAAAAADwPwAAAAAAACJAAAAAAAAAEEAAAAAAAAAYQAAAAAAAABxAAAAAAAAACEAAAAAAAAAUQAAAAAAAABBAAAAAAAAAHEAAAAAAAAAcQAAAAAAAACJAAAAAAAAACEAAAAAAAAAIQAAAAAAAABhAAAAAAAAAGEAAAAAAAAAgQAAAAAAAABBAAAAAAAAAIEAAAAAAAAAIQAAAAAAAACBAAAAAAAAAIEAAAAAAAAAcQAAAAAAAAABAAAAAAAAAJEAAAAAAAAAIQAAAAAAAAAhAAAAAAAAAIEAAAAAAAAAgQAAAAAAAACRAAAAAAAAAHEAAAAAAAAAiQAAAAAAAABhAAAAAAAAAFEAAAAAAAAAYQAAAAAAAAPA\\u002fAAAAAAAAAEAAAAAAAAAYQAAAAAAAABxAAAAAAAAAFEAAAAAAAAAIQAAAAAAAABBAAAAAAAAAHEAAAAAAAAAAQAAAAAAAABBAAAAAAAAAAEAAAAAAAAAAQAAAAAAAABRAAAAAAAAAHEAAAAAAAADwPwAAAAAAACRAAAAAAAAAGEAAAAAAAAAQQAAAAAAAACJAAAAAAAAAIEAAAAAAAAAIQAAAAAAAABxAAAAAAAAAIEAAAAAAAAAQQAAAAAAAABRAAAAAAAAAFEAAAAAAAAAcQAAAAAAAABxAAAAAAAAAFEAAAAAAAADwPwAAAAAAABxAAAAAAAAAEEAAAAAAAAAAQAAAAAAAACJAAAAAAAAAIEAAAAAAAAAYQAAAAAAAABRAAAAAAAAAEEAAAAAAAAAYQAAAAAAAACRAAAAAAAAAFEAAAAAAAAAIQAAAAAAAAPA\\u002fAAAAAAAAIkAAAAAAAAAiQAAAAAAAABRAAAAAAAAAAEAAAAAAAAAkQAAAAAAAACBAAAAAAAAAHEAAAAAAAAAYQAAAAAAAABRAAAAAAAAAHEAAAAAAAAAcQAAAAAAAACBAAAAAAAAAHEAAAAAAAAAYQAAAAAAAABRAAAAAAAAAAEAAAAAAAAAkQAAAAAAAACBAAAAAAAAAHEAAAAAAAAAIQAAAAAAAAAhAAAAAAAAAHEAAAAAAAAAgQAAAAAAAAAhAAAAAAAAAAEAAAAAAAADwPwAAAAAAABBAAAAAAAAAFEAAAAAAAAAAQAAAAAAAABBAAAAAAAAAEEAAAAAAAAAQQAAAAAAAABRAAAAAAAAAIkAAAAAAAAAcQAAAAAAAACBAAAAAAAAAIEAAAAAAAAAiQAAAAAAAABBAAAAAAAAAEEAAAAAAAAAYQAAAAAAAACBAAAAAAAAAIEAAAAAAAAAgQAAAAAAAACJAAAAAAAAACEAAAAAAAAAIQAAAAAAAACRAAAAAAAAAFEAAAAAAAAAgQAAAAAAAAPA\\u002fAAAAAAAAIEAAAAAAAAAcQAAAAAAAACJAAAAAAAAAFEAAAAAAAAAiQAAAAAAAABRAAAAAAAAAJEAAAAAAAAAIQAAAAAAAABBAAAAAAAAAHEAAAAAAAAAAQAAAAAAAABRAAAAAAAAAAEAAAAAAAAAQQAAAAAAAABxAAAAAAAAA8D8AAAAAAADwPwAAAAAAABBAAAAAAAAACEAAAAAAAADwPwAAAAAAABBAAAAAAAAAIEAAAAAAAAAQQAAAAAAAABBAAAAAAAAAEEAAAAAAAAAgQAAAAAAAABxAAAAAAAAAAEAAAAAAAAAQQAAAAAAAAPA\\u002fAAAAAAAAEEAAAAAAAAAIQAAAAAAAABBAAAAAAAAAAEAAAAAAAAAAQAAAAAAAABRAAAAAAAAAIEAAAAAAAAAQQAAAAAAAACRAAAAAAAAAAEAAAAAAAAAcQAAAAAAAABxAAAAAAAAAAEAAAAAAAAAUQAAAAAAAABBAAAAAAAAACEAAAAAAAAAAQAAAAAAAAAhAAAAAAAAA8D8AAAAAAAAIQAAAAAAAABRAAAAAAAAAIkAAAAAAAAAiQAAAAAAAABxAAAAAAAAA8D8AAAAAAAAkQAAAAAAAAPA\\u002fAAAAAAAACEAAAAAAAAAQQAAAAAAAACRAAAAAAAAACEAAAAAAAAAiQAAAAAAAACRAAAAAAAAAAEAAAAAAAAAkQAAAAAAAAAhAAAAAAAAAAEAAAAAAAAAUQAAAAAAAAPA\\u002fAAAAAAAAEEAAAAAAAAAAQAAAAAAAABRAAAAAAAAAGEAAAAAAAAAcQAAAAAAAABBAAAAAAAAAJEAAAAAAAADwPwAAAAAAABhAAAAAAAAAEEAAAAAAAAAIQAAAAAAAAABAAAAAAAAAFEAAAAAAAAAiQAAAAAAAACBAAAAAAAAAIEAAAAAAAADwPwAAAAAAACBAAAAAAAAACEAAAAAAAADwPwAAAAAAACBAAAAAAAAAIkAAAAAAAAAiQAAAAAAAAABAAAAAAAAAIEAAAAAAAAAcQAAAAAAAACJAAAAAAAAAIkAAAAAAAAAQQAAAAAAAABRAAAAAAAAAIkAAAAAAAAAAQAAAAAAAABRAAAAAAAAACEAAAAAAAAAkQAAAAAAAAAhAAAAAAAAAFEAAAAAAAAAUQAAAAAAAACRAAAAAAAAAEEAAAAAAAAAcQAAAAAAAABBAAAAAAAAAAEAAAAAAAAAgQAAAAAAAABBAAAAAAAAAIkAAAAAAAAAYQAAAAAAAACJAAAAAAAAAGEAAAAAAAAAiQAAAAAAAABhAAAAAAAAAIkAAAAAAAAAgQAAAAAAAABRAAAAAAAAAIEAAAAAAAAAQQAAAAAAAABhAAAAAAAAAAEAAAAAAAAAkQAAAAAAAACRAAAAAAAAAFEAAAAAAAAAcQAAAAAAAACBAAAAAAAAAIEAAAAAAAAAYQAAAAAAAABxAAAAAAAAAHEAAAAAAAADwPwAAAAAAAABAAAAAAAAAJEAAAAAAAAAgQAAAAAAAAPA\\u002fAAAAAAAAIEAAAAAAAAAgQAAAAAAAABRAAAAAAAAAEEAAAAAAAAAcQAAAAAAAACBAAAAAAAAAAEAAAAAAAAAQQAAAAAAAAAhAAAAAAAAAIkAAAAAAAAAcQAAAAAAAAPA\\u002fAAAAAAAAIEAAAAAAAAAgQAAAAAAAACJAAAAAAAAAGEAAAAAAAAAcQAAAAAAAACBAAAAAAAAAIEAAAAAAAAAkQAAAAAAAACBAAAAAAAAAGEAAAAAAAADwPwAAAAAAACRAAAAAAAAACEAAAAAAAAAkQAAAAAAAABxAAAAAAAAAGEAAAAAAAAAQQAAAAAAAABxAAAAAAAAAJEAAAAAAAAAkQAAAAAAAAAhAAAAAAAAAJEAAAAAAAAAYQAAAAAAAABRAAAAAAAAAAEAAAAAAAAAgQAAAAAAAACJAAAAAAAAA8D8AAAAAAAAgQAAAAAAAAPA\\u002fAAAAAAAAIkAAAAAAAAAIQAAAAAAAACJAAAAAAAAAEEAAAAAAAAAkQAAAAAAAAPA\\u002fAAAAAAAA8D8AAAAAAADwPwAAAAAAACJAAAAAAAAA8D8AAAAAAADwPwAAAAAAAPA\\u002fAAAAAAAAIkAAAAAAAAAAQAAAAAAAABhAAAAAAAAA8D8AAAAAAAAQQAAAAAAAABRAAAAAAAAAIEAAAAAAAAAAQAAAAAAAABBAAAAAAAAAGEAAAAAAAAAiQAAAAAAAABRAAAAAAAAAIEAAAAAAAADwPwAAAAAAACRAAAAAAAAAFEAAAAAAAAAQQAAAAAAAAPA\\u002fAAAAAAAAGEAAAAAAAAAQQAAAAAAAAABAAAAAAAAAFEAAAAAAAAAiQAAAAAAAACJAAAAAAAAAEEAAAAAAAAAIQAAAAAAAACBAAAAAAAAAFEAAAAAAAAAAQAAAAAAAAABAAAAAAAAAJEAAAAAAAAAIQAAAAAAAACJAAAAAAAAAIkAAAAAAAAAIQAAAAAAAABxAAAAAAAAAIEAAAAAAAAAQQAAAAAAAACBAAAAAAAAAHEAAAAAAAAAAQAAAAAAAABBAAAAAAAAAEEAAAAAAAAAkQAAAAAAAAAhAAAAAAAAAGEAAAAAAAAAgQAAAAAAAACRAAAAAAAAACEAAAAAAAAAAQAAAAAAAAAhAAAAAAAAAHEAAAAAAAAAkQAAAAAAAABRAAAAAAAAAHEAAAAAAAAAgQAAAAAAAABBAAAAAAAAAGEAAAAAAAADwPwAAAAAAACRAAAAAAAAAIEAAAAAAAADwPwAAAAAAACBAAAAAAAAAJEAAAAAAAAAcQAAAAAAAACJAAAAAAAAAJEAAAAAAAAAiQAAAAAAAABRAAAAAAAAAEEAAAAAAAAAgQAAAAAAAACJAAAAAAAAAIEAAAAAAAADwPwAAAAAAACJAAAAAAAAAFEAAAAAAAAAkQAAAAAAAABBAAAAAAAAACEAAAAAAAAAAQAAAAAAAACJAAAAAAAAAAEAAAAAAAAAYQAAAAAAAACRAAAAAAAAAFEAAAAAAAAAYQAAAAAAAABxAAAAAAAAAEEAAAAAAAAAcQAAAAAAAABBAAAAAAAAACEAAAAAAAAAcQAAAAAAAAPA\\u002fAAAAAAAACEAAAAAAAAAcQAAAAAAAAPA\\u002fAAAAAAAAAEAAAAAAAAAYQAAAAAAAABxAAAAAAAAAEEAAAAAAAAAiQAAAAAAAACRAAAAAAAAAFEAAAAAAAAAUQAAAAAAAAPA\\u002fAAAAAAAAEEAAAAAAAADwPwAAAAAAAPA\\u002fAAAAAAAA8D8AAAAAAAAkQAAAAAAAACJAAAAAAAAAIkAAAAAAAAAQQAAAAAAAABhAAAAAAAAA8D8AAAAAAAAgQAAAAAAAAPA\\u002fAAAAAAAA8D8AAAAAAAAYQAAAAAAAABxAAAAAAAAAIkAAAAAAAADwPwAAAAAAAABAAAAAAAAAIkAAAAAAAADwPwAAAAAAAABAAAAAAAAACEAAAAAAAAAYQAAAAAAAAABAAAAAAAAAJEAAAAAAAADwPwAAAAAAABhAAAAAAAAAEEAAAAAAAAAYQAAAAAAAACBAAAAAAAAAJEAAAAAAAAAAQAAAAAAAACJAAAAAAAAACEAAAAAAAAAiQAAAAAAAACRAAAAAAAAAAEAAAAAAAAAkQAAAAAAAACJAAAAAAAAAEEAAAAAAAAAcQAAAAAAAABBAAAAAAAAAFEAAAAAAAAAYQAAAAAAAAAhAAAAAAAAA8D8AAAAAAAAQQAAAAAAAACBAAAAAAAAAAEAAAAAAAAAYQAAAAAAAAAhAAAAAAAAAAEAAAAAAAAAiQAAAAAAAAABAAAAAAAAAJEAAAAAAAAAkQAAAAAAAACJAAAAAAAAACEAAAAAAAAAYQAAAAAAAABRAAAAAAAAAGEAAAAAAAAAQQAAAAAAAABhAAAAAAAAAIkAAAAAAAAAQQAAAAAAAAABAAAAAAAAACEAAAAAAAAAAQAAAAAAAACRAAAAAAAAAFEAAAAAAAAAgQAAAAAAAABBAAAAAAAAAGEAAAAAAAAAgQAAAAAAAACRAAAAAAAAAHEAAAAAAAAAQQAAAAAAAACRAAAAAAAAAIkAAAAAAAAAAQAAAAAAAABhAAAAAAAAAAEAAAAAAAAAIQAAAAAAAABBAAAAAAAAACEAAAAAAAAAcQAAAAAAAACJAAAAAAAAAEEAAAAAAAAAiQAAAAAAAACRAAAAAAAAAAEAAAAAAAAAAQAAAAAAAACBAAAAAAAAACEAAAAAAAAAUQAAAAAAAAAhAAAAAAAAAFEAAAAAAAAAUQAAAAAAAABRAAAAAAAAAEEAAAAAAAAAIQAAAAAAAACRAAAAAAAAAGEAAAAAAAADwPwAAAAAAABRAAAAAAAAAFEAAAAAAAAAgQAAAAAAAACJAAAAAAAAAGEAAAAAAAAAcQAAAAAAAABxAAAAAAAAAEEAAAAAAAAAIQAAAAAAAACJAAAAAAAAAJEAAAAAAAAAiQAAAAAAAACRAAAAAAAAAFEAAAAAAAAAgQAAAAAAAABhAAAAAAAAAFEAAAAAAAAAIQAAAAAAAACJAAAAAAAAA8D8AAAAAAAAiQAAAAAAAAPA\\u002fAAAAAAAAEEAAAAAAAAAUQAAAAAAAACJAAAAAAAAAGEAAAAAAAAAAQAAAAAAAACJAAAAAAAAAAEAAAAAAAAAkQAAAAAAAAABAAAAAAAAAFEAAAAAAAADwPwAAAAAAACBAAAAAAAAAGEAAAAAAAAAQQAAAAAAAAABAAAAAAAAAEEAAAAAAAAAcQAAAAAAAACBAAAAAAAAACEAAAAAAAAAUQAAAAAAAACBAAAAAAAAAHEAAAAAAAAAIQAAAAAAAACJAAAAAAAAAHEAAAAAAAAAiQAAAAAAAABxAAAAAAAAAGEAAAAAAAAAQQAAAAAAAACRAAAAAAAAAAEAAAAAAAAAiQAAAAAAAAABAAAAAAAAAFEAAAAAAAAAIQAAAAAAAABRAAAAAAAAAIEAAAAAAAAAQQAAAAAAAABBAAAAAAAAAJEAAAAAAAAAkQAAAAAAAABRAAAAAAAAACEAAAAAAAAAkQAAAAAAAACJAAAAAAAAAAEAAAAAAAAAAQAAAAAAAABBAAAAAAAAAHEAAAAAAAAAQQAAAAAAAACBAAAAAAAAACEAAAAAAAAAgQAAAAAAAABRAAAAAAAAAIEAAAAAAAAAiQAAAAAAAABxAAAAAAAAAAEAAAAAAAAAYQAAAAAAAACJAAAAAAAAAFEAAAAAAAAAYQAAAAAAAABxAAAAAAAAAHEAAAAAAAAAQQAAAAAAAABhAAAAAAAAAAEAAAAAAAAAIQAAAAAAAACRAAAAAAAAAHEAAAAAAAAAUQAAAAAAAAAhAAAAAAAAA8D8AAAAAAAAAQAAAAAAAABRAAAAAAAAAIEAAAAAAAAAIQAAAAAAAACBAAAAAAAAAIkAAAAAAAAAgQAAAAAAAACRAAAAAAAAACEAAAAAAAAAkQAAAAAAAABBAAAAAAAAAHEAAAAAAAAAYQAAAAAAAACBAAAAAAAAAFEAAAAAAAADwPwAAAAAAAAhAAAAAAAAAHEAAAAAAAAAiQAAAAAAAABBAAAAAAAAA8D8AAAAAAAAiQAAAAAAAACRAAAAAAAAAHEAAAAAAAAAkQAAAAAAAABBAAAAAAAAAFEAAAAAAAADwPwAAAAAAACRAAAAAAAAAFEAAAAAAAAAQQAAAAAAAAAhAAAAAAAAACEAAAAAAAAAgQAAAAAAAABhAAAAAAAAAAEAAAAAAAAAgQAAAAAAAAABAAAAAAAAAAEAAAAAAAAAQQAAAAAAAACRAAAAAAAAA8D8AAAAAAAAQQAAAAAAAACBAAAAAAAAAIkAAAAAAAADwPwAAAAAAABhAAAAAAAAAAEAAAAAAAAAUQAAAAAAAABxAAAAAAAAACEAAAAAAAADwPwAAAAAAAPA\\u002fAAAAAAAAIEAAAAAAAAAcQAAAAAAAACBAAAAAAAAAAEAAAAAAAAAYQAAAAAAAABBAAAAAAAAAIkAAAAAAAAAiQAAAAAAAACJAAAAAAAAA8D8AAAAAAAAgQAAAAAAAACJAAAAAAAAAHEAAAAAAAAAgQAAAAAAAABBAAAAAAAAAFEAAAAAAAAAQQAAAAAAAAAhAAAAAAAAAFEAAAAAAAADwPwAAAAAAABxAAAAAAAAACEAAAAAAAAAYQAAAAAAAABhAAAAAAAAAJEAAAAAAAAAYQAAAAAAAAAhAAAAAAAAAGEAAAAAAAAAYQAAAAAAAAPA\\u002fAAAAAAAAGEAAAAAAAAAQQAAAAAAAACBAAAAAAAAAEEAAAAAAAAAQQAAAAAAAACJAAAAAAAAA8D8AAAAAAAAIQAAAAAAAAPA\\u002fAAAAAAAAFEAAAAAAAAAYQAAAAAAAABhAAAAAAAAAIkAAAAAAAAAkQAAAAAAAAPA\\u002fAAAAAAAAEEAAAAAAAAAAQAAAAAAAABRAAAAAAAAAFEAAAAAAAAAUQAAAAAAAABBAAAAAAAAACEAAAAAAAAAIQAAAAAAAACRAAAAAAAAAHEAAAAAAAAAcQAAAAAAAAAhAAAAAAAAAHEAAAAAAAAAiQAAAAAAAACRAAAAAAAAAJEAAAAAAAAAUQAAAAAAAABBAAAAAAAAACEAAAAAAAAAkQAAAAAAAABBAAAAAAAAAGEAAAAAAAAAIQAAAAAAAAPA\\u002fAAAAAAAAJEAAAAAAAAAgQAAAAAAAACRAAAAAAAAAFEAAAAAAAAAAQAAAAAAAABBAAAAAAAAAFEAAAAAAAAAiQAAAAAAAABxAAAAAAAAAGEAAAAAAAAAAQAAAAAAAABhAAAAAAAAAIkAAAAAAAAAIQAAAAAAAAAhAAAAAAAAAFEAAAAAAAAAgQAAAAAAAABhAAAAAAAAAJEAAAAAAAAAiQAAAAAAAAAhAAAAAAAAACEAAAAAAAAAAQAAAAAAAACBAAAAAAAAAFEAAAAAAAAAAQAAAAAAAACRAAAAAAAAAHEAAAAAAAAAkQAAAAAAAAABAAAAAAAAAFEAAAAAAAAAIQAAAAAAAABBAAAAAAAAA8D8AAAAAAAAIQAAAAAAAAABAAAAAAAAAFEAAAAAAAAAQQAAAAAAAABxAAAAAAAAACEAAAAAAAAAgQAAAAAAAACRAAAAAAAAAEEAAAAAAAAAUQAAAAAAAACRAAAAAAAAACEAAAAAAAAAgQAAAAAAAABxAAAAAAAAAJEAAAAAAAAAkQAAAAAAAABhAAAAAAAAAIEAAAAAAAAAiQAAAAAAAACRAAAAAAAAAJEAAAAAAAAAQQAAAAAAAABRAAAAAAAAAEEAAAAAAAAAiQAAAAAAAAAhAAAAAAAAACEAAAAAAAAAAQAAAAAAAABhAAAAAAAAA8D8AAAAAAAAQQAAAAAAAACRAAAAAAAAAGEAAAAAAAAAYQAAAAAAAAABAAAAAAAAA8D8AAAAAAAAAQAAAAAAAACRAAAAAAAAAJEAAAAAAAAAAQAAAAAAAACBAAAAAAAAAHEAAAAAAAAAcQAAAAAAAABxAAAAAAAAAJEAAAAAAAAAQQAAAAAAAABhAAAAAAAAAIkAAAAAAAAAgQAAAAAAAAPA\\u002fAAAAAAAACEAAAAAAAAAAQAAAAAAAABxAAAAAAAAAEEAAAAAAAADwPwAAAAAAACRAAAAAAAAACEAAAAAAAAAIQAAAAAAAAABAAAAAAAAAHEAAAAAAAAAQQAAAAAAAACBAAAAAAAAAGEAAAAAAAAAUQAAAAAAAACJAAAAAAAAAIkAAAAAAAAAQQAAAAAAAABRAAAAAAAAA8D8AAAAAAAAAQAAAAAAAAPA\\u002fAAAAAAAAHEAAAAAAAAAkQAAAAAAAAPA\\u002fAAAAAAAAFEAAAAAAAAAAQAAAAAAAACJAAAAAAAAAAEAAAAAAAAAUQAAAAAAAABRAAAAAAAAA8D8AAAAAAAAIQAAAAAAAACRAAAAAAAAA8D8AAAAAAAAQQAAAAAAAABBAAAAAAAAAFEAAAAAAAAAIQAAAAAAAACRAAAAAAAAACEAAAAAAAAAkQAAAAAAAAABAAAAAAAAAEEAAAAAAAAAIQAAAAAAAABxAAAAAAAAAIkAAAAAAAAAcQAAAAAAAAPA\\u002fAAAAAAAAEEAAAAAAAAAAQAAAAAAAAPA\\u002fAAAAAAAAIkAAAAAAAAAcQAAAAAAAAPA\\u002fAAAAAAAAEEAAAAAAAAAAQAAAAAAAABBAAAAAAAAA8D8AAAAAAAAkQAAAAAAAAPA\\u002fAAAAAAAAJEAAAAAAAAAcQAAAAAAAABBAAAAAAAAAJEAAAAAAAAAAQAAAAAAAAAhAAAAAAAAACEAAAAAAAAAcQAAAAAAAABhAAAAAAAAAAEAAAAAAAAAAQAAAAAAAAAhAAAAAAAAAGEAAAAAAAAAAQAAAAAAAABBAAAAAAAAACEAAAAAAAAAkQAAAAAAAAABAAAAAAAAACEAAAAAAAAAcQAAAAAAAABxAAAAAAAAAGEAAAAAAAAAUQAAAAAAAABhAAAAAAAAAFEAAAAAAAAAUQAAAAAAAACBAAAAAAAAA8D8AAAAAAAAgQAAAAAAAABhAAAAAAAAAAEAAAAAAAAAAQAAAAAAAACJAAAAAAAAAGEAAAAAAAAAIQAAAAAAAABBAAAAAAAAAGEAAAAAAAAAIQAAAAAAAACRAAAAAAAAA8D8AAAAAAAAIQAAAAAAAAABAAAAAAAAAJEAAAAAAAAAUQAAAAAAAAPA\\u002fAAAAAAAAHEAAAAAAAAAgQAAAAAAAAAhAAAAAAAAAIEAAAAAAAAAcQAAAAAAAAABAAAAAAAAAAEAAAAAAAAAYQAAAAAAAAABAAAAAAAAAIEAAAAAAAAAIQAAAAAAAABBAAAAAAAAA8D8AAAAAAAAgQAAAAAAAABRAAAAAAAAAAEAAAAAAAAAIQAAAAAAAABhAAAAAAAAAHEAAAAAAAAAAQAAAAAAAAAhAAAAAAAAAEEAAAAAAAAAQQAAAAAAAACJAAAAAAAAAIEAAAAAAAAAIQAAAAAAAAPA\\u002fAAAAAAAAEEAAAAAAAAAcQAAAAAAAACBAAAAAAAAACEAAAAAAAAAiQAAAAAAAACRAAAAAAAAAHEAAAAAAAADwPwAAAAAAAABAAAAAAAAAJEAAAAAAAAAIQAAAAAAAACRAAAAAAAAAAEAAAAAAAAAIQAAAAAAAAPA\\u002fAAAAAAAAJEAAAAAAAADwPwAAAAAAAABAAAAAAAAAFEAAAAAAAAAkQAAAAAAAABhAAAAAAAAAGEAAAAAAAAAAQAAAAAAAABRAAAAAAAAAIEAAAAAAAAAiQAAAAAAAABxAAAAAAAAA8D8AAAAAAAAUQAAAAAAAACRAAAAAAAAAEEAAAAAAAAAgQAAAAAAAABBAAAAAAAAAAEAAAAAAAAAAQAAAAAAAABBAAAAAAAAAJEAAAAAAAAAUQAAAAAAAABRAAAAAAAAAIEAAAAAAAAAkQAAAAAAAAABAAAAAAAAAGEAAAAAAAAAAQAAAAAAAAAhAAAAAAAAAFEAAAAAAAADwPwAAAAAAABBAAAAAAAAAIEAAAAAAAAAgQAAAAAAAAAhAAAAAAAAAIEAAAAAAAAAIQAAAAAAAACJAAAAAAAAAHEAAAAAAAAAcQAAAAAAAACBAAAAAAAAACEAAAAAAAAAIQAAAAAAAABhAAAAAAAAACEAAAAAAAAAkQAAAAAAAABRAAAAAAAAAHEAAAAAAAAAUQAAAAAAAAPA\\u002fAAAAAAAAJEAAAAAAAADwPwAAAAAAACJAAAAAAAAAIEAAAAAAAAAQQAAAAAAAACBAAAAAAAAAIEAAAAAAAAAAQAAAAAAAAABAAAAAAAAA8D8AAAAAAAAcQAAAAAAAACBAAAAAAAAAJEAAAAAAAAAIQAAAAAAAABBAAAAAAAAAAEAAAAAAAAAIQAAAAAAAACJAAAAAAAAAIEAAAAAAAAAUQAAAAAAAACJAAAAAAAAAHEAAAAAAAAAUQAAAAAAAAAhAAAAAAAAAEEAAAAAAAAAcQAAAAAAAACRAAAAAAAAACEAAAAAAAAAQQAAAAAAAABxAAAAAAAAAGEAAAAAAAAAYQAAAAAAAAABAAAAAAAAAAEAAAAAAAAAQQAAAAAAAABRAAAAAAAAAJEAAAAAAAAAcQAAAAAAAAPA\\u002fAAAAAAAACEAAAAAAAAAAQAAAAAAAAABAAAAAAAAAIEAAAAAAAAAAQAAAAAAAAAhAAAAAAAAACEAAAAAAAAAUQAAAAAAAABRAAAAAAAAAIEAAAAAAAAAAQAAAAAAAACRAAAAAAAAACEAAAAAAAAAUQAAAAAAAACJAAAAAAAAAAEAAAAAAAAAiQAAAAAAAABhAAAAAAAAACEAAAAAAAADwPwAAAAAAAAhAAAAAAAAACEAAAAAAAAAiQAAAAAAAABxAAAAAAAAAEEAAAAAAAAAkQAAAAAAAABhAAAAAAAAAFEAAAAAAAAAUQAAAAAAAACBAAAAAAAAAIEAAAAAAAAAkQAAAAAAAABhAAAAAAAAAHEAAAAAAAAAkQAAAAAAAAPA\\u002fAAAAAAAAIEAAAAAAAAAUQAAAAAAAACBAAAAAAAAAJEAAAAAAAAAgQAAAAAAAAPA\\u002fAAAAAAAAGEAAAAAAAAAUQAAAAAAAAPA\\u002fAAAAAAAAAEAAAAAAAAAkQAAAAAAAAAhAAAAAAAAAHEAAAAAAAAAYQAAAAAAAACJAAAAAAAAAIkAAAAAAAAAUQAAAAAAAABhAAAAAAAAAGEAAAAAAAADwPwAAAAAAABhAAAAAAAAAAEAAAAAAAAAiQAAAAAAAABRAAAAAAAAAIkAAAAAAAADwPwAAAAAAACRAAAAAAAAAHEAAAAAAAAAQQAAAAAAAACBAAAAAAAAAGEAAAAAAAAAAQAAAAAAAABRAAAAAAAAAGEAAAAAAAAAYQAAAAAAAABBAAAAAAAAAEEAAAAAAAAAQQAAAAAAAACBAAAAAAAAAGEAAAAAAAAAgQAAAAAAAABxAAAAAAAAACEAAAAAAAAAQQAAAAAAAACBAAAAAAAAAHEAAAAAAAAAkQAAAAAAAAAhAAAAAAAAAFEAAAAAAAAAkQAAAAAAAACBAAAAAAAAAFEAAAAAAAAAiQAAAAAAAABhAAAAAAAAA8D8AAAAAAAAUQAAAAAAAABhAAAAAAAAAGEAAAAAAAAAiQAAAAAAAABhAAAAAAAAA8D8AAAAAAAAUQAAAAAAAACRAAAAAAAAAGEAAAAAAAAAQQAAAAAAAABxAAAAAAAAAAEAAAAAAAAAUQAAAAAAAABxAAAAAAAAAHEAAAAAAAAAAQAAAAAAAACJAAAAAAAAACEAAAAAAAAAIQAAAAAAAABBAAAAAAAAA8D8AAAAAAAAAQAAAAAAAABxAAAAAAAAAHEAAAAAAAAAQQAAAAAAAAABAAAAAAAAACEAAAAAAAAAAQAAAAAAAABBAAAAAAAAA8D8AAAAAAAAgQAAAAAAAACBAAAAAAAAAGEAAAAAAAAAAQAAAAAAAACRAAAAAAAAAGEAAAAAAAAAIQAAAAAAAABxAAAAAAAAAHEAAAAAAAAAcQAAAAAAAABxAAAAAAAAAEEAAAAAAAAAAQAAAAAAAABBAAAAAAAAAJEAAAAAAAAAAQAAAAAAAABxAAAAAAAAAJEAAAAAAAAAkQAAAAAAAABhAAAAAAAAAJEAAAAAAAAAkQAAAAAAAACRAAAAAAAAAGEAAAAAAAAAAQAAAAAAAABxAAAAAAAAAHEAAAAAAAAAiQAAAAAAAACJAAAAAAAAAJEAAAAAAAAAIQAAAAAAAABhAAAAAAAAAJEAAAAAAAAAAQAAAAAAAACJAAAAAAAAA8D8AAAAAAAAgQAAAAAAAABhAAAAAAAAAIEAAAAAAAAAgQAAAAAAAAAhAAAAAAAAAEEAAAAAAAAAgQAAAAAAAACRAAAAAAAAACEAAAAAAAADwPwAAAAAAABhAAAAAAAAAFEAAAAAAAAAIQAAAAAAAAPA\\u002fAAAAAAAA8D8AAAAAAAAgQAAAAAAAACJAAAAAAAAAIEAAAAAAAAAkQAAAAAAAABhAAAAAAAAA8D8AAAAAAAAUQAAAAAAAACRAAAAAAAAAFEAAAAAAAAAkQAAAAAAAAAhAAAAAAAAACEAAAAAAAAAYQAAAAAAAACBAAAAAAAAAIkAAAAAAAAAcQAAAAAAAACBAAAAAAAAA8D8AAAAAAAAiQAAAAAAAAABAAAAAAAAAGEAAAAAAAAAUQAAAAAAAAAhAAAAAAAAAGEAAAAAAAAAcQAAAAAAAACJAAAAAAAAACEAAAAAAAAAIQAAAAAAAABhAAAAAAAAAFEAAAAAAAAAQQAAAAAAAABRAAAAAAAAAIEAAAAAAAAAkQAAAAAAAACBAAAAAAAAA8D8AAAAAAAAcQAAAAAAAAPA\\u002fAAAAAAAAFEAAAAAAAAAQQAAAAAAAABBAAAAAAAAAIkAAAAAAAAAcQAAAAAAAACBAAAAAAAAACEAAAAAAAAAUQAAAAAAAABRAAAAAAAAAJEAAAAAAAAAAQAAAAAAAAABAAAAAAAAAAEAAAAAAAAAgQAAAAAAAABxAAAAAAAAAHEAAAAAAAAAiQAAAAAAAAAhAAAAAAAAAIkAAAAAAAAAgQAAAAAAAACJAAAAAAAAAIEAAAAAAAAAYQAAAAAAAABhAAAAAAAAA8D8AAAAAAAAYQAAAAAAAAAhAAAAAAAAAAEAAAAAAAAAcQAAAAAAAAABAAAAAAAAACEAAAAAAAAAkQAAAAAAAACBAAAAAAAAAGEAAAAAAAAAcQAAAAAAAABhAAAAAAAAAHEAAAAAAAAAAQAAAAAAAACBAAAAAAAAAIEAAAAAAAAAYQAAAAAAAABRAAAAAAAAAAEAAAAAAAAAUQAAAAAAAACJAAAAAAAAA8D8AAAAAAAAgQAAAAAAAAABAAAAAAAAAGEAAAAAAAAAIQAAAAAAAAPA\\u002fAAAAAAAAEEAAAAAAAAAYQAAAAAAAABRAAAAAAAAAHEAAAAAAAAAgQAAAAAAAAPA\\u002fAAAAAAAAGEAAAAAAAAAgQAAAAAAAAPA\\u002fAAAAAAAAHEAAAAAAAAAkQAAAAAAAABhAAAAAAAAACEAAAAAAAAAUQAAAAAAAABRAAAAAAAAACEAAAAAAAAAQQAAAAAAAABRAAAAAAAAAFEAAAAAAAAAYQAAAAAAAACBAAAAAAAAAHEAAAAAAAAAIQAAAAAAAACJAAAAAAAAAEEAAAAAAAAAUQAAAAAAAAABAAAAAAAAACEAAAAAAAAAAQAAAAAAAAABAAAAAAAAAHEAAAAAAAAAUQAAAAAAAABxAAAAAAAAAGEAAAAAAAAAiQAAAAAAAABxAAAAAAAAA8D8AAAAAAAAUQAAAAAAAABRAAAAAAAAA8D8AAAAAAAAcQAAAAAAAACJAAAAAAAAA8D8AAAAAAAAiQAAAAAAAACRAAAAAAAAACEAAAAAAAAAIQAAAAAAAABxAAAAAAAAAGEAAAAAAAAAcQAAAAAAAACBAAAAAAAAAHEAAAAAAAAAgQAAAAAAAAABAAAAAAAAAJEAAAAAAAAAUQAAAAAAAAABAAAAAAAAAIkAAAAAAAAAiQAAAAAAAACBAAAAAAAAAIEAAAAAAAAAUQAAAAAAAACJAAAAAAAAAEEAAAAAAAAAkQAAAAAAAAAhAAAAAAAAAFEAAAAAAAAAIQAAAAAAAABhAAAAAAAAAHEAAAAAAAAAIQAAAAAAAAABAAAAAAAAAEEAAAAAAAAAiQAAAAAAAABBAAAAAAAAACEAAAAAAAAAgQAAAAAAAAAhAAAAAAAAAFEAAAAAAAADwPwAAAAAAABBAAAAAAAAAGEAAAAAAAAAcQAAAAAAAABRAAAAAAAAAIEAAAAAAAAAIQAAAAAAAACRAAAAAAAAAIEAAAAAAAAAiQAAAAAAAAPA\\u002fAAAAAAAAIEAAAAAAAAAkQAAAAAAAABRAAAAAAAAAFEAAAAAAAADwPwAAAAAAACRAAAAAAAAAIkAAAAAAAADwPwAAAAAAABBAAAAAAAAACEAAAAAAAAAYQAAAAAAAACJAAAAAAAAACEAAAAAAAAAUQAAAAAAAACJAAAAAAAAACEAAAAAAAADwPwAAAAAAABhAAAAAAAAAGEAAAAAAAAAiQAAAAAAAABBAAAAAAAAAIkAAAAAAAAAgQAAAAAAAAPA\\u002fAAAAAAAAHEAAAAAAAAAUQAAAAAAAACBAAAAAAAAACEAAAAAAAAAYQAAAAAAAABRAAAAAAAAAHEAAAAAAAAAcQAAAAAAAAABAAAAAAAAAJEAAAAAAAAAgQAAAAAAAAPA\\u002fAAAAAAAAFEAAAAAAAAAiQAAAAAAAAABAAAAAAAAAAEAAAAAAAAAAQAAAAAAAACJAAAAAAAAA8D8AAAAAAAAQQAAAAAAAACJAAAAAAAAAEEAAAAAAAADwPwAAAAAAABxAAAAAAAAAIkAAAAAAAAAiQAAAAAAAAAhAAAAAAAAAIkAAAAAAAAAgQAAAAAAAABBAAAAAAAAAIkAAAAAAAADwPwAAAAAAACBAAAAAAAAACEAAAAAAAAAgQAAAAAAAAAhAAAAAAAAAAEAAAAAAAAAkQAAAAAAAAABAAAAAAAAAIkAAAAAAAAAIQAAAAAAAAPA\\u002fAAAAAAAAHEAAAAAAAADwPwAAAAAAABhAAAAAAAAAJEAAAAAAAAAAQAAAAAAAACRAAAAAAAAAEEAAAAAAAAAiQAAAAAAAABxAAAAAAAAAHEAAAAAAAAAgQAAAAAAAABBAAAAAAAAAIkAAAAAAAADwPwAAAAAAABRAAAAAAAAAHEAAAAAAAAAgQAAAAAAAABxAAAAAAAAAHEAAAAAAAAAkQAAAAAAAAABAAAAAAAAA8D8AAAAAAAAIQAAAAAAAABhAAAAAAAAACEAAAAAAAAAcQAAAAAAAAAhAAAAAAAAAHEAAAAAAAAAQQAAAAAAAAABAAAAAAAAAHEAAAAAAAAAIQAAAAAAAACJAAAAAAAAAGEAAAAAAAAAQQAAAAAAAACJAAAAAAAAAFEAAAAAAAAAgQAAAAAAAABBAAAAAAAAAAEAAAAAAAAAAQAAAAAAAAABAAAAAAAAAAEAAAAAAAAAUQAAAAAAAACJAAAAAAAAAJEAAAAAAAAAUQAAAAAAAACJAAAAAAAAAIkAAAAAAAAAQQAAAAAAAABhAAAAAAAAA8D8AAAAAAAAcQAAAAAAAABxAAAAAAAAAEEAAAAAAAAAYQAAAAAAAABxAAAAAAAAAIkAAAAAAAAAUQAAAAAAAACBAAAAAAAAAIEAAAAAAAAAkQAAAAAAAACJAAAAAAAAACEAAAAAAAAAgQAAAAAAAACRAAAAAAAAA8D8AAAAAAAAcQAAAAAAAAAhAAAAAAAAAAEAAAAAAAAAcQAAAAAAAABhAAAAAAAAAEEAAAAAAAADwPwAAAAAAAAhAAAAAAAAAJEAAAAAAAAAYQAAAAAAAACJAAAAAAAAAIEAAAAAAAAAIQAAAAAAAACBAAAAAAAAAJEAAAAAAAAAYQAAAAAAAAABAAAAAAAAAEEAAAAAAAADwPwAAAAAAAAhAAAAAAAAAIEAAAAAAAAAIQAAAAAAAAAhAAAAAAAAAIkAAAAAAAAAIQAAAAAAAABxAAAAAAAAA8D8AAAAAAAAAQAAAAAAAACRAAAAAAAAAAEAAAAAAAAAiQAAAAAAAABxAAAAAAAAAJEAAAAAAAAAcQAAAAAAAABxAAAAAAAAAIkAAAAAAAAAgQAAAAAAAACJAAAAAAAAAJEAAAAAAAAAYQAAAAAAAABxAAAAAAAAAEEAAAAAAAAAkQAAAAAAAACBAAAAAAAAA8D8AAAAAAAAYQAAAAAAAACBAAAAAAAAAGEAAAAAAAAAcQAAAAAAAACJAAAAAAAAAFEAAAAAAAAAQQAAAAAAAABRAAAAAAAAACEAAAAAAAAAYQAAAAAAAAABAAAAAAAAACEAAAAAAAAAgQAAAAAAAABBAAAAAAAAAIkAAAAAAAAAgQAAAAAAAAABAAAAAAAAAEEAAAAAAAAAUQAAAAAAAABBAAAAAAAAAGEAAAAAAAAAUQAAAAAAAAPA\\u002fAAAAAAAAIkAAAAAAAAAgQAAAAAAAABxAAAAAAAAAJEAAAAAAAAAcQAAAAAAAACJAAAAAAAAAFEAAAAAAAAAIQAAAAAAAACBAAAAAAAAAJEAAAAAAAADwPwAAAAAAACBAAAAAAAAAEEAAAAAAAAAQQAAAAAAAAAhAAAAAAAAAIEAAAAAAAAAcQAAAAAAAABRAAAAAAAAAGEAAAAAAAAAIQAAAAAAAABxAAAAAAAAAIkAAAAAAAAAIQAAAAAAAAPA\\u002fAAAAAAAAIEAAAAAAAAAcQAAAAAAAABBAAAAAAAAAAEAAAAAAAAAUQAAAAAAAACJAAAAAAAAAEEAAAAAAAAAiQAAAAAAAACJAAAAAAAAAHEAAAAAAAADwPwAAAAAAAAhAAAAAAAAAJEAAAAAAAAAQQAAAAAAAABhAAAAAAAAACEAAAAAAAAAiQAAAAAAAAAhAAAAAAAAAJEAAAAAAAAAkQAAAAAAAAABAAAAAAAAAIkAAAAAAAAAAQAAAAAAAAAhAAAAAAAAAIEAAAAAAAAAUQAAAAAAAAPA\\u002fAAAAAAAACEAAAAAAAAAAQAAAAAAAABxAAAAAAAAAHEAAAAAAAAAiQAAAAAAAABhAAAAAAAAAFEAAAAAAAAAAQAAAAAAAABhAAAAAAAAAIkAAAAAAAAAAQAAAAAAAABhAAAAAAAAAIkAAAAAAAAAiQAAAAAAAACJAAAAAAAAAEEAAAAAAAAAUQAAAAAAAABRAAAAAAAAAAEAAAAAAAAAcQAAAAAAAABhAAAAAAAAAJEAAAAAAAAAYQAAAAAAAABxAAAAAAAAAHEAAAAAAAADwPwAAAAAAACBAAAAAAAAAAEAAAAAAAAAcQAAAAAAAACJAAAAAAAAAJEAAAAAAAADwPwAAAAAAAAhAAAAAAAAA8D8AAAAAAAAcQAAAAAAAABhAAAAAAAAAJEAAAAAAAAAUQAAAAAAAAPA\\u002fAAAAAAAAAEAAAAAAAAAiQAAAAAAAAPA\\u002fAAAAAAAAIEAAAAAAAAAiQAAAAAAAABxAAAAAAAAAFEAAAAAAAAAcQAAAAAAAABBAAAAAAAAAIkAAAAAAAAAiQAAAAAAAAABAAAAAAAAAIEAAAAAAAAAQQAAAAAAAACRAAAAAAAAAAEAAAAAAAAAiQAAAAAAAABxAAAAAAAAAAEAAAAAAAAAYQAAAAAAAABxAAAAAAAAAIEAAAAAAAAAgQAAAAAAAAABAAAAAAAAACEAAAAAAAAAUQAAAAAAAAPA\\u002fAAAAAAAAJEAAAAAAAAAiQAAAAAAAABBAAAAAAAAA8D8AAAAAAAAUQAAAAAAAACBAAAAAAAAACEAAAAAAAAAkQAAAAAAAABhAAAAAAAAAFEAAAAAAAAAgQAAAAAAAACJAAAAAAAAAHEAAAAAAAAAkQAAAAAAAAAhAAAAAAAAAFEAAAAAAAAAUQAAAAAAAAPA\\u002fAAAAAAAAJEAAAAAAAAAIQAAAAAAAABhAAAAAAAAA8D8AAAAAAAAkQAAAAAAAABxAAAAAAAAAFEAAAAAAAAAAQAAAAAAAACJAAAAAAAAAIkAAAAAAAAAAQAAAAAAAABxAAAAAAAAAHEAAAAAAAAAAQAAAAAAAAAhAAAAAAAAAFEAAAAAAAAAIQAAAAAAAABRAAAAAAAAAEEAAAAAAAAAQQAAAAAAAABhAAAAAAAAAFEAAAAAAAADwPwAAAAAAACRAAAAAAAAAIkAAAAAAAAAQQAAAAAAAACJAAAAAAAAAAEAAAAAAAAAUQAAAAAAAABxAAAAAAAAAFEAAAAAAAAAUQAAAAAAAABBAAAAAAAAAJEAAAAAAAAAkQAAAAAAAAAhAAAAAAAAAIkAAAAAAAAAIQAAAAAAAACJAAAAAAAAAJEAAAAAAAAAQQAAAAAAAABhAAAAAAAAAIEAAAAAAAADwPwAAAAAAACRAAAAAAAAAIkAAAAAAAAAcQAAAAAAAAABAAAAAAAAAHEAAAAAAAAAcQAAAAAAAAPA\\u002fAAAAAAAAHEAAAAAAAAAAQAAAAAAAAPA\\u002fAAAAAAAAFEAAAAAAAAAIQAAAAAAAAABAAAAAAAAAHEAAAAAAAAAiQAAAAAAAACBAAAAAAAAAAEAAAAAAAAAYQAAAAAAAABxAAAAAAAAA8D8AAAAAAAAUQAAAAAAAAABAAAAAAAAAFEAAAAAAAADwPwAAAAAAAAhAAAAAAAAAIkAAAAAAAAAQQAAAAAAAAABAAAAAAAAAIkAAAAAAAAAYQAAAAAAAAABAAAAAAAAAAEAAAAAAAAAiQAAAAAAAACRAAAAAAAAAIkAAAAAAAAAiQAAAAAAAACBAAAAAAAAAGEAAAAAAAADwPwAAAAAAAPA\\u002fAAAAAAAAFEAAAAAAAADwPwAAAAAAABBAAAAAAAAAJEAAAAAAAAAkQAAAAAAAABBAAAAAAAAAFEAAAAAAAAAcQAAAAAAAAPA\\u002fAAAAAAAAGEAAAAAAAAAUQAAAAAAAACRAAAAAAAAACEAAAAAAAAAcQAAAAAAAABhAAAAAAAAAHEAAAAAAAAAIQAAAAAAAACBAAAAAAAAACEAAAAAAAAAQQAAAAAAAAPA\\u002fAAAAAAAAAEAAAAAAAADwPwAAAAAAACRAAAAAAAAAJEAAAAAAAADwPwAAAAAAACJAAAAAAAAAIkAAAAAAAAAYQAAAAAAAAABAAAAAAAAAHEAAAAAAAAAiQAAAAAAAACRAAAAAAAAAGEAAAAAAAAAiQAAAAAAAAPA\\u002fAAAAAAAAEEAAAAAAAAAIQAAAAAAAAPA\\u002fAAAAAAAAIkAAAAAAAAAiQAAAAAAAACJAAAAAAAAA8D8AAAAAAAAUQAAAAAAAACJAAAAAAAAA8D8AAAAAAAAiQAAAAAAAACBAAAAAAAAAIkAAAAAAAAAcQAAAAAAAABxAAAAAAAAAIEAAAAAAAAAAQAAAAAAAAAhAAAAAAAAAAEAAAAAAAAAiQAAAAAAAABBAAAAAAAAAJEAAAAAAAAAiQAAAAAAAAPA\\u002fAAAAAAAAIkAAAAAAAAAcQAAAAAAAABxAAAAAAAAAEEAAAAAAAAAcQAAAAAAAAABAAAAAAAAACEAAAAAAAAAiQAAAAAAAABhAAAAAAAAAFEAAAAAAAADwPwAAAAAAAPA\\u002fAAAAAAAAEEAAAAAAAAAQQAAAAAAAACBAAAAAAAAAAEAAAAAAAAAiQAAAAAAAAABAAAAAAAAAEEAAAAAAAAAYQAAAAAAAAAhAAAAAAAAAIkAAAAAAAAAUQAAAAAAAACBAAAAAAAAAFEAAAAAAAAAQQAAAAAAAABhAAAAAAAAACEAAAAAAAAAAQAAAAAAAACRAAAAAAAAAEEAAAAAAAAAYQAAAAAAAABhAAAAAAAAAAEAAAAAAAAAUQAAAAAAAABBAAAAAAAAAIEAAAAAAAAAAQAAAAAAAAPA\\u002fAAAAAAAAHEAAAAAAAADwPwAAAAAAACRAAAAAAAAAGEAAAAAAAAAkQAAAAAAAACRAAAAAAAAACEAAAAAAAADwPwAAAAAAAPA\\u002fAAAAAAAA8D8AAAAAAAAgQAAAAAAAACRAAAAAAAAAGEAAAAAAAADwPwAAAAAAAAhAAAAAAAAAJEAAAAAAAAAkQAAAAAAAABhAAAAAAAAAEEAAAAAAAAAkQAAAAAAAACBAAAAAAAAA8D8AAAAAAAAIQAAAAAAAABxAAAAAAAAAJEAAAAAAAAAUQAAAAAAAACRAAAAAAAAACEAAAAAAAAAQQAAAAAAAAPA\\u002fAAAAAAAACEAAAAAAAAAYQAAAAAAAABRAAAAAAAAAIEAAAAAAAAAYQAAAAAAAABhAAAAAAAAAFEAAAAAAAAAcQAAAAAAAAABAAAAAAAAAIEAAAAAAAAAYQAAAAAAAAAhAAAAAAAAAHEAAAAAAAAAYQAAAAAAAABxAAAAAAAAAIkAAAAAAAAAIQAAAAAAAABBAAAAAAAAAGEAAAAAAAAAUQAAAAAAAABxAAAAAAAAAHEAAAAAAAAAiQAAAAAAAABxAAAAAAAAAEEAAAAAAAAAIQAAAAAAAAAhAAAAAAAAAJEAAAAAAAAAgQAAAAAAAABRAAAAAAAAAEEAAAAAAAAAgQAAAAAAAAABAAAAAAAAAEEAAAAAAAADwPwAAAAAAACJAAAAAAAAA8D8AAAAAAAAUQAAAAAAAAPA\\u002fAAAAAAAACEAAAAAAAAAcQAAAAAAAABxAAAAAAAAAIkAAAAAAAAAkQAAAAAAAABBAAAAAAAAAIkAAAAAAAAAiQAAAAAAAACJAAAAAAAAAFEAAAAAAAAAiQAAAAAAAAABAAAAAAAAAEEAAAAAAAAAcQAAAAAAAABhAAAAAAAAA8D8AAAAAAAAAQAAAAAAAAPA\\u002fAAAAAAAAFEAAAAAAAAAQQAAAAAAAACJAAAAAAAAACEAAAAAAAAAYQAAAAAAAACJAAAAAAAAAGEAAAAAAAAAYQAAAAAAAABBAAAAAAAAACEAAAAAAAAAkQAAAAAAAAPA\\u002fAAAAAAAAGEAAAAAAAAAiQAAAAAAAAAhAAAAAAAAA8D8AAAAAAADwPwAAAAAAABhAAAAAAAAAIkAAAAAAAAAAQAAAAAAAACBAAAAAAAAACEAAAAAAAAAiQAAAAAAAACJAAAAAAAAAAEAAAAAAAAAkQAAAAAAAABxAAAAAAAAA8D8AAAAAAAAQQAAAAAAAACBAAAAAAAAA8D8AAAAAAAAUQAAAAAAAAPA\\u002fAAAAAAAAIkAAAAAAAAAIQAAAAAAAAPA\\u002fAAAAAAAAFEAAAAAAAAAQQAAAAAAAACRAAAAAAAAAAEAAAAAAAAAYQAAAAAAAAABAAAAAAAAACEAAAAAAAAAAQAAAAAAAACBAAAAAAAAAIkAAAAAAAAAcQAAAAAAAACRAAAAAAAAA8D8AAAAAAAAIQAAAAAAAAAhAAAAAAAAAJEAAAAAAAAAiQAAAAAAAAABAAAAAAAAA8D8AAAAAAAAIQAAAAAAAACBAAAAAAAAAIkAAAAAAAAAUQAAAAAAAACRAAAAAAAAA8D8AAAAAAAAQQAAAAAAAABxAAAAAAAAAFEAAAAAAAAAUQAAAAAAAAABAAAAAAAAAIEAAAAAAAAAcQAAAAAAAAPA\\u002fAAAAAAAAAEAAAAAAAAAiQAAAAAAAABRAAAAAAAAACEAAAAAAAAAcQAAAAAAAABxAAAAAAAAAFEAAAAAAAAAYQAAAAAAAAAhAAAAAAAAAEEAAAAAAAAAUQAAAAAAAACBAAAAAAAAAAEAAAAAAAAAIQAAAAAAAABRAAAAAAAAAIEAAAAAAAAAAQAAAAAAAABRAAAAAAAAAJEAAAAAAAAAAQAAAAAAAABxAAAAAAAAAEEAAAAAAAAAcQAAAAAAAAABAAAAAAAAAJEAAAAAAAAAYQAAAAAAAAABAAAAAAAAAAEAAAAAAAAAYQAAAAAAAACJAAAAAAAAAIkAAAAAAAAAcQAAAAAAAABBAAAAAAAAAIEAAAAAAAAAAQAAAAAAAAAhAAAAAAAAAAEAAAAAAAAAcQAAAAAAAAABAAAAAAAAAHEAAAAAAAAAiQAAAAAAAAPA\\u002fAAAAAAAAIEAAAAAAAAAiQAAAAAAAAAhAAAAAAAAAJEAAAAAAAAAkQAAAAAAAACRAAAAAAAAAHEAAAAAAAAAkQAAAAAAAACRAAAAAAAAAGEAAAAAAAADwPwAAAAAAABhAAAAAAAAACEAAAAAAAAAIQAAAAAAAABBAAAAAAAAACEAAAAAAAAAkQAAAAAAAAAhAAAAAAAAAJEAAAAAAAAAiQAAAAAAAAAhAAAAAAAAAGEAAAAAAAAAIQAAAAAAAABBAAAAAAAAAJEAAAAAAAAAkQAAAAAAAAABAAAAAAAAAIEAAAAAAAAAiQAAAAAAAABRAAAAAAAAAGEAAAAAAAAAAQAAAAAAAACRAAAAAAAAAGEAAAAAAAADwPwAAAAAAAAhAAAAAAAAAAEAAAAAAAAAgQAAAAAAAABRAAAAAAAAAGEAAAAAAAAAgQAAAAAAAACJAAAAAAAAAHEAAAAAAAAAkQAAAAAAAABxAAAAAAAAAAEAAAAAAAAAiQAAAAAAAABBAAAAAAAAAIkAAAAAAAAAgQAAAAAAAACBAAAAAAAAAHEAAAAAAAAAkQAAAAAAAABhAAAAAAAAAFEAAAAAAAAAcQAAAAAAAABhAAAAAAAAACEAAAAAAAAAiQAAAAAAAABxAAAAAAAAAFEAAAAAAAAAUQAAAAAAAACBAAAAAAAAAGEAAAAAAAAAkQAAAAAAAAAhAAAAAAAAA8D8AAAAAAAAcQAAAAAAAABBAAAAAAAAAHEAAAAAAAAAAQAAAAAAAACBAAAAAAAAAFEAAAAAAAAAgQAAAAAAAABxAAAAAAAAAEEAAAAAAAAAiQAAAAAAAABxAAAAAAAAAIkAAAAAAAAAkQAAAAAAAABhAAAAAAAAA8D8AAAAAAAAgQAAAAAAAAPA\\u002fAAAAAAAACEAAAAAAAAAQQAAAAAAAAAhAAAAAAAAACEAAAAAAAAAUQAAAAAAAABxAAAAAAAAAGEAAAAAAAAAIQAAAAAAAAAhAAAAAAAAAJEAAAAAAAAAkQAAAAAAAABhAAAAAAAAAFEAAAAAAAADwPwAAAAAAABRAAAAAAAAA8D8AAAAAAAAcQAAAAAAAACJAAAAAAAAAHEAAAAAAAAAUQAAAAAAAACRAAAAAAAAAIkAAAAAAAAAgQAAAAAAAAPA\\u002fAAAAAAAA8D8AAAAAAADwPwAAAAAAABxAAAAAAAAAGEAAAAAAAAAiQAAAAAAAAAhAAAAAAAAAAEAAAAAAAAAYQAAAAAAAACJAAAAAAAAAFEAAAAAAAAAcQAAAAAAAAABAAAAAAAAAJEAAAAAAAAAYQAAAAAAAACRAAAAAAAAAIEAAAAAAAAAAQAAAAAAAAABAAAAAAAAAJEAAAAAAAAAUQAAAAAAAABxAAAAAAAAAAEAAAAAAAAAUQAAAAAAAAAhAAAAAAAAAHEAAAAAAAAAQQAAAAAAAABRAAAAAAAAAIEAAAAAAAAAgQAAAAAAAAPA\\u002fAAAAAAAAIkAAAAAAAAAkQAAAAAAAACRAAAAAAAAAEEAAAAAAAAAAQAAAAAAAABhAAAAAAAAAJEAAAAAAAAAAQAAAAAAAABBAAAAAAAAAAEAAAAAAAAAIQAAAAAAAABhAAAAAAAAACEAAAAAAAAAiQAAAAAAAABhAAAAAAAAACEAAAAAAAAAIQAAAAAAAAPA\\u002fAAAAAAAAIEAAAAAAAAAQQAAAAAAAAABAAAAAAAAAAEAAAAAAAAAYQAAAAAAAAAhAAAAAAAAAEEAAAAAAAAAcQAAAAAAAACRAAAAAAAAAIEAAAAAAAAAgQAAAAAAAACJAAAAAAAAAIkAAAAAAAAAQQAAAAAAAABxAAAAAAAAAAEAAAAAAAAAIQAAAAAAAABxAAAAAAAAA8D8AAAAAAAAiQAAAAAAAACRAAAAAAAAAJEAAAAAAAAAiQAAAAAAAACJAAAAAAAAACEAAAAAAAADwPwAAAAAAAABAAAAAAAAACEAAAAAAAAAiQAAAAAAAABBAAAAAAAAAAEAAAAAAAADwPwAAAAAAAPA\\u002fAAAAAAAACEAAAAAAAAAgQAAAAAAAACBAAAAAAAAAHEAAAAAAAADwPwAAAAAAABBAAAAAAAAACEAAAAAAAAAcQAAAAAAAACBAAAAAAAAAIkAAAAAAAAAIQAAAAAAAABBAAAAAAAAAIkAAAAAAAAAAQAAAAAAAAPA\\u002fAAAAAAAAFEAAAAAAAAAIQAAAAAAAACRAAAAAAAAAJEAAAAAAAAAkQAAAAAAAABxAAAAAAAAAGEAAAAAAAAAkQAAAAAAAABRAAAAAAAAAGEAAAAAAAAAgQAAAAAAAABhAAAAAAAAAHEAAAAAAAAAcQAAAAAAAAABAAAAAAAAAIEAAAAAAAAAYQAAAAAAAAPA\\u002fAAAAAAAAIEAAAAAAAAAkQAAAAAAAACJAAAAAAAAACEAAAAAAAAAcQAAAAAAAABRAAAAAAAAAAEAAAAAAAAAIQAAAAAAAABhAAAAAAAAAEEAAAAAAAAAiQAAAAAAAABRAAAAAAAAACEAAAAAAAAAgQAAAAAAAABxAAAAAAAAAAEAAAAAAAAAcQAAAAAAAAAhAAAAAAAAAJEAAAAAAAAAiQAAAAAAAABRAAAAAAAAAJEAAAAAAAAAYQAAAAAAAACBAAAAAAAAAFEAAAAAAAAAQQAAAAAAAACRAAAAAAAAAJEAAAAAAAAAcQAAAAAAAABhAAAAAAAAAIEAAAAAAAAAAQAAAAAAAAPA\\u002fAAAAAAAA8D8AAAAAAAAUQAAAAAAAABxAAAAAAAAAIkAAAAAAAAAQQAAAAAAAACBAAAAAAAAAHEAAAAAAAAAgQAAAAAAAAPA\\u002fAAAAAAAAHEAAAAAAAAAiQAAAAAAAAPA\\u002fAAAAAAAACEAAAAAAAAAUQAAAAAAAABhAAAAAAAAACEAAAAAAAAAgQAAAAAAAAAhAAAAAAAAA8D8AAAAAAAAcQAAAAAAAABhAAAAAAAAAGEAAAAAAAAAUQAAAAAAAABxAAAAAAAAAAEAAAAAAAAAQQAAAAAAAABhAAAAAAAAA8D8AAAAAAAAcQAAAAAAAABhAAAAAAAAACEAAAAAAAADwPwAAAAAAACJAAAAAAAAAHEAAAAAAAAAYQAAAAAAAABBAAAAAAAAAAEAAAAAAAAAIQAAAAAAAABxAAAAAAAAAEEAAAAAAAAAQQAAAAAAAAAhAAAAAAAAAHEAAAAAAAAAcQAAAAAAAACRAAAAAAAAA8D8AAAAAAAAIQAAAAAAAAABAAAAAAAAAEEAAAAAAAAAkQAAAAAAAACBAAAAAAAAAAEAAAAAAAAAkQAAAAAAAAPA\\u002fAAAAAAAAFEAAAAAAAAAQQAAAAAAAABhAAAAAAAAACEAAAAAAAADwPwAAAAAAABBAAAAAAAAACEAAAAAAAAAiQAAAAAAAABBAAAAAAAAAFEAAAAAAAAAQQAAAAAAAABBAAAAAAAAAJEAAAAAAAAAUQAAAAAAAACRAAAAAAAAAAEAAAAAAAAAIQAAAAAAAACBAAAAAAAAACEAAAAAAAAAkQAAAAAAAAPA\\u002fAAAAAAAAJEAAAAAAAAAAQAAAAAAAACJAAAAAAAAA8D8AAAAAAAAYQAAAAAAAABhAAAAAAAAAHEAAAAAAAAAIQAAAAAAAAPA\\u002fAAAAAAAAFEAAAAAAAAAkQAAAAAAAABxAAAAAAAAAGEAAAAAAAAAcQAAAAAAAABxAAAAAAAAAAEAAAAAAAADwPwAAAAAAAABAAAAAAAAAJEAAAAAAAAAAQAAAAAAAAAhAAAAAAAAAIEAAAAAAAAAkQAAAAAAAAABAAAAAAAAAEEAAAAAAAAAIQAAAAAAAABRAAAAAAAAAIkAAAAAAAAAgQAAAAAAAABhAAAAAAAAAJEAAAAAAAADwPwAAAAAAACBAAAAAAAAAEEAAAAAAAAAcQAAAAAAAAPA\\u002fAAAAAAAAFEAAAAAAAAAcQAAAAAAAABBAAAAAAAAAJEAAAAAAAAAIQAAAAAAAACJAAAAAAAAAAEAAAAAAAAAQQAAAAAAAAAhAAAAAAAAA8D8AAAAAAAAkQAAAAAAAABxAAAAAAAAAIEAAAAAAAAAIQAAAAAAAACJAAAAAAAAAEEAAAAAAAAAUQAAAAAAAACJAAAAAAAAAFEAAAAAAAAAQQAAAAAAAABBAAAAAAAAAEEAAAAAAAAAgQAAAAAAAABhAAAAAAAAA8D8AAAAAAAAIQAAAAAAAABhAAAAAAAAAJEAAAAAAAAAIQAAAAAAAACBAAAAAAAAA8D8AAAAAAAAQQAAAAAAAAABAAAAAAAAAFEAAAAAAAAAAQAAAAAAAACBAAAAAAAAA8D8AAAAAAAAYQAAAAAAAABxAAAAAAAAAIkAAAAAAAAAIQAAAAAAAAABAAAAAAAAAFEAAAAAAAADwPwAAAAAAABBAAAAAAAAAJEAAAAAAAAAgQAAAAAAAABhAAAAAAAAAAEAAAAAAAAAAQAAAAAAAAABAAAAAAAAAAEAAAAAAAAAAQAAAAAAAABBAAAAAAAAAHEAAAAAAAAAgQAAAAAAAAPA\\u002fAAAAAAAAIkAAAAAAAAAQQAAAAAAAABhAAAAAAAAACEAAAAAAAAAUQAAAAAAAACBAAAAAAAAAGEAAAAAAAAAAQAAAAAAAAABAAAAAAAAAAEAAAAAAAAAUQAAAAAAAABhAAAAAAAAA8D8AAAAAAAAUQAAAAAAAAABAAAAAAAAAJEAAAAAAAAAkQAAAAAAAABhAAAAAAAAAFEAAAAAAAAAkQAAAAAAAABhAAAAAAAAACEAAAAAAAAAiQAAAAAAAAABAAAAAAAAAIkAAAAAAAAAIQAAAAAAAAABAAAAAAAAA8D8AAAAAAAAkQAAAAAAAABBAAAAAAAAA8D8AAAAAAAAIQAAAAAAAABRAAAAAAAAAEEAAAAAAAAAAQAAAAAAAAABAAAAAAAAAHEAAAAAAAADwPwAAAAAAACRAAAAAAAAAEEAAAAAAAAAUQAAAAAAAAAhAAAAAAAAAHEAAAAAAAAAQQAAAAAAAACRAAAAAAAAAAEAAAAAAAAAYQAAAAAAAACRAAAAAAAAAJEAAAAAAAADwPwAAAAAAABRAAAAAAAAAIkAAAAAAAAAYQAAAAAAAACRAAAAAAAAAHEAAAAAAAAAUQAAAAAAAABRAAAAAAAAAFEAAAAAAAAAiQAAAAAAAACJAAAAAAAAAGEAAAAAAAAAYQAAAAAAAACRAAAAAAAAAAEAAAAAAAAAgQAAAAAAAABxAAAAAAAAAIkAAAAAAAADwPwAAAAAAABhAAAAAAAAAIEAAAAAAAADwPwAAAAAAABxAAAAAAAAAHEAAAAAAAAAQQAAAAAAAABBAAAAAAAAAJEAAAAAAAADwPwAAAAAAABRAAAAAAAAAEEAAAAAAAAAkQAAAAAAAABxAAAAAAAAAHEAAAAAAAAAIQAAAAAAAACRAAAAAAAAAJEAAAAAAAAAgQAAAAAAAAABAAAAAAAAAGEAAAAAAAAAIQAAAAAAAABhAAAAAAAAAHEAAAAAAAAAYQAAAAAAAABBAAAAAAAAAJEAAAAAAAAAYQAAAAAAAACBAAAAAAAAA8D8AAAAAAAAkQAAAAAAAABRAAAAAAAAAEEAAAAAAAADwPwAAAAAAAPA\\u002fAAAAAAAAAEAAAAAAAAAiQAAAAAAAACBAAAAAAAAAGEAAAAAAAADwPwAAAAAAACRAAAAAAAAAFEAAAAAAAADwPwAAAAAAABRAAAAAAAAAHEAAAAAAAAAAQAAAAAAAABBAAAAAAAAACEAAAAAAAAAAQAAAAAAAAPA\\u002fAAAAAAAAIkAAAAAAAAAiQAAAAAAAAPA\\u002fAAAAAAAAIkAAAAAAAAAIQAAAAAAAACJAAAAAAAAACEAAAAAAAAAQQAAAAAAAACBAAAAAAAAAJEAAAAAAAAAUQAAAAAAAABRAAAAAAAAAEEAAAAAAAAAgQAAAAAAAAAhAAAAAAAAAFEAAAAAAAAAcQAAAAAAAACJAAAAAAAAAJEAAAAAAAAAAQAAAAAAAABBAAAAAAAAAHEAAAAAAAADwPwAAAAAAAPA\\u002fAAAAAAAACEAAAAAAAAAQQAAAAAAAABhAAAAAAAAAIkAAAAAAAAAQQAAAAAAAAPA\\u002fAAAAAAAAEEAAAAAAAAAQQAAAAAAAABhAAAAAAAAAAEAAAAAAAAAQQAAAAAAAAPA\\u002fAAAAAAAAEEAAAAAAAAAiQAAAAAAAACJAAAAAAAAAJEAAAAAAAAAIQAAAAAAAAABAAAAAAAAAAEAAAAAAAAAAQAAAAAAAAPA\\u002fAAAAAAAACEAAAAAAAAAIQAAAAAAAABhAAAAAAAAA8D8AAAAAAAAkQAAAAAAAACRAAAAAAAAAGEAAAAAAAAAiQAAAAAAAACJAAAAAAAAACEAAAAAAAAAgQAAAAAAAABBAAAAAAAAAAEAAAAAAAAAAQAAAAAAAAAhAAAAAAAAAEEAAAAAAAAAQQAAAAAAAACBAAAAAAAAAFEAAAAAAAAAkQAAAAAAAABBAAAAAAAAACEAAAAAAAAAUQAAAAAAAAAhAAAAAAAAAIkAAAAAAAAAIQAAAAAAAABRAAAAAAAAAEEAAAAAAAAAYQAAAAAAAACBAAAAAAAAACEAAAAAAAAAkQAAAAAAAABRAAAAAAAAACEAAAAAAAAAiQAAAAAAAABxAAAAAAAAAFEAAAAAAAAAgQAAAAAAAABBAAAAAAAAAHEAAAAAAAAAgQAAAAAAAABRAAAAAAAAAAEAAAAAAAAAYQAAAAAAAABRAAAAAAAAAIEAAAAAAAAAiQAAAAAAAABxAAAAAAAAAHEAAAAAAAAAUQAAAAAAAABhAAAAAAAAAFEAAAAAAAAAQQAAAAAAAACBAAAAAAAAAAEAAAAAAAAAIQAAAAAAAABBAAAAAAAAAGEAAAAAAAAAgQAAAAAAAAAhAAAAAAAAAAEAAAAAAAAAcQAAAAAAAABhAAAAAAAAAFEAAAAAAAAAkQAAAAAAAAABAAAAAAAAAIEAAAAAAAAAcQAAAAAAAAAhAAAAAAAAAFEAAAAAAAAAkQAAAAAAAACJAAAAAAAAAJEAAAAAAAAAgQAAAAAAAACRAAAAAAAAAEEAAAAAAAAAQQAAAAAAAACBAAAAAAAAAEEAAAAAAAAAIQAAAAAAAAPA\\u002fAAAAAAAAHEAAAAAAAAAiQAAAAAAAACBAAAAAAAAAAEAAAAAAAAAQQAAAAAAAABRAAAAAAAAAHEAAAAAAAADwPwAAAAAAABhAAAAAAAAACEAAAAAAAAAIQAAAAAAAACJAAAAAAAAA8D8AAAAAAAAgQAAAAAAAACRAAAAAAAAAHEAAAAAAAAAgQAAAAAAAACBAAAAAAAAACEAAAAAAAAAkQAAAAAAAACBAAAAAAAAAFEAAAAAAAAAQQAAAAAAAAABAAAAAAAAA8D8AAAAAAAAkQAAAAAAAAAhAAAAAAAAAEEAAAAAAAAAYQAAAAAAAACBAAAAAAAAAFEAAAAAAAAAYQAAAAAAAACJAAAAAAAAAHEAAAAAAAADwPwAAAAAAAPA\\u002fAAAAAAAA8D8AAAAAAAAiQAAAAAAAAAhAAAAAAAAAIEAAAAAAAAAkQAAAAAAAACRAAAAAAAAAJEAAAAAAAAAiQAAAAAAAABRAAAAAAAAAIkAAAAAAAAAQQAAAAAAAACRAAAAAAAAAAEAAAAAAAAAcQAAAAAAAABBAAAAAAAAAJEAAAAAAAAAAQAAAAAAAACJAAAAAAAAAHEAAAAAAAAAIQAAAAAAAAPA\\u002fAAAAAAAAIkAAAAAAAAAUQAAAAAAAABxAAAAAAAAA8D8AAAAAAAAIQAAAAAAAACBAAAAAAAAAIkAAAAAAAAAiQAAAAAAAABBAAAAAAAAAIkAAAAAAAAAgQAAAAAAAAAhAAAAAAAAAFEAAAAAAAAAcQAAAAAAAABRAAAAAAAAAGEAAAAAAAAAIQAAAAAAAAAhAAAAAAAAAGEAAAAAAAAAAQAAAAAAAAABAAAAAAAAAIEAAAAAAAAAcQAAAAAAAABBAAAAAAAAA8D8AAAAAAADwPwAAAAAAACBAAAAAAAAAIkAAAAAAAADwPwAAAAAAAABAAAAAAAAAAEAAAAAAAAAcQAAAAAAAABRAAAAAAAAA8D8AAAAAAAAIQAAAAAAAABxAAAAAAAAAHEAAAAAAAAAUQAAAAAAAAPA\\u002fAAAAAAAAAEAAAAAAAAAQQAAAAAAAAAhAAAAAAAAAHEAAAAAAAAAQQAAAAAAAAAhAAAAAAAAAIEAAAAAAAAAkQAAAAAAAAAhAAAAAAAAAAEAAAAAAAAAAQAAAAAAAABxAAAAAAAAAFEAAAAAAAAAAQAAAAAAAABxAAAAAAAAAGEAAAAAAAAAgQAAAAAAAABhAAAAAAAAA8D8AAAAAAAAYQAAAAAAAACRAAAAAAAAAEEAAAAAAAADwPwAAAAAAAABAAAAAAAAAEEAAAAAAAADwPwAAAAAAABhAAAAAAAAAGEAAAAAAAAAAQAAAAAAAABhAAAAAAAAAIEAAAAAAAAAiQAAAAAAAAAhAAAAAAAAAHEAAAAAAAAAgQAAAAAAAAPA\\u002fAAAAAAAAIEAAAAAAAAAUQAAAAAAAACBAAAAAAAAAAEAAAAAAAAAiQAAAAAAAACJAAAAAAAAAFEAAAAAAAADwPwAAAAAAAABAAAAAAAAAFEAAAAAAAAAUQAAAAAAAABRAAAAAAAAAIkAAAAAAAADwPwAAAAAAAAhAAAAAAAAACEAAAAAAAAAiQAAAAAAAAPA\\u002fAAAAAAAAGEAAAAAAAAAiQAAAAAAAABxAAAAAAAAAEEAAAAAAAAAIQAAAAAAAACJAAAAAAAAACEAAAAAAAAAQQAAAAAAAAAhAAAAAAAAAGEAAAAAAAAAYQAAAAAAAAPA\\u002fAAAAAAAAIEAAAAAAAAAiQAAAAAAAAPA\\u002fAAAAAAAAAEAAAAAAAADwPwAAAAAAABRAAAAAAAAAGEAAAAAAAAAiQAAAAAAAACRAAAAAAAAAGEAAAAAAAAAAQAAAAAAAABxAAAAAAAAAFEAAAAAAAAAAQAAAAAAAABxAAAAAAAAAGEAAAAAAAADwPwAAAAAAABRAAAAAAAAAEEAAAAAAAAAiQAAAAAAAACRAAAAAAAAAGEAAAAAAAAAYQAAAAAAAACJAAAAAAAAAHEAAAAAAAAAgQAAAAAAAACJAAAAAAAAACEAAAAAAAAAgQAAAAAAAAAhAAAAAAAAAFEAAAAAAAAAiQAAAAAAAABRAAAAAAAAAEEAAAAAAAAAAQAAAAAAAACRAAAAAAAAAJEAAAAAAAAAYQAAAAAAAABxAAAAAAAAAHEAAAAAAAAAiQAAAAAAAABBAAAAAAAAAEEAAAAAAAAAgQAAAAAAAAAhAAAAAAAAAIEAAAAAAAAAkQAAAAAAAABRAAAAAAAAAAEAAAAAAAAAQQAAAAAAAABxAAAAAAAAAAEAAAAAAAADwPwAAAAAAAABAAAAAAAAAGEAAAAAAAAAYQAAAAAAAAPA\\u002fAAAAAAAAIkAAAAAAAAAIQAAAAAAAACRAAAAAAAAA8D8AAAAAAADwPwAAAAAAAABAAAAAAAAAEEAAAAAAAAAIQAAAAAAAABBAAAAAAAAAIkAAAAAAAADwPwAAAAAAAAhAAAAAAAAAJEAAAAAAAAAcQAAAAAAAAABAAAAAAAAAEEAAAAAAAAAgQAAAAAAAACJAAAAAAAAAJEAAAAAAAAAAQAAAAAAAABhAAAAAAAAA8D8AAAAAAAAiQAAAAAAAACRAAAAAAAAAIkAAAAAAAADwPwAAAAAAAPA\\u002fAAAAAAAAAEAAAAAAAAAcQAAAAAAAAAhAAAAAAAAAFEAAAAAAAAAYQAAAAAAAAPA\\u002fAAAAAAAAIEAAAAAAAAAUQAAAAAAAAABAAAAAAAAAAEAAAAAAAADwPwAAAAAAABBAAAAAAAAAHEAAAAAAAAAIQAAAAAAAACJAAAAAAAAAAEAAAAAAAAAUQAAAAAAAAAhAAAAAAAAAHEAAAAAAAAAQQAAAAAAAAPA\\u002fAAAAAAAAJEAAAAAAAAAgQAAAAAAAABRAAAAAAAAA8D8AAAAAAAAUQAAAAAAAACJAAAAAAAAAAEAAAAAAAAAkQAAAAAAAABBAAAAAAAAAIEAAAAAAAAAUQAAAAAAAABBAAAAAAAAACEAAAAAAAAAIQAAAAAAAABhAAAAAAAAAFEAAAAAAAAAkQAAAAAAAAAhAAAAAAAAAFEAAAAAAAADwPwAAAAAAAAhAAAAAAAAAGEAAAAAAAAAAQAAAAAAAABRAAAAAAAAAFEAAAAAAAAAAQAAAAAAAABBAAAAAAAAAJEAAAAAAAAAQQAAAAAAAABBAAAAAAAAAFEAAAAAAAAAcQAAAAAAAAPA\\u002fAAAAAAAACEAAAAAAAAAUQAAAAAAAABxAAAAAAAAAHEAAAAAAAAAIQAAAAAAAACRAAAAAAAAA8D8AAAAAAAAkQAAAAAAAABRAAAAAAAAAJEAAAAAAAAAcQAAAAAAAACJAAAAAAAAAAEAAAAAAAADwPwAAAAAAABRAAAAAAAAAAEAAAAAAAAAYQAAAAAAAACBAAAAAAAAAEEAAAAAAAAAIQAAAAAAAABBAAAAAAAAAJEAAAAAAAAAAQAAAAAAAACBAAAAAAAAAEEAAAAAAAAAkQAAAAAAAABhAAAAAAAAAFEAAAAAAAAAgQAAAAAAAABxAAAAAAAAACEAAAAAAAAAQQAAAAAAAABBAAAAAAAAACEAAAAAAAAAgQAAAAAAAABRAAAAAAAAAAEAAAAAAAAAcQAAAAAAAABBAAAAAAAAAIkAAAAAAAAAAQAAAAAAAABBAAAAAAAAAHEAAAAAAAAAcQAAAAAAAABxAAAAAAAAAIEAAAAAAAAAiQAAAAAAAAPA\\u002fAAAAAAAAHEAAAAAAAAAcQAAAAAAAABxAAAAAAAAACEAAAAAAAAAkQAAAAAAAACRAAAAAAAAACEAAAAAAAAAQQAAAAAAAAABAAAAAAAAAJEAAAAAAAAAUQAAAAAAAAAhAAAAAAAAAGEAAAAAAAADwPwAAAAAAAPA\\u002fAAAAAAAAJEAAAAAAAAAcQAAAAAAAACRAAAAAAAAAGEAAAAAAAAAUQAAAAAAAACJAAAAAAAAAIEAAAAAAAAAQQAAAAAAAABRAAAAAAAAAAEAAAAAAAAAUQAAAAAAAAABAAAAAAAAAFEAAAAAAAAAiQAAAAAAAABBAAAAAAAAA8D8AAAAAAAAUQAAAAAAAABxAAAAAAAAAIkAAAAAAAAAQQAAAAAAAAABAAAAAAAAAIEAAAAAAAAAQQAAAAAAAABBAAAAAAAAAAEAAAAAAAAAgQAAAAAAAAABAAAAAAAAAFEAAAAAAAAAAQAAAAAAAACBAAAAAAAAAIEAAAAAAAAAUQAAAAAAAABhAAAAAAAAAHEAAAAAAAAAIQAAAAAAAAAhAAAAAAAAAIkAAAAAAAAAcQAAAAAAAAPA\\u002fAAAAAAAAIEAAAAAAAAAYQAAAAAAAACJAAAAAAAAAFEAAAAAAAAAgQAAAAAAAABBAAAAAAAAACEAAAAAAAAAAQAAAAAAAAAhAAAAAAAAAGEAAAAAAAADwPwAAAAAAAAhAAAAAAAAAGEAAAAAAAAAYQAAAAAAAAAhAAAAAAAAAFEAAAAAAAAAYQAAAAAAAAAhAAAAAAAAA8D8AAAAAAAAcQAAAAAAAACRAAAAAAAAAAEAAAAAAAADwPwAAAAAAABRAAAAAAAAAIEAAAAAAAAAiQAAAAAAAABBAAAAAAAAAFEAAAAAAAAAUQAAAAAAAACBAAAAAAAAAHEAAAAAAAAAUQAAAAAAAAABAAAAAAAAAIkAAAAAAAAAcQAAAAAAAACJAAAAAAAAAAEAAAAAAAAAIQAAAAAAAAAhAAAAAAAAAGEAAAAAAAAAUQAAAAAAAABBAAAAAAAAACEAAAAAAAADwPwAAAAAAAPA\\u002fAAAAAAAAIkAAAAAAAAAUQAAAAAAAABBAAAAAAAAAIEAAAAAAAAAIQAAAAAAAABRAAAAAAAAA8D8AAAAAAAAiQAAAAAAAABhAAAAAAAAAIEAAAAAAAAAcQAAAAAAAAPA\\u002fAAAAAAAAJEAAAAAAAAAAQAAAAAAAABxAAAAAAAAAFEAAAAAAAAAgQAAAAAAAAAhAAAAAAAAAAEAAAAAAAAAYQAAAAAAAABRAAAAAAAAAGEAAAAAAAAAUQAAAAAAAACJAAAAAAAAAHEAAAAAAAADwPwAAAAAAACJAAAAAAAAAHEAAAAAAAAAAQAAAAAAAABRAAAAAAAAAJEAAAAAAAAAiQAAAAAAAAABAAAAAAAAAJEAAAAAAAAAkQAAAAAAAABhAAAAAAAAAEEAAAAAAAAAUQAAAAAAAABhAAAAAAAAAIkAAAAAAAAAgQAAAAAAAAPA\\u002fAAAAAAAAIEAAAAAAAAAQQAAAAAAAABxAAAAAAAAAAEAAAAAAAAAUQAAAAAAAABxAAAAAAAAAGEAAAAAAAADwPwAAAAAAABhAAAAAAAAA8D8AAAAAAAAYQAAAAAAAAPA\\u002fAAAAAAAAGEAAAAAAAAAUQAAAAAAAAPA\\u002fAAAAAAAAFEAAAAAAAADwPwAAAAAAAABAAAAAAAAAFEAAAAAAAADwPwAAAAAAACBAAAAAAAAAEEAAAAAAAAAgQAAAAAAAAABAAAAAAAAAIEAAAAAAAAAkQAAAAAAAAPA\\u002fAAAAAAAAJEAAAAAAAADwPwAAAAAAAPA\\u002fAAAAAAAAFEAAAAAAAAAiQAAAAAAAACRAAAAAAAAAEEAAAAAAAAAYQAAAAAAAAABAAAAAAAAA8D8AAAAAAAAIQAAAAAAAABRAAAAAAAAAIEAAAAAAAAAiQAAAAAAAACRAAAAAAAAAIEAAAAAAAAAiQAAAAAAAACJAAAAAAAAAJEAAAAAAAADwPwAAAAAAAPA\\u002fAAAAAAAAGEAAAAAAAAAcQAAAAAAAACBAAAAAAAAACEAAAAAAAAAYQAAAAAAAAAhAAAAAAAAAJEAAAAAAAAAQQAAAAAAAACRAAAAAAAAAJEAAAAAAAADwPwAAAAAAABBAAAAAAAAAHEAAAAAAAAAIQAAAAAAAAPA\\u002fAAAAAAAAGEAAAAAAAAAAQAAAAAAAAAhAAAAAAAAAGEAAAAAAAAAiQAAAAAAAABRAAAAAAAAA8D8AAAAAAAAkQAAAAAAAACRAAAAAAAAAIEAAAAAAAADwPwAAAAAAABxAAAAAAAAAAEAAAAAAAAAcQAAAAAAAACRAAAAAAAAA8D8AAAAAAAAIQAAAAAAAABxAAAAAAAAACEAAAAAAAAAQQAAAAAAAABhAAAAAAAAAIEAAAAAAAAAgQAAAAAAAACJAAAAAAAAAHEAAAAAAAAAgQAAAAAAAABRAAAAAAAAAJEAAAAAAAAAcQAAAAAAAAAhAAAAAAAAACEAAAAAAAAAkQAAAAAAAACRAAAAAAAAACEAAAAAAAAAYQAAAAAAAAPA\\u002fAAAAAAAAIEAAAAAAAAAIQAAAAAAAAAhAAAAAAAAAHEAAAAAAAAAYQAAAAAAAABBAAAAAAAAAFEAAAAAAAAAiQAAAAAAAABRAAAAAAAAAJEAAAAAAAAAQQAAAAAAAABxAAAAAAAAAGEAAAAAAAAAgQAAAAAAAAABAAAAAAAAACEAAAAAAAAAQQAAAAAAAABBAAAAAAAAA8D8AAAAAAAAiQAAAAAAAAAhAAAAAAAAAAEAAAAAAAAAQQAAAAAAAAAhAAAAAAAAAFEAAAAAAAAAcQAAAAAAAABRAAAAAAAAAHEAAAAAAAAAYQAAAAAAAABhAAAAAAAAAGEAAAAAAAAAQQAAAAAAAACRAAAAAAAAAIkAAAAAAAAAIQAAAAAAAABxAAAAAAAAAIkAAAAAAAAAcQAAAAAAAABRAAAAAAAAACEAAAAAAAAAIQAAAAAAAABxAAAAAAAAAJEAAAAAAAADwPwAAAAAAABhAAAAAAAAAFEAAAAAAAAAQQAAAAAAAABBAAAAAAAAAFEAAAAAAAAAAQAAAAAAAABRAAAAAAAAAJEAAAAAAAAAgQAAAAAAAABBAAAAAAAAAAEAAAAAAAAAkQAAAAAAAACJAAAAAAAAAHEAAAAAAAAAgQAAAAAAAABBAAAAAAAAAEEAAAAAAAAAcQAAAAAAAABRAAAAAAAAAFEAAAAAAAAAgQAAAAAAAABBAAAAAAAAAJEAAAAAAAAAkQAAAAAAAACBAAAAAAAAA8D8AAAAAAAAkQAAAAAAAAPA\\u002fAAAAAAAA8D8AAAAAAAAcQAAAAAAAABBAAAAAAAAAEEAAAAAAAAAgQAAAAAAAAAhAAAAAAAAAIEAAAAAAAAAIQAAAAAAAACRAAAAAAAAAIkAAAAAAAAAcQAAAAAAAABhAAAAAAAAAAEAAAAAAAADwPwAAAAAAABxAAAAAAAAAFEAAAAAAAAAgQAAAAAAAAAhAAAAAAAAAIkAAAAAAAAAYQAAAAAAAABBAAAAAAAAAGEAAAAAAAAAkQAAAAAAAABhAAAAAAAAA8D8AAAAAAAAIQAAAAAAAACJAAAAAAAAAAEAAAAAAAAAYQAAAAAAAAPA\\u002fAAAAAAAAAEAAAAAAAAAUQAAAAAAAACJAAAAAAAAAEEAAAAAAAAAYQAAAAAAAABxAAAAAAAAAAEAAAAAAAADwPwAAAAAAACJAAAAAAAAAIkAAAAAAAAAcQAAAAAAAAAhAAAAAAAAAIkAAAAAAAAAUQAAAAAAAABhAAAAAAAAAEEAAAAAAAAAUQAAAAAAAABRAAAAAAAAAIkAAAAAAAADwPwAAAAAAAAhAAAAAAAAAEEAAAAAAAADwPwAAAAAAACRAAAAAAAAAEEAAAAAAAAAAQAAAAAAAABxAAAAAAAAA8D8AAAAAAAAgQAAAAAAAACBAAAAAAAAAHEAAAAAAAAAcQAAAAAAAACJAAAAAAAAAGEAAAAAAAAAQQAAAAAAAABRAAAAAAAAAFEAAAAAAAAAgQAAAAAAAABRAAAAAAAAAIEAAAAAAAADwPwAAAAAAABBAAAAAAAAAJEAAAAAAAAAkQAAAAAAAAABAAAAAAAAAFEAAAAAAAAAAQAAAAAAAABRAAAAAAAAAGEAAAAAAAAAgQAAAAAAAACJAAAAAAAAAEEAAAAAAAADwPwAAAAAAACRAAAAAAAAAHEAAAAAAAADwPwAAAAAAABRAAAAAAAAAIEAAAAAAAAAIQAAAAAAAABRAAAAAAAAAAEAAAAAAAAAiQAAAAAAAABhAAAAAAAAAAEAAAAAAAAAYQAAAAAAAAABAAAAAAAAAJEAAAAAAAAAQQAAAAAAAABxAAAAAAAAAJEAAAAAAAAAcQAAAAAAAAABAAAAAAAAAHEAAAAAAAAAcQAAAAAAAAAhAAAAAAAAACEAAAAAAAAAAQAAAAAAAAAhAAAAAAAAAEEAAAAAAAAAYQAAAAAAAAAhAAAAAAAAAAEAAAAAAAAAcQAAAAAAAACJAAAAAAAAAIkAAAAAAAAAgQAAAAAAAACBAAAAAAAAAEEAAAAAAAAAcQAAAAAAAABhAAAAAAAAAFEAAAAAAAAAgQAAAAAAAACBAAAAAAAAAEEAAAAAAAAAAQAAAAAAAABRAAAAAAAAAEEAAAAAAAAAYQAAAAAAAACBAAAAAAAAAGEAAAAAAAAAQQAAAAAAAAABAAAAAAAAAEEAAAAAAAADwPwAAAAAAABRAAAAAAAAAHEAAAAAAAAAcQAAAAAAAAAhAAAAAAAAA8D8AAAAAAAAkQAAAAAAAAABAAAAAAAAAHEAAAAAAAAAiQAAAAAAAAPA\\u002fAAAAAAAAJEAAAAAAAAAiQAAAAAAAACRAAAAAAAAACEAAAAAAAAAgQAAAAAAAAPA\\u002fAAAAAAAAIkAAAAAAAAAQQAAAAAAAABBAAAAAAAAAGEAAAAAAAAAIQAAAAAAAABhAAAAAAAAA8D8AAAAAAAAUQAAAAAAAAABAAAAAAAAA8D8AAAAAAAAQQAAAAAAAABhAAAAAAAAAHEAAAAAAAAAcQAAAAAAAAABAAAAAAAAAJEAAAAAAAAAiQAAAAAAAACRAAAAAAAAAIEAAAAAAAAAYQAAAAAAAABBAAAAAAAAACEAAAAAAAAAkQAAAAAAAABxAAAAAAAAAJEAAAAAAAAAUQAAAAAAAAPA\\u002fAAAAAAAAIEAAAAAAAAAUQAAAAAAAABxAAAAAAAAAEEAAAAAAAAAYQAAAAAAAABxAAAAAAAAACEAAAAAAAAAQQAAAAAAAACJAAAAAAAAAIEAAAAAAAAAgQAAAAAAAAPA\\u002fAAAAAAAAGEAAAAAAAAAYQAAAAAAAACJAAAAAAAAAIEAAAAAAAAAUQAAAAAAAAAhAAAAAAAAAGEAAAAAAAAAUQAAAAAAAACRAAAAAAAAAAEAAAAAAAAAIQAAAAAAAACBAAAAAAAAAIkAAAAAAAAAQQAAAAAAAABhAAAAAAAAACEAAAAAAAADwPwAAAAAAAAhAAAAAAAAAFEAAAAAAAAAkQAAAAAAAAPA\\u002fAAAAAAAAEEAAAAAAAAAYQAAAAAAAABBAAAAAAAAAFEAAAAAAAAAAQAAAAAAAABBAAAAAAAAAEEAAAAAAAAAAQAAAAAAAACBAAAAAAAAACEAAAAAAAAAQQAAAAAAAABBAAAAAAAAA8D8AAAAAAAAQQAAAAAAAABRAAAAAAAAAJEAAAAAAAAAUQAAAAAAAABRAAAAAAAAAJEAAAAAAAAAIQAAAAAAAACBAAAAAAAAAGEAAAAAAAAAYQAAAAAAAABxAAAAAAAAACEAAAAAAAAAcQAAAAAAAACBAAAAAAAAAFEAAAAAAAAAAQAAAAAAAAPA\\u002fAAAAAAAAIEAAAAAAAAAkQAAAAAAAACBAAAAAAAAAIkAAAAAAAAAkQAAAAAAAACJAAAAAAAAAGEAAAAAAAAAiQAAAAAAAACJAAAAAAAAAIkAAAAAAAAAQQAAAAAAAACRAAAAAAAAAEEAAAAAAAAAYQAAAAAAAABxAAAAAAAAA8D8AAAAAAAAIQAAAAAAAACBAAAAAAAAAIkAAAAAAAAAgQAAAAAAAACBAAAAAAAAAJEAAAAAAAAAUQAAAAAAAABxAAAAAAAAAHEAAAAAAAAAgQAAAAAAAAABAAAAAAAAAIEAAAAAAAAAkQAAAAAAAABRAAAAAAAAAHEAAAAAAAADwPwAAAAAAABhAAAAAAAAAHEAAAAAAAAAiQAAAAAAAABBAAAAAAAAAFEAAAAAAAAAcQAAAAAAAAPA\\u002fAAAAAAAAIkAAAAAAAAAkQAAAAAAAAABAAAAAAAAAJEAAAAAAAAAIQAAAAAAAAPA\\u002fAAAAAAAAJEAAAAAAAAAcQAAAAAAAACBAAAAAAAAACEAAAAAAAAAUQAAAAAAAABBAAAAAAAAACEAAAAAAAAAgQAAAAAAAAPA\\u002fAAAAAAAAEEAAAAAAAAAQQAAAAAAAACBAAAAAAAAAFEAAAAAAAAAAQAAAAAAAABhAAAAAAAAA8D8AAAAAAAAAQAAAAAAAAPA\\u002fAAAAAAAAAEAAAAAAAADwPwAAAAAAAAhAAAAAAAAAFEAAAAAAAAAUQAAAAAAAACJAAAAAAAAAFEAAAAAAAAAQQAAAAAAAABhAAAAAAAAAIEAAAAAAAAAAQAAAAAAAACBAAAAAAAAAGEAAAAAAAAAUQAAAAAAAACJAAAAAAAAAIEAAAAAAAAAYQAAAAAAAABRAAAAAAAAAIkAAAAAAAAAcQAAAAAAAACRAAAAAAAAAIkAAAAAAAAAcQAAAAAAAABBAAAAAAAAAHEAAAAAAAAAUQAAAAAAAAAhAAAAAAAAAIkAAAAAAAAAUQAAAAAAAABBAAAAAAAAAJEAAAAAAAAAcQAAAAAAAAAhAAAAAAAAA8D8AAAAAAAAkQAAAAAAAACJAAAAAAAAAHEAAAAAAAAAIQAAAAAAAAPA\\u002fAAAAAAAAIkAAAAAAAAAIQAAAAAAAABxAAAAAAAAAFEAAAAAAAAAYQAAAAAAAABBAAAAAAAAAJEAAAAAAAAAIQAAAAAAAACJAAAAAAAAAIkAAAAAAAAAiQAAAAAAAABxAAAAAAAAAEEAAAAAAAAAkQAAAAAAAACBAAAAAAAAAIEAAAAAAAAAkQAAAAAAAABBAAAAAAAAAFEAAAAAAAAAgQAAAAAAAAABAAAAAAAAAGEAAAAAAAAAQQAAAAAAAAAhAAAAAAAAAAEAAAAAAAAAkQAAAAAAAABxAAAAAAAAAIEAAAAAAAAAkQAAAAAAAACJAAAAAAAAAFEAAAAAAAAAYQAAAAAAAAABAAAAAAAAAAEAAAAAAAAAYQAAAAAAAACJAAAAAAAAAJEAAAAAAAAAgQAAAAAAAAABAAAAAAAAAIkAAAAAAAAAUQAAAAAAAABBAAAAAAAAAGEAAAAAAAAAUQAAAAAAAABRAAAAAAAAAHEAAAAAAAAAAQAAAAAAAACBAAAAAAAAAAEAAAAAAAAAUQAAAAAAAACJAAAAAAAAAGEAAAAAAAAAYQAAAAAAAACBAAAAAAAAAIkAAAAAAAAAIQAAAAAAAAPA\\u002fAAAAAAAAFEAAAAAAAAAIQAAAAAAAAAhAAAAAAAAA8D8AAAAAAAAQQAAAAAAAAPA\\u002fAAAAAAAAEEAAAAAAAAAUQAAAAAAAAAhAAAAAAAAACEAAAAAAAAAAQAAAAAAAABBAAAAAAAAA8D8AAAAAAAAgQAAAAAAAABBAAAAAAAAACEAAAAAAAAAcQAAAAAAAAPA\\u002fAAAAAAAAIkAAAAAAAADwPwAAAAAAAPA\\u002fAAAAAAAAAEAAAAAAAAAQQAAAAAAAABhAAAAAAAAAIkAAAAAAAAAkQAAAAAAAACJAAAAAAAAAGEAAAAAAAAAiQAAAAAAAACRAAAAAAAAAIkAAAAAAAAAkQAAAAAAAAAhAAAAAAAAAAEAAAAAAAAAQQAAAAAAAAABAAAAAAAAAIEAAAAAAAAAQQAAAAAAAACRAAAAAAAAA8D8AAAAAAAAYQAAAAAAAACBAAAAAAAAAAEAAAAAAAADwPwAAAAAAABhAAAAAAAAAIEAAAAAAAAAYQAAAAAAAAAhAAAAAAAAAAEAAAAAAAAAiQAAAAAAAACJAAAAAAAAAEEAAAAAAAAAQQAAAAAAAABxAAAAAAAAAHEAAAAAAAAAiQAAAAAAAAPA\\u002fAAAAAAAA8D8AAAAAAAAIQAAAAAAAAPA\\u002fAAAAAAAAJEAAAAAAAAAgQAAAAAAAABxAAAAAAAAAGEAAAAAAAAAYQAAAAAAAAABAAAAAAAAAAEAAAAAAAAAkQAAAAAAAABhAAAAAAAAAGEAAAAAAAADwPwAAAAAAABRAAAAAAAAAJEAAAAAAAAAcQAAAAAAAABRAAAAAAAAA8D8AAAAAAAAYQAAAAAAAABxAAAAAAAAACEAAAAAAAAAgQAAAAAAAAPA\\u002fAAAAAAAAEEAAAAAAAADwPwAAAAAAABBAAAAAAAAACEAAAAAAAAAgQAAAAAAAABhAAAAAAAAAHEAAAAAAAAAYQAAAAAAAACBAAAAAAAAAIEAAAAAAAAAYQAAAAAAAACRAAAAAAAAAIEAAAAAAAAAYQAAAAAAAACJAAAAAAAAAEEAAAAAAAAAAQAAAAAAAABBAAAAAAAAAAEAAAAAAAAAAQAAAAAAAABhAAAAAAAAAHEAAAAAAAAAQQAAAAAAAACJAAAAAAAAACEAAAAAAAAAiQAAAAAAAACBAAAAAAAAAIEAAAAAAAAAiQAAAAAAAABxAAAAAAAAAGEAAAAAAAAAAQAAAAAAAABxAAAAAAAAAHEAAAAAAAAAAQAAAAAAAAPA\\u002fAAAAAAAAEEAAAAAAAAAgQAAAAAAAABhAAAAAAAAAAEAAAAAAAAAcQAAAAAAAAAhAAAAAAAAACEAAAAAAAAAUQAAAAAAAABhAAAAAAAAAGEAAAAAAAAAUQAAAAAAAAABAAAAAAAAACEAAAAAAAAAcQAAAAAAAAAhAAAAAAAAAGEAAAAAAAADwPwAAAAAAAPA\\u002fAAAAAAAAEEAAAAAAAAAkQAAAAAAAABhAAAAAAAAAAEAAAAAAAAAgQAAAAAAAAAhAAAAAAAAAFEAAAAAAAAAQQAAAAAAAACBAAAAAAAAAHEAAAAAAAAAIQAAAAAAAAPA\\u002fAAAAAAAA8D8AAAAAAAAkQAAAAAAAABBAAAAAAAAA8D8AAAAAAAAcQAAAAAAAACRAAAAAAAAAEEAAAAAAAADwPwAAAAAAACBAAAAAAAAAJEAAAAAAAAAiQAAAAAAAAAhAAAAAAAAAIkAAAAAAAAAUQAAAAAAAAPA\\u002fAAAAAAAAIEAAAAAAAAAkQAAAAAAAACRAAAAAAAAAGEAAAAAAAAAkQAAAAAAAAPA\\u002fAAAAAAAACEAAAAAAAAAgQAAAAAAAABRAAAAAAAAAHEAAAAAAAAAIQAAAAAAAACBAAAAAAAAAEEAAAAAAAAAUQAAAAAAAAAhAAAAAAAAAIEAAAAAAAAAQQAAAAAAAABBAAAAAAAAA8D8AAAAAAAAUQAAAAAAAAAhAAAAAAAAAFEAAAAAAAAAgQAAAAAAAABxAAAAAAAAAEEAAAAAAAAAUQAAAAAAAABxAAAAAAAAAIkAAAAAAAAAkQAAAAAAAACRAAAAAAAAAFEAAAAAAAAAQQAAAAAAAAPA\\u002fAAAAAAAAEEAAAAAAAAAcQAAAAAAAAAhAAAAAAAAAIEAAAAAAAAAAQAAAAAAAABBAAAAAAAAAHEAAAAAAAAAUQAAAAAAAABhAAAAAAAAAHEAAAAAAAAAIQAAAAAAAAABAAAAAAAAAHEAAAAAAAAAkQAAAAAAAABhAAAAAAAAAIEAAAAAAAAAiQAAAAAAAACRAAAAAAAAAGEAAAAAAAAAYQAAAAAAAABhAAAAAAAAAGEAAAAAAAAAUQAAAAAAAABhAAAAAAAAAHEAAAAAAAAAQQAAAAAAAABBAAAAAAAAAFEAAAAAAAAAYQAAAAAAAACRAAAAAAAAAHEAAAAAAAAAUQAAAAAAAACRAAAAAAAAAHEAAAAAAAAAIQAAAAAAAACRAAAAAAAAAFEAAAAAAAAAUQAAAAAAAABRAAAAAAAAAHEAAAAAAAAAkQAAAAAAAACRAAAAAAAAAEEAAAAAAAAAkQAAAAAAAACJAAAAAAAAACEAAAAAAAAAcQAAAAAAAABRAAAAAAAAAIkAAAAAAAAAkQAAAAAAAABhAAAAAAAAAIEAAAAAAAAAiQAAAAAAAACJAAAAAAAAAIEAAAAAAAADwPwAAAAAAAAhAAAAAAAAA8D8AAAAAAAAUQAAAAAAAACBAAAAAAAAAFEAAAAAAAAAQQAAAAAAAABBAAAAAAAAAFEAAAAAAAAAcQAAAAAAAAPA\\u002fAAAAAAAAIkAAAAAAAAAUQAAAAAAAAABAAAAAAAAAIEAAAAAAAAAYQAAAAAAAACBAAAAAAAAAIEAAAAAAAAAkQAAAAAAAABRAAAAAAAAA8D8AAAAAAAAcQAAAAAAAABhAAAAAAAAAIEAAAAAAAADwPwAAAAAAAPA\\u002fAAAAAAAACEAAAAAAAAAIQAAAAAAAABhAAAAAAAAAFEAAAAAAAAAIQAAAAAAAABxAAAAAAAAAFEAAAAAAAAAgQAAAAAAAABBAAAAAAAAAAEAAAAAAAAAgQAAAAAAAACBAAAAAAAAAHEAAAAAAAAAAQAAAAAAAACJAAAAAAAAAEEAAAAAAAAAIQAAAAAAAACJAAAAAAAAAJEAAAAAAAADwPwAAAAAAAAhAAAAAAAAAIkAAAAAAAADwPwAAAAAAAABAAAAAAAAAEEAAAAAAAAAUQAAAAAAAABRAAAAAAAAACEAAAAAAAAAkQAAAAAAAABRAAAAAAAAA8D8AAAAAAAAYQAAAAAAAAPA\\u002fAAAAAAAACEAAAAAAAAAiQAAAAAAAACJAAAAAAAAAIEAAAAAAAAAQQAAAAAAAABhAAAAAAAAAJEAAAAAAAAAiQAAAAAAAABhAAAAAAAAAAEAAAAAAAADwPwAAAAAAABRAAAAAAAAAHEAAAAAAAAAAQAAAAAAAACRAAAAAAAAA8D8AAAAAAAAgQAAAAAAAAPA\\u002fAAAAAAAAGEAAAAAAAAAAQAAAAAAAAAhAAAAAAAAAEEAAAAAAAAAcQAAAAAAAABxAAAAAAAAAFEAAAAAAAAAUQAAAAAAAAABAAAAAAAAA8D8AAAAAAAAYQAAAAAAAABBAAAAAAAAACEAAAAAAAAAcQAAAAAAAAPA\\u002fAAAAAAAAJEAAAAAAAAAkQAAAAAAAAPA\\u002fAAAAAAAAIkAAAAAAAAAIQAAAAAAAACJAAAAAAAAA8D8AAAAAAAAIQAAAAAAAAABAAAAAAAAAIEAAAAAAAAAAQAAAAAAAACJAAAAAAAAAAEAAAAAAAAAcQAAAAAAAABRAAAAAAAAA8D8AAAAAAAAkQAAAAAAAABxAAAAAAAAAJEAAAAAAAAAIQAAAAAAAABhAAAAAAAAAHEAAAAAAAAAiQAAAAAAAAAhAAAAAAAAACEAAAAAAAAAUQAAAAAAAACJAAAAAAAAAEEAAAAAAAAAQQAAAAAAAABBAAAAAAAAACEAAAAAAAAAYQAAAAAAAAAhAAAAAAAAAEEAAAAAAAAAIQAAAAAAAABBAAAAAAAAA8D8AAAAAAAAYQAAAAAAAACRAAAAAAAAAJEAAAAAAAAAiQAAAAAAAAPA\\u002fAAAAAAAAEEAAAAAAAAAcQAAAAAAAACRAAAAAAAAAJEAAAAAAAAAYQAAAAAAAABRAAAAAAAAAEEAAAAAAAAAIQAAAAAAAAABAAAAAAAAAJEAAAAAAAAAAQAAAAAAAAAhAAAAAAAAA8D8AAAAAAAAYQAAAAAAAACRAAAAAAAAAIEAAAAAAAAAiQAAAAAAAAPA\\u002fAAAAAAAAIkAAAAAAAAAgQAAAAAAAABxAAAAAAAAAJEAAAAAAAAAgQAAAAAAAACJAAAAAAAAAFEAAAAAAAAAQQAAAAAAAAPA\\u002fAAAAAAAA8D8AAAAAAAAgQAAAAAAAACBAAAAAAAAACEAAAAAAAAAkQAAAAAAAACJAAAAAAAAAEEAAAAAAAAAcQAAAAAAAACRAAAAAAAAAJEAAAAAAAAAgQAAAAAAAACBAAAAAAAAAEEAAAAAAAAAAQAAAAAAAACRAAAAAAAAAIkAAAAAAAAAUQAAAAAAAAPA\\u002fAAAAAAAAIEAAAAAAAAAYQAAAAAAAAAhAAAAAAAAACEAAAAAAAAAIQAAAAAAAAPA\\u002fAAAAAAAAEEAAAAAAAAAIQAAAAAAAAAhAAAAAAAAAIkAAAAAAAAAgQAAAAAAAAPA\\u002fAAAAAAAAJEAAAAAAAADwPwAAAAAAACRAAAAAAAAACEAAAAAAAADwPwAAAAAAACRAAAAAAAAAEEAAAAAAAAAcQAAAAAAAACJAAAAAAAAAGEAAAAAAAAAUQAAAAAAAABhAAAAAAAAAJEAAAAAAAAAQQAAAAAAAACBAAAAAAAAA8D8AAAAAAAAcQAAAAAAAACRAAAAAAAAAEEAAAAAAAAAkQAAAAAAAACRAAAAAAAAAIEAAAAAAAAAIQAAAAAAAAPA\\u002fAAAAAAAAAEAAAAAAAAAcQAAAAAAAAAhAAAAAAAAAGEAAAAAAAAAIQAAAAAAAACBAAAAAAAAA8D8AAAAAAAAIQAAAAAAAABRAAAAAAAAAFEAAAAAAAAAcQAAAAAAAAABAAAAAAAAAIEAAAAAAAAAkQAAAAAAAABRAAAAAAAAACEAAAAAAAAAAQAAAAAAAACRAAAAAAAAAAEAAAAAAAAAUQAAAAAAAACBAAAAAAAAACEAAAAAAAAAgQAAAAAAAAPA\\u002fAAAAAAAAAEAAAAAAAAAgQAAAAAAAABRAAAAAAAAAHEAAAAAAAAAcQAAAAAAAABBAAAAAAAAAIkAAAAAAAAAkQAAAAAAAACJAAAAAAAAACEAAAAAAAAAIQAAAAAAAAABAAAAAAAAAIEAAAAAAAAAiQAAAAAAAABRAAAAAAAAAFEAAAAAAAAAgQAAAAAAAABxAAAAAAAAA8D8AAAAAAAAiQAAAAAAAAPA\\u002fAAAAAAAAJEAAAAAAAADwPwAAAAAAABxAAAAAAAAAFEAAAAAAAAAIQAAAAAAAABxAAAAAAAAAGEAAAAAAAAAAQAAAAAAAABxAAAAAAAAAHEAAAAAAAAAkQAAAAAAAABhAAAAAAAAA8D8AAAAAAAAIQAAAAAAAABhAAAAAAAAAJEAAAAAAAAAIQAAAAAAAABhAAAAAAAAAHEAAAAAAAAAYQAAAAAAAAAhAAAAAAAAAIkAAAAAAAAAiQAAAAAAAACBAAAAAAAAAAEAAAAAAAAAUQAAAAAAAACRAAAAAAAAACEAAAAAAAAAQQAAAAAAAACRAAAAAAAAAEEAAAAAAAAAgQAAAAAAAABxAAAAAAAAA8D8AAAAAAAAkQAAAAAAAACRAAAAAAAAAFEAAAAAAAADwPwAAAAAAABRAAAAAAAAAIEAAAAAAAAAYQAAAAAAAABxAAAAAAAAAIEAAAAAAAAAIQAAAAAAAABRAAAAAAAAAEEAAAAAAAAAAQAAAAAAAACRAAAAAAAAACEAAAAAAAAAgQAAAAAAAABxAAAAAAAAAJEAAAAAAAAAiQAAAAAAAAAhAAAAAAAAAFEAAAAAAAAAIQAAAAAAAACRAAAAAAAAAIEAAAAAAAADwPwAAAAAAABxAAAAAAAAAGEAAAAAAAAAAQAAAAAAAACJAAAAAAAAAEEAAAAAAAAAIQAAAAAAAACRAAAAAAAAAEEAAAAAAAAAAQAAAAAAAABBAAAAAAAAAAEAAAAAAAAAAQAAAAAAAABRAAAAAAAAAAEAAAAAAAAAQQAAAAAAAAAhAAAAAAAAAJEAAAAAAAAAcQAAAAAAAACBAAAAAAAAAEEAAAAAAAAAAQAAAAAAAACRAAAAAAAAAGEAAAAAAAADwPwAAAAAAABhAAAAAAAAACEAAAAAAAAAAQAAAAAAAACJAAAAAAAAAJEAAAAAAAAAQQAAAAAAAACJAAAAAAAAAFEAAAAAAAAAkQAAAAAAAABxAAAAAAAAAHEAAAAAAAAAkQAAAAAAAAABAAAAAAAAAGEAAAAAAAAAkQAAAAAAAACBAAAAAAAAAFEAAAAAAAAAAQAAAAAAAACBAAAAAAAAAJEAAAAAAAAAAQAAAAAAAAABAAAAAAAAACEAAAAAAAAAkQAAAAAAAABRAAAAAAAAAEEAAAAAAAAAkQAAAAAAAABhAAAAAAAAACEAAAAAAAAAIQAAAAAAAABBAAAAAAAAAAEAAAAAAAAAIQAAAAAAAAABAAAAAAAAAIEAAAAAAAAAgQAAAAAAAAABAAAAAAAAAIkAAAAAAAAAiQAAAAAAAAABAAAAAAAAACEAAAAAAAAAYQAAAAAAAAABAAAAAAAAAEEAAAAAAAAAYQAAAAAAAAABAAAAAAAAAFEAAAAAAAAAcQAAAAAAAAPA\\u002fAAAAAAAAGEAAAAAAAAAAQAAAAAAAAABAAAAAAAAA8D8AAAAAAAAIQAAAAAAAABhAAAAAAAAAJEAAAAAAAAAQQAAAAAAAAPA\\u002fAAAAAAAAEEAAAAAAAAAAQAAAAAAAABxAAAAAAAAAAEAAAAAAAAAAQAAAAAAAABxAAAAAAAAAEEAAAAAAAAAiQAAAAAAAAAhAAAAAAAAAJEAAAAAAAADwPwAAAAAAAABAAAAAAAAAFEAAAAAAAAAIQAAAAAAAACJAAAAAAAAAAEAAAAAAAAAgQAAAAAAAABBAAAAAAAAAAEAAAAAAAAAYQAAAAAAAABRAAAAAAAAAIkAAAAAAAAAIQAAAAAAAAABAAAAAAAAAHEAAAAAAAAAAQAAAAAAAACBAAAAAAAAA8D8AAAAAAAAkQAAAAAAAACJAAAAAAAAAJEAAAAAAAAAUQAAAAAAAABxAAAAAAAAAHEAAAAAAAAAIQAAAAAAAAABAAAAAAAAAEEAAAAAAAAAgQAAAAAAAACRAAAAAAAAACEAAAAAAAAAYQAAAAAAAACBAAAAAAAAAFEAAAAAAAAAcQAAAAAAAACJAAAAAAAAAEEAAAAAAAAAcQAAAAAAAABhAAAAAAAAAFEAAAAAAAAAQQAAAAAAAAPA\\u002fAAAAAAAA8D8AAAAAAAAQQAAAAAAAABBAAAAAAAAAAEAAAAAAAAAIQAAAAAAAABRAAAAAAAAAJEAAAAAAAAAkQAAAAAAAACJAAAAAAAAAIkAAAAAAAAAkQAAAAAAAACBAAAAAAAAAFEAAAAAAAAAUQAAAAAAAABxAAAAAAAAAAEAAAAAAAAAkQAAAAAAAABxAAAAAAAAAGEAAAAAAAAAAQAAAAAAAABRAAAAAAAAAIEAAAAAAAAAQQAAAAAAAABxAAAAAAAAAGEAAAAAAAAAUQAAAAAAAABxAAAAAAAAAHEAAAAAAAAAiQAAAAAAAACBAAAAAAAAAIEAAAAAAAAAQQAAAAAAAABhAAAAAAAAAAEAAAAAAAAAgQAAAAAAAABxAAAAAAAAAIkAAAAAAAAAiQAAAAAAAACRAAAAAAAAAGEAAAAAAAAAIQAAAAAAAABhAAAAAAAAAAEAAAAAAAAAcQAAAAAAAABhAAAAAAAAAIkAAAAAAAAAYQAAAAAAAACJAAAAAAAAAGEAAAAAAAAAkQAAAAAAAABhAAAAAAAAAAEAAAAAAAAAgQAAAAAAAACJAAAAAAAAAJEAAAAAAAADwPwAAAAAAABhAAAAAAAAAHEAAAAAAAAAIQAAAAAAAACBAAAAAAAAAIkAAAAAAAAAYQAAAAAAAABRAAAAAAAAAHEAAAAAAAAAUQAAAAAAAACBAAAAAAAAAIEAAAAAAAAAUQAAAAAAAABBAAAAAAAAACEAAAAAAAADwPwAAAAAAABRAAAAAAAAAHEAAAAAAAAAgQAAAAAAAAABAAAAAAAAAHEAAAAAAAADwPwAAAAAAABBAAAAAAAAAJEAAAAAAAAAiQAAAAAAAACRAAAAAAAAAGEAAAAAAAAAIQAAAAAAAABRAAAAAAAAAJEAAAAAAAAAgQAAAAAAAABxAAAAAAAAAGEAAAAAAAAAkQAAAAAAAAAhAAAAAAAAAFEAAAAAAAAAcQAAAAAAAACRAAAAAAAAAHEAAAAAAAAAAQAAAAAAAABhAAAAAAAAAHEAAAAAAAAAQQAAAAAAAACBAAAAAAAAAEEAAAAAAAAAIQAAAAAAAABBAAAAAAAAAEEAAAAAAAADwPwAAAAAAABRAAAAAAAAAAEAAAAAAAAAIQAAAAAAAABxAAAAAAAAAJEAAAAAAAAAQQAAAAAAAACRAAAAAAAAACEAAAAAAAAAQQAAAAAAAABBAAAAAAAAAEEAAAAAAAAAcQAAAAAAAABRAAAAAAAAAEEAAAAAAAAAUQAAAAAAAABBAAAAAAAAAGEAAAAAAAADwPwAAAAAAABxAAAAAAAAAIEAAAAAAAAAAQAAAAAAAABhAAAAAAAAAEEAAAAAAAAAiQAAAAAAAABhAAAAAAAAAAEAAAAAAAAAIQAAAAAAAAABAAAAAAAAA8D8AAAAAAAAYQAAAAAAAAAhAAAAAAAAAHEAAAAAAAAAUQAAAAAAAACRAAAAAAAAAAEAAAAAAAADwPwAAAAAAAAhAAAAAAAAAIkAAAAAAAAAkQAAAAAAAACBAAAAAAAAAIkAAAAAAAADwPwAAAAAAABxAAAAAAAAA8D8AAAAAAAAAQAAAAAAAACJAAAAAAAAAAEAAAAAAAAAkQAAAAAAAAPA\\u002fAAAAAAAA8D8AAAAAAAAgQAAAAAAAABRAAAAAAAAA8D8AAAAAAAAYQAAAAAAAAAhAAAAAAAAAGEAAAAAAAAAUQAAAAAAAABxAAAAAAAAAHEAAAAAAAAAkQAAAAAAAACRAAAAAAAAA8D8AAAAAAAAcQAAAAAAAAABAAAAAAAAAGEAAAAAAAAAcQAAAAAAAACRAAAAAAAAAAEAAAAAAAAAcQAAAAAAAAABAAAAAAAAAGEAAAAAAAAAIQAAAAAAAABRAAAAAAAAAFEA=\"},\"yaxis\":\"y\",\"type\":\"scattergl\"}],                        {\"template\":{\"data\":{\"histogram2dcontour\":[{\"type\":\"histogram2dcontour\",\"colorbar\":{\"outlinewidth\":0,\"ticks\":\"\"},\"colorscale\":[[0.0,\"#0d0887\"],[0.1111111111111111,\"#46039f\"],[0.2222222222222222,\"#7201a8\"],[0.3333333333333333,\"#9c179e\"],[0.4444444444444444,\"#bd3786\"],[0.5555555555555556,\"#d8576b\"],[0.6666666666666666,\"#ed7953\"],[0.7777777777777778,\"#fb9f3a\"],[0.8888888888888888,\"#fdca26\"],[1.0,\"#f0f921\"]]}],\"choropleth\":[{\"type\":\"choropleth\",\"colorbar\":{\"outlinewidth\":0,\"ticks\":\"\"}}],\"histogram2d\":[{\"type\":\"histogram2d\",\"colorbar\":{\"outlinewidth\":0,\"ticks\":\"\"},\"colorscale\":[[0.0,\"#0d0887\"],[0.1111111111111111,\"#46039f\"],[0.2222222222222222,\"#7201a8\"],[0.3333333333333333,\"#9c179e\"],[0.4444444444444444,\"#bd3786\"],[0.5555555555555556,\"#d8576b\"],[0.6666666666666666,\"#ed7953\"],[0.7777777777777778,\"#fb9f3a\"],[0.8888888888888888,\"#fdca26\"],[1.0,\"#f0f921\"]]}],\"heatmap\":[{\"type\":\"heatmap\",\"colorbar\":{\"outlinewidth\":0,\"ticks\":\"\"},\"colorscale\":[[0.0,\"#0d0887\"],[0.1111111111111111,\"#46039f\"],[0.2222222222222222,\"#7201a8\"],[0.3333333333333333,\"#9c179e\"],[0.4444444444444444,\"#bd3786\"],[0.5555555555555556,\"#d8576b\"],[0.6666666666666666,\"#ed7953\"],[0.7777777777777778,\"#fb9f3a\"],[0.8888888888888888,\"#fdca26\"],[1.0,\"#f0f921\"]]}],\"contourcarpet\":[{\"type\":\"contourcarpet\",\"colorbar\":{\"outlinewidth\":0,\"ticks\":\"\"}}],\"contour\":[{\"type\":\"contour\",\"colorbar\":{\"outlinewidth\":0,\"ticks\":\"\"},\"colorscale\":[[0.0,\"#0d0887\"],[0.1111111111111111,\"#46039f\"],[0.2222222222222222,\"#7201a8\"],[0.3333333333333333,\"#9c179e\"],[0.4444444444444444,\"#bd3786\"],[0.5555555555555556,\"#d8576b\"],[0.6666666666666666,\"#ed7953\"],[0.7777777777777778,\"#fb9f3a\"],[0.8888888888888888,\"#fdca26\"],[1.0,\"#f0f921\"]]}],\"surface\":[{\"type\":\"surface\",\"colorbar\":{\"outlinewidth\":0,\"ticks\":\"\"},\"colorscale\":[[0.0,\"#0d0887\"],[0.1111111111111111,\"#46039f\"],[0.2222222222222222,\"#7201a8\"],[0.3333333333333333,\"#9c179e\"],[0.4444444444444444,\"#bd3786\"],[0.5555555555555556,\"#d8576b\"],[0.6666666666666666,\"#ed7953\"],[0.7777777777777778,\"#fb9f3a\"],[0.8888888888888888,\"#fdca26\"],[1.0,\"#f0f921\"]]}],\"mesh3d\":[{\"type\":\"mesh3d\",\"colorbar\":{\"outlinewidth\":0,\"ticks\":\"\"}}],\"scatter\":[{\"fillpattern\":{\"fillmode\":\"overlay\",\"size\":10,\"solidity\":0.2},\"type\":\"scatter\"}],\"parcoords\":[{\"type\":\"parcoords\",\"line\":{\"colorbar\":{\"outlinewidth\":0,\"ticks\":\"\"}}}],\"scatterpolargl\":[{\"type\":\"scatterpolargl\",\"marker\":{\"colorbar\":{\"outlinewidth\":0,\"ticks\":\"\"}}}],\"bar\":[{\"error_x\":{\"color\":\"#2a3f5f\"},\"error_y\":{\"color\":\"#2a3f5f\"},\"marker\":{\"line\":{\"color\":\"#E5ECF6\",\"width\":0.5},\"pattern\":{\"fillmode\":\"overlay\",\"size\":10,\"solidity\":0.2}},\"type\":\"bar\"}],\"scattergeo\":[{\"type\":\"scattergeo\",\"marker\":{\"colorbar\":{\"outlinewidth\":0,\"ticks\":\"\"}}}],\"scatterpolar\":[{\"type\":\"scatterpolar\",\"marker\":{\"colorbar\":{\"outlinewidth\":0,\"ticks\":\"\"}}}],\"histogram\":[{\"marker\":{\"pattern\":{\"fillmode\":\"overlay\",\"size\":10,\"solidity\":0.2}},\"type\":\"histogram\"}],\"scattergl\":[{\"type\":\"scattergl\",\"marker\":{\"colorbar\":{\"outlinewidth\":0,\"ticks\":\"\"}}}],\"scatter3d\":[{\"type\":\"scatter3d\",\"line\":{\"colorbar\":{\"outlinewidth\":0,\"ticks\":\"\"}},\"marker\":{\"colorbar\":{\"outlinewidth\":0,\"ticks\":\"\"}}}],\"scattermap\":[{\"type\":\"scattermap\",\"marker\":{\"colorbar\":{\"outlinewidth\":0,\"ticks\":\"\"}}}],\"scattermapbox\":[{\"type\":\"scattermapbox\",\"marker\":{\"colorbar\":{\"outlinewidth\":0,\"ticks\":\"\"}}}],\"scatterternary\":[{\"type\":\"scatterternary\",\"marker\":{\"colorbar\":{\"outlinewidth\":0,\"ticks\":\"\"}}}],\"scattercarpet\":[{\"type\":\"scattercarpet\",\"marker\":{\"colorbar\":{\"outlinewidth\":0,\"ticks\":\"\"}}}],\"carpet\":[{\"aaxis\":{\"endlinecolor\":\"#2a3f5f\",\"gridcolor\":\"white\",\"linecolor\":\"white\",\"minorgridcolor\":\"white\",\"startlinecolor\":\"#2a3f5f\"},\"baxis\":{\"endlinecolor\":\"#2a3f5f\",\"gridcolor\":\"white\",\"linecolor\":\"white\",\"minorgridcolor\":\"white\",\"startlinecolor\":\"#2a3f5f\"},\"type\":\"carpet\"}],\"table\":[{\"cells\":{\"fill\":{\"color\":\"#EBF0F8\"},\"line\":{\"color\":\"white\"}},\"header\":{\"fill\":{\"color\":\"#C8D4E3\"},\"line\":{\"color\":\"white\"}},\"type\":\"table\"}],\"barpolar\":[{\"marker\":{\"line\":{\"color\":\"#E5ECF6\",\"width\":0.5},\"pattern\":{\"fillmode\":\"overlay\",\"size\":10,\"solidity\":0.2}},\"type\":\"barpolar\"}],\"pie\":[{\"automargin\":true,\"type\":\"pie\"}]},\"layout\":{\"autotypenumbers\":\"strict\",\"colorway\":[\"#636efa\",\"#EF553B\",\"#00cc96\",\"#ab63fa\",\"#FFA15A\",\"#19d3f3\",\"#FF6692\",\"#B6E880\",\"#FF97FF\",\"#FECB52\"],\"font\":{\"color\":\"#2a3f5f\"},\"hovermode\":\"closest\",\"hoverlabel\":{\"align\":\"left\"},\"paper_bgcolor\":\"white\",\"plot_bgcolor\":\"#E5ECF6\",\"polar\":{\"bgcolor\":\"#E5ECF6\",\"angularaxis\":{\"gridcolor\":\"white\",\"linecolor\":\"white\",\"ticks\":\"\"},\"radialaxis\":{\"gridcolor\":\"white\",\"linecolor\":\"white\",\"ticks\":\"\"}},\"ternary\":{\"bgcolor\":\"#E5ECF6\",\"aaxis\":{\"gridcolor\":\"white\",\"linecolor\":\"white\",\"ticks\":\"\"},\"baxis\":{\"gridcolor\":\"white\",\"linecolor\":\"white\",\"ticks\":\"\"},\"caxis\":{\"gridcolor\":\"white\",\"linecolor\":\"white\",\"ticks\":\"\"}},\"coloraxis\":{\"colorbar\":{\"outlinewidth\":0,\"ticks\":\"\"}},\"colorscale\":{\"sequential\":[[0.0,\"#0d0887\"],[0.1111111111111111,\"#46039f\"],[0.2222222222222222,\"#7201a8\"],[0.3333333333333333,\"#9c179e\"],[0.4444444444444444,\"#bd3786\"],[0.5555555555555556,\"#d8576b\"],[0.6666666666666666,\"#ed7953\"],[0.7777777777777778,\"#fb9f3a\"],[0.8888888888888888,\"#fdca26\"],[1.0,\"#f0f921\"]],\"sequentialminus\":[[0.0,\"#0d0887\"],[0.1111111111111111,\"#46039f\"],[0.2222222222222222,\"#7201a8\"],[0.3333333333333333,\"#9c179e\"],[0.4444444444444444,\"#bd3786\"],[0.5555555555555556,\"#d8576b\"],[0.6666666666666666,\"#ed7953\"],[0.7777777777777778,\"#fb9f3a\"],[0.8888888888888888,\"#fdca26\"],[1.0,\"#f0f921\"]],\"diverging\":[[0,\"#8e0152\"],[0.1,\"#c51b7d\"],[0.2,\"#de77ae\"],[0.3,\"#f1b6da\"],[0.4,\"#fde0ef\"],[0.5,\"#f7f7f7\"],[0.6,\"#e6f5d0\"],[0.7,\"#b8e186\"],[0.8,\"#7fbc41\"],[0.9,\"#4d9221\"],[1,\"#276419\"]]},\"xaxis\":{\"gridcolor\":\"white\",\"linecolor\":\"white\",\"ticks\":\"\",\"title\":{\"standoff\":15},\"zerolinecolor\":\"white\",\"automargin\":true,\"zerolinewidth\":2},\"yaxis\":{\"gridcolor\":\"white\",\"linecolor\":\"white\",\"ticks\":\"\",\"title\":{\"standoff\":15},\"zerolinecolor\":\"white\",\"automargin\":true,\"zerolinewidth\":2},\"scene\":{\"xaxis\":{\"backgroundcolor\":\"#E5ECF6\",\"gridcolor\":\"white\",\"linecolor\":\"white\",\"showbackground\":true,\"ticks\":\"\",\"zerolinecolor\":\"white\",\"gridwidth\":2},\"yaxis\":{\"backgroundcolor\":\"#E5ECF6\",\"gridcolor\":\"white\",\"linecolor\":\"white\",\"showbackground\":true,\"ticks\":\"\",\"zerolinecolor\":\"white\",\"gridwidth\":2},\"zaxis\":{\"backgroundcolor\":\"#E5ECF6\",\"gridcolor\":\"white\",\"linecolor\":\"white\",\"showbackground\":true,\"ticks\":\"\",\"zerolinecolor\":\"white\",\"gridwidth\":2}},\"shapedefaults\":{\"line\":{\"color\":\"#2a3f5f\"}},\"annotationdefaults\":{\"arrowcolor\":\"#2a3f5f\",\"arrowhead\":0,\"arrowwidth\":1},\"geo\":{\"bgcolor\":\"white\",\"landcolor\":\"#E5ECF6\",\"subunitcolor\":\"white\",\"showland\":true,\"showlakes\":true,\"lakecolor\":\"white\"},\"title\":{\"x\":0.05},\"mapbox\":{\"style\":\"light\"}}},\"xaxis\":{\"anchor\":\"y\",\"domain\":[0.0,1.0],\"title\":{\"text\":\"customer_Id\"}},\"yaxis\":{\"anchor\":\"x\",\"domain\":[0.0,1.0],\"title\":{\"text\":\"city_code\"}},\"legend\":{\"tracegroupgap\":0},\"title\":{\"text\":\"Scatter Plot: customer_Id vs city_code\"}},                        {\"responsive\": true}                    )                };            </script>        </div>\n",
       "<div>                        <script type=\"text/javascript\">window.PlotlyConfig = {MathJaxConfig: 'local'};</script>\n",
       "        <script charset=\"utf-8\" src=\"https://cdn.plot.ly/plotly-3.1.0.min.js\" integrity=\"sha256-Ei4740bWZhaUTQuD6q9yQlgVCMPBz6CZWhevDYPv93A=\" crossorigin=\"anonymous\"></script>                <div id=\"55f20b19-3df3-4cdb-8c82-840bd2cd39db\" class=\"plotly-graph-div\" style=\"height:100%; width:100%;\"></div>            <script type=\"text/javascript\">                window.PLOTLYENV=window.PLOTLYENV || {};                                if (document.getElementById(\"55f20b19-3df3-4cdb-8c82-840bd2cd39db\")) {                    Plotly.newPlot(                        \"55f20b19-3df3-4cdb-8c82-840bd2cd39db\",                        [{\"bingroup\":\"x\",\"hovertemplate\":\"customer_Id=%{x}\\u003cbr\\u003ecount=%{y}\\u003cextra\\u003e\\u003c\\u002fextra\\u003e\",\"legendgroup\":\"\",\"marker\":{\"color\":\"#636efa\",\"pattern\":{\"shape\":\"\"}},\"name\":\"\",\"orientation\":\"v\",\"showlegend\":false,\"x\":{\"dtype\":\"i4\",\"bdata\":\"eBgEAIAdBAB\\u002fFwQAZR8EACkXBABAKwQAsRIEANAyBABaMgQALi4EAO0hBAD1EgQARygEAKEwBADvKwQAiRUEAPAjBADzFwQAxjAEAIUsBAD0HwQAzSwEAPgkBADQGgQAvxMEAIwWBABZFQQACiEEAPMpBADnJwQA2ygEAJwmBAAdMQQApCsEAJ4jBACeEwQA6yEEAA8sBABMJQQAoDAEAKElBACPEgQAuC8EAKowBAAvEgQAtSkEAHMUBAB4KgQA0ioEAD8mBADVKgQAiiIEANkSBADPLQQAky0EANAjBACSMQQAdyYEAMUdBADHJgQABSkEALwhBABgKQQA8ygEAJspBAByIAQAbhIEAGcwBABIHQQAAhgEADIzBACrKAQAvBkEAHYkBAAJFQQA2iIEACsWBADXGwQA\\u002fioEAHoUBACuLwQA7SwEAD8iBACIGAQAxSIEAFMZBABeIAQACiUEAK0nBADbHAQAoTEEALciBACSJgQAOicEAN8eBADQLgQAGRgEAFUiBADgIgQAaSQEAFIxBABUIQQAeSwEAAorBAD1GAQALjMEADoTBAAhHAQArDIEALAtBAD4GQQAzDEEACwtBABvKAQAHioEAJ8YBAAiLAQASRMEACITBAD\\u002fKgQA+S4EADIfBAByMAQApywEABAUBAAoFAQADTAEAFYhBAD4HwQAiRwEAEYyBAABHgQAhiUEADIWBAB1KAQAsywEAFEpBAC+MgQAwRUEAG0uBACFJwQAxDAEAHAtBAA3MQQA4x4EABcwBADYJgQArywEAOIUBAClGQQAEBUEALYjBABtLAQATRgEAM8SBAAYKAQASSMEAAQvBABdFQQAnCEEAPowBABGEgQAkSYEAKAUBAASKAQAEi8EADgvBACJKQQA3CsEAPYrBAC7FQQAEisEADQmBABuIAQAySsEAPsfBABsHQQAXx4EABgYBAC3FgQAxhoEAJApBAAbIQQAsTEEACktBADkGQQA3BIEALMbBABaIgQAVyYEACgnBADjJAQACS4EAJkZBADnIAQAWxkEAN4yBABTFQQAyhIEAIQUBAAaKgQAwRgEADQXBAA9MAQARisEAOwfBABhIgQAszIEAEUVBAC7GwQA4ioEADYwBACULAQAECAEAAAzBABUJwQAESsEAAAtBABLFgQAXBkEAJIcBAArHgQAih8EAPUmBAD6FwQAIhkEALAhBACTHQQA+BQEAGIVBABfFAQA\\u002fiYEAC4yBACfHAQAAB8EAO0wBACnMgQABh0EAMIsBAAmFQQAoCUEAGAqBAAnLwQAmCgEALUuBAAoHwQA4TEEANsjBADIGQQAHCYEANIoBAAiKAQAkiEEAOopBABbIAQAZyYEAFMbBAANGgQAIxsEACcZBADGIAQAIjIEADkgBAAqEgQAhhIEAHEoBACJLAQArB8EAF0TBAAnIQQAKhYEAN4VBABPMgQAqyIEAGYlBAAhJgQAyBYEAEkiBACyIQQA5DIEAHchBAAlGQQAmS4EAIkmBABSFAQAlzEEAAUUBAAJMAQALCoEAHcxBADoEwQAfhkEAFYUBACiGwQAsh4EACMlBABaHQQA1BgEANwTBABxGQQAGBMEADYYBACBJAQARhMEAMcUBAAQMgQAzisEAFoTBAB1LQQApSYEAH0kBABtGgQARCUEACApBAB3MAQAjy0EAIIxBACsLgQAWC4EAG8eBAB1MAQAvRsEAOcXBACOIAQAWSkEAMcpBABGHwQAKy4EABQeBADmMgQAsxIEAPoqBADbFgQA1B4EAA0YBACoFwQA7C8EAEwWBAB3FQQAlTEEAOcrBADIMAQA9SsEAOYvBABJFgQA4yMEAOYwBADTJQQAJx8EALwUBACDFAQAKyYEAOImBAD5EgQASxgEACgaBAD6IAQAIicEAKEcBAC8HQQAVSQEAPEjBAB3LAQALRwEAAQuBABVGQQApC4EALMfBACsIQQApRcEAIQkBAByFQQA4iEEAOcwBAAqIAQAJSwEAEoiBABIMAQAdy8EACcWBABhGAQAAhsEAE0uBADrGgQAzC0EAMQdBAAwLAQAihYEALwbBAABLwQAdBoEAAMcBAD9KQQA3iYEALMiBAASIwQAnBkEAKAyBAD3JQQAqCUEADgwBABuLAQAFCUEAEMXBADMMgQATBcEAGYSBABCLgQA8hkEAKUYBAB7HwQAHxYEAEofBABcLwQAmhkEAO8xBABzIAQAmywEABkVBACmKwQASyMEAA0iBAA\\u002fJQQA9RYEAL4mBADFMAQAXiwEAFkyBACuHwQAZRUEANImBAByMQQA9jIEADsYBADSLAQApDIEADoYBABnLwQAihUEAIwqBABaMAQAVTAEAOYoBAB\\u002fKQQA5xoEAKQZBAB7LwQA5B8EACoXBABVMQQAgSIEALMeBAB1HwQAVBwEAEMpBAC5LQQAmjIEAJ8aBACQJgQAgjAEAO8sBABAJwQATxYEAEgmBABKJQQARSQEAAITBABELwQAByMEAJAVBABlLgQAYiwEAE0wBADNGwQA5SYEAFYqBADsGgQAQx8EAHgjBACoMAQAxiQEAKsfBADcGgQAyiYEAEwfBADGIgQAxy0EAGgbBAD7MQQAIDMEAFshBADFMQQAXyQEAD4yBABbFgQAvi4EAHUYBACpFgQADSUEANMfBAC3JgQAWisEAMgrBACdGAQApCIEAIUuBAB2MAQAYCEEAMEhBAB4IgQA2C4EAOIvBAB1IgQARBsEANgcBADWMgQA2iEEAIEeBAAaLgQAVCAEALIVBAB4KAQA8RsEAAIoBADEGAQA6B0EAD4bBABcMgQAAhYEAE8mBACmJAQA3xUEADMoBADkKwQAsyAEAIclBABTIwQAHRQEAIQtBAAzFgQApycEAAciBAAkEgQAESQEAMMuBAAqJQQAgBcEAFksBABJKQQAYy4EAHgaBAAFLQQALy0EAEQpBAAtGAQAASYEAPAnBACgLwQAVS8EAMUmBAC1MAQAOSoEACsiBADvFwQALiMEABItBADPIgQAEC4EAA8rBAAyIgQAxiYEAJcnBACdIAQAqC0EAC8kBADdMAQAeiAEAPcYBACdGgQA4xUEAFAiBABeLwQAZxkEACQzBADzMQQABB8EAMYsBAAgLAQAViYEAGcSBAAhLQQA3yoEAIEqBAAAHQQAdBQEAJAyBAAwHQQAWCgEAPccBABFFwQA5yEEAIosBABEGQQA7R0EAFQsBAAqKgQAsiQEAIoyBACKLgQAsisEADwYBADUKQQANSsEANUaBADJFQQA0SsEAI0bBAAXFQQAEjAEAHwgBAA\\u002fMgQAlRYEAJ4cBACGKgQA9yIEAP4bBAAcLwQAZycEAOksBADNKwQAKCMEAAYwBACBIQQArS4EAFUrBABDIQQArxQEAEQdBACqLgQA4CQEAEEgBABpLwQAXSYEADsiBADaKgQAEy4EAFcsBABGHAQAqCEEAIYdBABqFAQABSsEALsZBABGGgQA3xIEAIYoBAD2GAQAjRQEAHgnBAA9HQQAVBMEAKAqBACBFgQAQS8EAAIyBAC7LAQA1CIEAIcwBAC8GgQARiwEAGgTBAAeIAQAdxYEAD4oBAA8KQQAaSgEAA4ZBAC5JwQAfCgEAEgnBABjMgQAsyMEALEoBAB8GAQAphMEAG8SBAA\\u002fFQQAciEEABUuBABiHgQAuRMEACMdBACcKwQApRQEAOwkBADSLwQA2BgEAJYcBADmLAQAtRgEAMMVBABxKwQAlygEANEXBAARMAQABhQEAFswBAA2KAQA6hoEAAstBABjFgQAHxgEAEkqBACKJgQAixcEAIMYBACwGgQA+RMEAPQcBAB\\u002fJQQAbx0EACgcBACyHAQAThgEAHwwBAB7FAQA\\u002fiwEAPceBAAXFwQA4h8EAGUjBAAEMwQAQB8EAJ4vBACRLAQASy8EAJsWBAChEwQA8CUEAHYTBAB7GAQA2DAEANYYBACoKQQALCkEAMYVBACuJgQAVykEAKsqBAAtJwQAnykEAOkaBAA4FAQA3R0EAOYdBACkHgQAPhkEAEAYBADvEgQA4h0EALAVBABQKQQAZjIEALskBAAxHQQA+hsEAHsqBADBLwQAPS8EACEzBAD3IQQAqR0EAGolBAA9MwQAkzIEAHQWBABAHAQAtC8EAMolBAA\\u002fHgQAzC4EAMAyBAAZGgQAdRUEAC0UBADlLAQAWCQEANEkBAD2JQQABCMEALwvBABcMQQAdioEAFAhBACNFwQARBUEAFkTBABrIgQAuicEAEAZBACoFAQAKRkEACAbBAA5JgQArx8EAOIsBAAwIAQAyxsEALgoBADvKQQAaisEAJocBAA6MAQAGywEAAoaBABIEgQAxCEEAD4zBABnKAQAKBgEAN4lBAD7HgQAtDEEAKwZBADwKgQA5hIEAD8UBAAHGwQAuy8EALYmBABmIgQAbBMEADEcBAC6FgQAcBYEADctBABLIgQAECYEAC8sBAAlFAQA3yMEAO0jBACyMQQA8ycEAHQbBACJGQQAPxIEADEYBABVKgQAFDAEAMsaBABLKAQAfBoEAO0gBACpKQQAZDEEAEwpBACdKgQAryMEAConBADOEwQA2hMEAAEoBAB\\u002fKAQA7CwEAG0rBACfLQQAjBcEAC0xBADVJwQAwyEEALMhBAAKMwQAWiwEAIslBAAaIgQArSkEAOwjBADQLwQAlS8EADIvBABBFQQAkyEEAIsjBADPGgQAdygEAFAWBAD8JgQApy0EAMwUBADiGwQAOiEEAOUVBADGFgQAKi0EAF0wBADSGgQA6ysEAK8eBAA1IwQApRoEAFwkBADRLgQAOSwEAJsXBACFGwQAGjMEADMuBAB6MAQADSYEAPsSBAA8GgQAZSkEALkcBAB\\u002fGAQAkigEAN8bBACnEgQAeDIEAOowBADBJAQA2i4EACAiBAAmKAQAcRQEAFQSBABsGgQAQSgEAAwiBADqHAQA4C8EADYWBADuKQQA0x0EABcoBABrLgQAsigEAAwZBAC3JAQAMzAEAB0XBADzHAQAXS0EAIMmBACUGAQA8x4EAJMrBADzIgQAtjIEAOwhBAAdKgQAViQEAEAwBABlGQQA+ysEALoXBADPMQQAQisEAJgTBACMMgQAKy8EAB0uBAApHwQAdhwEAP0xBADwFAQAIx4EAMoYBADlGwQAei4EAFwhBADjMgQAAzAEACUfBABAFAQAESgEAOUuBAC5FAQA6yQEABopBACBGQQACi0EAEshBADoIgQAERgEAK4sBACtGgQARzEEAHQyBADgGAQAqR4EAOAZBABCKQQAtigEAI8dBABhJgQAjC8EALYaBABYLAQACRQEAMQxBACPKQQAHykEAOwtBAAjJwQAkyMEAGMYBADJEwQAlikEAEAaBADrGwQAchIEAOEZBAA2FwQA\\u002fRwEAKkqBABsFwQAixYEAG4ZBAAfEgQA5SkEAHomBAAXKwQASTEEAMQWBABDLgQA+BgEAPIyBABfGQQAZR4EAF4xBAB7HQQAJjIEALUaBABlGgQAlhMEABUsBACDLQQADhQEAL0YBACVFAQAGSgEAJAiBACfLwQANiUEAActBABmLAQALDAEAFopBABcHwQAYhYEACItBABMIgQA8TEEALYSBABSLAQAXS4EAGwuBABWGwQASi8EACUXBAAGIQQA6S4EAM0SBACrJgQArisEAIwwBAD2IAQAmyoEAGQoBADqGQQAHRUEAOkmBAAvGgQALysEABkUBADyIwQAYSMEANogBACGLgQA6BUEAEUaBADFJQQADB8EABotBABOGgQA1ycEAMQnBADSIwQAeDAEALYvBABUMQQAZiEEAJcWBABqHwQA9iMEAAYmBACgGQQAoSIEAFYeBACQEgQAXxoEAHQTBAD+FwQA8xsEAFAfBAClMAQAwCwEAJQZBAA0GgQAMjAEAOMbBADcIQQAfCUEAEwYBAC9HwQAEx4EALAyBAA0JQQA4S4EAGgXBACKGQQAOCYEAFkgBADRIwQAYi4EAMcZBABqIwQAWRwEAAEYBADKLAQAOS0EAGsvBACOIQQAoigEALYxBADQJAQABycEANUYBAAsHgQAfiAEAKMpBAD\\u002fHwQAwRIEAOkfBAA\\u002fFwQAhiAEALYVBADFKQQAODIEAN4fBABOMQQAXi0EANMtBADTKAQAASEEAFYSBABAEgQAtSAEANYWBADcJwQAQBYEANUsBAB\\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\\u002fIwQA+yIEAJoYBAC6LQQAmBgEAKIWBADtGAQAnRcEAI0hBADTJwQA6RUEAFwmBAA9JwQAnjAEAIgkBABKGgQAiTAEAG0iBABGHgQAwTEEAF4aBADWFQQAtCoEAIgSBABqHgQAEiUEAEMTBAB3GwQA5yYEAMgUBADrMgQA1DEEAIckBABRGQQAyCwEAPUtBAC1EwQARDAEAJsoBACyLAQAMTAEAMsoBADbHQQAFR0EAPEwBACZJQQAGDIEAE8rBAByIwQAEy0EAMUbBAB7FQQAWyUEAEAmBADXLQQANS0EAOwTBADZKgQAZxgEAIUqBAD7FgQAtSIEAPUkBAAuJgQAMhsEALwtBAAUJAQAcRcEABwsBAAPIQQAoSEEANcwBABBJAQAuBQEAPgTBADqEgQA9hYEANEaBACAIQQAlxQEACgxBAB\\u002fEwQApxsEAEMrBAC1LwQAYxMEAP8nBAB4GwQAYTIEAC0XBADVKAQAzysEAM0yBACNHgQAzSUEABYpBAChGAQA\\u002fB4EAHYyBAAzGAQAFB0EADYZBACBLAQA0SoEAMgTBADZJAQAlhkEAPcxBAANMQQArBQEAKEdBAAfIQQAOykEAPoYBADCIAQAlR4EACssBADpJAQAMxkEAMIkBACtFAQAUx8EANcfBAB0JwQAEBwEABclBAD\\u002fGwQA0h8EAD0fBABzGAQADx4EAAkdBADSJAQAfigEAEIsBADXKQQASzIEAEAyBABcEwQAvCMEAPIlBACSHwQAShUEAN4pBABLEgQAiywEAIYXBABFIAQAYS0EAF0vBABPKQQAXC0EACodBAD\\u002fGgQAGS4EABEmBADvGAQAJB4EAP8YBABbKgQAMBwEAKcwBAA6IgQAHyAEAMkuBACKGgQA\\u002fS0EAOYWBAB9KAQAQycEAKkvBACVHwQAcjIEAJokBABsHAQAYiYEANAtBACMMQQAbC0EAKIgBAAcHQQAzRoEALQdBADWFAQAvikEAP8wBACaJQQAZhYEABkwBACVIwQAeSkEACcdBADyHgQAlhgEAEglBAA\\u002fLgQAyx8EAGYdBAAjLwQA\\u002fzEEAJchBABQGgQA+CgEABMdBADVIgQAeRQEAIsqBABbHwQAfhwEAG0TBAA1IAQAZRcEAAsoBADAHQQAciUEAJUuBAC9LwQADzEEAI4dBACxMAQAyBUEAAUYBACmMQQAGyUEAAgkBAC4GgQACC8EAE8eBADsJQQAIRcEAGsgBABMLQQAXCwEABQvBAARIAQA3xwEAJ0ZBAAYJgQAVBQEALMWBAAiIQQA4SEEABceBAD3FwQAqhwEAFwbBAAsGwQAyykEAH0hBAARFwQAfS8EAC4hBABQLQQAcyUEALAsBAAWFQQAIDIEAD4gBABMEwQAsyoEAC4fBACAFQQAEDAEAJYrBACAMgQA1RkEAEQSBACyHwQANSUEACgkBACfIQQAgxMEACYmBACeGwQATSoEAOQXBABPHQQAJiIEAF8cBABiKwQAmhMEALkuBAB+JQQAOiAEAPIYBAAjIAQA4C4EAAApBABjHQQAlCYEAAYTBAC0JAQAVxwEAHkTBAATKAQAjxoEAOgmBADVKwQA8ScEAM4eBABIHwQA8ysEAHsrBABzIQQA7xUEAGEfBAAUKQQAuSYEAPotBACRMQQA2isEAE8UBACSLwQATRMEAOQWBADBFwQAixIEABIdBABUJAQAQhYEALQsBACoEwQALCIEALQhBAAbGwQAmCsEAEIXBAB9IAQABjMEAP8uBABdMgQAzzIEAMsWBAAzIAQAhhkEAGEwBABpHAQA2hQEAHgUBACmHAQASSwEAHcyBACcLgQAHxkEACwXBAA1KgQAHjEEAO8lBAD\\u002fLwQATjAEAPIaBAALGgQAIhsEAG0fBAAmGgQAqiMEAIseBACPFQQAQiIEADEpBADcJAQARBgEAOYfBADWKwQAnSEEAGctBABZJwQAUisEAGYVBABsFAQAnBMEABYcBABZGAQAlR0EAIkxBACwHgQAwB8EAB0iBABkJQQA6iUEAOUcBABPEgQA+C0EAOYuBAB5JwQAPicEAOwZBACfMAQAdSYEAEQkBAAKGwQAhDIEADMmBACwJgQAtBsEAOIoBABgHwQArDAEAAktBADRJgQAGTMEAKwkBAD2JgQARzAEALwXBABAIAQAHSAEANQZBADWEwQArioEAAIZBABJMgQADC0EAA0pBACBHAQAKjIEAMUuBAB6GQQAYhgEAG0SBADeKAQAeSsEAKYhBACQGQQAdBcEACAkBACUMAQA5RMEABcUBAAtHQQAmRsEABIcBAAUIQQAHBkEAGIpBADtMgQA6CEEALctBAD5LwQAqRMEAGguBAAUHAQAXzIEAKsuBADxIAQA\\u002fxcEACwzBACnKAQAmiYEANUwBAC4JwQAjCgEAIUoBABXLwQAHhQEAOcTBAAMGwQAABcEADMvBAAOIwQAuS8EAIggBABeMgQAMSoEAAouBACkIAQATSIEANkjBAC0IgQAoBsEAG4lBABSJQQArSgEAGcVBACjEgQA7hMEAN0pBADiEgQAJzIEAB0wBADALQQAhisEACQdBABEHwQArykEAMApBACQIAQA2TAEALwSBABBLgQA8y4EACcsBAC5JAQA3RoEAJYxBAD9HwQAMSsEAAsxBACOLAQA\\u002fyIEAK4kBAAHFgQAFRwEAKgYBAATGwQAHyYEAJYoBACgHgQAMRkEAM4jBABeEgQAuR4EADcYBABIFwQACRYEAPIuBABFMQQA\\u002fRMEAFMlBACGJAQA\\u002fRcEAGMXBACnJQQAqBIEAJMlBABQEwQA9iIEAMclBACAJQQA6C8EAFYVBACcIgQA0CAEAAgjBACHGwQAxhsEAE8wBADuKwQARx8EADcqBADHHgQApBYEAD0bBAAwIwQAwzIEAH0XBADtKAQAxy8EAFYwBABgLAQAaBYEAG4eBACmFgQAyB8EAL4dBADOGgQAgRcEAP8ZBAAQKAQA\\u002fyYEAPwVBABALQQA8yoEALYiBAAtLwQATh0EAGgpBACsFgQA\\u002fTIEAOYlBADRHwQAejEEAKckBADsFQQAvCYEADQSBABTFgQALS0EAK8oBAAuHgQAVBsEAG4VBAAEKwQAnxYEAIkbBAB+MQQA0B0EAHgtBAArGAQAiioEAAwpBABvMAQAMRsEAKoZBADFHAQAviAEAAgrBACHIgQA+B4EAJAxBADnKAQA\\u002fi0EAKQaBACaFwQAgycEAJEpBADRLQQAzjIEAAsYBADiHgQAlBUEAI4YBABPLAQAgSAEAIwcBAAnJgQAZyUEAGAiBAANLAQAQiQEAKUfBABTEwQATBkEAFUcBAAvKAQAOBYEAI8sBADgJwQA0CkEAGESBABBIQQAIxcEAAAvBACzKQQAHS8EABMvBAB+HgQARyYEAJccBAB2GwQAehoEAN4SBACuGQQAFDMEALElBADhFgQAEhUEAH8dBADwLgQATBoEAKAdBAAyJQQA8BUEACsUBAAeMAQAkicEAOAaBAB4MQQAIhoEAOAdBABzJgQAFhQEACYxBABAKQQAWiUEADAlBADWGgQA2iMEAP4eBABjKwQA+SIEAP4xBACXFwQAPBMEAPssBAAqKAQAUiQEAEEjBADlKwQANx4EAEosBADIKAQAUyEEAK0ZBAA4HAQAAyUEAL0gBAD5GQQA+CAEALYdBAAuKAQAICUEALQeBAAHEwQA2SAEAJMVBACNHQQAByQEAPUnBAB1IwQAGCcEAGQhBABbGAQAER4EAIcqBAD5JgQAkRwEAL0qBADTFAQACRgEAPYfBABGIAQApCcEAMwgBADWEgQAsi0EANkfBADYJQQAChYEAMwlBAAEKAQAwSMEAIklBADhKQQAtRwEALMYBAD+IgQAQBsEAPkXBAA5EgQABC0EAF8tBACwMQQAvh8EAM8qBAAUIAQAyxgEAK8tBAAcHgQAviUEAFcaBAAmGwQAdisEAKYjBADkFAQAxy4EAJsrBACTLAQAqSIEALEjBAD5GwQAghkEAG4wBACbHgQAnSsEABMpBAAYJAQA+S0EACwlBADtGQQAIRsEAJUyBACkMAQA0RgEAJoeBAAzJAQAWzIEAB8uBAA7FgQA9hoEAAUvBAA3HAQAxhIEAMQUBAB7MQQAmBIEAGwyBAClFQQASCgEAAAnBAAxLgQAoiwEAL0wBAADKwQAKCYEAD0oBAD7JQQAsy4EAPQdBADbGwQAYSQEADUUBADbGgQA3TEEANUyBADsGAQA2iUEAMYyBADQFwQAWTAEAFUdBAAuJAQA5hkEADwuBADGKQQAGDMEAJQyBADsFwQA\\u002fBYEACMmBAA6KgQAWioEAKIjBACEFQQAdRcEAJgjBAD2LwQAcBwEAJ0tBAAkIQQA1S8EAP0wBADiMgQAFDIEAEocBAAzHAQAahcEAN4wBABuKAQALRsEAAIlBAB2IQQA8S0EAAQTBABSEwQAUy8EALUlBACSIgQALCwEAMAuBAAPHAQAchcEACcgBAA5IgQAdC0EAEEcBAA1KAQAEBgEAAMYBAArKwQAhhoEADcpBADNLwQAXhQEAC8lBABoLQQAghYEAMEwBAA+KwQAyy0EANofBAA8HAQA4icEAJcwBADpIwQA5C8EAMMsBAAdHQQA5CUEAA0bBADfLwQAYiMEAKsVBABqIgQANhUEAPwrBACQKwQAbRwEANEwBABnLgQA9CoEAJ8rBADOMAQAKCgEAAMdBABxMgQAUi8EAFcoBACCIgQAGSoEAHUgBABlLwQA0yMEAHEiBABnMgQAGysEANwqBABvFwQASxMEALgWBACOFgQATR0EAGQUBACCFwQA1igEAB0sBAAGLAQAzSYEAEESBADzEwQAIR4EAL8iBABoMQQAOhoEAFklBADTGwQAihcEAMcdBABzEgQA1yEEAPEUBADpLQQAIjEEAM4cBABOHAQAiCoEANceBADQJQQAOBkEAO0eBAAVJAQATCYEAKYsBAC9JwQATSwEAFIcBADRIQQAvRwEAEMgBACaFgQAKB4EAGUkBADnHgQAECMEABUUBADKHwQAsxcEABkpBACUHAQAKxwEAPQyBAAaIAQABBwEANYxBAAtMwQA3yEEABAbBADtMQQAICoEAM0eBADyIQQAZxoEAN0rBAA1EwQAKi4EAJweBABrLQQAPy0EAG4xBACNKwQAwi8EADExBAB8FQQA1RsEAOgZBAAeFgQAly4EAAceBAB9MgQAIC4EAIsnBAAFIQQADDEEAEodBABJHAQAciwEAJMvBADtLQQAAjMEADojBADdJgQA1SMEAPstBABTHAQAlSgEAA8yBABmLwQAnhYEAEchBACcKAQAkx4EANYcBAArKAQApSgEAM8gBAB5HQQA2DEEAD4eBAA1LAQApxYEAHUcBABNIwQAcBsEAOMgBACkGwQAXxsEAPskBACMKQQAoi8EAEskBAD8GAQAmRMEAMwhBABTIAQAzRcEAHQVBAD3MAQA1icEAHMbBAArLQQAZTAEALcaBADvLwQAKh4EAA8UBADMHQQA6h0EAA4fBAADLQQA5BUEAMYxBACzHAQAvxIEAFIYBACiKwQA3icEAEIlBACVJAQA3yUEAIwZBAB1EwQA0xcEAH4tBACFKwQA4yIEABwxBADRKQQAHywEAPAfBAAYGQQACBwEAOgrBADBLQQACyQEAHcpBAA9FAQAjy8EAPQYBAB2FgQAVBUEAHUlBACNGAQAvhkEAKssBAD6HwQA2zAEANMgBABPMQQA8SQEABEcBAAiFAQAUiIEAKwmBAAFMwQA2SEEAH8sBACxKQQAfR4EAKIVBABQIwQAcBUEAHQvBABqGAQAyBgEAKQhBAAiIAQAryAEABEbBABTFAQAOhIEAKMyBACuLgQAqScEAJcVBAD8KQQAMCkEAFMpBABlMQQADDIEAOcdBACFMgQAFSYEAP8VBAAxKAQA\\u002fSQEAIwVBADlIgQACRMEAKoVBAArMAQA8jEEAEEUBABDKgQAzC8EADElBAAPIAQASC4EANshBACYLwQAfCoEAAgiBABCEgQA5BMEAHsgBADYHwQAGykEAAkpBABOIQQAryYEAIAjBAD5IAQArRgEABkWBAA+HQQAFh8EAIUwBADeGAQARDIEAD8aBABzHAQA9C8EAEIfBADMGwQAaCQEANAwBABcGgQA1i8EAKkcBABfGAQAohQEAEgkBABmLgQA+SgEADkVBABZKAQADB0EAM8TBADZKwQA3zAEALggBAAmFAQANxcEABYTBAAIMgQAoBoEAIUcBADIGwQAjh4EAJ4rBABlIQQAhyMEAAsuBACxGwQA+BUEAOIcBAAbKAQAACEEACglBABRJQQA0R4EAGEuBABTGAQAiRMEAKMuBABaHAQAWSYEAIgsBABoKwQAlCEEABIZBABHIwQAPyEEAIISBAAuIAQAKBUEAOEgBAAtKQQA5zEEAP4VBADUMAQAaxkEAOgjBADiIwQASSgEAGUnBADrIAQA9RoEAAYcBAAkHwQA9xsEAL4YBAANIAQAuhUEAL4jBABkLQQAXB4EAJEfBAApKwQAEioEAPUfBACGGwQAljIEAOkYBADOIgQAuhsEAFwiBACoHAQAviwEAHokBADPJQQAfikEAIIaBAAhKQQAaRYEAGwhBABjJgQA0BMEAPMsBACfJgQARxgEAEgxBAAvLwQAZCQEAJ0nBACgIwQA6TAEADUkBAAKLwQACx8EALQpBAC3MgQAchwEAJojBACHGQQADhMEAMoTBABdMQQA\\u002fDEEAEIYBAATMAQApykEAAQYBAB8MgQA8yYEABckBADkGgQARiYEAAExBACQJAQAiC4EAC4xBAAFKAQA\\u002fSMEABsZBAD8LwQAZyAEAMIwBACkHQQAfS4EAPYtBADQEgQATR4EAC0iBAA\\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\\u002figEALUxBAAfMwQADCgEAIUhBACCGAQA9yAEAM8sBABHIgQAADAEAF4oBAAzKwQAlRsEACsdBADEGgQA4xcEAHgmBAD9IgQATyQEAK0lBACyGwQANyEEADcyBAB6IQQAuisEAA4dBAA\\u002fJwQAmBsEANAmBAAnKAQA7hIEAPsdBAD5KQQAwCUEAGcxBAC0KwQAvyYEAA4kBAAUFAQAnBYEAMocBABPIwQAxh4EAGUYBACnIQQA1ysEAHIoBADZJQQAKyUEABwjBAAbMQQAAiIEAMYvBAD7LwQAUCYEAFoSBADWGwQAdhcEAE8VBAAhKwQAdhIEAIIoBAALLwQAUicEAHckBADvFgQAdxQEADQhBADOFQQA\\u002fSwEAJwaBABRMgQAEzIEADQiBADYKgQAnhQEAA4zBACjJAQA4iAEAKwbBADXIAQAxxgEADYtBAAfMgQAQR8EANwdBABlLAQAiS0EAD4pBAByEwQA8zIEAKsnBACrHgQApSMEAIgbBAAYGwQAuB4EAHAdBAB9FgQAeSoEAH0cBACMHgQAehYEANMZBAA8IQQAQiAEADQuBABnIwQATBUEAO4uBAAbFAQAgxIEADkaBACpGAQAPx8EAGItBADCGwQA9hsEAHQkBADzFQQA6igEAK8WBAAJLAQAWCsEADIcBADAGAQA7BYEAGsfBACmHwQAjSUEAI0xBAAGGQQAnCoEAIAvBACPFAQAiDAEAFYoBAD6GgQAcRIEAIYnBACXIwQAXxcEAMogBACkLAQAKRMEAIIyBABOIgQAuh0EAIsZBAAjEwQARxkEAFgfBACCJQQAryEEANIUBAAzMQQAGBUEAE8nBADuJQQAZCMEAGggBABNJAQAMRYEAC8zBABaGwQAvCcEAOwgBADeLQQArh4EAHgdBAAxFwQA+iYEANIuBABSJgQA3y4EAFoVBADFGQQAli0EACArBAAjFQQAARkEACYgBABYGQQAcSEEABcpBAAIJgQAvTEEAJYdBABMKgQALiwEAL0rBABYIAQABi8EAPohBACYLAQApSQEAMwjBAAEMgQAODEEADEaBADBIgQAUR4EAE8uBAAIMwQAnh0EADUnBACtMgQAGhYEADIyBABOKAQApSsEABYtBABGIwQAJRoEAD0ZBABUIwQAhxcEAOoTBAAcIgQASR4EALohBAAJIAQA9BQEAJcrBAD+GgQAwSkEADYkBACTFAQA6xYEAGcqBADJKQQAJh8EAH8uBAAAMgQASxoEAG0mBAAjLQQA3B4EAGsWBAAXGgQAlSYEAIcVBADhHQQAcx0EAGkYBABgHQQAmS0EANksBABhKgQAzhQEAKMVBACZFgQAKCsEAGIvBAANLgQAAiMEABoVBABUHwQAJh4EAOYYBACjFgQAAyYEANYXBAAvMgQAQh0EAFgjBADwIAQABjEEAA8qBAB2FQQARC4EADEjBAD8GgQASy4EABocBADCGgQABBYEAOsnBACWJQQAnR0EAFIqBAABHAQAiSIEAFgYBAClMQQAliIEAJcaBAA8IAQArSsEAI0oBACvEgQAORgEAAMoBADdMgQAQR0EAHUpBABOEgQAfRsEAEQxBACWJwQAcxUEAJEYBADIIQQATRcEAPwiBABuFgQAex4EAD8sBAAOFwQAUygEAKwoBAD3EwQAxyQEAM8kBACbGQQA6RwEABkcBAAQFgQALi0EAB8tBAA\\u002fKQQAYjIEAJErBABAEwQAYCsEACQTBAA4KAQA\\u002fRoEANssBACWFgQANzAEAMMwBADJJAQAXyEEAL8cBAAhEgQAdiMEANcWBACMJQQA3DAEACkYBAD5HAQAQx4EAJIZBABJGgQAeh8EAOkZBAAZGwQAOR8EAPQWBACyGQQAeBIEABwWBAA5LgQAoR8EAO8fBAADHgQAdxgEAHIqBAAwGgQA1BIEAC4iBAACLQQAPzEEAE4WBAAnIwQA\\u002fBIEAPodBAAPIwQABBsEAH4rBAADLAQAfB4EANYjBAC\\u002fIQQAyBcEANQyBAArMQQAdTEEAE4bBAAIFQQAejIEAGkSBAA1GgQAFTMEAFAwBACOFAQAnBQEAHglBACOKAQALSYEAFooBADKGQQAfjIEABIzBACbLgQArBwEAGomBACKGwQAKisEAGgSBAApJgQALSsEAAIsBADfJAQAvisEAM8WBACaMQQAvi0EALYsBAAPHwQAVR8EALEaBACnFwQAMCcEAHggBABBMgQAXjAEAIwuBAApKAQA6SAEAAYaBACwMAQA8xoEADUpBAAfJAQABh8EADkXBADjLwQAcDAEABAzBAAmMAQA4x0EAIIcBAArHwQAcDIEAJAoBAA+FgQAvBMEANwoBADPFQQAjSMEABQsBADlHgQAgRIEAKoxBADSIgQA6hcEAAQUBAB5JQQA8yQEANYgBAD0JgQAUh0EAPkWBACtHwQAwicEAAQdBABQJwQAtBUEAFsvBABPKAQA5y8EAGgfBADCMgQARjEEABkeBAAeHwQA2BMEAGkdBABvLAQATxoEAI0aBAAuGQQA4y4EAEcvBAANGQQApy8EAAssBABgIwQAoCEEAKkSBAC\\u002fJQQAFxkEACctBAAZHQQAhykEAB4oBACdFgQA2CQEALUjBADYFAQA5C4EANkbBABNKQQAaCgEAAgfBACWFAQAbCMEABYZBAC3IAQA5hsEAFoWBAB+LwQAJS8EAHAZBADAMQQAdhQEABIuBAD8MgQA7y0EAPckBADlIQQAmCcEANEnBADiFgQA7RcEAPgrBADKHgQAHB8EANciBAA3FgQAwhwEAOYiBAALJgQA2B0EAEEnBAAFGQQANRkEAOIYBAAaFwQAQigEALgkBAAsJgQAxRoEAOAgBABmJgQAuiAEAI0vBACdEwQAqRoEAK4oBABAIgQAAhQEAHsaBACEIgQAWi0EACgsBABHEgQA+xkEAAweBAB\\u002fGwQADygEAKcqBADSMgQANS8EAE4mBACGLwQAtCAEANwUBABuKwQALjAEANoeBAAOGgQAPCcEAIQdBAD0FQQAIxoEAIUkBABJKwQAQx0EACAnBAD5GgQAECkEAC0uBADCGAQA9TEEALsaBAB2IgQAFRkEADAvBACWIQQATRsEABIeBABIMgQA3hQEAGMiBADiGQQAmy0EAGEeBABOIAQAXCMEAMkiBAAXGwQAvyQEANQTBABwLAQABRUEAIEyBAB3KgQAvxgEAL8XBAAZJgQASx8EALgZBADKJAQAryUEAAYqBACDMgQAvxUEAPoSBACUJQQA2i0EAEYiBAAmIQQAURoEAAkXBAAkMAQAkxcEAJkaBAAvKQQAKSkEAFAZBADJLwQAOi8EABMkBADVMQQAyCUEAOUaBAA3JQQAYxIEAAIhBADwEwQAfC4EAFwSBACrHAQAsx0EABoaBAC3IQQA5hUEAMYrBAAqHAQAzRgEAMsqBADuMQQA8hYEAE0gBAAYMAQAijEEAJctBACQKgQAhBMEAEUqBAA+IgQAWxwEAPcjBADvIQQARxQEAB8eBAA7JQQAgxwEAIIkBABhEwQABTEEAP0WBADLIAQAdCIEAKoXBAAhMAQAbRUEAKYmBADuJgQAqRkEANowBADCLgQAsCsEANcsBAAIJwQAFhYEAHcgBABKFAQAHDIEABAXBAB3FwQAhSAEAJ4tBAAhLwQABR0EAMkZBABTLQQAWxIEAC4dBAClHQQAmx0EAJ8nBAAhMgQAexIEAHQlBAB8LAQA\\u002fyMEAFofBACaFQQAfy8EAMUtBAC8LAQAZBYEAMMTBAAsFAQAyiMEAOAwBABEIAQA3RkEAEswBAD4GwQAUxIEAK0kBAD5MQQAnTAEAIoeBABqEgQAFhsEAOoyBABNFAQAyR8EAF8TBAAGIgQAAScEAHooBABcIAQAOhwEAGQyBACDIQQAnx4EAHAvBADgFAQAFi8EAK0XBADaGAQA5CoEAGsXBADREwQAoCQEAOYhBADCJQQAjjEEACUzBAAwMAQA1B0EAJUSBAB4FwQAvB8EAGEUBABmMAQAmC4EADcgBAD0IwQA3B8EAI8TBAArJwQAjhwEAOUoBAAhKAQAsCMEAAEbBAC4LgQAoRQEAIkdBAB6FQQAkB4EAJAuBAA+FAQAehsEACMYBABNKwQAmCEEAG8VBAAEGgQArBoEAMYjBACoIAQACCoEAMcqBACQFAQAcB8EAFkZBABGIQQAZSgEAGgyBABELQQA+DIEANEvBADhJQQAYywEAAUXBAA0LQQAhR8EAJwkBAChJwQASC8EAM4pBAAUMQQA4yoEAIkXBAAgGgQAkCwEAAgpBAC7KgQA7yYEAAInBACxKwQA9CIEAHApBACmIgQAJhMEAFUUBADAGgQAgywEADseBABGFgQAFx0EAOwUBAChFwQA7RoEAIQfBABSHgQAchkEAD4fBADqIAQACSEEANEUBACdMQQAnBsEAJUVBAD\\u002fLAQAwycEAKUlBABHKQQAyhQEAL4nBABUMgQAiy0EAG8YBADwGwQANR4EAG4aBADhEwQAHh4EAFssBACkJAQAgB4EAPwgBAD8HQQAWjEEAA4pBAAZGQQAABYEAB4VBACyLgQAGScEADIxBAC3LwQAJCgEAOsxBADPJgQAkTIEALseBADfMgQAaBgEAP0UBAAUJwQA0TEEANMhBABSMgQAIi4EAJskBACmKgQA0hgEAJAwBAAZIgQAfTEEAGYeBABgEgQAQzEEAI8eBACiGQQAqRsEAFEoBACFFQQAFiIEADkjBABmEwQAISMEAIMaBAARJQQAMh4EADQfBABDGgQAOTMEAIQXBAArIwQASisEANsrBAAgFQQAchYEAMAXBABGLQQAYiQEAG0oBABMIwQAvSIEAC0lBAAbGgQAqhMEAGMkBAD0LAQASRQEAMASBAA3HQQAnyUEAPoyBAACGgQANBMEAIsvBAAbFQQAAycEACYsBABlHQQAcBcEAPYkBAC3GQQAixMEADYUBADtEwQAcxkEAGwwBAAMHAQA1BsEADopBADPKQQA5jEEAJUgBABxLAQAHBcEAPwkBACYFwQAJhgEAO4ZBABZLwQAVSYEAJouBACJHgQAMikEAH8ZBAB\\u002fIAQAYy8EAIYhBADGFAQAOjIEAMsTBADJGAQAHxQEAA0fBAAuLwQANCAEAHktBABeJgQAeRYEAKsdBACbIAQAzhIEACUlBAB\\u002fJAQAMxMEAFYWBABVHgQAKCIEAH4fBAAHLwQA5RkEACgTBAA8FwQAVxcEAMkwBACCLAQAeC8EAIcSBAAyFwQAuR8EAJckBABbKAQAiBoEAKsZBAD8JwQAEB8EABsYBAAnMQQA7RUEACcpBAAwFQQAQRkEAPUqBADBMgQADzMEAI8ZBABZKgQAOxoEAIYWBAAoMgQAMyEEABsqBAAdJAQAcxoEAHEqBACiJQQAvSMEAB8nBABKJwQAGBcEAHEdBADuJAQA6ywEACksBAAmJAQAiTIEAE8fBAB9FAQA4ycEACcVBAC4IgQAYiEEAF8pBAB\\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\\u002fCUEAGQcBADgFgQA5icEANgrBAAaEwQAQSoEACAWBACzLwQAhSkEAMUTBAA8HgQApBMEAHUvBAAfHwQAPRcEAFQtBACuEwQAxBcEAGwlBAAEKgQAlCIEAK8TBAB1HgQAhikEALshBAAfJQQAhRkEAPMtBACAHwQAdysEAAggBAC\\u002fGgQAcCMEAIsUBAAnKwQAaR4EAAYeBADOMQQAMTIEAJsTBACTIgQAyBoEABcfBADrJQQAsC4EADQZBAAWMwQARSsEAGktBAC7LQQARR0EAKwXBAAQEwQADS0EAMgjBAAHGAQAJxgEAEETBAA0KgQAPjAEABMWBADFMgQAySUEAOclBACEJwQARyAEAB8xBABiJQQAQTMEAA4hBABkGQQALCgEAIUmBAD1IQQAABMEAGQSBACPJwQA9ykEAHMnBAC2FwQAUBQEAEYXBAA4KQQA1BwEANkcBABfEgQALhgEAKYZBAA7FAQAhS8EAEscBABrHQQAqiAEABAZBAASFgQAvSUEAH8WBADCIgQAcScEAOgkBAAbMAQAdi8EAAgwBAC0EwQAEh8EAPAeBAAKKQQAURIEAHgVBADOIAQA4iQEAMkUBABxIAQAuTEEAIQZBAApJQQA6xMEAOAcBADjJQQAAh0EAHkgBACuGAQAES0EACkVBAClEwQAUSIEAOEkBAAiJQQAdiYEAHUkBADsHgQAVRsEAO8TBAAoGwQAXhkEANsmBACuHQQA+ycEAMUvBACvLwQAZicEAA4qBAB1GwQAihQEABMrBAAIEwQAAyoEAOkxBADgEgQAFjIEALUbBADzIwQAXRIEACQqBACAGgQAaBoEACkxBADxJgQAxxcEAF8iBABeIwQArhoEAEgVBADxKQQAFh4EABMmBACtIgQA9icEACckBAAIGgQA\\u002fCgEAOEUBAATIgQAuBMEAHssBACPHAQAHjMEAAAZBACNHwQANycEAEUhBABcMAQAvysEAOAfBADpIQQAVSEEAEYkBAAEJAQAlSoEANQfBADsMQQAdCgEALkYBAA5MAQA\\u002ficEADcjBABjLQQAzCoEAK0sBAD8GwQA2hUEAOYpBAB7JgQAniQEAMMpBAD2EwQA4isEALcTBABgGAQAJBQEAFUjBAB9JwQAkS8EAGYgBAC9EgQAUSwEAKAgBADuGAQAbCwEAOAtBADOHwQAuDAEAPkjBACWIAQAURwEAIshBABFLQQA9i4EAMMWBACKKwQAoCwEAKIdBABgHgQA6isEAOEwBACMEgQARCYEAGUSBAAUKgQAGyAEAPkkBAAjMgQAujIEAB8XBAAwFwQAnx8EAEsrBABQGAQAFyEEAFgcBACbGAQADy0EAJ8XBABvLQQASBgEABodBABzIgQA2ikEAL0uBAAVJwQAdR0EAOYtBACKEwQAkxMEAIArBAC4JgQAWBYEAPwXBAB\\u002fMAQAeB4EAJIyBAC1FAQA5yIEABQYBADDJQQAJScEAM8oBAB5MQQAgBYEAPcrBACbJQQAPxsEAGUiBADeLwQAlyUEACUWBAApIQQA8h8EAEsXBACVEwQAfhIEACgzBAAcKAQAZjEEAGMaBADbFwQAjRMEAFwdBAAqMwQAeC4EAIUxBAC5KwQAyxQEAEIjBAAVIQQAWxsEAEckBAAVKwQAsiUEALAgBABZIwQAtyUEAKccBABpFwQAgBkEACkiBAAbFgQAERUEADItBABnLAQALisEALQoBABfMAQA6hQEAGAUBACjKAQAMioEAEAeBAAfMAQAhy8EAN8XBACXLwQAmiwEALgjBABEFwQAWS4EAI0cBACpLQQAkRsEAAYjBABZEgQAhRgEALkqBAB8JwQAGiYEAA0vBAD+IwQA\\u002fCMEAIEdBADCLQQAXBQEABEaBACRKAQAGigEAGkaBAC+KAQAABgEAAcaBABeKgQABScEAJ0mBAANHAQAHSsEACYrBACDFQQAEiwEAJglBAAxIQQATCEEAB4rBADxFgQAxh0EACEWBACCJwQA3hYEAGUUBACKLQQAkBYEACwZBABkGwQAcBIEADskBAAqFAQA2icEANAoBABqMgQAYjEEAFgtBADILwQARy4EAHMqBAABMgQAiSoEADAUBADfFgQATisEAFEnBADbLQQAbSQEAM4WBADBGwQAuhQEANoyBAB+FQQAMiYEAIMoBAD0GwQAPDEEAFUsBADvJAQAdxoEAKkwBACeKAQAlB0EAIUiBACDJAQAxCIEALwkBAC3MAQAVSUEAOMxBADXGgQARSUEAIgVBACzGQQAJikEAGwSBACHLgQARicEALsmBADfGQQApSIEAKwYBAAhLgQAOx8EABkfBACGMQQA3ScEAPcqBABvMQQASRkEAFceBABhHQQA3hMEAJoSBAC4HwQACx0EABQVBACTMQQAxicEAKYuBACSIAQArR4EAM8jBAABFAQAMzMEAPUcBABQKgQApCoEAFcbBADTKwQApysEABAqBAAdFgQAnSMEADwUBADrEgQAqyEEAJQTBAAeGgQAtxwEAN8dBAAqJAQAPi4EAEMkBABgMgQAsCkEAAoqBABAMwQAiBQEAIEwBAA7EwQAJSoEACMpBABULwQA5SoEAIocBAAlMQQA3SQEAP0hBACvFwQAzR8EAC0aBABKIAQAATAEALghBABYKQQAkRoEAEUnBADJFgQAox4EAA8pBADJMgQAhhUEADYSBABjGQQAaBUEACASBABfJwQALyoEAHIrBACrLQQAryIEAPUZBACOKgQAbxYEAIQeBABFEgQAFiQEAJMgBACcGAQA4xkEAAwjBAB\\u002fKwQAcxcEAGYbBACJFgQAei8EAMcrBAAZIAQA2igEAOkrBACHHgQAriMEADcvBABXGQQAKRYEAK0dBABiKAQA8xYEAKEuBAAIHgQAYxsEAGMoBABhGwQAGRcEAOsZBAAhIQQAMhMEADolBADRJQQAtCcEALkSBABWJQQAkRkEACMWBADTJAQAMx8EAM0qBADGKgQAVSAEADQUBACUKAQAUB4EAHAeBACIHwQAxyIEABwkBACiJwQAYCUEAPMwBADsHQQAuBsEAJwsBAB9KQQAhiIEAH4dBAC9HQQAWysEAO4hBACdKQQAwCoEAAYWBAA\\u002fHAQA4xwEANYuBABuIgQAiB4EAN8pBACbEgQA\\u002fhkEAAUmBABuJwQAxBkEADkoBAAqGwQAiSAEAIEVBACqJAQApC8EAGknBABzJAQADxcEAJwvBAAsJAQANS4EAJkgBAA8IgQASS0EAJgfBABeGwQAEhsEABseBAA1HAQAvhsEAOAyBABkKQQAJR4EABAlBAAAMQQAGRMEALUVBACZFQQA2B4EAOUyBACrFwQAlRkEANcyBABkFQQAjBgEAAEiBACjIwQAdyUEAIEuBADBFAQA1RYEAIgXBACZKwQA4jEEADEvBABtKgQAdiwEAO0qBACtLQQAzCsEAIItBAC2FAQAyyQEANAbBAAKJgQABCYEALAWBAAYKQQASSYEANAfBAARFgQAQiEEAGEaBAAYHgQAoS0EAIYeBAAjMQQAdScEAFIWBACELgQA9SwEAMMSBAD4IwQAgxYEAEQjBAA1FQQAExcEAIIgBAB9IgQAXR0EAAwsBABvKwQAcicEAFYaBAD6KAQAySgEALsuBAC\\u002fKQQAyhYEABIXBAAhHQQAPBYEAKMbBAAiHQQAhSUEANAcBAA\\u002fKAQA9hQEAI0wBADTMQQAlhIEAKkfBADDGAQA+iUEAP4fBAA3FQQA\\u002fBwEABQtBABpKQQAiDEEAG8hBADjLAQAfhMEALYfBAB7IwQA4hoEAI4lBADCIQQAVxUEAN8fBAA3GgQAUikEABQTBADrLQQAVCUEAEQrBAC5GwQApx4EAJQgBAAOIAQA+CwEACspBACjLwQAUCAEAPQgBACfEwQAXhMEAA8nBAAyIAQAph0EACkqBAC7MQQAqCMEAJQUBABbIwQAUSsEAPUoBAByGgQAzxwEAMgeBABJEgQAVhMEAHQsBAC\\u002fLwQAFiYEADwvBADXFAQAqiYEAA0nBACtMAQAWRsEAJcdBABrMgQAJBYEAEgjBAA9IQQAZyEEALkZBAAwGQQABiQEAA0eBACtMQQAGSQEALowBADdGwQAgRoEAEEXBAA1HQQAnCUEAP0mBAAqMAQAkhUEAIwgBAA6HQQAhC8EAA==\"},\"xaxis\":\"x\",\"yaxis\":\"y\",\"type\":\"histogram\"}],                        {\"template\":{\"data\":{\"histogram2dcontour\":[{\"type\":\"histogram2dcontour\",\"colorbar\":{\"outlinewidth\":0,\"ticks\":\"\"},\"colorscale\":[[0.0,\"#0d0887\"],[0.1111111111111111,\"#46039f\"],[0.2222222222222222,\"#7201a8\"],[0.3333333333333333,\"#9c179e\"],[0.4444444444444444,\"#bd3786\"],[0.5555555555555556,\"#d8576b\"],[0.6666666666666666,\"#ed7953\"],[0.7777777777777778,\"#fb9f3a\"],[0.8888888888888888,\"#fdca26\"],[1.0,\"#f0f921\"]]}],\"choropleth\":[{\"type\":\"choropleth\",\"colorbar\":{\"outlinewidth\":0,\"ticks\":\"\"}}],\"histogram2d\":[{\"type\":\"histogram2d\",\"colorbar\":{\"outlinewidth\":0,\"ticks\":\"\"},\"colorscale\":[[0.0,\"#0d0887\"],[0.1111111111111111,\"#46039f\"],[0.2222222222222222,\"#7201a8\"],[0.3333333333333333,\"#9c179e\"],[0.4444444444444444,\"#bd3786\"],[0.5555555555555556,\"#d8576b\"],[0.6666666666666666,\"#ed7953\"],[0.7777777777777778,\"#fb9f3a\"],[0.8888888888888888,\"#fdca26\"],[1.0,\"#f0f921\"]]}],\"heatmap\":[{\"type\":\"heatmap\",\"colorbar\":{\"outlinewidth\":0,\"ticks\":\"\"},\"colorscale\":[[0.0,\"#0d0887\"],[0.1111111111111111,\"#46039f\"],[0.2222222222222222,\"#7201a8\"],[0.3333333333333333,\"#9c179e\"],[0.4444444444444444,\"#bd3786\"],[0.5555555555555556,\"#d8576b\"],[0.6666666666666666,\"#ed7953\"],[0.7777777777777778,\"#fb9f3a\"],[0.8888888888888888,\"#fdca26\"],[1.0,\"#f0f921\"]]}],\"contourcarpet\":[{\"type\":\"contourcarpet\",\"colorbar\":{\"outlinewidth\":0,\"ticks\":\"\"}}],\"contour\":[{\"type\":\"contour\",\"colorbar\":{\"outlinewidth\":0,\"ticks\":\"\"},\"colorscale\":[[0.0,\"#0d0887\"],[0.1111111111111111,\"#46039f\"],[0.2222222222222222,\"#7201a8\"],[0.3333333333333333,\"#9c179e\"],[0.4444444444444444,\"#bd3786\"],[0.5555555555555556,\"#d8576b\"],[0.6666666666666666,\"#ed7953\"],[0.7777777777777778,\"#fb9f3a\"],[0.8888888888888888,\"#fdca26\"],[1.0,\"#f0f921\"]]}],\"surface\":[{\"type\":\"surface\",\"colorbar\":{\"outlinewidth\":0,\"ticks\":\"\"},\"colorscale\":[[0.0,\"#0d0887\"],[0.1111111111111111,\"#46039f\"],[0.2222222222222222,\"#7201a8\"],[0.3333333333333333,\"#9c179e\"],[0.4444444444444444,\"#bd3786\"],[0.5555555555555556,\"#d8576b\"],[0.6666666666666666,\"#ed7953\"],[0.7777777777777778,\"#fb9f3a\"],[0.8888888888888888,\"#fdca26\"],[1.0,\"#f0f921\"]]}],\"mesh3d\":[{\"type\":\"mesh3d\",\"colorbar\":{\"outlinewidth\":0,\"ticks\":\"\"}}],\"scatter\":[{\"fillpattern\":{\"fillmode\":\"overlay\",\"size\":10,\"solidity\":0.2},\"type\":\"scatter\"}],\"parcoords\":[{\"type\":\"parcoords\",\"line\":{\"colorbar\":{\"outlinewidth\":0,\"ticks\":\"\"}}}],\"scatterpolargl\":[{\"type\":\"scatterpolargl\",\"marker\":{\"colorbar\":{\"outlinewidth\":0,\"ticks\":\"\"}}}],\"bar\":[{\"error_x\":{\"color\":\"#2a3f5f\"},\"error_y\":{\"color\":\"#2a3f5f\"},\"marker\":{\"line\":{\"color\":\"#E5ECF6\",\"width\":0.5},\"pattern\":{\"fillmode\":\"overlay\",\"size\":10,\"solidity\":0.2}},\"type\":\"bar\"}],\"scattergeo\":[{\"type\":\"scattergeo\",\"marker\":{\"colorbar\":{\"outlinewidth\":0,\"ticks\":\"\"}}}],\"scatterpolar\":[{\"type\":\"scatterpolar\",\"marker\":{\"colorbar\":{\"outlinewidth\":0,\"ticks\":\"\"}}}],\"histogram\":[{\"marker\":{\"pattern\":{\"fillmode\":\"overlay\",\"size\":10,\"solidity\":0.2}},\"type\":\"histogram\"}],\"scattergl\":[{\"type\":\"scattergl\",\"marker\":{\"colorbar\":{\"outlinewidth\":0,\"ticks\":\"\"}}}],\"scatter3d\":[{\"type\":\"scatter3d\",\"line\":{\"colorbar\":{\"outlinewidth\":0,\"ticks\":\"\"}},\"marker\":{\"colorbar\":{\"outlinewidth\":0,\"ticks\":\"\"}}}],\"scattermap\":[{\"type\":\"scattermap\",\"marker\":{\"colorbar\":{\"outlinewidth\":0,\"ticks\":\"\"}}}],\"scattermapbox\":[{\"type\":\"scattermapbox\",\"marker\":{\"colorbar\":{\"outlinewidth\":0,\"ticks\":\"\"}}}],\"scatterternary\":[{\"type\":\"scatterternary\",\"marker\":{\"colorbar\":{\"outlinewidth\":0,\"ticks\":\"\"}}}],\"scattercarpet\":[{\"type\":\"scattercarpet\",\"marker\":{\"colorbar\":{\"outlinewidth\":0,\"ticks\":\"\"}}}],\"carpet\":[{\"aaxis\":{\"endlinecolor\":\"#2a3f5f\",\"gridcolor\":\"white\",\"linecolor\":\"white\",\"minorgridcolor\":\"white\",\"startlinecolor\":\"#2a3f5f\"},\"baxis\":{\"endlinecolor\":\"#2a3f5f\",\"gridcolor\":\"white\",\"linecolor\":\"white\",\"minorgridcolor\":\"white\",\"startlinecolor\":\"#2a3f5f\"},\"type\":\"carpet\"}],\"table\":[{\"cells\":{\"fill\":{\"color\":\"#EBF0F8\"},\"line\":{\"color\":\"white\"}},\"header\":{\"fill\":{\"color\":\"#C8D4E3\"},\"line\":{\"color\":\"white\"}},\"type\":\"table\"}],\"barpolar\":[{\"marker\":{\"line\":{\"color\":\"#E5ECF6\",\"width\":0.5},\"pattern\":{\"fillmode\":\"overlay\",\"size\":10,\"solidity\":0.2}},\"type\":\"barpolar\"}],\"pie\":[{\"automargin\":true,\"type\":\"pie\"}]},\"layout\":{\"autotypenumbers\":\"strict\",\"colorway\":[\"#636efa\",\"#EF553B\",\"#00cc96\",\"#ab63fa\",\"#FFA15A\",\"#19d3f3\",\"#FF6692\",\"#B6E880\",\"#FF97FF\",\"#FECB52\"],\"font\":{\"color\":\"#2a3f5f\"},\"hovermode\":\"closest\",\"hoverlabel\":{\"align\":\"left\"},\"paper_bgcolor\":\"white\",\"plot_bgcolor\":\"#E5ECF6\",\"polar\":{\"bgcolor\":\"#E5ECF6\",\"angularaxis\":{\"gridcolor\":\"white\",\"linecolor\":\"white\",\"ticks\":\"\"},\"radialaxis\":{\"gridcolor\":\"white\",\"linecolor\":\"white\",\"ticks\":\"\"}},\"ternary\":{\"bgcolor\":\"#E5ECF6\",\"aaxis\":{\"gridcolor\":\"white\",\"linecolor\":\"white\",\"ticks\":\"\"},\"baxis\":{\"gridcolor\":\"white\",\"linecolor\":\"white\",\"ticks\":\"\"},\"caxis\":{\"gridcolor\":\"white\",\"linecolor\":\"white\",\"ticks\":\"\"}},\"coloraxis\":{\"colorbar\":{\"outlinewidth\":0,\"ticks\":\"\"}},\"colorscale\":{\"sequential\":[[0.0,\"#0d0887\"],[0.1111111111111111,\"#46039f\"],[0.2222222222222222,\"#7201a8\"],[0.3333333333333333,\"#9c179e\"],[0.4444444444444444,\"#bd3786\"],[0.5555555555555556,\"#d8576b\"],[0.6666666666666666,\"#ed7953\"],[0.7777777777777778,\"#fb9f3a\"],[0.8888888888888888,\"#fdca26\"],[1.0,\"#f0f921\"]],\"sequentialminus\":[[0.0,\"#0d0887\"],[0.1111111111111111,\"#46039f\"],[0.2222222222222222,\"#7201a8\"],[0.3333333333333333,\"#9c179e\"],[0.4444444444444444,\"#bd3786\"],[0.5555555555555556,\"#d8576b\"],[0.6666666666666666,\"#ed7953\"],[0.7777777777777778,\"#fb9f3a\"],[0.8888888888888888,\"#fdca26\"],[1.0,\"#f0f921\"]],\"diverging\":[[0,\"#8e0152\"],[0.1,\"#c51b7d\"],[0.2,\"#de77ae\"],[0.3,\"#f1b6da\"],[0.4,\"#fde0ef\"],[0.5,\"#f7f7f7\"],[0.6,\"#e6f5d0\"],[0.7,\"#b8e186\"],[0.8,\"#7fbc41\"],[0.9,\"#4d9221\"],[1,\"#276419\"]]},\"xaxis\":{\"gridcolor\":\"white\",\"linecolor\":\"white\",\"ticks\":\"\",\"title\":{\"standoff\":15},\"zerolinecolor\":\"white\",\"automargin\":true,\"zerolinewidth\":2},\"yaxis\":{\"gridcolor\":\"white\",\"linecolor\":\"white\",\"ticks\":\"\",\"title\":{\"standoff\":15},\"zerolinecolor\":\"white\",\"automargin\":true,\"zerolinewidth\":2},\"scene\":{\"xaxis\":{\"backgroundcolor\":\"#E5ECF6\",\"gridcolor\":\"white\",\"linecolor\":\"white\",\"showbackground\":true,\"ticks\":\"\",\"zerolinecolor\":\"white\",\"gridwidth\":2},\"yaxis\":{\"backgroundcolor\":\"#E5ECF6\",\"gridcolor\":\"white\",\"linecolor\":\"white\",\"showbackground\":true,\"ticks\":\"\",\"zerolinecolor\":\"white\",\"gridwidth\":2},\"zaxis\":{\"backgroundcolor\":\"#E5ECF6\",\"gridcolor\":\"white\",\"linecolor\":\"white\",\"showbackground\":true,\"ticks\":\"\",\"zerolinecolor\":\"white\",\"gridwidth\":2}},\"shapedefaults\":{\"line\":{\"color\":\"#2a3f5f\"}},\"annotationdefaults\":{\"arrowcolor\":\"#2a3f5f\",\"arrowhead\":0,\"arrowwidth\":1},\"geo\":{\"bgcolor\":\"white\",\"landcolor\":\"#E5ECF6\",\"subunitcolor\":\"white\",\"showland\":true,\"showlakes\":true,\"lakecolor\":\"white\"},\"title\":{\"x\":0.05},\"mapbox\":{\"style\":\"light\"}}},\"xaxis\":{\"anchor\":\"y\",\"domain\":[0.0,1.0],\"title\":{\"text\":\"customer_Id\"}},\"yaxis\":{\"anchor\":\"x\",\"domain\":[0.0,1.0],\"title\":{\"text\":\"count\"}},\"legend\":{\"tracegroupgap\":0},\"title\":{\"text\":\"Distribution of customer_Id\"},\"barmode\":\"relative\"},                        {\"responsive\": true}                    )                };            </script>        </div>\n",
       "<div>                        <script type=\"text/javascript\">window.PlotlyConfig = {MathJaxConfig: 'local'};</script>\n",
       "        <script charset=\"utf-8\" src=\"https://cdn.plot.ly/plotly-3.1.0.min.js\" integrity=\"sha256-Ei4740bWZhaUTQuD6q9yQlgVCMPBz6CZWhevDYPv93A=\" crossorigin=\"anonymous\"></script>                <div id=\"9f12195b-0066-4edd-a4e1-bc1fc35271eb\" class=\"plotly-graph-div\" style=\"height:100%; width:100%;\"></div>            <script type=\"text/javascript\">                window.PLOTLYENV=window.PLOTLYENV || {};                                if (document.getElementById(\"9f12195b-0066-4edd-a4e1-bc1fc35271eb\")) {                    Plotly.newPlot(                        \"9f12195b-0066-4edd-a4e1-bc1fc35271eb\",                        [{\"hovertemplate\":\"DOB=%{x}\\u003cbr\\u003eCount=%{y}\\u003cextra\\u003e\\u003c\\u002fextra\\u003e\",\"legendgroup\":\"\",\"marker\":{\"color\":\"#636efa\",\"pattern\":{\"shape\":\"\"}},\"name\":\"\",\"orientation\":\"v\",\"showlegend\":false,\"textposition\":\"auto\",\"x\":[\"27-12-1988\",\"01-08-1975\",\"23-03-1982\",\"17-09-1982\",\"20-03-1972\",\"07-05-1975\",\"20-09-1992\",\"20-05-1975\",\"08-11-1990\",\"15-09-1980\",\"08-07-1991\",\"15-07-1991\",\"09-06-1970\",\"08-06-1981\",\"14-09-1991\",\"05-07-1981\",\"13-07-1981\",\"06-12-1982\",\"20-04-1980\",\"17-07-1975\",\"16-04-1978\",\"16-12-1977\",\"26-02-1982\",\"24-11-1979\",\"18-11-1991\",\"27-11-1991\",\"01-02-1970\",\"05-12-1975\",\"21-08-1990\",\"17-04-1981\",\"04-03-1979\",\"10-06-1983\",\"08-03-1983\",\"15-07-1984\",\"23-05-1984\",\"25-02-1974\",\"10-11-1973\",\"12-10-1984\",\"05-05-1973\",\"21-01-1992\",\"26-03-1987\",\"16-12-1972\",\"23-06-1986\",\"11-07-1971\",\"11-11-1987\",\"15-03-1987\",\"05-12-1992\",\"28-03-1988\",\"08-05-1988\",\"19-05-1988\",\"28-02-1988\",\"04-12-1992\",\"16-06-1992\",\"23-03-1992\",\"06-11-1976\",\"21-01-1978\",\"23-01-1978\",\"11-09-1977\",\"16-09-1977\",\"18-02-1979\",\"26-08-1978\",\"15-11-1978\",\"20-07-1976\",\"09-08-1976\",\"19-06-1970\",\"04-01-1992\",\"18-01-1992\",\"17-08-1976\",\"29-07-1978\",\"18-03-1978\",\"20-08-1976\",\"28-08-1976\",\"28-10-1979\",\"25-11-1979\",\"04-12-1979\",\"22-08-1979\",\"01-10-1979\",\"12-10-1979\",\"11-07-1979\",\"12-07-1979\",\"03-02-1992\",\"22-02-1992\",\"03-09-1970\",\"10-01-1979\",\"01-02-1979\",\"13-07-1980\",\"19-06-1980\",\"20-06-1980\",\"12-11-1975\",\"10-03-1980\",\"24-04-1980\",\"28-12-1979\",\"01-01-1980\",\"08-09-1970\",\"19-06-1991\",\"17-02-1980\",\"20-02-1980\",\"17-01-1981\",\"27-08-1980\",\"18-07-1991\",\"26-02-1991\",\"02-03-1991\",\"26-10-1980\",\"04-12-1980\",\"12-12-1980\",\"24-08-1975\",\"27-08-1975\",\"07-07-1980\",\"11-05-1975\",\"13-05-1975\",\"04-04-1981\",\"06-06-1975\",\"08-06-1975\",\"12-10-1970\",\"28-04-1991\",\"16-01-1991\",\"07-05-1981\",\"26-06-1975\",\"08-11-1981\",\"17-11-1981\",\"27-02-1975\",\"13-12-1981\",\"20-12-1981\",\"07-08-1981\",\"19-11-1970\",\"04-02-1991\",\"10-02-1991\",\"07-10-1990\",\"06-04-1975\",\"08-10-1981\",\"14-10-1974\",\"19-11-1982\",\"18-11-1974\",\"27-09-1982\",\"22-11-1974\",\"17-09-1978\",\"10-01-1971\",\"15-12-1990\",\"18-12-1974\",\"16-07-1982\",\"12-08-1982\",\"20-04-1982\",\"05-05-1982\",\"24-01-1982\",\"07-05-1974\",\"19-09-1983\",\"29-01-1970\",\"07-06-1974\",\"22-06-1974\",\"22-07-1983\",\"16-05-1983\",\"22-07-1990\",\"09-08-1990\",\"28-08-1974\",\"01-09-1974\",\"23-02-1983\",\"23-10-1992\",\"29-03-1983\",\"12-10-1982\",\"16-11-1982\",\"19-02-1970\",\"03-08-1984\",\"29-01-1974\",\"05-05-1984\",\"15-05-1984\",\"21-03-1977\",\"21-02-1970\",\"22-02-1984\",\"27-04-1990\",\"11-05-1990\",\"01-01-1990\",\"19-03-1971\",\"21-12-1983\",\"21-01-1984\",\"22-01-1984\",\"03-02-1984\",\"06-01-1985\",\"08-01-1985\",\"15-10-1973\",\"04-11-1973\",\"13-01-1989\",\"23-02-1985\",\"21-02-1989\",\"14-10-1984\",\"21-04-1971\",\"22-01-1990\",\"08-02-1990\",\"21-03-1990\",\"20-05-1971\",\"22-11-1984\",\"02-12-1984\",\"24-12-1973\",\"12-06-1986\",\"20-06-1986\",\"11-03-1973\",\"25-04-1986\",\"26-09-1988\",\"11-10-1985\",\"24-11-1985\",\"29-11-1985\",\"25-07-1985\",\"01-09-1973\",\"10-05-1985\",\"28-11-1989\",\"20-05-1985\",\"07-06-1985\",\"18-06-1985\",\"29-06-1985\",\"25-07-1987\",\"09-09-1972\",\"17-05-1987\",\"27-10-1988\",\"04-11-1988\",\"22-06-1988\",\"22-11-1986\",\"21-07-1988\",\"29-06-1986\",\"04-06-1971\",\"03-10-1989\",\"10-07-1971\",\"01-03-1972\",\"20-06-1989\",\"16-07-1986\",\"13-09-1986\",\"01-02-1988\",\"02-02-1988\",\"17-06-1972\",\"07-11-1987\",\"10-11-1987\",\"21-04-1978\",\"01-09-1987\",\"22-07-1972\",\"27-06-1989\",\"28-07-1989\",\"06-08-1989\",\"09-05-1989\",\"20-05-1989\",\"08-09-1987\",\"08-10-1987\",\"24-06-1987\",\"10-12-1976\",\"11-10-1977\",\"12-10-1977\",\"05-11-1977\",\"11-11-1977\",\"16-06-1977\",\"27-04-1977\",\"23-05-1977\",\"26-05-1977\",\"27-05-1977\",\"04-01-1977\",\"18-07-1977\",\"28-02-1978\",\"21-11-1977\",\"08-12-1992\",\"24-07-1992\",\"03-03-1972\",\"06-12-1977\",\"20-05-1992\",\"24-05-1992\",\"12-06-1992\",\"11-03-1972\",\"29-07-1971\",\"12-08-1971\",\"14-06-1989\",\"24-06-1971\",\"29-06-1971\",\"15-06-1992\",\"07-03-1988\",\"15-02-1972\",\"17-04-1972\",\"29-12-1987\",\"12-09-1992\",\"15-01-1970\",\"26-10-1992\",\"08-03-1970\",\"04-03-1970\",\"19-12-1992\",\"09-10-1992\",\"07-10-1992\",\"11-04-1977\",\"27-01-1977\",\"03-02-1977\",\"09-02-1977\",\"11-07-1977\",\"03-07-1977\",\"23-06-1977\",\"11-01-1977\",\"02-01-1977\",\"27-12-1976\",\"22-05-1970\",\"10-05-1970\",\"06-05-1970\",\"29-04-1970\",\"22-04-1992\",\"17-05-1977\",\"16-05-1977\",\"29-04-1977\",\"28-04-1977\",\"13-04-1977\",\"07-10-1988\",\"28-09-1988\",\"27-09-1988\",\"25-09-1988\",\"18-09-1988\",\"15-09-1988\",\"13-09-1988\",\"12-09-1988\",\"25-11-1971\",\"22-11-1971\",\"10-02-1989\",\"07-02-1989\",\"05-02-1989\",\"01-02-1989\",\"25-01-1989\",\"21-01-1989\",\"03-11-1971\",\"08-09-1988\",\"06-09-1988\",\"03-09-1988\",\"19-08-1988\",\"15-08-1988\",\"10-08-1988\",\"07-08-1988\",\"27-12-1971\",\"23-12-1971\",\"18-12-1971\",\"10-12-1971\",\"03-12-1971\",\"29-11-1988\",\"26-10-1988\",\"13-10-1988\",\"21-04-1989\",\"18-04-1989\",\"14-04-1989\",\"25-03-1989\",\"24-03-1989\",\"11-09-1971\",\"07-09-1971\",\"03-09-1971\",\"18-08-1971\",\"16-06-1988\",\"02-06-1988\",\"23-05-1988\",\"22-05-1988\",\"21-11-1971\",\"19-11-1971\",\"04-11-1971\",\"29-11-1971\",\"28-07-1988\",\"26-07-1988\",\"24-07-1988\",\"17-07-1988\",\"03-02-1972\",\"01-02-1972\",\"24-01-1972\",\"23-01-1972\",\"28-06-1988\",\"28-12-1988\",\"24-12-1988\",\"07-12-1988\",\"05-12-1988\",\"05-05-1989\",\"01-05-1989\",\"23-05-1989\",\"08-08-1971\",\"15-03-1972\",\"13-03-1972\",\"09-03-1972\",\"12-05-1988\",\"05-05-1988\",\"03-05-1988\",\"22-04-1988\",\"21-04-1988\",\"05-04-1988\",\"04-04-1988\",\"26-03-1988\",\"06-03-1972\",\"28-02-1972\",\"22-02-1972\",\"20-02-1972\",\"23-03-1988\",\"08-03-1988\",\"07-04-1972\",\"02-04-1972\",\"25-03-1972\",\"18-03-1972\",\"11-03-1989\",\"10-03-1989\",\"05-03-1989\",\"27-02-1989\",\"25-02-1989\",\"19-06-1989\",\"11-06-1989\",\"04-06-1989\",\"29-05-1989\",\"02-06-1972\",\"26-05-1972\",\"23-05-1972\",\"23-02-1988\",\"16-02-1988\",\"08-02-1988\",\"07-02-1988\",\"22-01-1988\",\"15-01-1988\",\"06-01-1988\",\"18-05-1972\",\"02-05-1972\",\"28-12-1987\",\"15-12-1987\",\"11-12-1987\",\"21-02-1972\",\"20-07-1989\",\"16-07-1989\",\"13-07-1989\",\"04-07-1989\",\"04-09-1987\",\"24-07-1972\",\"13-07-1972\",\"05-12-1987\",\"24-11-1987\",\"23-11-1987\",\"08-11-1987\",\"24-06-1972\",\"23-06-1972\",\"16-06-1972\",\"15-06-1972\",\"10-06-1972\",\"02-11-1987\",\"20-10-1987\",\"18-10-1987\",\"14-10-1987\",\"02-10-1987\",\"25-09-1987\",\"24-09-1987\",\"16-09-1987\",\"12-09-1987\",\"18-07-1971\",\"18-05-1989\",\"16-05-1989\",\"14-08-1989\",\"03-08-1989\",\"02-08-1989\",\"22-07-1989\",\"04-09-1972\",\"29-04-1987\",\"29-08-1987\",\"12-08-1987\",\"07-08-1987\",\"01-08-1987\",\"29-07-1987\",\"23-07-1987\",\"20-07-1987\",\"18-07-1987\",\"07-07-1987\",\"27-08-1972\",\"20-08-1972\",\"02-08-1972\",\"22-06-1987\",\"18-06-1987\",\"10-03-1987\",\"25-02-1987\",\"20-02-1987\",\"03-02-1987\",\"11-06-1987\",\"09-06-1987\",\"08-06-1987\",\"06-06-1987\",\"24-05-1987\",\"19-05-1987\",\"13-05-1987\",\"12-05-1987\",\"03-05-1987\",\"02-10-1972\",\"16-09-1972\",\"05-09-1972\",\"01-01-1987\",\"20-12-1986\",\"07-12-1986\",\"05-12-1986\",\"03-12-1986\",\"02-12-1986\",\"28-04-1987\",\"26-04-1987\",\"19-04-1987\",\"18-04-1987\",\"08-04-1987\",\"23-03-1987\",\"17-03-1987\",\"02-11-1972\",\"16-10-1972\",\"13-03-1987\",\"19-12-1972\",\"18-12-1972\",\"12-12-1972\",\"10-12-1972\",\"24-09-1986\",\"19-09-1986\",\"25-01-1987\",\"17-01-1987\",\"11-01-1987\",\"10-01-1987\",\"08-01-1987\",\"07-01-1987\",\"05-12-1972\",\"29-11-1972\",\"28-11-1972\",\"26-11-1972\",\"23-09-1989\",\"20-09-1989\",\"07-06-1971\",\"05-06-1971\",\"06-09-1989\",\"03-07-1986\",\"01-07-1986\",\"28-06-1986\",\"28-11-1986\",\"09-11-1986\",\"14-10-1986\",\"03-10-1986\",\"28-09-1986\",\"27-12-1972\",\"26-12-1972\",\"22-12-1972\",\"26-04-1986\",\"18-09-1986\",\"11-09-1986\",\"29-08-1986\",\"19-08-1986\",\"11-08-1986\",\"26-07-1986\",\"25-07-1986\",\"15-07-1986\",\"12-07-1986\",\"21-06-1989\",\"04-07-1971\",\"12-10-1989\",\"11-10-1989\",\"05-10-1989\",\"24-09-1989\",\"19-03-1973\",\"17-03-1973\",\"10-03-1973\",\"19-06-1986\",\"17-06-1986\",\"16-06-1986\",\"13-06-1986\",\"24-02-1973\",\"21-02-1973\",\"20-02-1973\",\"02-06-1986\",\"21-05-1986\",\"16-05-1986\",\"14-05-1986\",\"12-05-1986\",\"08-05-1986\",\"28-04-1973\",\"12-04-1973\",\"12-12-1985\",\"08-12-1985\",\"06-12-1985\",\"20-04-1986\",\"09-04-1986\",\"06-04-1986\",\"01-04-1986\",\"24-03-1986\",\"13-03-1986\",\"10-03-1986\",\"09-03-1986\",\"06-04-1973\",\"03-04-1973\",\"02-04-1973\",\"22-06-1973\",\"08-06-1973\",\"04-06-1973\",\"02-06-1973\",\"26-05-1973\",\"28-09-1985\",\"09-03-1973\",\"18-02-1986\",\"17-02-1986\",\"03-02-1986\",\"02-02-1986\",\"28-12-1985\",\"24-12-1985\",\"10-05-1973\",\"09-05-1973\",\"04-05-1973\",\"23-08-1985\",\"11-08-1973\",\"28-07-1973\",\"17-07-1973\",\"16-07-1973\",\"12-07-1973\",\"22-07-1985\",\"21-07-1985\",\"08-07-1985\",\"04-12-1985\",\"02-12-1985\",\"11-11-1985\",\"10-11-1985\",\"01-11-1985\",\"25-10-1985\",\"16-10-1985\",\"01-12-1989\",\"10-11-1989\",\"01-11-1989\",\"27-10-1989\",\"24-10-1989\",\"22-10-1989\",\"18-10-1989\",\"13-09-1973\",\"10-09-1973\",\"06-09-1973\",\"19-09-1985\",\"05-09-1985\",\"04-09-1985\",\"03-09-1985\",\"27-08-1985\",\"24-08-1985\",\"05-03-1985\",\"16-06-1985\",\"12-06-1985\",\"03-06-1985\",\"02-06-1985\",\"29-05-1985\",\"23-05-1985\",\"11-05-1985\",\"04-09-1989\",\"01-09-1989\",\"22-08-1989\",\"17-08-1989\",\"16-08-1989\",\"21-12-1989\",\"17-12-1989\",\"13-12-1989\",\"18-01-1985\",\"25-08-1973\",\"23-08-1973\",\"20-08-1973\",\"01-05-1985\",\"24-04-1985\",\"19-04-1985\",\"13-04-1985\",\"09-04-1985\",\"12-10-1973\",\"01-10-1973\",\"26-09-1973\",\"23-09-1973\",\"17-09-1973\",\"25-03-1985\",\"21-03-1985\",\"12-02-1990\",\"24-01-1990\",\"23-01-1990\",\"22-04-1971\",\"17-11-1973\",\"09-10-1984\",\"02-10-1984\",\"13-02-1985\",\"10-02-1985\",\"08-02-1985\",\"06-02-1985\",\"04-02-1985\",\"15-11-1973\",\"26-10-1973\",\"24-10-1973\",\"14-10-1973\",\"29-12-1984\",\"22-12-1984\",\"18-12-1984\",\"05-12-1984\",\"19-11-1984\",\"26-10-1984\",\"21-10-1984\",\"23-12-1973\",\"06-12-1973\",\"22-05-1971\",\"11-05-1971\",\"08-05-1971\",\"01-05-1971\",\"19-03-1990\",\"09-03-1990\",\"13-02-1990\",\"02-02-1974\",\"27-04-1984\",\"26-04-1984\",\"15-09-1984\",\"12-09-1984\",\"20-08-1984\",\"09-08-1984\",\"14-07-1984\",\"10-07-1984\",\"13-01-1974\",\"08-01-1974\",\"08-07-1984\",\"06-07-1984\",\"04-07-1984\",\"26-06-1984\",\"09-06-1984\",\"24-02-1984\",\"06-04-1974\",\"01-04-1974\",\"09-03-1974\",\"27-02-1974\",\"11-02-1984\",\"07-02-1984\",\"01-06-1984\",\"29-05-1984\",\"26-05-1984\",\"24-05-1984\",\"21-05-1984\",\"03-05-1984\",\"15-02-1974\",\"12-02-1974\",\"10-02-1974\",\"17-03-1971\",\"11-03-1971\",\"09-03-1971\",\"02-03-1971\",\"04-05-1974\",\"03-05-1974\",\"18-04-1974\",\"17-04-1974\",\"15-04-1974\",\"17-04-1984\",\"11-04-1984\",\"08-04-1984\",\"16-03-1984\",\"08-03-1984\",\"05-03-1984\",\"27-02-1984\",\"15-09-1983\",\"06-02-1984\",\"19-01-1984\",\"12-01-1984\",\"03-01-1984\",\"02-01-1984\",\"14-12-1983\",\"05-05-1974\",\"01-04-1971\",\"06-01-1990\",\"24-12-1989\",\"09-06-1990\",\"28-05-1990\",\"27-05-1990\",\"21-04-1990\",\"01-04-1990\",\"15-06-1983\",\"02-06-1983\",\"19-05-1983\",\"29-11-1983\",\"28-11-1983\",\"26-11-1983\",\"17-11-1983\",\"06-11-1983\",\"16-10-1983\",\"14-10-1983\",\"01-10-1983\",\"22-09-1983\",\"18-09-1983\",\"03-06-1974\",\"21-05-1974\",\"14-05-1974\",\"26-07-1974\",\"20-07-1974\",\"17-07-1974\",\"08-04-1983\",\"07-04-1983\",\"05-04-1983\",\"04-04-1983\",\"14-09-1983\",\"11-09-1983\",\"22-08-1983\",\"14-08-1983\",\"17-07-1983\",\"20-06-1974\",\"06-06-1974\",\"07-07-1983\",\"28-06-1983\",\"17-07-1990\",\"23-02-1971\",\"15-02-1971\",\"11-08-1974\",\"21-01-1983\",\"16-01-1983\",\"15-01-1983\",\"01-01-1983\",\"13-05-1983\",\"12-05-1983\",\"01-05-1983\",\"21-04-1983\",\"18-04-1983\",\"05-08-1974\",\"04-08-1974\",\"28-07-1974\",\"17-03-1983\",\"13-03-1983\",\"06-03-1983\",\"04-09-1974\",\"13-08-1974\",\"01-03-1971\",\"28-02-1971\",\"26-02-1971\",\"25-03-1990\",\"23-03-1990\",\"17-08-1990\",\"12-08-1990\",\"11-08-1990\",\"07-08-1990\",\"04-08-1990\",\"21-07-1990\",\"05-11-1974\",\"26-10-1974\",\"19-10-1974\",\"13-09-1982\",\"22-12-1982\",\"21-12-1982\",\"13-12-1982\",\"28-11-1982\",\"13-10-1974\",\"04-10-1974\",\"05-09-1974\",\"10-11-1982\",\"06-11-1982\",\"01-11-1982\",\"27-10-1982\",\"19-03-1983\",\"28-11-1990\",\"11-01-1971\",\"08-01-1971\",\"11-12-1974\",\"04-12-1974\",\"28-11-1974\",\"27-11-1974\",\"28-09-1982\",\"24-09-1982\",\"21-09-1982\",\"20-09-1982\",\"19-09-1982\",\"15-11-1974\",\"14-11-1974\",\"13-11-1974\",\"11-11-1974\",\"07-08-1982\",\"28-07-1982\",\"20-07-1982\",\"19-07-1982\",\"17-07-1982\",\"15-07-1982\",\"02-02-1971\",\"01-02-1971\",\"22-01-1971\",\"04-07-1990\",\"28-06-1990\",\"29-12-1990\",\"25-12-1990\",\"09-12-1990\",\"05-12-1990\",\"02-12-1990\",\"14-07-1982\",\"11-07-1982\",\"09-07-1982\",\"03-07-1982\",\"28-06-1982\",\"21-06-1982\",\"19-06-1982\",\"09-06-1982\",\"17-01-1975\",\"26-12-1974\",\"03-06-1982\",\"03-05-1982\",\"29-04-1982\",\"17-04-1982\",\"26-08-1982\",\"14-08-1982\",\"04-11-1981\",\"23-10-1981\",\"12-10-1981\",\"13-04-1982\",\"03-04-1982\",\"29-03-1982\",\"27-03-1982\",\"03-03-1982\",\"12-02-1975\",\"11-02-1975\",\"03-02-1975\",\"01-02-1975\",\"03-02-1982\",\"27-01-1982\",\"21-01-1982\",\"04-01-1982\",\"13-12-1970\",\"04-12-1970\",\"23-11-1970\",\"06-11-1970\",\"16-08-1981\",\"13-08-1981\",\"09-08-1981\",\"02-08-1981\",\"03-01-1982\",\"14-12-1981\",\"10-12-1981\",\"07-12-1981\",\"24-03-1975\",\"03-03-1975\",\"17-02-1975\",\"14-11-1981\",\"09-10-1981\",\"02-10-1981\",\"01-10-1981\",\"22-09-1981\",\"17-09-1981\",\"25-04-1975\",\"17-04-1975\",\"04-09-1981\",\"25-08-1981\",\"27-09-1990\",\"09-09-1990\",\"24-08-1990\",\"25-02-1991\",\"23-02-1991\",\"13-02-1991\",\"03-02-1991\",\"29-04-1991\",\"01-11-1970\",\"26-10-1970\",\"20-10-1970\",\"02-04-1991\",\"01-06-1975\",\"28-03-1981\",\"20-07-1981\",\"19-07-1981\",\"07-07-1981\",\"29-06-1981\",\"23-06-1981\",\"22-06-1981\",\"18-05-1975\",\"08-05-1975\",\"05-05-1975\",\"05-06-1981\",\"29-05-1981\",\"14-05-1981\",\"12-05-1981\",\"14-04-1981\",\"15-06-1975\",\"14-06-1975\",\"11-06-1975\",\"22-01-1991\",\"13-01-1991\",\"10-01-1991\",\"08-01-1991\",\"14-05-1991\",\"13-05-1991\",\"06-05-1991\",\"02-05-1991\",\"22-08-1980\",\"18-08-1980\",\"14-03-1981\",\"07-02-1981\",\"25-01-1981\",\"24-01-1981\",\"09-01-1981\",\"07-01-1981\",\"20-12-1980\",\"16-12-1980\",\"18-07-1975\",\"11-07-1975\",\"09-07-1975\",\"04-07-1975\",\"01-07-1975\",\"04-05-1975\",\"28-11-1980\",\"27-11-1980\",\"08-08-1975\",\"16-11-1980\",\"28-10-1980\",\"22-03-1991\",\"16-03-1991\",\"05-03-1991\",\"22-09-1991\",\"13-09-1991\",\"10-08-1991\",\"03-10-1970\",\"29-09-1970\",\"22-09-1970\",\"14-09-1970\",\"07-10-1980\",\"02-10-1975\",\"26-09-1975\",\"17-08-1980\",\"23-07-1980\",\"11-07-1980\",\"03-07-1980\",\"29-06-1980\",\"19-09-1975\",\"17-09-1975\",\"08-09-1975\",\"06-09-1975\",\"03-09-1975\",\"25-08-1975\",\"28-06-1980\",\"09-12-1980\",\"03-12-1980\",\"11-03-1980\",\"18-11-1975\",\"16-11-1975\",\"04-11-1975\",\"23-06-1980\",\"12-06-1980\",\"05-06-1980\",\"29-05-1980\",\"26-05-1980\",\"12-05-1980\",\"09-05-1980\",\"07-05-1980\",\"05-05-1980\",\"19-10-1975\",\"10-10-1975\",\"04-10-1975\",\"14-10-1991\",\"13-09-1970\",\"10-09-1970\",\"09-09-1970\",\"06-09-1970\",\"01-12-1975\",\"22-11-1975\",\"13-01-1980\",\"01-05-1980\",\"12-04-1980\",\"02-04-1980\",\"28-03-1980\",\"25-03-1980\",\"19-03-1980\",\"18-03-1980\",\"15-03-1980\",\"02-11-1979\",\"03-11-1975\",\"29-10-1975\",\"23-10-1975\",\"05-03-1980\",\"26-02-1980\",\"13-02-1980\",\"13-12-1975\",\"08-12-1975\",\"21-06-1991\",\"29-05-1991\",\"28-05-1991\",\"27-05-1991\",\"22-11-1991\",\"10-11-1991\",\"25-10-1991\",\"01-02-1976\",\"20-08-1979\",\"19-08-1979\",\"06-08-1979\",\"29-07-1979\",\"20-12-1979\",\"12-12-1979\",\"29-11-1979\",\"27-11-1979\",\"14-11-1979\",\"12-01-1976\",\"07-01-1976\",\"06-01-1976\",\"05-01-1976\",\"28-12-1975\",\"25-12-1975\",\"23-06-1979\",\"20-06-1979\",\"12-06-1979\",\"17-03-1976\",\"09-03-1976\",\"05-06-1979\",\"27-05-1979\",\"14-05-1979\",\"16-10-1979\",\"14-10-1979\",\"10-09-1979\",\"08-09-1979\",\"25-02-1976\",\"21-02-1976\",\"20-02-1976\",\"10-02-1976\",\"09-02-1992\",\"07-02-1992\",\"06-02-1992\",\"06-08-1970\",\"26-07-1970\",\"24-07-1970\",\"02-05-1976\",\"18-04-1976\",\"14-04-1976\",\"06-03-1979\",\"15-07-1979\",\"10-07-1979\",\"09-07-1979\",\"29-06-1979\",\"27-06-1979\",\"24-06-1979\",\"22-04-1979\",\"05-04-1979\",\"01-04-1979\",\"17-03-1979\",\"16-03-1979\",\"15-03-1979\",\"07-03-1979\",\"14-05-1976\",\"11-05-1976\",\"07-05-1976\",\"12-10-1991\",\"02-10-1991\",\"26-09-1991\",\"23-09-1991\",\"29-02-1992\",\"25-02-1992\",\"13-09-1978\",\"14-08-1978\",\"26-02-1979\",\"23-02-1979\",\"20-02-1979\",\"19-02-1979\",\"12-02-1979\",\"09-06-1976\",\"11-02-1979\",\"10-02-1979\",\"11-01-1979\",\"04-01-1979\",\"03-01-1979\",\"17-12-1978\",\"14-12-1978\",\"26-04-1979\",\"17-06-1970\",\"10-06-1970\",\"03-08-1976\",\"29-05-1978\",\"26-05-1978\",\"27-11-1978\",\"24-11-1978\",\"22-11-1978\",\"13-11-1978\",\"09-11-1978\",\"02-11-1978\",\"01-07-1976\",\"25-06-1976\",\"23-06-1976\",\"08-10-1978\",\"05-10-1978\",\"24-07-1978\",\"24-06-1978\",\"23-06-1978\",\"12-06-1978\",\"12-08-1976\",\"10-08-1976\",\"15-01-1992\",\"05-01-1992\",\"23-12-1991\",\"16-04-1992\",\"14-04-1992\",\"12-04-1992\",\"08-04-1992\",\"06-04-1992\",\"05-04-1992\",\"25-06-1970\",\"23-09-1976\",\"22-09-1976\",\"19-05-1978\",\"16-05-1978\",\"04-05-1978\",\"27-04-1978\",\"25-04-1978\",\"22-04-1978\",\"20-04-1978\",\"20-09-1976\",\"08-09-1976\",\"24-08-1976\",\"22-08-1976\",\"12-08-1978\",\"10-08-1978\",\"06-08-1978\",\"23-05-1970\",\"24-12-1977\",\"24-11-1977\",\"14-03-1978\",\"06-03-1978\",\"19-02-1978\",\"15-02-1978\",\"11-02-1978\",\"08-02-1978\",\"07-02-1978\",\"04-02-1978\",\"14-10-1976\",\"10-10-1976\",\"09-10-1976\",\"25-09-1976\",\"24-09-1976\",\"16-01-1978\",\"11-01-1978\",\"07-01-1978\",\"03-11-1976\",\"01-11-1976\",\"28-10-1976\",\"20-10-1976\",\"21-03-1992\",\"19-03-1992\",\"17-03-1992\",\"13-03-1992\",\"09-06-1992\",\"05-06-1992\",\"18-05-1992\",\"29-04-1992\",\"01-06-1970\",\"10-03-1977\",\"23-02-1977\",\"19-06-1977\",\"13-06-1977\",\"12-06-1977\",\"28-05-1977\",\"20-11-1977\",\"19-10-1977\",\"14-10-1977\",\"22-12-1976\",\"08-12-1976\",\"24-11-1976\",\"23-11-1976\",\"10-09-1977\",\"09-09-1977\",\"18-01-1978\",\"20-02-1977\",\"11-09-1992\",\"02-09-1992\",\"26-08-1992\",\"19-08-1992\",\"10-08-1992\",\"24-04-1970\",\"19-04-1970\",\"02-04-1970\",\"29-03-1970\",\"27-03-1970\",\"06-12-1992\",\"14-09-1992\",\"16-08-1977\",\"03-08-1977\",\"01-08-1977\",\"21-10-1971\",\"12-10-1971\",\"07-01-1989\",\"22-07-1992\",\"04-07-1992\",\"29-06-1992\",\"24-06-1992\",\"08-04-1977\",\"03-04-1977\",\"29-03-1977\",\"22-03-1977\",\"17-03-1977\",\"21-11-1992\",\"12-11-1992\",\"18-02-1970\",\"09-12-1992\",\"16-01-1970\",\"18-01-1970\",\"08-11-1992\",\"02-12-1992\",\"01-12-1992\",\"21-01-1970\",\"29-12-1992\",\"11-01-1970\",\"03-12-1992\",\"12-12-1992\",\"15-12-1992\",\"13-02-1970\",\"28-10-1992\",\"19-10-1992\",\"18-10-1992\",\"17-03-1970\",\"16-03-1970\",\"15-03-1970\",\"14-03-1970\",\"12-03-1970\",\"07-03-1970\",\"22-02-1970\",\"07-01-1970\",\"27-12-1992\",\"25-12-1992\",\"24-12-1992\",\"17-12-1992\",\"16-12-1992\",\"18-04-1977\",\"17-04-1977\",\"12-04-1977\",\"13-03-1977\",\"11-03-1977\",\"09-03-1977\",\"07-03-1977\",\"05-03-1977\",\"18-02-1977\",\"12-02-1977\",\"10-02-1977\",\"29-01-1977\",\"26-01-1977\",\"10-04-1977\",\"09-04-1977\",\"07-04-1977\",\"03-01-1977\",\"18-06-1977\",\"15-06-1977\",\"14-06-1977\",\"09-06-1977\",\"06-06-1977\",\"01-06-1977\",\"20-05-1977\",\"19-05-1977\",\"18-05-1977\",\"14-05-1977\",\"06-05-1977\",\"03-05-1977\",\"01-05-1977\",\"20-04-1977\",\"19-04-1977\",\"28-06-1977\",\"27-06-1977\",\"25-06-1977\",\"21-06-1977\",\"20-06-1977\",\"25-01-1977\",\"21-01-1977\",\"20-01-1977\",\"19-01-1977\",\"15-01-1977\",\"13-01-1977\",\"12-01-1977\",\"10-01-1977\",\"08-01-1977\",\"07-01-1977\",\"05-01-1977\",\"13-08-1977\",\"11-08-1977\",\"09-08-1977\",\"06-08-1977\",\"05-08-1977\",\"02-08-1977\",\"27-07-1977\",\"21-07-1977\",\"19-07-1977\",\"17-07-1977\",\"13-07-1977\",\"12-07-1977\",\"09-07-1977\",\"07-07-1977\",\"05-07-1977\",\"04-07-1977\",\"27-09-1977\",\"26-09-1977\",\"24-09-1977\",\"23-09-1977\",\"21-09-1977\",\"19-09-1977\",\"18-09-1977\",\"12-09-1977\",\"03-09-1977\",\"02-09-1977\",\"01-09-1977\",\"26-08-1977\",\"24-08-1977\",\"23-08-1977\",\"21-08-1977\",\"14-08-1977\",\"09-10-1977\",\"06-10-1977\",\"01-10-1977\",\"29-09-1977\",\"28-09-1977\",\"26-12-1976\",\"25-12-1976\",\"24-12-1976\",\"17-12-1976\",\"16-12-1976\",\"11-12-1976\",\"07-12-1976\",\"04-12-1976\",\"28-11-1976\",\"26-11-1976\",\"16-11-1976\",\"25-11-1977\",\"23-11-1977\",\"19-11-1977\",\"17-11-1977\",\"15-11-1977\",\"14-11-1977\",\"12-11-1977\",\"10-11-1977\",\"09-11-1977\",\"06-11-1977\",\"04-11-1977\",\"01-11-1977\",\"28-10-1977\",\"27-10-1977\",\"24-10-1977\",\"15-10-1977\",\"21-10-1976\",\"29-12-1977\",\"28-12-1977\",\"27-12-1977\",\"26-12-1977\",\"22-12-1977\",\"20-12-1977\",\"13-12-1977\",\"12-12-1977\",\"10-12-1977\",\"09-12-1977\",\"03-12-1977\",\"01-12-1977\",\"29-11-1977\",\"28-11-1977\",\"27-11-1977\",\"19-01-1978\",\"12-01-1978\",\"06-01-1978\",\"05-01-1978\",\"02-01-1978\",\"01-01-1978\",\"13-11-1976\",\"12-11-1976\",\"11-11-1976\",\"09-11-1976\",\"08-11-1976\",\"05-11-1976\",\"04-11-1976\",\"02-11-1976\",\"27-10-1976\",\"26-10-1976\",\"05-02-1978\",\"29-01-1978\",\"28-01-1978\",\"19-10-1976\",\"17-10-1976\",\"16-10-1976\",\"12-10-1976\",\"08-10-1976\",\"07-10-1976\",\"06-10-1976\",\"02-10-1976\",\"29-09-1976\",\"27-01-1978\",\"25-01-1978\",\"22-01-1978\",\"20-01-1978\",\"25-03-1978\",\"21-03-1978\",\"17-03-1978\",\"12-03-1978\",\"10-03-1978\",\"09-03-1978\",\"07-03-1978\",\"02-03-1978\",\"27-02-1978\",\"24-02-1978\",\"22-02-1978\",\"17-02-1978\",\"16-02-1978\",\"14-02-1978\",\"10-02-1978\",\"09-02-1978\",\"13-04-1978\",\"11-04-1978\",\"08-04-1978\",\"18-09-1976\",\"16-09-1976\",\"15-09-1976\",\"14-09-1976\",\"11-09-1976\",\"06-09-1976\",\"04-09-1976\",\"02-09-1976\",\"26-08-1976\",\"19-08-1976\",\"05-04-1978\",\"27-03-1978\",\"26-03-1978\",\"21-05-1978\",\"14-05-1978\",\"13-05-1978\",\"12-05-1978\",\"11-05-1978\",\"08-05-1978\",\"07-05-1978\",\"06-05-1978\",\"02-05-1978\",\"29-04-1978\",\"28-04-1978\",\"26-04-1978\",\"19-04-1978\",\"17-04-1978\",\"15-04-1978\",\"14-04-1978\",\"09-06-1978\",\"08-06-1978\",\"07-06-1978\",\"06-06-1978\",\"15-08-1976\",\"14-08-1976\",\"13-08-1976\",\"11-08-1976\",\"02-08-1976\",\"26-07-1976\",\"22-07-1976\",\"19-07-1976\",\"17-07-1976\",\"14-07-1976\",\"24-05-1978\",\"22-05-1978\",\"21-07-1978\",\"20-07-1978\",\"16-07-1978\",\"15-07-1978\",\"13-07-1978\",\"12-07-1978\",\"11-07-1978\",\"09-07-1978\",\"06-07-1978\",\"03-07-1978\",\"21-06-1978\",\"20-06-1978\",\"16-06-1978\",\"15-06-1978\",\"13-06-1978\",\"11-06-1978\",\"14-09-1978\",\"09-09-1978\",\"07-09-1978\",\"06-09-1978\",\"04-09-1978\",\"20-08-1978\",\"18-08-1978\",\"11-08-1978\",\"09-08-1978\",\"08-08-1978\",\"07-08-1978\",\"05-08-1978\",\"03-08-1978\",\"01-08-1978\",\"23-07-1978\",\"22-07-1978\",\"15-06-1976\",\"13-06-1976\",\"27-10-1978\",\"23-10-1978\",\"16-10-1978\",\"14-10-1978\",\"04-10-1978\",\"02-10-1978\",\"01-10-1978\",\"29-09-1978\",\"24-09-1978\",\"22-09-1978\",\"20-09-1978\",\"19-09-1978\",\"16-09-1978\",\"15-09-1978\",\"08-11-1978\",\"07-11-1978\",\"06-11-1978\",\"05-11-1978\",\"28-10-1978\",\"12-07-1976\",\"07-07-1976\",\"04-07-1976\",\"02-07-1976\",\"29-06-1976\",\"28-06-1976\",\"24-06-1976\",\"22-06-1976\",\"20-06-1976\",\"19-06-1976\",\"16-06-1976\",\"26-12-1978\",\"23-12-1978\",\"21-12-1978\",\"18-12-1978\",\"13-12-1978\",\"11-12-1978\",\"10-12-1978\",\"09-12-1978\",\"06-12-1978\",\"05-12-1978\",\"02-12-1978\",\"29-11-1978\",\"28-11-1978\",\"25-11-1978\",\"17-11-1978\",\"14-11-1978\",\"27-05-1976\",\"24-05-1976\",\"20-05-1976\",\"19-05-1976\",\"17-05-1976\",\"07-02-1979\",\"06-02-1979\",\"29-01-1979\",\"27-01-1979\",\"26-01-1979\",\"23-01-1979\",\"21-01-1979\",\"17-01-1979\",\"13-01-1979\",\"06-01-1979\",\"01-01-1979\",\"28-02-1979\",\"27-02-1979\",\"25-02-1979\",\"22-02-1979\",\"17-02-1979\",\"15-02-1979\",\"11-06-1976\",\"10-06-1976\",\"08-06-1976\",\"06-06-1976\",\"05-06-1976\",\"04-06-1976\",\"03-06-1976\",\"02-06-1976\",\"29-05-1976\",\"28-05-1976\",\"18-03-1979\",\"14-03-1979\",\"09-03-1979\",\"08-03-1979\",\"16-05-1976\",\"09-05-1976\",\"08-05-1976\",\"28-04-1976\",\"27-04-1976\",\"26-04-1976\",\"25-04-1976\",\"17-04-1976\",\"15-04-1976\",\"12-04-1976\",\"05-03-1979\",\"01-03-1979\",\"02-05-1979\",\"01-05-1979\",\"27-04-1979\",\"25-04-1979\",\"24-04-1979\",\"23-04-1979\",\"21-04-1979\",\"16-04-1979\",\"13-04-1979\",\"12-04-1979\",\"10-04-1979\",\"07-04-1979\",\"27-03-1979\",\"25-03-1979\",\"24-03-1979\",\"19-03-1979\",\"03-06-1979\",\"26-05-1979\",\"24-05-1979\",\"23-05-1979\",\"20-05-1979\",\"19-05-1979\",\"18-05-1979\",\"17-05-1979\",\"16-05-1979\",\"13-05-1979\",\"12-05-1979\",\"11-05-1979\",\"09-05-1979\",\"08-05-1979\",\"07-05-1979\",\"03-05-1979\",\"08-06-1979\",\"05-04-1976\",\"03-04-1976\",\"29-03-1976\",\"25-03-1976\",\"21-03-1976\",\"20-03-1976\",\"18-03-1976\",\"16-03-1976\",\"15-03-1976\",\"11-03-1976\",\"10-03-1976\",\"07-03-1976\",\"06-03-1976\",\"03-03-1976\",\"07-06-1979\",\"21-07-1979\",\"20-07-1979\",\"18-07-1979\",\"14-07-1979\",\"06-07-1979\",\"05-07-1979\",\"04-07-1979\",\"01-07-1979\",\"25-06-1979\",\"22-06-1979\",\"18-06-1979\",\"17-06-1979\",\"15-06-1979\",\"14-06-1979\",\"10-06-1979\",\"09-06-1979\",\"16-01-1976\",\"06-09-1979\",\"03-09-1979\",\"02-09-1979\",\"01-09-1979\",\"29-08-1979\",\"28-08-1979\",\"25-08-1979\",\"23-08-1979\",\"21-08-1979\",\"16-08-1979\",\"14-08-1979\",\"04-08-1979\",\"03-08-1979\",\"27-07-1979\",\"25-07-1979\",\"24-09-1979\",\"20-09-1979\",\"18-09-1979\",\"17-09-1979\",\"13-09-1979\",\"09-09-1979\",\"02-03-1976\",\"01-03-1976\",\"28-02-1976\",\"17-02-1976\",\"13-02-1976\",\"07-02-1976\",\"04-02-1976\",\"29-01-1976\",\"24-01-1976\",\"19-01-1976\",\"04-11-1979\",\"03-11-1979\",\"27-10-1979\",\"25-10-1979\",\"23-10-1979\",\"20-10-1979\",\"17-10-1979\",\"15-10-1979\",\"09-10-1979\",\"07-10-1979\",\"04-10-1979\",\"03-10-1979\",\"02-10-1979\",\"27-09-1979\",\"26-09-1979\",\"25-09-1979\",\"18-11-1979\",\"12-11-1979\",\"10-11-1979\",\"09-11-1979\",\"13-01-1976\",\"04-01-1976\",\"02-01-1976\",\"26-12-1975\",\"24-12-1975\",\"23-12-1975\",\"22-12-1975\",\"20-12-1975\",\"19-12-1975\",\"17-12-1975\",\"08-11-1979\",\"05-11-1979\",\"05-01-1980\",\"04-01-1980\",\"02-01-1980\",\"24-12-1979\",\"23-12-1979\",\"22-12-1979\",\"21-12-1979\",\"18-12-1979\",\"17-12-1979\",\"15-12-1979\",\"07-12-1979\",\"03-12-1979\",\"02-12-1979\",\"23-11-1979\",\"22-11-1979\",\"21-11-1979\",\"06-02-1980\",\"05-02-1980\",\"04-02-1980\",\"27-01-1980\",\"25-01-1980\",\"24-01-1980\",\"22-01-1980\",\"20-01-1980\",\"19-01-1980\",\"17-01-1980\",\"16-01-1980\",\"15-01-1980\",\"11-01-1980\",\"10-01-1980\",\"09-01-1980\",\"08-01-1980\",\"23-02-1980\",\"14-02-1980\",\"09-02-1980\",\"08-02-1980\",\"12-12-1975\",\"09-12-1975\",\"07-12-1975\",\"06-12-1975\",\"03-12-1975\",\"28-11-1975\",\"27-11-1975\",\"26-11-1975\",\"24-11-1975\",\"23-11-1975\",\"19-11-1975\",\"07-02-1980\",\"14-11-1975\",\"13-11-1975\",\"11-11-1975\",\"09-11-1975\",\"02-11-1975\",\"28-10-1975\",\"26-10-1975\",\"25-10-1975\",\"22-10-1975\",\"08-03-1980\",\"07-03-1980\",\"06-03-1980\",\"04-03-1980\",\"03-03-1980\",\"28-02-1980\",\"24-02-1980\",\"22-04-1980\",\"21-04-1980\",\"19-04-1980\",\"16-04-1980\",\"15-04-1980\",\"13-04-1980\",\"10-04-1980\",\"04-04-1980\",\"29-03-1980\",\"27-03-1980\",\"23-03-1980\",\"21-03-1980\",\"20-03-1980\",\"17-03-1980\",\"16-03-1980\",\"12-03-1980\",\"06-05-1980\",\"18-10-1975\",\"17-10-1975\",\"16-10-1975\",\"15-10-1975\",\"14-10-1975\",\"12-10-1975\",\"06-10-1975\",\"05-10-1975\",\"24-09-1975\",\"23-09-1975\",\"22-09-1975\",\"28-04-1980\",\"26-04-1980\",\"25-04-1980\",\"23-04-1980\",\"21-06-1980\",\"15-06-1980\",\"10-06-1980\",\"08-06-1980\",\"07-06-1980\",\"06-06-1980\",\"03-06-1980\",\"24-05-1980\",\"21-05-1980\",\"19-05-1980\",\"17-05-1980\",\"16-05-1980\",\"15-05-1980\",\"13-05-1980\",\"10-05-1980\",\"08-05-1980\",\"16-07-1980\",\"15-07-1980\",\"10-07-1980\",\"05-07-1980\",\"01-07-1980\",\"20-09-1975\",\"18-09-1975\",\"12-09-1975\",\"10-09-1975\",\"07-09-1975\",\"04-09-1975\",\"02-09-1975\",\"28-08-1975\",\"27-06-1980\",\"26-06-1980\",\"22-06-1980\",\"21-08-1980\",\"20-08-1980\",\"19-08-1980\",\"15-08-1980\",\"14-08-1980\",\"12-08-1980\",\"08-08-1980\",\"05-08-1980\",\"01-08-1980\",\"28-07-1980\",\"24-07-1980\",\"22-07-1980\",\"21-07-1980\",\"20-07-1980\",\"18-07-1980\",\"17-07-1980\",\"14-10-1980\",\"13-10-1980\",\"09-10-1980\",\"02-10-1980\",\"01-10-1980\",\"29-09-1980\",\"25-09-1980\",\"24-09-1980\",\"23-09-1980\",\"22-09-1980\",\"17-09-1980\",\"13-09-1980\",\"04-09-1980\",\"02-09-1980\",\"01-09-1980\",\"24-08-1980\",\"27-07-1975\",\"24-07-1975\",\"22-07-1975\",\"21-07-1975\",\"15-11-1980\",\"14-11-1980\",\"06-11-1980\",\"04-11-1980\",\"01-11-1980\",\"29-10-1980\",\"22-10-1980\",\"21-10-1980\",\"19-10-1980\",\"17-10-1980\",\"16-10-1980\",\"15-10-1980\",\"06-12-1980\",\"02-12-1980\",\"26-11-1980\",\"25-11-1980\",\"24-11-1980\",\"19-11-1980\",\"23-08-1975\",\"21-08-1975\",\"18-08-1975\",\"16-08-1975\",\"15-08-1975\",\"13-08-1975\",\"05-08-1975\",\"04-08-1975\",\"03-08-1975\",\"28-07-1975\",\"22-12-1980\",\"19-12-1980\",\"18-12-1980\",\"14-07-1975\",\"12-07-1975\",\"10-07-1975\",\"08-07-1975\",\"06-07-1975\",\"03-07-1975\",\"28-06-1975\",\"27-06-1975\",\"22-06-1975\",\"14-12-1980\",\"11-12-1980\",\"08-12-1980\",\"07-12-1980\",\"12-02-1981\",\"04-02-1981\",\"02-02-1981\",\"01-02-1981\",\"28-01-1981\",\"23-01-1981\",\"20-01-1981\",\"19-01-1981\",\"14-01-1981\",\"12-01-1981\",\"10-01-1981\",\"02-01-1981\",\"01-01-1981\",\"29-12-1980\",\"28-12-1980\",\"27-12-1980\",\"29-03-1981\",\"27-03-1981\",\"23-03-1981\",\"18-03-1981\",\"16-03-1981\",\"15-03-1981\",\"12-03-1981\",\"08-03-1981\",\"03-03-1981\",\"26-02-1981\",\"23-02-1981\",\"21-02-1981\",\"19-02-1981\",\"16-02-1981\",\"14-02-1981\",\"13-02-1981\",\"18-04-1981\",\"13-04-1981\",\"10-04-1981\",\"09-04-1981\",\"21-06-1975\",\"20-06-1975\",\"19-06-1975\",\"18-06-1975\",\"10-06-1975\",\"07-06-1975\",\"04-06-1975\",\"02-06-1975\",\"29-05-1975\",\"28-05-1975\",\"08-04-1981\",\"03-04-1981\",\"24-05-1981\",\"23-05-1981\",\"22-05-1981\",\"21-05-1981\",\"19-05-1981\",\"18-05-1981\",\"17-05-1981\",\"13-05-1981\",\"10-05-1981\",\"08-05-1981\",\"04-05-1981\",\"01-05-1981\",\"29-04-1981\",\"28-04-1981\",\"20-04-1981\",\"19-04-1981\",\"11-06-1981\",\"07-06-1981\",\"06-06-1981\",\"22-05-1975\",\"17-05-1975\",\"14-05-1975\",\"12-05-1975\",\"10-05-1975\",\"06-05-1975\",\"03-05-1975\",\"02-05-1975\",\"03-06-1981\",\"02-06-1981\",\"27-05-1981\",\"26-05-1981\",\"25-05-1981\",\"05-08-1981\",\"04-08-1981\",\"01-08-1981\",\"28-07-1981\",\"27-07-1981\",\"26-07-1981\",\"24-07-1981\",\"21-07-1981\",\"12-07-1981\",\"09-07-1981\",\"08-07-1981\",\"03-07-1981\",\"25-06-1981\",\"24-06-1981\",\"20-06-1981\",\"16-06-1981\",\"29-03-1975\",\"27-03-1975\",\"26-03-1975\",\"12-09-1981\",\"09-09-1981\",\"08-09-1981\",\"06-09-1981\",\"02-09-1981\",\"01-09-1981\",\"26-08-1981\",\"23-08-1981\",\"20-08-1981\",\"18-08-1981\",\"15-08-1981\",\"14-08-1981\",\"10-08-1981\",\"25-09-1981\",\"23-09-1981\",\"21-09-1981\",\"18-09-1981\",\"15-09-1981\",\"14-09-1981\",\"28-04-1975\",\"27-04-1975\",\"24-04-1975\",\"23-04-1975\",\"19-04-1975\",\"15-04-1975\",\"14-04-1975\",\"11-04-1975\",\"09-04-1975\",\"07-04-1975\",\"22-02-1975\",\"20-02-1975\",\"22-11-1981\",\"20-11-1981\",\"18-11-1981\",\"13-11-1981\",\"12-11-1981\",\"09-11-1981\",\"06-11-1981\",\"03-11-1981\",\"02-11-1981\",\"27-10-1981\",\"25-10-1981\",\"13-10-1981\",\"29-09-1981\",\"26-09-1981\",\"01-12-1981\",\"29-11-1981\",\"26-11-1981\",\"25-11-1981\",\"24-11-1981\",\"23-11-1981\",\"23-03-1975\",\"17-03-1975\",\"10-03-1975\",\"08-03-1975\",\"07-03-1975\",\"04-03-1975\",\"02-03-1975\",\"26-02-1975\",\"25-02-1975\",\"24-02-1975\",\"18-01-1975\",\"05-02-1982\",\"04-02-1982\",\"29-01-1982\",\"15-01-1982\",\"12-01-1982\",\"09-01-1982\",\"07-01-1982\",\"05-01-1982\",\"01-01-1982\",\"26-12-1981\",\"16-12-1981\",\"11-12-1981\",\"08-12-1981\",\"05-12-1981\",\"03-12-1981\",\"20-02-1982\",\"17-02-1982\",\"16-02-1982\",\"12-02-1982\",\"08-02-1982\",\"16-02-1975\",\"14-02-1975\",\"10-02-1975\",\"09-02-1975\",\"08-02-1975\",\"06-02-1975\",\"04-02-1975\",\"02-02-1975\",\"29-01-1975\",\"24-01-1975\",\"19-01-1975\",\"05-04-1982\",\"04-04-1982\",\"28-03-1982\",\"26-03-1982\",\"21-03-1982\",\"19-03-1982\",\"18-03-1982\",\"17-03-1982\",\"16-03-1982\",\"15-03-1982\",\"13-03-1982\",\"11-03-1982\",\"09-03-1982\",\"07-03-1982\",\"06-03-1982\",\"22-02-1982\",\"13-05-1982\",\"11-05-1982\",\"10-05-1982\",\"08-05-1982\",\"06-05-1982\",\"04-05-1982\",\"01-05-1982\",\"27-04-1982\",\"25-04-1982\",\"24-04-1982\",\"19-04-1982\",\"18-04-1982\",\"16-04-1982\",\"14-04-1982\",\"12-04-1982\",\"09-04-1982\",\"23-12-1974\",\"20-12-1974\",\"07-06-1982\",\"05-06-1982\",\"02-06-1982\",\"01-06-1982\",\"29-05-1982\",\"26-05-1982\",\"25-05-1982\",\"22-05-1982\",\"21-05-1982\",\"20-05-1982\",\"17-05-1982\",\"16-05-1982\",\"15-05-1982\",\"14-05-1982\",\"23-06-1982\",\"18-06-1982\",\"17-06-1982\",\"12-06-1982\",\"15-01-1975\",\"13-01-1975\",\"12-01-1975\",\"07-01-1975\",\"05-01-1975\",\"04-01-1975\",\"03-01-1975\",\"02-01-1975\",\"29-12-1974\",\"28-12-1974\",\"25-12-1974\",\"24-12-1974\",\"22-07-1982\",\"18-07-1982\",\"13-12-1974\",\"12-12-1974\",\"10-12-1974\",\"07-12-1974\",\"03-12-1974\",\"02-12-1974\",\"01-12-1974\",\"29-11-1974\",\"21-11-1974\",\"20-11-1974\",\"08-07-1982\",\"05-07-1982\",\"02-07-1982\",\"24-06-1982\",\"06-09-1982\",\"04-09-1982\",\"02-09-1982\",\"29-08-1982\",\"23-08-1982\",\"21-08-1982\",\"18-08-1982\",\"16-08-1982\",\"15-08-1982\",\"08-08-1982\",\"06-08-1982\",\"05-08-1982\",\"01-08-1982\",\"27-07-1982\",\"25-07-1982\",\"24-07-1982\",\"03-10-1982\",\"26-09-1982\",\"25-09-1982\",\"23-09-1982\",\"15-09-1982\",\"09-11-1974\",\"29-10-1974\",\"27-10-1974\",\"25-10-1974\",\"24-10-1974\",\"23-10-1974\",\"22-10-1974\",\"21-10-1974\",\"14-09-1982\",\"12-09-1982\",\"08-09-1982\",\"08-09-1974\",\"06-09-1974\",\"12-11-1982\",\"05-11-1982\",\"04-11-1982\",\"03-11-1982\",\"02-11-1982\",\"29-10-1982\",\"25-10-1982\",\"21-10-1982\",\"18-10-1982\",\"17-10-1982\",\"10-10-1982\",\"09-10-1982\",\"08-10-1982\",\"04-10-1982\",\"04-12-1982\",\"29-11-1982\",\"26-11-1982\",\"25-11-1982\",\"23-11-1982\",\"21-11-1982\",\"16-10-1974\",\"12-10-1974\",\"10-10-1974\",\"06-10-1974\",\"29-09-1974\",\"23-09-1974\",\"21-09-1974\",\"19-09-1974\",\"17-09-1974\",\"13-09-1974\",\"27-01-1983\",\"26-01-1983\",\"23-01-1983\",\"22-01-1983\",\"14-01-1983\",\"13-01-1983\",\"09-01-1983\",\"06-01-1983\",\"29-12-1982\",\"27-12-1982\",\"26-12-1982\",\"23-12-1982\",\"19-12-1982\",\"17-12-1982\",\"12-12-1982\",\"05-12-1982\",\"05-02-1983\",\"04-02-1983\",\"03-02-1983\",\"02-02-1983\",\"01-02-1983\",\"03-09-1974\",\"02-09-1974\",\"27-08-1974\",\"24-08-1974\",\"23-08-1974\",\"21-08-1974\",\"16-08-1974\",\"14-08-1974\",\"10-08-1974\",\"08-08-1974\",\"07-08-1974\",\"06-04-1983\",\"22-03-1983\",\"18-03-1983\",\"15-03-1983\",\"12-03-1983\",\"10-03-1983\",\"09-03-1983\",\"07-03-1983\",\"28-02-1983\",\"26-02-1983\",\"20-02-1983\",\"18-02-1983\",\"17-02-1983\",\"16-02-1983\",\"14-02-1983\",\"08-02-1983\",\"17-04-1983\",\"14-04-1983\",\"12-04-1983\",\"11-04-1983\",\"10-04-1983\",\"09-04-1983\",\"06-08-1974\",\"02-08-1974\",\"24-07-1974\",\"22-07-1974\",\"19-07-1974\",\"16-07-1974\",\"13-07-1974\",\"12-07-1974\",\"10-07-1974\",\"07-07-1974\",\"09-06-1983\",\"04-06-1983\",\"26-05-1983\",\"25-05-1983\",\"24-05-1983\",\"22-05-1983\",\"21-05-1983\",\"20-05-1983\",\"17-05-1983\",\"11-05-1983\",\"05-05-1983\",\"04-05-1983\",\"28-04-1983\",\"24-04-1983\",\"23-04-1983\",\"20-04-1983\",\"05-06-1974\",\"04-06-1974\",\"14-07-1983\",\"12-07-1983\",\"09-07-1983\",\"08-07-1983\",\"05-07-1983\",\"04-07-1983\",\"02-07-1983\",\"29-06-1983\",\"26-06-1983\",\"24-06-1983\",\"21-06-1983\",\"19-06-1983\",\"17-06-1983\",\"13-06-1983\",\"02-08-1983\",\"01-08-1983\",\"29-07-1983\",\"25-07-1983\",\"23-07-1983\",\"15-07-1983\",\"05-07-1974\",\"04-07-1974\",\"03-07-1974\",\"01-07-1974\",\"28-06-1974\",\"26-06-1974\",\"21-06-1974\",\"14-06-1974\",\"11-06-1974\",\"08-06-1974\",\"08-09-1983\",\"06-09-1983\",\"05-09-1983\",\"04-09-1983\",\"01-09-1983\",\"28-08-1983\",\"25-08-1983\",\"20-08-1983\",\"19-08-1983\",\"17-08-1983\",\"16-08-1983\",\"11-08-1983\",\"10-08-1983\",\"09-08-1983\",\"07-08-1983\",\"05-08-1983\",\"21-09-1983\",\"02-06-1974\",\"01-06-1974\",\"28-05-1974\",\"25-05-1974\",\"23-05-1974\",\"19-05-1974\",\"18-05-1974\",\"15-05-1974\",\"12-05-1974\",\"11-05-1974\",\"10-05-1974\",\"08-05-1974\",\"13-09-1983\",\"12-09-1983\",\"10-09-1983\",\"22-11-1983\",\"19-11-1983\",\"09-11-1983\",\"08-11-1983\",\"07-11-1983\",\"01-11-1983\",\"26-10-1983\",\"24-10-1983\",\"19-10-1983\",\"11-10-1983\",\"08-10-1983\",\"07-10-1983\",\"03-10-1983\",\"28-09-1983\",\"26-09-1983\",\"24-09-1983\",\"09-12-1983\",\"08-12-1983\",\"06-05-1974\",\"02-05-1974\",\"01-05-1974\",\"26-04-1974\",\"25-04-1974\",\"23-04-1974\",\"22-04-1974\",\"20-04-1974\",\"19-04-1974\",\"09-04-1974\",\"05-12-1983\",\"04-12-1983\",\"27-11-1983\",\"23-11-1983\",\"12-02-1984\",\"09-02-1984\",\"05-02-1984\",\"24-01-1984\",\"23-01-1984\",\"20-01-1984\",\"18-01-1984\",\"14-01-1984\",\"13-01-1984\",\"11-01-1984\",\"05-01-1984\",\"28-12-1983\",\"24-12-1983\",\"16-12-1983\",\"15-12-1983\",\"11-12-1983\",\"07-03-1984\",\"29-02-1984\",\"19-02-1984\",\"02-04-1974\",\"29-03-1974\",\"27-03-1974\",\"25-03-1974\",\"17-03-1974\",\"15-03-1974\",\"14-03-1974\",\"13-03-1974\",\"10-03-1974\",\"04-03-1974\",\"01-03-1974\",\"18-02-1984\",\"16-02-1984\",\"29-04-1984\",\"22-04-1984\",\"20-04-1984\",\"14-04-1984\",\"13-04-1984\",\"09-04-1984\",\"05-04-1984\",\"04-04-1984\",\"03-04-1984\",\"02-04-1984\",\"27-03-1984\",\"20-03-1984\",\"19-03-1984\",\"13-03-1984\",\"11-03-1984\",\"09-03-1984\",\"12-05-1984\",\"08-05-1984\",\"06-05-1984\",\"24-02-1974\",\"23-02-1974\",\"20-02-1974\",\"19-02-1974\",\"11-02-1974\",\"09-02-1974\",\"07-02-1974\",\"06-02-1974\",\"04-02-1974\",\"01-02-1974\",\"25-01-1974\",\"02-05-1984\",\"01-05-1984\",\"25-12-1973\",\"05-07-1984\",\"27-06-1984\",\"25-06-1984\",\"23-06-1984\",\"21-06-1984\",\"19-06-1984\",\"16-06-1984\",\"10-06-1984\",\"08-06-1984\",\"05-06-1984\",\"04-06-1984\",\"03-06-1984\",\"28-05-1984\",\"22-05-1984\",\"17-05-1984\",\"19-07-1984\",\"16-07-1984\",\"12-07-1984\",\"11-07-1984\",\"24-01-1974\",\"21-01-1974\",\"19-01-1974\",\"18-01-1974\",\"16-01-1974\",\"15-01-1974\",\"11-01-1974\",\"05-01-1974\",\"02-01-1974\",\"29-12-1973\",\"28-12-1973\",\"27-12-1973\",\"06-09-1984\",\"05-09-1984\",\"28-08-1984\",\"27-08-1984\",\"25-08-1984\",\"18-08-1984\",\"16-08-1984\",\"11-08-1984\",\"10-08-1984\",\"05-08-1984\",\"01-08-1984\",\"29-07-1984\",\"27-07-1984\",\"23-07-1984\",\"22-07-1984\",\"21-07-1984\",\"16-10-1984\",\"13-10-1984\",\"10-10-1984\",\"07-10-1984\",\"04-10-1984\",\"03-10-1984\",\"01-10-1984\",\"28-09-1984\",\"25-09-1984\",\"24-09-1984\",\"23-09-1984\",\"18-09-1984\",\"17-09-1984\",\"11-09-1984\",\"08-09-1984\",\"07-09-1984\",\"29-10-1984\",\"24-10-1984\",\"19-10-1984\",\"20-12-1973\",\"18-12-1973\",\"14-12-1973\",\"13-12-1973\",\"12-12-1973\",\"08-12-1973\",\"03-12-1973\",\"28-11-1973\",\"26-11-1973\",\"25-11-1973\",\"24-11-1973\",\"21-11-1973\",\"20-11-1973\",\"10-12-1984\",\"09-12-1984\",\"07-12-1984\",\"06-12-1984\",\"04-12-1984\",\"01-12-1984\",\"29-11-1984\",\"27-11-1984\",\"25-11-1984\",\"21-11-1984\",\"18-11-1984\",\"12-11-1984\",\"10-11-1984\",\"09-11-1984\",\"05-11-1984\",\"03-11-1984\",\"28-01-1985\",\"24-01-1985\",\"21-01-1985\",\"19-01-1985\",\"13-01-1985\",\"12-01-1985\",\"11-01-1985\",\"04-01-1985\",\"02-01-1985\",\"28-12-1984\",\"25-12-1984\",\"23-12-1984\",\"21-12-1984\",\"19-12-1984\",\"16-12-1984\",\"12-12-1984\",\"16-02-1985\",\"15-02-1985\",\"14-02-1985\",\"12-02-1985\",\"11-02-1985\",\"05-02-1985\",\"14-11-1973\",\"13-11-1973\",\"11-11-1973\",\"09-11-1973\",\"03-11-1973\",\"25-10-1973\",\"23-10-1973\",\"21-10-1973\",\"20-10-1973\",\"02-02-1985\",\"27-03-1985\",\"22-03-1985\",\"20-03-1985\",\"18-03-1985\",\"17-03-1985\",\"12-03-1985\",\"11-03-1985\",\"08-03-1985\",\"07-03-1985\",\"28-02-1985\",\"27-02-1985\",\"26-02-1985\",\"24-02-1985\",\"21-02-1985\",\"19-02-1985\",\"17-02-1985\",\"08-04-1985\",\"07-04-1985\",\"05-04-1985\",\"01-04-1985\",\"11-10-1973\",\"10-10-1973\",\"09-10-1973\",\"06-10-1973\",\"05-10-1973\",\"04-10-1973\",\"29-09-1973\",\"25-09-1973\",\"22-09-1973\",\"21-09-1973\",\"15-09-1973\",\"29-03-1985\",\"12-09-1973\",\"04-09-1973\",\"02-09-1973\",\"26-08-1973\",\"24-08-1973\",\"22-08-1973\",\"16-08-1973\",\"13-08-1973\",\"12-08-1973\",\"07-05-1985\",\"27-04-1985\",\"23-04-1985\",\"22-04-1985\",\"18-04-1985\",\"11-04-1985\",\"10-04-1985\",\"24-06-1985\",\"23-06-1985\",\"15-06-1985\",\"11-06-1985\",\"08-06-1985\",\"05-06-1985\",\"04-06-1985\",\"28-05-1985\",\"25-05-1985\",\"24-05-1985\",\"22-05-1985\",\"17-05-1985\",\"15-05-1985\",\"14-05-1985\",\"13-05-1985\",\"08-05-1985\",\"10-08-1985\",\"06-08-1985\",\"04-08-1985\",\"29-07-1985\",\"27-07-1985\",\"24-07-1985\",\"19-07-1985\",\"18-07-1985\",\"17-07-1985\",\"16-07-1985\",\"13-07-1985\",\"10-07-1985\",\"01-07-1985\",\"27-06-1985\",\"26-06-1985\",\"25-06-1985\",\"26-08-1985\",\"25-08-1985\",\"22-08-1985\",\"21-08-1985\",\"13-08-1985\",\"08-08-1973\",\"07-08-1973\",\"29-07-1973\",\"23-07-1973\",\"22-07-1973\",\"20-07-1973\",\"19-07-1973\",\"09-07-1973\",\"07-07-1973\",\"05-07-1973\",\"03-07-1973\",\"09-10-1985\",\"06-10-1985\",\"04-10-1985\",\"01-10-1985\",\"27-09-1985\",\"26-09-1985\",\"23-09-1985\",\"22-09-1985\",\"21-09-1985\",\"20-09-1985\",\"18-09-1985\",\"16-09-1985\",\"14-09-1985\",\"10-09-1985\",\"07-09-1985\",\"28-08-1985\",\"02-11-1985\",\"28-10-1985\",\"27-10-1985\",\"28-06-1973\",\"23-06-1973\",\"20-06-1973\",\"15-06-1973\",\"14-06-1973\",\"11-06-1973\",\"10-06-1973\",\"06-06-1973\",\"01-06-1973\",\"21-05-1973\",\"17-05-1973\",\"15-10-1985\",\"10-10-1985\",\"18-12-1985\",\"17-12-1985\",\"15-12-1985\",\"11-12-1985\",\"10-12-1985\",\"05-12-1985\",\"01-12-1985\",\"25-11-1985\",\"23-11-1985\",\"22-11-1985\",\"19-11-1985\",\"16-11-1985\",\"13-11-1985\",\"05-11-1985\",\"04-11-1985\",\"03-11-1985\",\"29-12-1985\",\"26-12-1985\",\"25-12-1985\",\"22-12-1985\",\"21-12-1985\",\"14-05-1973\",\"11-05-1973\",\"08-05-1973\",\"07-05-1973\",\"03-05-1973\",\"02-05-1973\",\"01-05-1973\",\"24-04-1973\",\"23-04-1973\",\"08-04-1973\",\"19-12-1985\",\"23-02-1986\",\"20-02-1986\",\"16-02-1986\",\"15-02-1986\",\"14-02-1986\",\"13-02-1986\",\"12-02-1986\",\"04-02-1986\",\"28-01-1986\",\"27-01-1986\",\"22-01-1986\",\"21-01-1986\",\"20-01-1986\",\"16-01-1986\",\"15-01-1986\",\"10-01-1986\",\"12-03-1986\",\"11-03-1986\",\"08-03-1986\",\"07-04-1973\",\"04-04-1973\",\"27-03-1973\",\"26-03-1973\",\"21-03-1973\",\"20-03-1973\",\"14-03-1973\",\"07-03-1973\",\"06-03-1986\",\"02-03-1986\",\"01-03-1986\",\"28-02-1986\",\"26-02-1986\",\"17-04-1986\",\"15-04-1986\",\"14-04-1986\",\"13-04-1986\",\"08-04-1986\",\"07-04-1986\",\"04-04-1986\",\"02-04-1986\",\"27-03-1986\",\"26-03-1986\",\"25-03-1986\",\"23-03-1986\",\"20-03-1986\",\"17-03-1986\",\"16-03-1986\",\"15-03-1986\",\"14-02-1973\",\"13-02-1973\",\"10-02-1973\",\"08-06-1986\",\"04-06-1986\",\"03-06-1986\",\"27-05-1986\",\"23-05-1986\",\"19-05-1986\",\"17-05-1986\",\"13-05-1986\",\"07-05-1986\",\"02-05-1986\",\"01-05-1986\",\"27-04-1986\",\"19-04-1986\",\"10-01-1973\",\"05-07-1986\",\"02-07-1986\",\"26-06-1986\",\"15-06-1986\",\"14-06-1986\",\"05-03-1973\",\"04-03-1973\",\"03-03-1973\",\"02-03-1973\",\"28-02-1973\",\"27-02-1973\",\"25-02-1973\",\"19-02-1973\",\"17-02-1973\",\"15-02-1973\",\"06-07-1986\",\"09-02-1973\",\"08-02-1973\",\"07-02-1973\",\"06-02-1973\",\"05-02-1973\",\"04-02-1973\",\"01-02-1973\",\"28-01-1973\",\"24-01-1973\",\"23-01-1973\",\"21-01-1973\",\"20-01-1973\",\"17-01-1973\",\"12-01-1973\",\"11-01-1973\",\"22-09-1986\",\"12-09-1986\",\"08-09-1986\",\"07-09-1986\",\"18-08-1986\",\"16-08-1986\",\"12-08-1986\",\"07-08-1986\",\"02-08-1986\",\"01-08-1986\",\"28-07-1986\",\"23-07-1986\",\"21-07-1986\",\"19-07-1986\",\"18-07-1986\",\"10-07-1986\",\"13-10-1986\",\"12-10-1986\",\"11-10-1986\",\"06-10-1986\",\"02-10-1986\",\"29-09-1986\",\"09-01-1973\",\"05-01-1973\",\"03-01-1973\",\"28-12-1972\",\"23-12-1972\",\"15-12-1972\",\"13-12-1972\",\"09-12-1972\",\"26-09-1986\",\"23-09-1986\",\"17-11-1986\",\"13-11-1986\",\"12-11-1986\",\"10-11-1986\",\"07-11-1986\",\"06-11-1986\",\"05-11-1986\",\"04-11-1986\",\"03-11-1986\",\"02-11-1986\",\"28-10-1986\",\"25-10-1986\",\"23-10-1986\",\"20-10-1986\",\"19-10-1986\",\"18-10-1986\",\"06-11-1972\",\"05-11-1972\",\"02-01-1987\",\"29-12-1986\",\"25-12-1986\",\"24-12-1986\",\"21-12-1986\",\"18-12-1986\",\"17-12-1986\",\"10-12-1986\",\"06-12-1986\",\"04-12-1986\",\"01-12-1986\",\"26-11-1986\",\"24-11-1986\",\"20-11-1986\",\"04-02-1987\",\"02-02-1987\",\"01-02-1987\",\"22-01-1987\",\"21-01-1987\",\"14-01-1987\",\"01-12-1972\",\"27-11-1972\",\"24-11-1972\",\"21-11-1972\",\"17-11-1972\",\"16-11-1972\",\"13-11-1972\",\"12-11-1972\",\"10-11-1972\",\"08-11-1972\",\"10-10-1972\",\"08-10-1972\",\"14-03-1987\",\"12-03-1987\",\"09-03-1987\",\"06-03-1987\",\"05-03-1987\",\"01-03-1987\",\"28-02-1987\",\"27-02-1987\",\"24-02-1987\",\"22-02-1987\",\"16-02-1987\",\"14-02-1987\",\"10-02-1987\",\"06-02-1987\",\"11-04-1987\",\"04-04-1987\",\"03-04-1987\",\"21-03-1987\",\"28-10-1972\",\"27-10-1972\",\"26-10-1972\",\"25-10-1972\",\"24-10-1972\",\"22-10-1972\",\"20-10-1972\",\"19-10-1972\",\"18-10-1972\",\"14-10-1972\",\"13-10-1972\",\"12-10-1972\",\"09-05-1987\",\"04-05-1987\",\"05-10-1972\",\"04-10-1972\",\"03-10-1972\",\"27-09-1972\",\"26-09-1972\",\"25-09-1972\",\"23-09-1972\",\"21-09-1972\",\"12-09-1972\",\"11-09-1972\",\"06-09-1972\",\"24-04-1987\",\"14-04-1987\",\"12-04-1987\",\"25-06-1987\",\"21-06-1987\",\"20-06-1987\",\"19-06-1987\",\"17-06-1987\",\"14-06-1987\",\"12-06-1987\",\"10-06-1987\",\"05-06-1987\",\"04-06-1987\",\"02-06-1987\",\"01-06-1987\",\"29-05-1987\",\"27-05-1987\",\"22-05-1987\",\"18-05-1987\",\"02-07-1987\",\"28-06-1987\",\"03-09-1972\",\"26-08-1972\",\"21-08-1972\",\"19-08-1972\",\"18-08-1972\",\"17-08-1972\",\"10-08-1972\",\"09-08-1972\",\"06-08-1972\",\"04-08-1972\",\"03-08-1972\",\"29-07-1972\",\"27-07-1972\",\"26-06-1987\",\"26-08-1987\",\"23-08-1987\",\"21-08-1987\",\"14-08-1987\",\"10-08-1987\",\"09-08-1987\",\"06-08-1987\",\"27-07-1987\",\"26-07-1987\",\"24-07-1987\",\"21-07-1987\",\"14-07-1987\",\"11-07-1987\",\"08-07-1987\",\"06-07-1987\",\"03-07-1987\",\"20-07-1972\",\"19-07-1972\",\"18-07-1972\",\"15-07-1972\",\"11-07-1972\",\"10-07-1972\",\"06-07-1972\",\"05-07-1972\",\"04-07-1972\",\"02-07-1972\",\"29-06-1972\",\"28-06-1972\",\"25-06-1972\",\"03-09-1987\",\"02-09-1987\",\"28-08-1987\",\"23-10-1987\",\"19-10-1987\",\"16-10-1987\",\"12-10-1987\",\"11-10-1987\",\"07-10-1987\",\"05-10-1987\",\"22-09-1987\",\"18-09-1987\",\"17-09-1987\",\"14-09-1987\",\"13-09-1987\",\"10-09-1987\",\"09-09-1987\",\"07-09-1987\",\"05-09-1987\",\"17-11-1987\",\"16-11-1987\",\"13-11-1987\",\"05-11-1987\",\"04-11-1987\",\"19-06-1972\",\"13-06-1972\",\"08-06-1972\",\"07-06-1972\",\"06-06-1972\",\"01-06-1972\",\"27-05-1972\",\"03-11-1987\",\"29-10-1987\",\"25-10-1987\",\"24-10-1987\",\"26-12-1987\",\"20-12-1987\",\"17-12-1987\",\"14-12-1987\",\"12-12-1987\",\"10-12-1987\",\"07-12-1987\",\"06-12-1987\",\"04-12-1987\",\"03-12-1987\",\"02-12-1987\",\"27-11-1987\",\"26-11-1987\",\"25-11-1987\",\"19-11-1987\",\"18-11-1987\",\"03-01-1988\",\"02-01-1988\",\"22-05-1972\",\"19-05-1972\",\"17-05-1972\",\"16-05-1972\",\"14-05-1972\",\"13-05-1972\",\"12-05-1972\",\"08-05-1972\",\"05-05-1972\",\"29-04-1972\",\"28-04-1972\",\"19-04-1972\",\"15-04-1972\",\"27-12-1987\",\"21-02-1988\",\"20-02-1988\",\"17-02-1988\",\"13-02-1988\",\"11-02-1988\",\"05-02-1988\",\"03-02-1988\",\"28-01-1988\",\"27-01-1988\",\"25-01-1988\",\"21-01-1988\",\"20-01-1988\",\"19-01-1988\",\"17-01-1988\",\"11-01-1988\",\"07-01-1988\",\"14-03-1988\",\"13-03-1988\",\"12-03-1988\",\"11-03-1988\",\"04-03-1988\",\"02-03-1988\",\"08-04-1972\",\"05-04-1972\",\"29-03-1972\",\"21-03-1972\",\"17-03-1972\",\"12-03-1972\",\"10-03-1972\",\"27-02-1988\",\"26-02-1988\",\"22-02-1988\",\"29-03-1988\",\"08-03-1972\",\"25-02-1972\",\"24-02-1972\",\"23-02-1972\",\"18-02-1972\",\"10-02-1972\",\"08-02-1972\",\"05-02-1972\",\"25-03-1988\",\"22-03-1988\",\"21-03-1988\",\"20-03-1988\",\"19-03-1988\",\"16-03-1988\",\"15-03-1988\",\"16-05-1988\",\"15-05-1988\",\"14-05-1988\",\"10-05-1988\",\"07-05-1988\",\"02-05-1988\",\"28-04-1988\",\"27-04-1988\",\"26-04-1988\",\"20-04-1988\",\"19-04-1988\",\"17-04-1988\",\"12-04-1988\",\"09-04-1988\",\"06-04-1988\",\"01-04-1988\",\"08-01-1972\",\"07-01-1972\",\"09-07-1988\",\"06-07-1988\",\"05-07-1988\",\"04-07-1988\",\"01-07-1988\",\"23-06-1988\",\"17-06-1988\",\"14-06-1988\",\"13-06-1988\",\"09-06-1988\",\"07-06-1988\",\"01-06-1988\",\"26-05-1988\",\"17-05-1988\",\"22-07-1988\",\"20-07-1988\",\"14-07-1988\",\"13-07-1988\",\"12-07-1988\",\"10-07-1988\",\"02-02-1972\",\"29-01-1972\",\"28-01-1972\",\"27-01-1972\",\"22-01-1972\",\"15-01-1972\",\"14-01-1972\",\"13-01-1972\",\"12-01-1972\",\"10-01-1972\",\"06-08-1988\",\"03-01-1972\",\"01-01-1972\",\"26-12-1971\",\"22-12-1971\",\"19-12-1971\",\"17-12-1971\",\"15-12-1971\",\"11-12-1971\",\"09-12-1971\",\"28-11-1971\",\"04-08-1988\",\"03-08-1988\",\"02-08-1988\",\"01-08-1988\",\"29-07-1988\",\"14-11-1971\",\"13-11-1971\",\"12-11-1971\",\"11-11-1971\",\"10-11-1971\",\"09-11-1971\",\"07-11-1971\",\"06-11-1971\",\"02-09-1988\",\"28-08-1988\",\"26-08-1988\",\"24-08-1988\",\"22-08-1988\",\"21-08-1988\",\"18-08-1988\",\"14-08-1988\",\"10-11-1988\",\"08-11-1988\",\"05-11-1988\",\"02-11-1988\",\"01-11-1988\",\"25-10-1988\",\"24-10-1988\",\"23-10-1988\",\"15-10-1988\",\"11-10-1988\",\"03-10-1988\",\"23-09-1988\",\"17-09-1988\",\"10-09-1988\",\"24-11-1971\",\"15-11-1971\",\"17-12-1988\",\"16-12-1988\",\"14-12-1988\",\"13-12-1988\",\"11-12-1988\",\"06-12-1988\",\"03-12-1988\",\"01-12-1988\",\"25-11-1988\",\"22-11-1988\",\"20-11-1988\",\"19-11-1988\",\"18-11-1988\",\"17-11-1988\",\"16-11-1988\",\"12-11-1988\",\"08-10-1971\",\"07-10-1971\",\"06-10-1971\",\"14-01-1989\",\"12-01-1989\",\"11-01-1989\",\"09-01-1989\",\"04-01-1989\",\"02-01-1989\",\"01-01-1989\",\"29-12-1988\",\"25-12-1988\",\"22-12-1988\",\"21-12-1988\",\"19-12-1988\",\"18-12-1988\",\"28-01-1989\",\"26-01-1989\",\"23-01-1989\",\"22-01-1989\",\"20-01-1989\",\"02-11-1971\",\"28-10-1971\",\"27-10-1971\",\"26-10-1971\",\"24-10-1971\",\"20-10-1971\",\"19-10-1971\",\"18-10-1971\",\"15-10-1971\",\"14-10-1971\",\"09-10-1971\",\"16-08-1971\",\"19-03-1989\",\"16-03-1989\",\"13-03-1989\",\"12-03-1989\",\"09-03-1989\",\"07-03-1989\",\"06-03-1989\",\"04-03-1989\",\"02-03-1989\",\"01-03-1989\",\"22-02-1989\",\"17-02-1989\",\"12-02-1989\",\"06-02-1989\",\"03-02-1989\",\"02-04-1989\",\"28-03-1989\",\"27-03-1989\",\"26-03-1989\",\"21-03-1989\",\"04-10-1971\",\"21-09-1971\",\"16-09-1971\",\"09-09-1971\",\"04-09-1971\",\"01-09-1971\",\"29-08-1971\",\"25-08-1971\",\"24-08-1971\",\"22-08-1971\",\"19-08-1971\",\"22-05-1989\",\"17-05-1989\",\"14-05-1989\",\"12-05-1989\",\"07-05-1989\",\"06-05-1989\",\"04-05-1989\",\"28-04-1989\",\"25-04-1989\",\"23-04-1989\",\"22-04-1989\",\"19-04-1989\",\"17-04-1989\",\"08-04-1989\",\"06-04-1989\",\"04-04-1989\",\"05-06-1989\",\"27-05-1989\",\"26-05-1989\",\"25-05-1989\",\"13-08-1971\",\"10-08-1971\",\"06-08-1971\",\"04-08-1971\",\"03-08-1971\",\"02-08-1971\",\"27-07-1971\",\"26-07-1971\",\"25-07-1971\",\"24-07-1971\",\"21-07-1971\",\"15-07-1971\",\"09-07-1971\",\"08-07-1971\",\"07-07-1971\",\"06-07-1971\",\"05-07-1971\",\"03-07-1971\",\"27-06-1971\",\"25-06-1971\",\"23-06-1971\",\"21-06-1971\",\"18-06-1989\",\"16-06-1989\",\"13-06-1989\",\"12-06-1989\",\"08-06-1989\",\"07-06-1989\",\"13-08-1989\",\"12-08-1989\",\"11-08-1989\",\"08-08-1989\",\"07-08-1989\",\"05-08-1989\",\"29-07-1989\",\"25-07-1989\",\"19-07-1989\",\"15-07-1989\",\"06-07-1989\",\"05-07-1989\",\"25-06-1989\",\"23-06-1989\",\"22-06-1989\",\"14-07-1971\",\"25-05-1971\",\"24-05-1971\",\"18-09-1989\",\"17-09-1989\",\"14-09-1989\",\"12-09-1989\",\"11-09-1989\",\"10-09-1989\",\"07-09-1989\",\"05-09-1989\",\"02-09-1989\",\"29-08-1989\",\"27-08-1989\",\"25-08-1989\",\"21-08-1989\",\"19-08-1989\",\"08-10-1989\",\"01-10-1989\",\"29-09-1989\",\"22-09-1989\",\"21-09-1989\",\"20-06-1971\",\"18-06-1971\",\"17-06-1971\",\"15-06-1971\",\"14-06-1971\",\"13-06-1971\",\"11-06-1971\",\"09-06-1971\",\"06-06-1971\",\"29-05-1971\",\"27-05-1971\",\"19-10-1989\",\"21-05-1971\",\"13-05-1971\",\"10-05-1971\",\"06-05-1971\",\"05-05-1971\",\"04-05-1971\",\"29-04-1971\",\"28-04-1971\",\"27-04-1971\",\"25-04-1971\",\"24-04-1971\",\"15-10-1989\",\"14-10-1989\",\"13-10-1989\",\"09-10-1989\",\"04-12-1989\",\"03-12-1989\",\"02-12-1989\",\"29-11-1989\",\"25-11-1989\",\"20-11-1989\",\"19-11-1989\",\"18-11-1989\",\"17-11-1989\",\"16-11-1989\",\"13-11-1989\",\"12-11-1989\",\"08-11-1989\",\"02-11-1989\",\"23-10-1989\",\"21-10-1989\",\"19-01-1990\",\"16-01-1990\",\"15-01-1990\",\"11-01-1990\",\"09-01-1990\",\"05-01-1990\",\"04-01-1990\",\"29-12-1989\",\"25-12-1989\",\"22-12-1989\",\"20-12-1989\",\"18-12-1989\",\"15-12-1989\",\"11-12-1989\",\"10-12-1989\",\"07-12-1989\",\"27-01-1990\",\"26-01-1990\",\"21-01-1990\",\"18-04-1971\",\"14-04-1971\",\"13-04-1971\",\"11-04-1971\",\"10-04-1971\",\"08-04-1971\",\"06-04-1971\",\"29-03-1971\",\"28-03-1971\",\"25-03-1971\",\"22-03-1971\",\"21-03-1971\",\"20-01-1990\",\"15-03-1990\",\"14-03-1990\",\"13-03-1990\",\"12-03-1990\",\"10-03-1990\",\"28-02-1990\",\"22-02-1990\",\"20-02-1990\",\"18-02-1990\",\"15-02-1990\",\"07-02-1990\",\"06-02-1990\",\"05-02-1990\",\"04-02-1990\",\"03-02-1990\",\"29-01-1990\",\"09-04-1990\",\"08-04-1990\",\"05-04-1990\",\"02-04-1990\",\"28-03-1990\",\"18-03-1971\",\"16-03-1971\",\"15-03-1971\",\"14-03-1971\",\"10-03-1971\",\"08-03-1971\",\"07-03-1971\",\"05-03-1971\",\"24-02-1971\",\"22-03-1990\",\"16-03-1990\",\"25-05-1990\",\"22-05-1990\",\"21-05-1990\",\"19-05-1990\",\"17-05-1990\",\"15-05-1990\",\"12-05-1990\",\"08-05-1990\",\"06-05-1990\",\"04-05-1990\",\"01-05-1990\",\"29-04-1990\",\"28-04-1990\",\"24-04-1990\",\"22-04-1990\",\"18-04-1990\",\"06-07-1990\",\"05-07-1990\",\"01-07-1990\",\"26-06-1990\",\"24-06-1990\",\"23-06-1990\",\"21-06-1990\",\"18-06-1990\",\"15-06-1990\",\"10-06-1990\",\"07-06-1990\",\"06-06-1990\",\"05-06-1990\",\"03-06-1990\",\"02-06-1990\",\"01-06-1990\",\"20-07-1990\",\"19-07-1990\",\"12-07-1990\",\"21-02-1971\",\"20-02-1971\",\"16-02-1971\",\"14-02-1971\",\"13-02-1971\",\"09-02-1971\",\"08-02-1971\",\"06-02-1971\",\"28-01-1971\",\"23-01-1971\",\"17-01-1971\",\"09-07-1990\",\"08-07-1990\",\"02-09-1990\",\"26-08-1990\",\"25-08-1990\",\"23-08-1990\",\"22-08-1990\",\"20-08-1990\",\"18-08-1990\",\"16-08-1990\",\"15-08-1990\",\"14-08-1990\",\"13-08-1990\",\"10-08-1990\",\"05-08-1990\",\"26-07-1990\",\"24-07-1990\",\"23-07-1990\",\"11-10-1990\",\"10-10-1990\",\"09-10-1990\",\"05-10-1990\",\"03-10-1990\",\"02-10-1990\",\"29-09-1990\",\"22-09-1990\",\"21-09-1990\",\"18-09-1990\",\"16-09-1990\",\"13-09-1990\",\"08-09-1990\",\"05-09-1990\",\"04-09-1990\",\"03-09-1990\",\"16-12-1970\",\"15-12-1970\",\"20-11-1990\",\"19-11-1990\",\"18-11-1990\",\"17-11-1990\",\"16-11-1990\",\"12-11-1990\",\"10-11-1990\",\"04-11-1990\",\"01-11-1990\",\"26-10-1990\",\"24-10-1990\",\"18-10-1990\",\"17-10-1990\",\"14-10-1990\",\"04-12-1990\",\"01-12-1990\",\"27-11-1990\",\"26-11-1990\",\"22-11-1990\",\"15-01-1971\",\"14-01-1971\",\"12-01-1971\",\"07-01-1971\",\"02-01-1971\",\"27-12-1970\",\"24-12-1970\",\"22-12-1970\",\"19-12-1970\",\"18-12-1970\",\"17-12-1970\",\"13-11-1970\",\"19-01-1991\",\"18-01-1991\",\"17-01-1991\",\"14-01-1991\",\"12-01-1991\",\"07-01-1991\",\"04-01-1991\",\"01-01-1991\",\"22-12-1990\",\"21-12-1990\",\"20-12-1990\",\"18-12-1990\",\"16-12-1990\",\"14-12-1990\",\"10-12-1990\",\"06-03-1991\",\"01-03-1991\",\"24-02-1991\",\"21-02-1991\",\"17-02-1991\",\"02-02-1991\",\"12-12-1970\",\"10-12-1970\",\"01-12-1970\",\"29-11-1970\",\"28-11-1970\",\"25-11-1970\",\"24-11-1970\",\"18-11-1970\",\"15-11-1970\",\"14-11-1970\",\"11-10-1970\",\"09-10-1970\",\"19-04-1991\",\"17-04-1991\",\"14-04-1991\",\"11-04-1991\",\"10-04-1991\",\"06-04-1991\",\"05-04-1991\",\"03-04-1991\",\"27-03-1991\",\"23-03-1991\",\"21-03-1991\",\"17-03-1991\",\"12-03-1991\",\"11-03-1991\",\"04-05-1991\",\"26-04-1991\",\"24-04-1991\",\"23-04-1991\",\"21-04-1991\",\"20-04-1991\",\"05-11-1970\",\"29-10-1970\",\"28-10-1970\",\"27-10-1970\",\"23-10-1970\",\"22-10-1970\",\"21-10-1970\",\"18-10-1970\",\"16-10-1970\",\"14-10-1970\",\"15-09-1970\",\"24-06-1991\",\"22-06-1991\",\"17-06-1991\",\"14-06-1991\",\"09-06-1991\",\"06-06-1991\",\"04-06-1991\",\"01-06-1991\",\"26-05-1991\",\"24-05-1991\",\"23-05-1991\",\"19-05-1991\",\"18-05-1991\",\"08-05-1991\",\"05-05-1991\",\"06-07-1991\",\"04-07-1991\",\"03-07-1991\",\"27-06-1991\",\"25-06-1991\",\"08-10-1970\",\"07-10-1970\",\"05-10-1970\",\"02-10-1970\",\"01-10-1970\",\"26-09-1970\",\"24-09-1970\",\"23-09-1970\",\"20-09-1970\",\"19-09-1970\",\"17-09-1970\",\"14-08-1991\",\"12-08-1991\",\"11-08-1991\",\"09-08-1991\",\"07-08-1991\",\"04-08-1991\",\"03-08-1991\",\"02-08-1991\",\"29-07-1991\",\"26-07-1991\",\"25-07-1991\",\"22-07-1991\",\"20-07-1991\",\"17-07-1991\",\"11-07-1991\",\"07-07-1991\",\"11-10-1991\",\"07-10-1991\",\"05-10-1991\",\"03-10-1991\",\"29-09-1991\",\"25-09-1991\",\"19-09-1991\",\"17-09-1991\",\"10-09-1991\",\"04-09-1991\",\"26-08-1991\",\"25-08-1991\",\"23-08-1991\",\"21-08-1991\",\"16-08-1991\",\"15-08-1991\",\"13-11-1991\",\"09-11-1991\",\"02-11-1991\",\"01-11-1991\",\"24-10-1991\",\"17-10-1991\",\"12-09-1970\",\"11-09-1970\",\"07-09-1970\",\"04-09-1970\",\"02-09-1970\",\"01-09-1970\",\"29-08-1970\",\"26-08-1970\",\"24-08-1970\",\"23-08-1970\",\"20-12-1991\",\"18-12-1991\",\"17-12-1991\",\"16-12-1991\",\"15-12-1991\",\"13-12-1991\",\"10-12-1991\",\"09-12-1991\",\"08-12-1991\",\"07-12-1991\",\"04-12-1991\",\"03-12-1991\",\"29-11-1991\",\"26-11-1991\",\"23-11-1991\",\"17-11-1991\",\"11-07-1970\",\"10-07-1970\",\"28-01-1992\",\"27-01-1992\",\"22-01-1992\",\"19-01-1992\",\"17-01-1992\",\"13-01-1992\",\"09-01-1992\",\"08-01-1992\",\"02-01-1992\",\"01-01-1992\",\"29-12-1991\",\"27-12-1991\",\"22-12-1991\",\"21-12-1991\",\"16-02-1992\",\"15-02-1992\",\"12-02-1992\",\"01-02-1992\",\"29-01-1992\",\"21-08-1970\",\"12-08-1970\",\"09-08-1970\",\"07-08-1970\",\"03-08-1970\",\"02-08-1970\",\"27-07-1970\",\"23-07-1970\",\"17-07-1970\",\"16-07-1970\",\"14-07-1970\",\"05-06-1970\",\"20-03-1992\",\"18-03-1992\",\"16-03-1992\",\"15-03-1992\",\"14-03-1992\",\"11-03-1992\",\"10-03-1992\",\"09-03-1992\",\"07-03-1992\",\"06-03-1992\",\"04-03-1992\",\"02-03-1992\",\"26-02-1992\",\"21-02-1992\",\"17-02-1992\",\"17-04-1992\",\"15-04-1992\",\"04-04-1992\",\"03-04-1992\",\"28-03-1992\",\"24-03-1992\",\"09-07-1970\",\"05-07-1970\",\"04-07-1970\",\"01-07-1970\",\"29-06-1970\",\"26-06-1970\",\"23-06-1970\",\"16-06-1970\",\"15-06-1970\",\"11-06-1970\",\"04-05-1992\",\"01-05-1992\",\"26-04-1992\",\"03-06-1970\",\"02-06-1970\",\"16-05-1970\",\"15-05-1970\",\"14-05-1970\",\"12-05-1970\",\"09-05-1970\",\"03-05-1970\",\"02-05-1970\",\"26-04-1970\",\"25-04-1992\",\"23-04-1992\",\"21-04-1992\",\"03-07-1992\",\"01-07-1992\",\"27-06-1992\",\"25-06-1992\",\"23-06-1992\",\"17-06-1992\",\"13-06-1992\",\"11-06-1992\",\"10-06-1992\",\"08-06-1992\",\"02-06-1992\",\"26-05-1992\",\"23-05-1992\",\"19-05-1992\",\"14-05-1992\",\"10-05-1992\",\"21-03-1970\",\"06-08-1992\",\"05-08-1992\",\"03-08-1992\",\"02-08-1992\",\"29-07-1992\",\"27-07-1992\",\"26-07-1992\",\"23-07-1992\",\"18-07-1992\",\"17-07-1992\",\"16-07-1992\",\"13-07-1992\",\"12-07-1992\",\"11-07-1992\",\"07-07-1992\",\"18-08-1992\",\"17-08-1992\",\"16-08-1992\",\"13-08-1992\",\"12-08-1992\",\"08-08-1992\",\"22-04-1970\",\"18-04-1970\",\"14-04-1970\",\"06-04-1970\",\"04-04-1970\",\"01-04-1970\",\"28-03-1970\",\"26-03-1970\",\"23-03-1970\",\"22-03-1970\",\"15-10-1992\",\"14-10-1992\",\"10-10-1992\",\"06-10-1992\",\"03-10-1992\",\"25-09-1992\",\"18-09-1992\",\"17-09-1992\",\"16-09-1992\",\"10-09-1992\",\"08-09-1992\",\"07-09-1992\",\"01-09-1992\",\"28-08-1992\",\"27-08-1992\",\"24-08-1992\",\"14-02-1970\",\"29-11-1992\",\"28-11-1992\",\"27-11-1992\",\"26-11-1992\",\"25-11-1992\",\"24-11-1992\",\"09-02-1970\",\"06-02-1970\",\"26-01-1970\",\"25-01-1970\",\"23-01-1970\",\"22-01-1970\",\"02-01-1970\",\"07-11-1992\",\"02-11-1992\",\"01-04-1977\",\"27-03-1977\",\"26-03-1977\",\"25-03-1977\",\"23-03-1977\",\"14-03-1977\",\"17-11-1992\",\"15-11-1992\",\"13-11-1992\",\"11-11-1992\",\"10-11-1992\",\"09-11-1992\",\"08-01-1970\",\"10-01-1970\",\"20-02-1970\",\"17-02-1970\"],\"xaxis\":\"x\",\"y\":{\"dtype\":\"i1\",\"bdata\":\"BwUFBQUEBAQEBAQEBAQEBAQEBAQEBAQEBAQEBAQEBAQEBAQEBAQEBAQEBAQEBAQEBAQEBAMDAwMDAwMDAwMDAwMDAwMDAwMDAwMDAwMDAwMDAwMDAwMDAwMDAwMDAwMDAwMDAwMDAwMDAwMDAwMDAwMDAwMDAwMDAwMDAwMDAwMDAwMDAwMDAwMDAwMDAwMDAwMDAwMDAwMDAwMDAwMDAwMDAwMDAwMDAwMDAwMDAwMDAwMDAwMDAwMDAwMDAwMDAwMDAwMDAwMDAwMDAwMDAwMDAwMDAwMDAwMDAwMDAwMDAwMDAwMDAwMDAwMDAwMDAwMDAwMDAwMDAwMDAwMDAwMDAwMDAwMDAwMDAwMDAwMCAgICAgICAgICAgICAgICAgICAgICAgICAgICAgICAgICAgICAgICAgICAgICAgICAgICAgICAgICAgICAgICAgICAgICAgICAgICAgICAgICAgICAgICAgICAgICAgICAgICAgICAgICAgICAgICAgICAgICAgICAgICAgICAgICAgICAgICAgICAgICAgICAgICAgICAgICAgICAgICAgICAgICAgICAgICAgICAgICAgICAgICAgICAgICAgICAgICAgICAgICAgICAgICAgICAgICAgICAgICAgICAgICAgICAgICAgICAgICAgICAgICAgICAgICAgICAgICAgICAgICAgICAgICAgICAgICAgICAgICAgICAgICAgICAgICAgICAgICAgICAgICAgICAgICAgICAgICAgICAgICAgICAgICAgICAgICAgICAgICAgICAgICAgICAgICAgICAgICAgICAgICAgICAgICAgICAgICAgICAgICAgICAgICAgICAgICAgICAgICAgICAgICAgICAgICAgICAgICAgICAgICAgICAgICAgICAgICAgICAgICAgICAgICAgICAgICAgICAgICAgICAgICAgICAgICAgICAgICAgICAgICAgICAgICAgICAgICAgICAgICAgICAgICAgICAgICAgICAgICAgICAgICAgICAgICAgICAgICAgICAgICAgICAgICAgICAgICAgICAgICAgICAgICAgICAgICAgICAgICAgICAgICAgICAgICAgICAgICAgICAgICAgICAgICAgICAgICAgICAgICAgICAgICAgICAgICAgICAgICAgICAgICAgICAgICAgICAgICAgICAgICAgICAgICAgICAgICAgICAgICAgICAgICAgICAgICAgICAgICAgICAgICAgICAgICAgICAgICAgICAgICAgICAgICAgICAgICAgICAgICAgICAgICAgICAgICAgICAgICAgICAgICAgICAgICAgICAgICAgICAgICAgICAgICAgICAgICAgICAgICAgICAgICAgICAgICAgICAgICAgICAgICAgICAgICAgICAgICAgICAgICAgICAgICAgICAgICAgICAgICAgICAgICAgICAgICAgICAgICAgICAgICAgICAgICAgICAgICAgICAgICAgICAgICAgICAgICAgICAgICAgICAgICAgICAgICAgICAgICAgICAgICAgICAgICAgICAgICAgICAgICAgICAgICAgICAgICAgICAgICAgICAgICAQEBAQEBAQEBAQEBAQEBAQEBAQEBAQEBAQEBAQEBAQEBAQEBAQEBAQEBAQEBAQEBAQEBAQEBAQEBAQEBAQEBAQEBAQEBAQEBAQEBAQEBAQEBAQEBAQEBAQEBAQEBAQEBAQEBAQEBAQEBAQEBAQEBAQEBAQEBAQEBAQEBAQEBAQEBAQEBAQEBAQEBAQEBAQEBAQEBAQEBAQEBAQEBAQEBAQEBAQEBAQEBAQEBAQEBAQEBAQEBAQEBAQEBAQEBAQEBAQEBAQEBAQEBAQEBAQEBAQEBAQEBAQEBAQEBAQEBAQEBAQEBAQEBAQEBAQEBAQEBAQEBAQEBAQEBAQEBAQEBAQEBAQEBAQEBAQEBAQEBAQEBAQEBAQEBAQEBAQEBAQEBAQEBAQEBAQEBAQEBAQEBAQEBAQEBAQEBAQEBAQEBAQEBAQEBAQEBAQEBAQEBAQEBAQEBAQEBAQEBAQEBAQEBAQEBAQEBAQEBAQEBAQEBAQEBAQEBAQEBAQEBAQEBAQEBAQEBAQEBAQEBAQEBAQEBAQEBAQEBAQEBAQEBAQEBAQEBAQEBAQEBAQEBAQEBAQEBAQEBAQEBAQEBAQEBAQEBAQEBAQEBAQEBAQEBAQEBAQEBAQEBAQEBAQEBAQEBAQEBAQEBAQEBAQEBAQEBAQEBAQEBAQEBAQEBAQEBAQEBAQEBAQEBAQEBAQEBAQEBAQEBAQEBAQEBAQEBAQEBAQEBAQEBAQEBAQEBAQEBAQEBAQEBAQEBAQEBAQEBAQEBAQEBAQEBAQEBAQEBAQEBAQEBAQEBAQEBAQEBAQEBAQEBAQEBAQEBAQEBAQEBAQEBAQEBAQEBAQEBAQEBAQEBAQEBAQEBAQEBAQEBAQEBAQEBAQEBAQEBAQEBAQEBAQEBAQEBAQEBAQEBAQEBAQEBAQEBAQEBAQEBAQEBAQEBAQEBAQEBAQEBAQEBAQEBAQEBAQEBAQEBAQEBAQEBAQEBAQEBAQEBAQEBAQEBAQEBAQEBAQEBAQEBAQEBAQEBAQEBAQEBAQEBAQEBAQEBAQEBAQEBAQEBAQEBAQEBAQEBAQEBAQEBAQEBAQEBAQEBAQEBAQEBAQEBAQEBAQEBAQEBAQEBAQEBAQEBAQEBAQEBAQEBAQEBAQEBAQEBAQEBAQEBAQEBAQEBAQEBAQEBAQEBAQEBAQEBAQEBAQEBAQEBAQEBAQEBAQEBAQEBAQEBAQEBAQEBAQEBAQEBAQEBAQEBAQEBAQEBAQEBAQEBAQEBAQEBAQEBAQEBAQEBAQEBAQEBAQEBAQEBAQEBAQEBAQEBAQEBAQEBAQEBAQEBAQEBAQEBAQEBAQEBAQEBAQEBAQEBAQEBAQEBAQEBAQEBAQEBAQEBAQEBAQEBAQEBAQEBAQEBAQEBAQEBAQEBAQEBAQEBAQEBAQEBAQEBAQEBAQEBAQEBAQEBAQEBAQEBAQEBAQEBAQEBAQEBAQEBAQEBAQEBAQEBAQEBAQEBAQEBAQEBAQEBAQEBAQEBAQEBAQEBAQEBAQEBAQEBAQEBAQEBAQEBAQEBAQEBAQEBAQEBAQEBAQEBAQEBAQEBAQEBAQEBAQEBAQEBAQEBAQEBAQEBAQEBAQEBAQEBAQEBAQEBAQEBAQEBAQEBAQEBAQEBAQEBAQEBAQEBAQEBAQEBAQEBAQEBAQEBAQEBAQEBAQEBAQEBAQEBAQEBAQEBAQEBAQEBAQEBAQEBAQEBAQEBAQEBAQEBAQEBAQEBAQEBAQEBAQEBAQEBAQEBAQEBAQEBAQEBAQEBAQEBAQEBAQEBAQEBAQEBAQEBAQEBAQEBAQEBAQEBAQEBAQEBAQEBAQEBAQEBAQEBAQEBAQEBAQEBAQEBAQEBAQEBAQEBAQEBAQEBAQEBAQEBAQEBAQEBAQEBAQEBAQEBAQEBAQEBAQEBAQEBAQEBAQEBAQEBAQEBAQEBAQEBAQEBAQEBAQEBAQEBAQEBAQEBAQEBAQEBAQEBAQEBAQEBAQEBAQEBAQEBAQEBAQEBAQEBAQEBAQEBAQEBAQEBAQEBAQEBAQEBAQEBAQEBAQEBAQEBAQEBAQEBAQEBAQEBAQEBAQEBAQEBAQEBAQEBAQEBAQEBAQEBAQEBAQEBAQEBAQEBAQEBAQEBAQEBAQEBAQEBAQEBAQEBAQEBAQEBAQEBAQEBAQEBAQEBAQEBAQEBAQEBAQEBAQEBAQEBAQEBAQEBAQEBAQEBAQEBAQEBAQEBAQEBAQEBAQEBAQEBAQEBAQEBAQEBAQEBAQEBAQEBAQEBAQEBAQEBAQEBAQEBAQEBAQEBAQEBAQEBAQEBAQEBAQEBAQEBAQEBAQEBAQEBAQEBAQEBAQEBAQEBAQEBAQEBAQEBAQEBAQEBAQEBAQEBAQEBAQEBAQEBAQEBAQEBAQEBAQEBAQEBAQEBAQEBAQEBAQEBAQEBAQEBAQEBAQEBAQEBAQEBAQEBAQEBAQEBAQEBAQEBAQEBAQEBAQEBAQEBAQEBAQEBAQEBAQEBAQEBAQEBAQEBAQEBAQEBAQEBAQEBAQEBAQEBAQEBAQEBAQEBAQEBAQEBAQEBAQEBAQEBAQEBAQEBAQEBAQEBAQEBAQEBAQEBAQEBAQEBAQEBAQEBAQEBAQEBAQEBAQEBAQEBAQEBAQEBAQEBAQEBAQEBAQEBAQEBAQEBAQEBAQEBAQEBAQEBAQEBAQEBAQEBAQEBAQEBAQEBAQEBAQEBAQEBAQEBAQEBAQEBAQEBAQEBAQEBAQEBAQEBAQEBAQEBAQEBAQEBAQEBAQEBAQEBAQEBAQEBAQEBAQEBAQEBAQEBAQEBAQEBAQEBAQEBAQEBAQEBAQEBAQEBAQEBAQEBAQEBAQEBAQEBAQEBAQEBAQEBAQEBAQEBAQEBAQEBAQEBAQEBAQEBAQEBAQEBAQEBAQEBAQEBAQEBAQEBAQEBAQEBAQEBAQEBAQEBAQEBAQEBAQEBAQEBAQEBAQEBAQEBAQEBAQEBAQEBAQEBAQEBAQEBAQEBAQEBAQEBAQEBAQEBAQEBAQEBAQEBAQEBAQEBAQEBAQEBAQEBAQEBAQEBAQEBAQEBAQEBAQEBAQEBAQEBAQEBAQEBAQEBAQEBAQEBAQEBAQEBAQEBAQEBAQEBAQEBAQEBAQEBAQEBAQEBAQEBAQEBAQEBAQEBAQEBAQEBAQEBAQEBAQEBAQEBAQEBAQEBAQEBAQEBAQEBAQEBAQEBAQEBAQEBAQEBAQEBAQEBAQEBAQEBAQEBAQEBAQEBAQEBAQEBAQEBAQEBAQEBAQEBAQEBAQEBAQEBAQEBAQEBAQEBAQEBAQEBAQEBAQEBAQEBAQEBAQEBAQEBAQEBAQEBAQEBAQEBAQEBAQEBAQEBAQEBAQEBAQEBAQEBAQEBAQEBAQEBAQEBAQEBAQEBAQEBAQEBAQEBAQEBAQEBAQEBAQEBAQEBAQEBAQEBAQEBAQEBAQEBAQEBAQEBAQEBAQEBAQEBAQEBAQEBAQEBAQEBAQEBAQEBAQEBAQEBAQEBAQEBAQEBAQEBAQEBAQEBAQEBAQEBAQEBAQEBAQEBAQEBAQEBAQEBAQEBAQEBAQEBAQEBAQEBAQEBAQEBAQEBAQEBAQEBAQEBAQEBAQEBAQEBAQEBAQEBAQEBAQEBAQEBAQEBAQEBAQEBAQEBAQEBAQEBAQEBAQEBAQEBAQEBAQEBAQEBAQEBAQEBAQEBAQEBAQEBAQEBAQEBAQEBAQEBAQEBAQEBAQEBAQEBAQEBAQEBAQEB\"},\"yaxis\":\"y\",\"type\":\"bar\"}],                        {\"template\":{\"data\":{\"histogram2dcontour\":[{\"type\":\"histogram2dcontour\",\"colorbar\":{\"outlinewidth\":0,\"ticks\":\"\"},\"colorscale\":[[0.0,\"#0d0887\"],[0.1111111111111111,\"#46039f\"],[0.2222222222222222,\"#7201a8\"],[0.3333333333333333,\"#9c179e\"],[0.4444444444444444,\"#bd3786\"],[0.5555555555555556,\"#d8576b\"],[0.6666666666666666,\"#ed7953\"],[0.7777777777777778,\"#fb9f3a\"],[0.8888888888888888,\"#fdca26\"],[1.0,\"#f0f921\"]]}],\"choropleth\":[{\"type\":\"choropleth\",\"colorbar\":{\"outlinewidth\":0,\"ticks\":\"\"}}],\"histogram2d\":[{\"type\":\"histogram2d\",\"colorbar\":{\"outlinewidth\":0,\"ticks\":\"\"},\"colorscale\":[[0.0,\"#0d0887\"],[0.1111111111111111,\"#46039f\"],[0.2222222222222222,\"#7201a8\"],[0.3333333333333333,\"#9c179e\"],[0.4444444444444444,\"#bd3786\"],[0.5555555555555556,\"#d8576b\"],[0.6666666666666666,\"#ed7953\"],[0.7777777777777778,\"#fb9f3a\"],[0.8888888888888888,\"#fdca26\"],[1.0,\"#f0f921\"]]}],\"heatmap\":[{\"type\":\"heatmap\",\"colorbar\":{\"outlinewidth\":0,\"ticks\":\"\"},\"colorscale\":[[0.0,\"#0d0887\"],[0.1111111111111111,\"#46039f\"],[0.2222222222222222,\"#7201a8\"],[0.3333333333333333,\"#9c179e\"],[0.4444444444444444,\"#bd3786\"],[0.5555555555555556,\"#d8576b\"],[0.6666666666666666,\"#ed7953\"],[0.7777777777777778,\"#fb9f3a\"],[0.8888888888888888,\"#fdca26\"],[1.0,\"#f0f921\"]]}],\"contourcarpet\":[{\"type\":\"contourcarpet\",\"colorbar\":{\"outlinewidth\":0,\"ticks\":\"\"}}],\"contour\":[{\"type\":\"contour\",\"colorbar\":{\"outlinewidth\":0,\"ticks\":\"\"},\"colorscale\":[[0.0,\"#0d0887\"],[0.1111111111111111,\"#46039f\"],[0.2222222222222222,\"#7201a8\"],[0.3333333333333333,\"#9c179e\"],[0.4444444444444444,\"#bd3786\"],[0.5555555555555556,\"#d8576b\"],[0.6666666666666666,\"#ed7953\"],[0.7777777777777778,\"#fb9f3a\"],[0.8888888888888888,\"#fdca26\"],[1.0,\"#f0f921\"]]}],\"surface\":[{\"type\":\"surface\",\"colorbar\":{\"outlinewidth\":0,\"ticks\":\"\"},\"colorscale\":[[0.0,\"#0d0887\"],[0.1111111111111111,\"#46039f\"],[0.2222222222222222,\"#7201a8\"],[0.3333333333333333,\"#9c179e\"],[0.4444444444444444,\"#bd3786\"],[0.5555555555555556,\"#d8576b\"],[0.6666666666666666,\"#ed7953\"],[0.7777777777777778,\"#fb9f3a\"],[0.8888888888888888,\"#fdca26\"],[1.0,\"#f0f921\"]]}],\"mesh3d\":[{\"type\":\"mesh3d\",\"colorbar\":{\"outlinewidth\":0,\"ticks\":\"\"}}],\"scatter\":[{\"fillpattern\":{\"fillmode\":\"overlay\",\"size\":10,\"solidity\":0.2},\"type\":\"scatter\"}],\"parcoords\":[{\"type\":\"parcoords\",\"line\":{\"colorbar\":{\"outlinewidth\":0,\"ticks\":\"\"}}}],\"scatterpolargl\":[{\"type\":\"scatterpolargl\",\"marker\":{\"colorbar\":{\"outlinewidth\":0,\"ticks\":\"\"}}}],\"bar\":[{\"error_x\":{\"color\":\"#2a3f5f\"},\"error_y\":{\"color\":\"#2a3f5f\"},\"marker\":{\"line\":{\"color\":\"#E5ECF6\",\"width\":0.5},\"pattern\":{\"fillmode\":\"overlay\",\"size\":10,\"solidity\":0.2}},\"type\":\"bar\"}],\"scattergeo\":[{\"type\":\"scattergeo\",\"marker\":{\"colorbar\":{\"outlinewidth\":0,\"ticks\":\"\"}}}],\"scatterpolar\":[{\"type\":\"scatterpolar\",\"marker\":{\"colorbar\":{\"outlinewidth\":0,\"ticks\":\"\"}}}],\"histogram\":[{\"marker\":{\"pattern\":{\"fillmode\":\"overlay\",\"size\":10,\"solidity\":0.2}},\"type\":\"histogram\"}],\"scattergl\":[{\"type\":\"scattergl\",\"marker\":{\"colorbar\":{\"outlinewidth\":0,\"ticks\":\"\"}}}],\"scatter3d\":[{\"type\":\"scatter3d\",\"line\":{\"colorbar\":{\"outlinewidth\":0,\"ticks\":\"\"}},\"marker\":{\"colorbar\":{\"outlinewidth\":0,\"ticks\":\"\"}}}],\"scattermap\":[{\"type\":\"scattermap\",\"marker\":{\"colorbar\":{\"outlinewidth\":0,\"ticks\":\"\"}}}],\"scattermapbox\":[{\"type\":\"scattermapbox\",\"marker\":{\"colorbar\":{\"outlinewidth\":0,\"ticks\":\"\"}}}],\"scatterternary\":[{\"type\":\"scatterternary\",\"marker\":{\"colorbar\":{\"outlinewidth\":0,\"ticks\":\"\"}}}],\"scattercarpet\":[{\"type\":\"scattercarpet\",\"marker\":{\"colorbar\":{\"outlinewidth\":0,\"ticks\":\"\"}}}],\"carpet\":[{\"aaxis\":{\"endlinecolor\":\"#2a3f5f\",\"gridcolor\":\"white\",\"linecolor\":\"white\",\"minorgridcolor\":\"white\",\"startlinecolor\":\"#2a3f5f\"},\"baxis\":{\"endlinecolor\":\"#2a3f5f\",\"gridcolor\":\"white\",\"linecolor\":\"white\",\"minorgridcolor\":\"white\",\"startlinecolor\":\"#2a3f5f\"},\"type\":\"carpet\"}],\"table\":[{\"cells\":{\"fill\":{\"color\":\"#EBF0F8\"},\"line\":{\"color\":\"white\"}},\"header\":{\"fill\":{\"color\":\"#C8D4E3\"},\"line\":{\"color\":\"white\"}},\"type\":\"table\"}],\"barpolar\":[{\"marker\":{\"line\":{\"color\":\"#E5ECF6\",\"width\":0.5},\"pattern\":{\"fillmode\":\"overlay\",\"size\":10,\"solidity\":0.2}},\"type\":\"barpolar\"}],\"pie\":[{\"automargin\":true,\"type\":\"pie\"}]},\"layout\":{\"autotypenumbers\":\"strict\",\"colorway\":[\"#636efa\",\"#EF553B\",\"#00cc96\",\"#ab63fa\",\"#FFA15A\",\"#19d3f3\",\"#FF6692\",\"#B6E880\",\"#FF97FF\",\"#FECB52\"],\"font\":{\"color\":\"#2a3f5f\"},\"hovermode\":\"closest\",\"hoverlabel\":{\"align\":\"left\"},\"paper_bgcolor\":\"white\",\"plot_bgcolor\":\"#E5ECF6\",\"polar\":{\"bgcolor\":\"#E5ECF6\",\"angularaxis\":{\"gridcolor\":\"white\",\"linecolor\":\"white\",\"ticks\":\"\"},\"radialaxis\":{\"gridcolor\":\"white\",\"linecolor\":\"white\",\"ticks\":\"\"}},\"ternary\":{\"bgcolor\":\"#E5ECF6\",\"aaxis\":{\"gridcolor\":\"white\",\"linecolor\":\"white\",\"ticks\":\"\"},\"baxis\":{\"gridcolor\":\"white\",\"linecolor\":\"white\",\"ticks\":\"\"},\"caxis\":{\"gridcolor\":\"white\",\"linecolor\":\"white\",\"ticks\":\"\"}},\"coloraxis\":{\"colorbar\":{\"outlinewidth\":0,\"ticks\":\"\"}},\"colorscale\":{\"sequential\":[[0.0,\"#0d0887\"],[0.1111111111111111,\"#46039f\"],[0.2222222222222222,\"#7201a8\"],[0.3333333333333333,\"#9c179e\"],[0.4444444444444444,\"#bd3786\"],[0.5555555555555556,\"#d8576b\"],[0.6666666666666666,\"#ed7953\"],[0.7777777777777778,\"#fb9f3a\"],[0.8888888888888888,\"#fdca26\"],[1.0,\"#f0f921\"]],\"sequentialminus\":[[0.0,\"#0d0887\"],[0.1111111111111111,\"#46039f\"],[0.2222222222222222,\"#7201a8\"],[0.3333333333333333,\"#9c179e\"],[0.4444444444444444,\"#bd3786\"],[0.5555555555555556,\"#d8576b\"],[0.6666666666666666,\"#ed7953\"],[0.7777777777777778,\"#fb9f3a\"],[0.8888888888888888,\"#fdca26\"],[1.0,\"#f0f921\"]],\"diverging\":[[0,\"#8e0152\"],[0.1,\"#c51b7d\"],[0.2,\"#de77ae\"],[0.3,\"#f1b6da\"],[0.4,\"#fde0ef\"],[0.5,\"#f7f7f7\"],[0.6,\"#e6f5d0\"],[0.7,\"#b8e186\"],[0.8,\"#7fbc41\"],[0.9,\"#4d9221\"],[1,\"#276419\"]]},\"xaxis\":{\"gridcolor\":\"white\",\"linecolor\":\"white\",\"ticks\":\"\",\"title\":{\"standoff\":15},\"zerolinecolor\":\"white\",\"automargin\":true,\"zerolinewidth\":2},\"yaxis\":{\"gridcolor\":\"white\",\"linecolor\":\"white\",\"ticks\":\"\",\"title\":{\"standoff\":15},\"zerolinecolor\":\"white\",\"automargin\":true,\"zerolinewidth\":2},\"scene\":{\"xaxis\":{\"backgroundcolor\":\"#E5ECF6\",\"gridcolor\":\"white\",\"linecolor\":\"white\",\"showbackground\":true,\"ticks\":\"\",\"zerolinecolor\":\"white\",\"gridwidth\":2},\"yaxis\":{\"backgroundcolor\":\"#E5ECF6\",\"gridcolor\":\"white\",\"linecolor\":\"white\",\"showbackground\":true,\"ticks\":\"\",\"zerolinecolor\":\"white\",\"gridwidth\":2},\"zaxis\":{\"backgroundcolor\":\"#E5ECF6\",\"gridcolor\":\"white\",\"linecolor\":\"white\",\"showbackground\":true,\"ticks\":\"\",\"zerolinecolor\":\"white\",\"gridwidth\":2}},\"shapedefaults\":{\"line\":{\"color\":\"#2a3f5f\"}},\"annotationdefaults\":{\"arrowcolor\":\"#2a3f5f\",\"arrowhead\":0,\"arrowwidth\":1},\"geo\":{\"bgcolor\":\"white\",\"landcolor\":\"#E5ECF6\",\"subunitcolor\":\"white\",\"showland\":true,\"showlakes\":true,\"lakecolor\":\"white\"},\"title\":{\"x\":0.05},\"mapbox\":{\"style\":\"light\"}}},\"xaxis\":{\"anchor\":\"y\",\"domain\":[0.0,1.0],\"title\":{\"text\":\"DOB\"}},\"yaxis\":{\"anchor\":\"x\",\"domain\":[0.0,1.0],\"title\":{\"text\":\"Count\"}},\"legend\":{\"tracegroupgap\":0},\"title\":{\"text\":\"Counts of DOB\"},\"barmode\":\"relative\"},                        {\"responsive\": true}                    )                };            </script>        </div>"
      ],
      "text/plain": [
       "<IPython.core.display.HTML object>"
      ]
     },
     "execution_count": 33,
     "metadata": {},
     "output_type": "execute_result"
    }
   ],
   "source": [
    "def testing_dashboard(df: pd.DataFrame):\n",
    "    figs = []\n",
    "\n",
    "    # Identify numeric continuous variables (exclude IDs and low-cardinality ints)\n",
    "    num_cols = []\n",
    "    df_cleaned = df.drop_duplicates()\n",
    "    for col in  df_cleaned.select_dtypes(include=[\"number\"]).columns:\n",
    "        nunique =  df_cleaned[col].nunique()\n",
    "        if  df_cleaned.shape[0] - nunique  <= 5:  # potential ID column\n",
    "            continue\n",
    "        num_cols.append(col)\n",
    "\n",
    "    # Identify categorical columns with <= 10 unique values\n",
    "    cat_cols = [col for col in df.select_dtypes(include=[\"object\", \"category\"]).columns \n",
    "                if df[col].nunique() <= 10]\n",
    "\n",
    "    # Scatter plot (first two continuous numeric cols)\n",
    "    if len(num_cols) >= 2:\n",
    "        figs.append(\n",
    "            px.scatter(\n",
    "                df, x=num_cols[0], y=num_cols[1],\n",
    "                title=f\"Scatter Plot: {num_cols[0]} vs {num_cols[1]}\"\n",
    "            )\n",
    "        )\n",
    "\n",
    "    # Histogram (first continuous numeric col)\n",
    "    if len(num_cols) >= 1:\n",
    "        figs.append(\n",
    "            px.histogram(\n",
    "                df, x=num_cols[0],\n",
    "                title=f\"Distribution of {num_cols[0]}\"\n",
    "            )\n",
    "        )\n",
    "\n",
    "    # Bar plot (first categorical col with <= 10 unique values)\n",
    "    if len(cat_cols) >= 1:\n",
    "        cat_counts = df[cat_cols[0]].value_counts().reset_index()\n",
    "        cat_counts.columns = [cat_cols[0], \"Count\"]\n",
    "        figs.append(\n",
    "            px.bar(\n",
    "                cat_counts, x=cat_cols[0], y=\"Count\",\n",
    "                title=f\"Counts of {cat_cols[0]}\"\n",
    "            )\n",
    "        )\n",
    "\n",
    "    if not figs:\n",
    "        return \"⚠️ No suitable columns found for visualization.\"\n",
    "\n",
    "    # Combine all charts into HTML\n",
    "    html_parts = [pio.to_html(fig, full_html=False, include_plotlyjs=\"cdn\") for fig in figs]\n",
    "    dashboard_html = \"\\n\".join(html_parts)\n",
    "\n",
    "    return dashboard_html\n",
    "\n",
    "\n",
    "HTML(testing_dashbord(df))"
   ]
  },
  {
   "cell_type": "code",
   "execution_count": 35,
   "id": "d7074b13-a660-428b-847d-154d1802133f",
   "metadata": {},
   "outputs": [
    {
     "name": "stdout",
     "output_type": "stream",
     "text": [
      "5647\n"
     ]
    },
    {
     "data": {
      "text/plain": [
       "customer_Id    5647\n",
       "DOB            4056\n",
       "Gender            2\n",
       "city_code        10\n",
       "dtype: int64"
      ]
     },
     "execution_count": 35,
     "metadata": {},
     "output_type": "execute_result"
    }
   ],
   "source": [
    "print(len(df))\n",
    "df.nunique()"
   ]
  },
  {
   "cell_type": "code",
   "execution_count": 37,
   "id": "35148323-635d-4c35-a11b-f7971e756ca1",
   "metadata": {},
   "outputs": [
    {
     "data": {
      "text/plain": [
       "customer_Id      int64\n",
       "DOB             object\n",
       "Gender          object\n",
       "city_code      float64\n",
       "dtype: object"
      ]
     },
     "execution_count": 37,
     "metadata": {},
     "output_type": "execute_result"
    }
   ],
   "source": [
    "df.dtypes"
   ]
  },
  {
   "cell_type": "code",
   "execution_count": 36,
   "id": "720f1d07-5aa3-4246-a979-6eb0c667a9bb",
   "metadata": {},
   "outputs": [
    {
     "name": "stdout",
     "output_type": "stream",
     "text": [
      "['city_code']\n"
     ]
    }
   ],
   "source": [
    "num_cols = []\n",
    "df_cleaned = df.drop_duplicates()\n",
    "for col in  df_cleaned.select_dtypes(include=[\"number\"]).columns:\n",
    "    nunique =  df_cleaned[col].nunique()\n",
    "    if  df_cleaned.shape[0] - nunique  <= 5:  # potential ID column\n",
    "        continue\n",
    "    num_cols.append(col)\n",
    "\n",
    "print(num_cols)"
   ]
  },
  {
   "cell_type": "markdown",
   "id": "412ed4e9-6027-4d9c-920c-9a1128553d40",
   "metadata": {},
   "source": [
    "**Merge Tools**"
   ]
  },
  {
   "cell_type": "code",
   "execution_count": 39,
   "id": "b8a7ed22-6df4-467d-a07e-b7a969c01796",
   "metadata": {},
   "outputs": [],
   "source": [
    "tools = [tool_summary]"
   ]
  },
  {
   "cell_type": "markdown",
   "id": "e2174658-ad72-4586-99b7-42b32c08340f",
   "metadata": {},
   "source": [
    "**Bind Tools to LLM**"
   ]
  },
  {
   "cell_type": "code",
   "execution_count": 40,
   "id": "cf0d2d2b-d6e7-41e1-81fa-35956337ff47",
   "metadata": {},
   "outputs": [],
   "source": [
    "groq_llm_with_tools = groq_llm.bind_tools(tools)"
   ]
  },
  {
   "cell_type": "markdown",
   "id": "18b99de7-80ba-4d09-9345-272b27c245a5",
   "metadata": {},
   "source": [
    "### Evaluate Tools Responses"
   ]
  },
  {
   "cell_type": "code",
   "execution_count": null,
   "id": "47269cb7-f830-46f6-98eb-a968fd460285",
   "metadata": {},
   "outputs": [],
   "source": []
  },
  {
   "cell_type": "markdown",
   "id": "fd6c61bd-0e9b-49b2-822f-b4b70eac2bea",
   "metadata": {},
   "source": [
    "### Assistant"
   ]
  },
  {
   "cell_type": "code",
   "execution_count": 41,
   "id": "a46a0580-b9c7-4ab8-bdd5-74079c690e8c",
   "metadata": {},
   "outputs": [],
   "source": [
    "def assistant(state: State):\n",
    "    return {\"messages\": [groq_llm_with_tools.invoke(state[\"messages\"])]}"
   ]
  },
  {
   "cell_type": "code",
   "execution_count": 42,
   "id": "3b38c6ec-118e-42eb-bd23-0a171dc6d6b0",
   "metadata": {},
   "outputs": [],
   "source": [
    "def decides_if_tool(state: State):\n",
    "    \"\"\"\n",
    "    The agent's output is an AIMessage that contains a tool_call object\n",
    "    \"\"\"\n",
    "    last_message = state[\"messages\"][-1]\n",
    "    if isinstance(last_message, AIMessage) and last_message.tool_calls:\n",
    "        return \"tools\"\n",
    "    return \"end\""
   ]
  },
  {
   "cell_type": "markdown",
   "id": "ec80e0bf-9938-4fe5-932b-80b2a7a28d9b",
   "metadata": {},
   "source": [
    "### Graph, Nodes and Edges"
   ]
  },
  {
   "cell_type": "code",
   "execution_count": 43,
   "id": "ae81a8af-b9c2-484d-82ac-fc3fec7117e2",
   "metadata": {},
   "outputs": [],
   "source": [
    "graph_builder = StateGraph(State)\n",
    "graph_builder.add_node('agent', assistant)\n",
    "graph_builder.add_node(\"tools\", ToolNode(tools=tools))\n",
    "\n",
    "graph_builder.add_edge(START, \"agent\")\n",
    "graph_builder.add_conditional_edges(\"agent\", decides_if_tool, {\"tools\":\"tools\", \"end\": END})\n",
    "graph_builder.add_edge(\"tools\", \"agent\")\n",
    "\n",
    "graph = graph_builder.compile() "
   ]
  },
  {
   "cell_type": "markdown",
   "id": "dc35e968-4198-4b1d-aa36-8b6971096196",
   "metadata": {},
   "source": [
    "**Visualize Graph**"
   ]
  },
  {
   "cell_type": "code",
   "execution_count": 44,
   "id": "c4c0ee92-a81c-4ab1-b3b1-b909e53dae57",
   "metadata": {},
   "outputs": [],
   "source": [
    "# import nest_asyncio\n",
    "# import pyppeteer\n",
    "# nest_asyncio.apply()\n",
    "\n",
    "# display(Image(graph.get_graph().draw_mermaid_png(draw_method='pyppeteer')))\n",
    "# # # await graph.get_graph().draw_mermaid_png(output_file_path=\"graph.png\", draw_method=MermaidDrawMethod.PYPPETEER )"
   ]
  },
  {
   "cell_type": "markdown",
   "id": "a6455dbe-a7d0-4237-ba18-3dd26d21e7e2",
   "metadata": {},
   "source": [
    "### Gradio Chat"
   ]
  },
  {
   "cell_type": "code",
   "execution_count": 48,
   "id": "a8b6b544-2d24-4913-9dc6-d0d0055a99e7",
   "metadata": {},
   "outputs": [
    {
     "name": "stdout",
     "output_type": "stream",
     "text": [
      "* Running on local URL:  http://127.0.0.1:7865\n",
      "* To create a public link, set `share=True` in `launch()`.\n"
     ]
    },
    {
     "data": {
      "text/html": [
       "<div><iframe src=\"http://127.0.0.1:7865/\" width=\"100%\" height=\"500\" allow=\"autoplay; camera; microphone; clipboard-read; clipboard-write;\" frameborder=\"0\" allowfullscreen></iframe></div>"
      ],
      "text/plain": [
       "<IPython.core.display.HTML object>"
      ]
     },
     "metadata": {},
     "output_type": "display_data"
    },
    {
     "data": {
      "text/plain": []
     },
     "execution_count": 48,
     "metadata": {},
     "output_type": "execute_result"
    },
    {
     "name": "stdout",
     "output_type": "stream",
     "text": [
      "{'messages': [HumanMessage(content='hi', additional_kwargs={}, response_metadata={}, id='4ee8eda4-ddf6-405c-9e65-d324c5be41f3'), AIMessage(content='Hello, how can I assist you today?', additional_kwargs={}, response_metadata={'token_usage': {'completion_tokens': 10, 'prompt_tokens': 275, 'total_tokens': 285, 'completion_time': 0.033385003, 'prompt_time': 0.023517286, 'queue_time': 0.084468843, 'total_time': 0.056902289}, 'model_name': 'llama-3.3-70b-versatile', 'system_fingerprint': 'fp_155ab82e98', 'service_tier': 'on_demand', 'finish_reason': 'stop', 'logprobs': None}, id='run--415163a4-5fdc-45a4-93c5-066e2d53ba7e-0', usage_metadata={'input_tokens': 275, 'output_tokens': 10, 'total_tokens': 285})]}\n",
      "{'messages': [HumanMessage(content='what is the datatype of each fields', additional_kwargs={}, response_metadata={}, id='d845f42f-615c-44d9-889e-6e3f34c7b180'), AIMessage(content='', additional_kwargs={'tool_calls': [{'id': 'kzw7h4kfg', 'function': {'arguments': '{\"__arg1\":\"datatype\"}', 'name': 'summarize_data'}, 'type': 'function'}]}, response_metadata={'token_usage': {'completion_tokens': 18, 'prompt_tokens': 281, 'total_tokens': 299, 'completion_time': 0.056433545, 'prompt_time': 0.024006486, 'queue_time': 0.083878236, 'total_time': 0.080440031}, 'model_name': 'llama-3.3-70b-versatile', 'system_fingerprint': 'fp_9e1e8f8435', 'service_tier': 'on_demand', 'finish_reason': 'tool_calls', 'logprobs': None}, id='run--d001be36-9274-4e8e-b589-6d8ed460a89f-0', tool_calls=[{'name': 'summarize_data', 'args': {'__arg1': 'datatype'}, 'id': 'kzw7h4kfg', 'type': 'tool_call'}], usage_metadata={'input_tokens': 281, 'output_tokens': 18, 'total_tokens': 299}), ToolMessage(content='summary of dataframe:\\n\\n\\nDataset contains 5647 rows and 4 columns.\\n\\nColumn Information:\\n\\n               dtype  missing_values  non_null_count\\ncustomer_Id    int64               0            5647\\nDOB           object               0            5647\\nGender        object               2            5645\\ncity_code    float64               2            5645\\n\\n\\nNumeric Column Statistics:\\n\\n              count           mean          std       min       25%       50%       75%       max\\ncustomer_Id  5647.0  271037.281034  2451.261711  266783.0  268912.0  271028.0  273180.0  275265.0\\ncity_code    5645.0       5.472631     2.859918       1.0       3.0       5.0       8.0      10.0\\n\\n\\nCategorical Column Summary:\\n\\n       count unique         top  freq\\nDOB     5647   4056  27-12-1988     7\\nGender  5645      2           M  2892\\n\\n', name='summarize_data', id='abf8da8f-7a87-47e2-a760-8ca85fc0dff2', tool_call_id='kzw7h4kfg'), AIMessage(content='', additional_kwargs={'tool_calls': [{'id': '49ne6qpjc', 'function': {'arguments': '{\"__arg1\":\"dataframe\"}', 'name': 'summarize_data'}, 'type': 'function'}]}, response_metadata={'token_usage': {'completion_tokens': 19, 'prompt_tokens': 560, 'total_tokens': 579, 'completion_time': 0.036084658, 'prompt_time': 0.04629464, 'queue_time': 0.085451329, 'total_time': 0.082379298}, 'model_name': 'llama-3.3-70b-versatile', 'system_fingerprint': 'fp_9e1e8f8435', 'service_tier': 'on_demand', 'finish_reason': 'tool_calls', 'logprobs': None}, id='run--6ecd7b78-806b-4022-855c-026c0e3a01fa-0', tool_calls=[{'name': 'summarize_data', 'args': {'__arg1': 'dataframe'}, 'id': '49ne6qpjc', 'type': 'tool_call'}], usage_metadata={'input_tokens': 560, 'output_tokens': 19, 'total_tokens': 579}), ToolMessage(content='summary of dataframe:\\n\\n\\nDataset contains 5647 rows and 4 columns.\\n\\nColumn Information:\\n\\n               dtype  missing_values  non_null_count\\ncustomer_Id    int64               0            5647\\nDOB           object               0            5647\\nGender        object               2            5645\\ncity_code    float64               2            5645\\n\\n\\nNumeric Column Statistics:\\n\\n              count           mean          std       min       25%       50%       75%       max\\ncustomer_Id  5647.0  271037.281034  2451.261711  266783.0  268912.0  271028.0  273180.0  275265.0\\ncity_code    5645.0       5.472631     2.859918       1.0       3.0       5.0       8.0      10.0\\n\\n\\nCategorical Column Summary:\\n\\n       count unique         top  freq\\nDOB     5647   4056  27-12-1988     7\\nGender  5645      2           M  2892\\n\\n', name='summarize_data', id='6422e633-d040-491c-9dd7-4a92b2413250', tool_call_id='49ne6qpjc'), AIMessage(content='The datatype of each field in the dataframe is as follows:\\n- customer_Id: int64\\n- DOB: object\\n- Gender: object\\n- city_code: float64', additional_kwargs={}, response_metadata={'token_usage': {'completion_tokens': 37, 'prompt_tokens': 840, 'total_tokens': 877, 'completion_time': 0.074306166, 'prompt_time': 0.068514126, 'queue_time': 0.086162651, 'total_time': 0.142820292}, 'model_name': 'llama-3.3-70b-versatile', 'system_fingerprint': 'fp_9e1e8f8435', 'service_tier': 'on_demand', 'finish_reason': 'stop', 'logprobs': None}, id='run--6652527f-387e-49c7-8c15-a4dbac37643a-0', usage_metadata={'input_tokens': 840, 'output_tokens': 37, 'total_tokens': 877})]}\n",
      "{'messages': [HumanMessage(content='can you clean the dataset for me', additional_kwargs={}, response_metadata={}, id='c7ed6927-41b9-4bce-be9b-cacfef253650'), AIMessage(content='I cannot perform this task as it requires additional functionality beyond what is available in the given functions.', additional_kwargs={}, response_metadata={'token_usage': {'completion_tokens': 20, 'prompt_tokens': 281, 'total_tokens': 301, 'completion_time': 0.116387519, 'prompt_time': 0.023983597, 'queue_time': 0.086164593, 'total_time': 0.140371116}, 'model_name': 'llama-3.3-70b-versatile', 'system_fingerprint': 'fp_155ab82e98', 'service_tier': 'on_demand', 'finish_reason': 'stop', 'logprobs': None}, id='run--3fc7f1ce-6a5f-419a-a6c0-d827770982f0-0', usage_metadata={'input_tokens': 281, 'output_tokens': 20, 'total_tokens': 301})]}\n"
     ]
    }
   ],
   "source": [
    "def chat(user_input: str, history):\n",
    "    message = [HumanMessage(content=user_input)]\n",
    "    result = graph.invoke({\"messages\": message}) # last state\n",
    "    print(result)\n",
    "    return result[\"messages\"][-1].content  # the content of the AIMessage\n",
    "\n",
    "\n",
    "with gr.Blocks() as demo:\n",
    "    gr.Markdown(\"# 📊 Data Analyst Assistant\")\n",
    "    gr.Markdown(\"Upload a CSV file and then chat with the assistant.\")\n",
    "\n",
    "    with gr.Row():\n",
    "        csv_input = gr.File(label=\"Upload CSV\", file_types=[\".csv\"])\n",
    "    \n",
    "    with gr.Row():\n",
    "        csv_output = gr.Textbox(label=\"Upload Status\", interactive=False)\n",
    "        csv_preview = gr.Dataframe(label=\"First 5 Records\", interactive=False)\n",
    "\n",
    "    # Update both status + preview on file upload\n",
    "    csv_input.change(fn=load_csv, inputs=csv_input, outputs=[csv_output, csv_preview])\n",
    "\n",
    "    gr.ChatInterface(fn=chat, type=\"messages\")\n",
    "\n",
    "# Launch the app\n",
    "demo.launch()"
   ]
  },
  {
   "cell_type": "code",
   "execution_count": 46,
   "id": "33bfa967-2994-4d94-a0b3-fb5a7fc714df",
   "metadata": {},
   "outputs": [
    {
     "name": "stdout",
     "output_type": "stream",
     "text": [
      "* Running on local URL:  http://127.0.0.1:7864\n",
      "* To create a public link, set `share=True` in `launch()`.\n"
     ]
    },
    {
     "data": {
      "text/html": [
       "<div><iframe src=\"http://127.0.0.1:7864/\" width=\"100%\" height=\"500\" allow=\"autoplay; camera; microphone; clipboard-read; clipboard-write;\" frameborder=\"0\" allowfullscreen></iframe></div>"
      ],
      "text/plain": [
       "<IPython.core.display.HTML object>"
      ]
     },
     "metadata": {},
     "output_type": "display_data"
    },
    {
     "data": {
      "text/plain": []
     },
     "execution_count": 46,
     "metadata": {},
     "output_type": "execute_result"
    }
   ],
   "source": [
    "def chat(user_input: str, history):\n",
    "    message = [HumanMessage(content=user_input)]\n",
    "    result = graph.invoke({\"messages\": message}) # last state\n",
    "    print(result)\n",
    "    return result[\"messages\"][-1].content  # the content of the AIMessage\n",
    "\n",
    "\n",
    "with gr.Blocks() as demo:\n",
    "    gr.Markdown(\"# 📊 Data Analyst Assistant\")\n",
    "    gr.Markdown(\"Upload a CSV file and then chat with the assistant.\")\n",
    "\n",
    "    with gr.Row():\n",
    "        csv_input = gr.File(label=\"Upload CSV\", file_types=[\".csv\"])\n",
    "        csv_output = gr.Textbox(label=\"Upload Status\", interactive=False)\n",
    "\n",
    "    csv_input.change(fn=load_csv, inputs=csv_input, outputs=csv_output)\n",
    "\n",
    "    gr.ChatInterface(fn=chat, type=\"messages\")\n",
    "\n",
    "# Launch the app\n",
    "demo.launch()"
   ]
  },
  {
   "cell_type": "markdown",
   "id": "1fb1820b-c4dc-4118-8057-af3539792848",
   "metadata": {},
   "source": [
    "---"
   ]
  },
  {
   "cell_type": "code",
   "execution_count": null,
   "id": "72a73eb1-27c8-4c77-a825-0f9fd22d2114",
   "metadata": {},
   "outputs": [],
   "source": []
  },
  {
   "cell_type": "code",
   "execution_count": null,
   "id": "62e23d07-9287-4fc7-a193-76f549e960e4",
   "metadata": {},
   "outputs": [],
   "source": []
  },
  {
   "cell_type": "code",
   "execution_count": null,
   "id": "9d970c63-ee50-4a76-81a8-deed8678352b",
   "metadata": {},
   "outputs": [],
   "source": []
  },
  {
   "cell_type": "code",
   "execution_count": null,
   "id": "9a62c686-4f49-4aa0-b535-9670b925c9c0",
   "metadata": {},
   "outputs": [],
   "source": []
  },
  {
   "cell_type": "code",
   "execution_count": null,
   "id": "09076174-045f-4d5e-8a64-6c54bcb0e9a3",
   "metadata": {},
   "outputs": [],
   "source": []
  },
  {
   "cell_type": "code",
   "execution_count": null,
   "id": "004e9501-b177-4302-a75e-8f332e630194",
   "metadata": {},
   "outputs": [],
   "source": []
  },
  {
   "cell_type": "code",
   "execution_count": null,
   "id": "55df4898-d53c-4760-a61c-e500685ccff1",
   "metadata": {},
   "outputs": [],
   "source": []
  },
  {
   "cell_type": "markdown",
   "id": "8e73b3fa-f6ac-4ced-9589-ff8d0f5665e9",
   "metadata": {},
   "source": [
    "### Nodes"
   ]
  },
  {
   "cell_type": "code",
   "execution_count": 19,
   "id": "c443b548-51f4-431e-ba91-fe4398b5f9e4",
   "metadata": {},
   "outputs": [],
   "source": [
    "def assistant(state: State) -> Dict[str, Any]:\n",
    "    \"\"\"\n",
    "    Worker function that manages system instructions and invokes the LLM with tools.\n",
    "\n",
    "    This function ensures the assistant always has an up-to-date system message\n",
    "    guiding its behavior (e.g., role, success criteria, or feedback from prior attempts).\n",
    "    It updates or prepends a SystemMessage to the conversation history, sends the\n",
    "    updated messages to the LLM, and returns the assistant's latest response.\n",
    "\n",
    "    Workflow:\n",
    "        1. Construct a dynamic system message based on:\n",
    "            - The success criteria from state\n",
    "            - Optional feedback on previous work\n",
    "        2. Check if a SystemMessage already exists in state[\"messages\"]:\n",
    "            - If yes, update its content with the new system message\n",
    "            - If no, prepend a new SystemMessage to the messages list\n",
    "        3. Invoke the LLM (with tools enabled) on the updated message history\n",
    "        4. Return the new assistant response so it can be merged into state\n",
    "\n",
    "    Args:\n",
    "        state (State): The current state containing conversation history, \n",
    "                       success criteria, and optional feedback.\n",
    "\n",
    "    Returns:\n",
    "        dict: A partial state update containing:\n",
    "            - \"messages\": A list with the assistant's latest response message.\n",
    "    \"\"\"\n",
    "    system_message = f\"\"\"\n",
    "        You are a data analyst assistant that collaborates with tools to complete analysis tasks. \n",
    "        Your role is to:\n",
    "        - Present results from tools clearly and accurately to the user\n",
    "        - Provide context, explanations, or next steps if helpful\n",
    "        - Ask the user clarifying questions if needed\n",
    "        - Stop once the success criteria is met\n",
    "        \n",
    "        The success criteria for this task is:\n",
    "        {state['success_criteria']}\n",
    "        \n",
    "        If a tool has returned an analysis, include that result in your reply rather than repeating the analysis yourself.\n",
    "        If the task is incomplete or ambiguous, ask a clear question to the user.\n",
    "        If the task is complete, present the final analysis/answer.\n",
    "    \"\"\"\n",
    "\n",
    "    # Add rejection feedback (if any)\n",
    "    if state.get(\"feedback_on_assist\"):\n",
    "        system_message += f\"\"\"\n",
    "            Previously, you thought you completed the assignment, but your reply was rejected because the success criteria was not met.\n",
    "            Here is the feedback on why this was rejected:\n",
    "            {state['feedback_on_assist']}\n",
    "            With this feedback, please continue the assignment, ensuring that you meet the success criteria or ask a question to the user if \n",
    "            the data is missing.\n",
    "        \"\"\"\n",
    "    \n",
    "    found_system_message = False\n",
    "    messages = state[\"messages\"]\n",
    "    for message in messages:\n",
    "        if isinstance(message, SystemMessage):\n",
    "            message.content = system_message\n",
    "            found_system_message = True\n",
    "\n",
    "    # prepend system message if it does not already exists\n",
    "    if not found_system_message:\n",
    "        messages = [SystemMessage(content=system_message)] + messages\n",
    "    \n",
    "    response = google_llm__with_tools.invoke(messages)\n",
    "    \n",
    "    return {\n",
    "        \"messages\": state[\"messages\"] + [response]\n",
    "    }"
   ]
  },
  {
   "cell_type": "code",
   "execution_count": 20,
   "id": "b1bb1477-e33d-4909-9c71-b7f8abe6451c",
   "metadata": {},
   "outputs": [],
   "source": [
    "def decides_if_tool(state: State):\n",
    "    \"\"\"\n",
    "    Router function that decides the next node in the graph \n",
    "    based on the assistant's most recent message.\n",
    "\n",
    "    The function inspects the last message in the conversation:\n",
    "      - If the message contains a tool call, the flow should continue \n",
    "        to the \"tools\" node for execution.\n",
    "      - Otherwise, the flow proceeds to the \"evaluator\" node to \n",
    "        check if the assistant's response meets the success criteria.\n",
    "\n",
    "    Args:\n",
    "        state (State): The current state containing the conversation \n",
    "                       history and other workflow metadata.\n",
    "  \n",
    "    Returns:\n",
    "        str: The label of the next node to route to.\n",
    "             - \"tools\" if the last message requests a tool call\n",
    "             - \"evaluator\" if no tool call is present\n",
    "    \"\"\"\n",
    "    last_message = state[\"messages\"][-1]\n",
    "    if isinstance(last_message, AIMessage) and last_message.tool_calls:\n",
    "        return \"tools\"\n",
    "    return \"evaluator\""
   ]
  },
  {
   "cell_type": "code",
   "execution_count": 21,
   "id": "fcd7de56-a662-4fa8-9ae4-7132650bbbed",
   "metadata": {},
   "outputs": [],
   "source": [
    "def format_conversation(messages: List[Any]) -> str:\n",
    "    conversation = \"Conversation history:\\n\\n\"\n",
    "    for message in messages:\n",
    "        if isinstance(message, HumanMessage):\n",
    "            conversation += f\"User: {message.content}\\n\"\n",
    "        elif isinstance(message, AIMessage):\n",
    "            text = message.content or \"[Tools use]\"\n",
    "            conversation += f\"Assistant: {text}\\n\"\n",
    "    return conversation\n",
    "\n",
    "\n",
    "def evaluator(state: State) -> State:\n",
    "    last_response = state[\"messages\"][-1].content\n",
    "\n",
    "    system_message = \"\"\"\n",
    "        You are an evaluator that determines if a task has been completed successfully by an Assistant.\n",
    "        Assess the Assistant's last response based on the given criteria. Respond with your feedback, and with your decision on whether \n",
    "        the success criteria has been met, and whether more input is needed from the user.\n",
    "    \"\"\"\n",
    "    \n",
    "    user_message = f\"\"\"\n",
    "        You are evaluating a conversation between the User and Assistant. You decide what action to take based on the last response from the Assistant.\n",
    "\n",
    "        The entire conversation with the assistant, with the user's original request and all replies, is:\n",
    "        {format_conversation(state['messages'])} \n",
    "        \n",
    "        The success criteria for this assignment is:\n",
    "        {state['success_criteria']}\n",
    "        \n",
    "        And the final response from the Assistant that you are evaluating is:\n",
    "        {last_response}\n",
    "        \n",
    "        Respond with your feedback, and decide if the success criteria is met by this response.\n",
    "        Also, decide if more user input is required, either because the assistant has a question, needs clarification, or seems to be stuck and \n",
    "        unable to answer without help.\n",
    "    \"\"\"\n",
    "    if state[\"feedback_on_assist\"]:\n",
    "        user_message += f\"Also, note that in a prior attempt from the Assistant, you provided this feedback: {state['feedback_on_assist']}\\n\"\n",
    "        user_message += \"If you're seeing the Assistant repeating the same mistakes, then consider responding that user input is required.\"\n",
    "    \n",
    "    evaluator_messages = [SystemMessage(content=system_message), HumanMessage(content=user_message)]\n",
    "\n",
    "    eval_result = evaluator_llm_with_output.invoke(evaluator_messages)\n",
    "    \n",
    "    new_state = {\n",
    "        \"messages\": [AIMessage(content=f\"Evaluator Feedback on this answer: {eval_result.feedback}\")],\n",
    "        \"feedback_on_assist\": eval_result.feedback,\n",
    "        \"success_criteria_met\": eval_result.success_criteria_met,\n",
    "        \"user_input_needed\": eval_result.user_input_needed \n",
    "    }\n",
    "    return new_state"
   ]
  },
  {
   "cell_type": "code",
   "execution_count": 22,
   "id": "7132699a-f767-41ef-b3df-77444c558095",
   "metadata": {},
   "outputs": [],
   "source": [
    "def decides_based_on_evaluation(state: State) -> str:\n",
    "    if state[\"success_criteria_met\"] or state[\"user_input_needed\"]:\n",
    "        return \"END\"\n",
    "    else:\n",
    "        return \"assistant\""
   ]
  },
  {
   "cell_type": "markdown",
   "id": "6cbe01e3-b559-4116-beac-c8dccc3fe276",
   "metadata": {},
   "source": [
    "### Build Graph\n",
    "* Connect nodes\n",
    "* Compile the graph with memory saver"
   ]
  },
  {
   "cell_type": "code",
   "execution_count": 23,
   "id": "952bab04-4f59-4bb9-b0b0-474ce2d586a8",
   "metadata": {},
   "outputs": [],
   "source": [
    "graph_builder = StateGraph(State)"
   ]
  },
  {
   "cell_type": "code",
   "execution_count": 24,
   "id": "9ac0a166-3681-4c9c-ac14-3a6172f9dce1",
   "metadata": {},
   "outputs": [
    {
     "data": {
      "text/plain": [
       "<langgraph.graph.state.StateGraph at 0x1fb4668fd10>"
      ]
     },
     "execution_count": 24,
     "metadata": {},
     "output_type": "execute_result"
    }
   ],
   "source": [
    "graph_builder.add_node(\"assistant\", assistant)\n",
    "graph_builder.add_node(\"tools\", ToolNode(tools=tools))\n",
    "graph_builder.add_node(\"evaluator\", evaluator)"
   ]
  },
  {
   "cell_type": "code",
   "execution_count": 25,
   "id": "476af97a-0d52-4071-beca-df79b69fc172",
   "metadata": {},
   "outputs": [
    {
     "data": {
      "text/plain": [
       "<langgraph.graph.state.StateGraph at 0x1fb4668fd10>"
      ]
     },
     "execution_count": 25,
     "metadata": {},
     "output_type": "execute_result"
    }
   ],
   "source": [
    "graph_builder.add_edge(START, \"assistant\")\n",
    "graph_builder.add_conditional_edges(\"assistant\", decides_if_tool, {\"tools\": \"tools\", \"evaluator\": \"evaluator\"})\n",
    "graph_builder.add_edge(\"tools\", \"assistant\")\n",
    "graph_builder.add_conditional_edges(\"evaluator\", decides_based_on_evaluation, {\"assistant\": \"assistant\", \"END\": END})"
   ]
  },
  {
   "cell_type": "markdown",
   "id": "36a99ec3-82dd-4c5e-8a35-77d1ffb1943f",
   "metadata": {},
   "source": [
    "**Compile the nodes and edges**"
   ]
  },
  {
   "cell_type": "code",
   "execution_count": 26,
   "id": "d0b281ec-06be-46f7-a83b-0a7c55f9255e",
   "metadata": {},
   "outputs": [],
   "source": [
    "session_data = {\"thread_id\": None}\n",
    "\n",
    "def get_thread_id():\n",
    "    if session_data[\"thread_id\"] is None:\n",
    "        session_data[\"thread_id\"] = str(uuid.uuid4())  \n",
    "    return session_data[\"thread_id\"]\n",
    "\n",
    "memory = MemorySaver()"
   ]
  },
  {
   "cell_type": "code",
   "execution_count": 27,
   "id": "1932c2c8-ec9c-47ac-84a1-a26622ea8010",
   "metadata": {},
   "outputs": [],
   "source": [
    "graph = graph_builder.compile(checkpointer=memory)"
   ]
  },
  {
   "cell_type": "code",
   "execution_count": 28,
   "id": "37c55be2-2d92-4e88-9df5-4a5f77daa669",
   "metadata": {},
   "outputs": [
    {
     "data": {
      "image/png": "[encoded data removed]",
      "text/plain": [
       "<IPython.core.display.Image object>"
      ]
     },
     "metadata": {},
     "output_type": "display_data"
    }
   ],
   "source": [
    "display(Image(graph.get_graph().draw_mermaid_png()))"
   ]
  },
  {
   "cell_type": "markdown",
   "id": "e7a377d7-2211-4851-9e00-dc62ae509d10",
   "metadata": {},
   "source": [
    "### Gradio App"
   ]
  },
  {
   "cell_type": "markdown",
   "id": "30267b4f-a448-4400-9093-0568a37ae356",
   "metadata": {},
   "source": [
    "**Data Handler**"
   ]
  },
  {
   "cell_type": "code",
   "execution_count": 29,
   "id": "95535e37-dc61-4214-b7c2-d0eadb41ecf0",
   "metadata": {},
   "outputs": [],
   "source": [
    "shared_data = {\"df\": None}\n",
    "\n",
    "def load_csv(file):\n",
    "    \"\"\"\n",
    "    Loads a CSV file into shared_data['df'] and returns a status message.\n",
    "    \"\"\"\n",
    "    if file is None:\n",
    "        return \"⚠️ No file uploaded yet.\"\n",
    "\n",
    "    try:\n",
    "        df = pd.read_csv(file.name if hasattr(file, \"name\") else file)\n",
    "        shared_data[\"df\"] = df\n",
    "\n",
    "        nrows, ncols = df.shape\n",
    "        response_message = (\n",
    "            f\"✅ CSV loaded successfully! \"\n",
    "            f\"Your dataset has {nrows} rows and {ncols} columns.\"\n",
    "        )\n",
    "    except Exception as e:\n",
    "        response_message = f\"❌ Error reading CSV: {e}\"\n",
    "\n",
    "    return response_message\n"
   ]
  },
  {
   "cell_type": "markdown",
   "id": "ceaeaa0b-cbc7-46f3-857d-2faee0aa2fbc",
   "metadata": {},
   "source": [
    "**Chat Han**"
   ]
  },
  {
   "cell_type": "code",
   "execution_count": 30,
   "id": "75058904-6767-461e-bee7-fc4adba8db42",
   "metadata": {},
   "outputs": [],
   "source": [
    "def chat_with_assistant(user_input, history):\n",
    "    if shared_data[\"df\"] is None:\n",
    "        return \"Please upload a CSV file first.\"\n",
    "    \n",
    "    state = {\n",
    "        \"messages\": [HumanMessage(content=user_input)],\n",
    "        \"success_criteria\": \"Provide insights based on the uploaded CSV dataset.\",\n",
    "        \"feedback_on_assist\": None,\n",
    "        \"success_criteria_met\": False,\n",
    "        \"user_input_needed\": False\n",
    "    }\n",
    "\n",
    "    thread_id =  get_thread_id()\n",
    "    result = graph.invoke(state, config={\"configurable\": {\"thread_id\": thread_id}})\n",
    "\n",
    "    print(result)\n",
    "    # Get last assistant message safely\n",
    "    last_msg = result[\"messages\"][-1]\n",
    "    return getattr(last_msg, \"content\", str(last_msg))"
   ]
  },
  {
   "cell_type": "markdown",
   "id": "5b892863-a7f8-4036-af78-5584d7a27154",
   "metadata": {},
   "source": [
    "**Application Block**"
   ]
  },
  {
   "cell_type": "code",
   "execution_count": 31,
   "id": "372b9df3-d9b2-4364-9d5a-4f2d6dd0e343",
   "metadata": {},
   "outputs": [
    {
     "name": "stdout",
     "output_type": "stream",
     "text": [
      "* Running on local URL:  http://127.0.0.1:7860\n",
      "* To create a public link, set `share=True` in `launch()`.\n"
     ]
    },
    {
     "data": {
      "text/html": [
       "<div><iframe src=\"http://127.0.0.1:7860/\" width=\"100%\" height=\"500\" allow=\"autoplay; camera; microphone; clipboard-read; clipboard-write;\" frameborder=\"0\" allowfullscreen></iframe></div>"
      ],
      "text/plain": [
       "<IPython.core.display.HTML object>"
      ]
     },
     "metadata": {},
     "output_type": "display_data"
    },
    {
     "data": {
      "text/plain": []
     },
     "execution_count": 31,
     "metadata": {},
     "output_type": "execute_result"
    }
   ],
   "source": [
    "with gr.Blocks() as demo:\n",
    "    gr.Markdown(\"# 📊 Data Analyst Assistant\")\n",
    "    gr.Markdown(\"Upload a CSV file and then chat with the assistant.\")\n",
    "\n",
    "    with gr.Row():\n",
    "        csv_input = gr.File(label=\"Upload CSV\", file_types=[\".csv\"])\n",
    "        csv_output = gr.Textbox(label=\"Upload Status\", interactive=False)\n",
    "\n",
    "    csv_input.change(fn=load_csv, inputs=csv_input, outputs=csv_output)\n",
    "\n",
    "    gr.ChatInterface(fn=chat_with_assistant, type=\"messages\")\n",
    "\n",
    "# Launch the app\n",
    "demo.launch()"
   ]
  },
  {
   "cell_type": "code",
   "execution_count": 32,
   "id": "99b105ad-65c9-4954-bac8-70c9d033ba0d",
   "metadata": {},
   "outputs": [
    {
     "name": "stdout",
     "output_type": "stream",
     "text": [
      "[HumanMessage(content='summarize the dataset', additional_kwargs={}, response_metadata={}), {'role': 'assistant', 'content': 'Dataset contains 3 rows and 2 columns.\\n\\nColumn Information:\\n\\n    dtype  missing_values  non_null_count\\na   int64               0               3\\nb  object               0               3\\n\\n\\nNumeric Column Statistics:\\n\\n   count  mean  std  min  25%  50%  75%  max\\na    3.0   2.0  1.0  1.0  1.5  2.0  2.5  3.0\\n\\n\\nCategorical Column Summary:\\n\\n  count unique top freq\\nb     3      3   x    1\\n\\n'}]\n"
     ]
    }
   ],
   "source": [
    "df = pd.DataFrame({\"a\": [1,2,3], \"b\": [\"x\",\"y\",\"z\"]})\n",
    "shared_data[\"df\"] = df\n",
    "state = {\"messages\": [HumanMessage(content=\"summarize the dataset\")]}\n",
    "print(tool_data_summary(state)[\"messages\"])"
   ]
  },
  {
   "cell_type": "code",
   "execution_count": 49,
   "id": "7e00c286-8e40-4be3-b471-146bbdd942be",
   "metadata": {},
   "outputs": [
    {
     "data": {
      "text/html": [
       "<div>\n",
       "<style scoped>\n",
       "    .dataframe tbody tr th:only-of-type {\n",
       "        vertical-align: middle;\n",
       "    }\n",
       "\n",
       "    .dataframe tbody tr th {\n",
       "        vertical-align: top;\n",
       "    }\n",
       "\n",
       "    .dataframe thead th {\n",
       "        text-align: right;\n",
       "    }\n",
       "</style>\n",
       "<table border=\"1\" class=\"dataframe\">\n",
       "  <thead>\n",
       "    <tr style=\"text-align: right;\">\n",
       "      <th></th>\n",
       "      <th>customer_Id</th>\n",
       "      <th>DOB</th>\n",
       "      <th>Gender</th>\n",
       "      <th>city_code</th>\n",
       "    </tr>\n",
       "  </thead>\n",
       "  <tbody>\n",
       "    <tr>\n",
       "      <th>0</th>\n",
       "      <td>268408</td>\n",
       "      <td>02-01-1970</td>\n",
       "      <td>M</td>\n",
       "      <td>4.0</td>\n",
       "    </tr>\n",
       "    <tr>\n",
       "      <th>1</th>\n",
       "      <td>269696</td>\n",
       "      <td>07-01-1970</td>\n",
       "      <td>F</td>\n",
       "      <td>8.0</td>\n",
       "    </tr>\n",
       "    <tr>\n",
       "      <th>2</th>\n",
       "      <td>268159</td>\n",
       "      <td>08-01-1970</td>\n",
       "      <td>F</td>\n",
       "      <td>8.0</td>\n",
       "    </tr>\n",
       "    <tr>\n",
       "      <th>3</th>\n",
       "      <td>270181</td>\n",
       "      <td>10-01-1970</td>\n",
       "      <td>F</td>\n",
       "      <td>2.0</td>\n",
       "    </tr>\n",
       "    <tr>\n",
       "      <th>4</th>\n",
       "      <td>268073</td>\n",
       "      <td>11-01-1970</td>\n",
       "      <td>M</td>\n",
       "      <td>1.0</td>\n",
       "    </tr>\n",
       "    <tr>\n",
       "      <th>...</th>\n",
       "      <td>...</td>\n",
       "      <td>...</td>\n",
       "      <td>...</td>\n",
       "      <td>...</td>\n",
       "    </tr>\n",
       "    <tr>\n",
       "      <th>5642</th>\n",
       "      <td>274474</td>\n",
       "      <td>19-12-1992</td>\n",
       "      <td>M</td>\n",
       "      <td>2.0</td>\n",
       "    </tr>\n",
       "    <tr>\n",
       "      <th>5643</th>\n",
       "      <td>267666</td>\n",
       "      <td>24-12-1992</td>\n",
       "      <td>M</td>\n",
       "      <td>6.0</td>\n",
       "    </tr>\n",
       "    <tr>\n",
       "      <th>5644</th>\n",
       "      <td>270476</td>\n",
       "      <td>25-12-1992</td>\n",
       "      <td>F</td>\n",
       "      <td>3.0</td>\n",
       "    </tr>\n",
       "    <tr>\n",
       "      <th>5645</th>\n",
       "      <td>269626</td>\n",
       "      <td>27-12-1992</td>\n",
       "      <td>F</td>\n",
       "      <td>5.0</td>\n",
       "    </tr>\n",
       "    <tr>\n",
       "      <th>5646</th>\n",
       "      <td>274308</td>\n",
       "      <td>29-12-1992</td>\n",
       "      <td>F</td>\n",
       "      <td>5.0</td>\n",
       "    </tr>\n",
       "  </tbody>\n",
       "</table>\n",
       "<p>5647 rows × 4 columns</p>\n",
       "</div>"
      ],
      "text/plain": [
       "      customer_Id         DOB Gender  city_code\n",
       "0          268408  02-01-1970      M        4.0\n",
       "1          269696  07-01-1970      F        8.0\n",
       "2          268159  08-01-1970      F        8.0\n",
       "3          270181  10-01-1970      F        2.0\n",
       "4          268073  11-01-1970      M        1.0\n",
       "...           ...         ...    ...        ...\n",
       "5642       274474  19-12-1992      M        2.0\n",
       "5643       267666  24-12-1992      M        6.0\n",
       "5644       270476  25-12-1992      F        3.0\n",
       "5645       269626  27-12-1992      F        5.0\n",
       "5646       274308  29-12-1992      F        5.0\n",
       "\n",
       "[5647 rows x 4 columns]"
      ]
     },
     "execution_count": 49,
     "metadata": {},
     "output_type": "execute_result"
    }
   ],
   "source": [
    "df"
   ]
  },
  {
   "cell_type": "code",
   "execution_count": null,
   "id": "ff02dcb6-2c70-4295-8f93-be9f0c235c00",
   "metadata": {},
   "outputs": [],
   "source": [
    "def tool_dashboard(state: Dict[str, Any]) -> Dict[str, Any]:\n",
    "    \"\"\"\n",
    "    Creates a simple interactive dashboard from the uploaded dataset using Plotly.\n",
    "    - If dataset has numeric columns → show scatter + histogram\n",
    "    - If dataset has categorical columns → show bar chart\n",
    "    The dashboard is returned as an HTML string that can be rendered in Gradio.\n",
    "    \"\"\"\n",
    "    df = shared_data.get(\"df\")\n",
    "    if df is None or df.empty:\n",
    "        return {\n",
    "            **state,\n",
    "            \"messages\": state[\"messages\"] + [\n",
    "                {\"role\": \"assistant\", \"content\": \"❌ No dataset loaded yet. Please upload a CSV first.\"}\n",
    "            ]\n",
    "        }\n",
    "\n",
    "    figs = []\n",
    "\n",
    "    # Numeric scatterplot (first two numeric columns if available)\n",
    "    num_cols = df.select_dtypes(include=[\"number\"]).columns\n",
    "    if len(num_cols) >= 2:\n",
    "        fig_scatter = px.scatter(\n",
    "            df, x=num_cols[0], y=num_cols[1],\n",
    "            title=f\"Scatter Plot: {num_cols[0]} vs {num_cols[1]}\",\n",
    "            opacity=0.6\n",
    "        )\n",
    "        figs.append(fig_scatter)\n",
    "\n",
    "    # Histogram (first numeric column if available)\n",
    "    if len(num_cols) >= 1:\n",
    "        fig_hist = px.histogram(\n",
    "            df, x=num_cols[0],\n",
    "            title=f\"Distribution of {num_cols[0]}\"\n",
    "        )\n",
    "        figs.append(fig_hist)\n",
    "\n",
    "    # Bar chart (first categorical column if available)\n",
    "    cat_cols = df.select_dtypes(include=[\"object\", \"category\"]).columns\n",
    "    if len(cat_cols) >= 1:\n",
    "        fig_bar = px.bar(\n",
    "            df[cat_cols[0]].value_counts().reset_index(),\n",
    "            x=\"index\", y=cat_cols[0],\n",
    "            title=f\"Counts of {cat_cols[0]}\",\n",
    "            labels={\"index\": cat_cols[0], cat_cols[0]: \"Count\"}\n",
    "        )\n",
    "        figs.append(fig_bar)\n",
    "\n",
    "    if not figs:\n",
    "        return {\n",
    "            **state,\n",
    "            \"messages\": state[\"messages\"] + [\n",
    "                {\"role\": \"assistant\", \"content\": \"⚠️ No suitable numeric or categorical columns found for visualization.\"}\n",
    "            ]\n",
    "        }\n",
    "\n",
    "    # Combine plots into one HTML dashboard\n",
    "    html_parts = [pio.to_html(fig, full_html=False, include_plotlyjs='cdn') for fig in figs]\n",
    "    dashboard_html = \"\\n\".join(html_parts)\n",
    "\n",
    "    return {\n",
    "        **state,\n",
    "        \"messages\": state[\"messages\"] + [\n",
    "            {\"role\": \"assistant\", \"content\": \"📊 Here’s an interactive dashboard of your dataset:\"},\n",
    "            {\"role\": \"assistant\", \"content\": dashboard_html, \"type\": \"plotly_dashboard\"}\n",
    "        ]\n",
    "    }\n"
   ]
  },
  {
   "cell_type": "code",
   "execution_count": 56,
   "id": "f1fca4ed-1dad-4ada-93bc-41bd4c4d4a55",
   "metadata": {},
   "outputs": [
    {
     "data": {
      "text/plain": [
       "Index(['customer_Id', 'DOB', 'Gender', 'city_code'], dtype='object')"
      ]
     },
     "execution_count": 56,
     "metadata": {},
     "output_type": "execute_result"
    }
   ],
   "source": [
    "df.columns"
   ]
  },
  {
   "cell_type": "code",
   "execution_count": 54,
   "id": "b1e92254-8e23-4d36-a696-f3e98f476e09",
   "metadata": {},
   "outputs": [],
   "source": [
    "def tool_dashboard():\n",
    "    \"\"\"\n",
    "    Creates a simple interactive dashboard from the uploaded dataset using Plotly.\n",
    "    - If dataset has numeric columns → show scatter + histogram\n",
    "    - If dataset has categorical columns → show bar chart\n",
    "    The dashboard is returned as an HTML string that can be rendered in Gradio.\n",
    "    \"\"\"\n",
    "    figs = []\n",
    "    df = shared_data.get(\"df\")\n",
    "\n",
    "    # Numeric scatterplot (first two numeric columns if available)\n",
    "    num_cols = df.select_dtypes(include=[\"number\"]).columns\n",
    "    \n",
    "    if len(num_cols) >= 2:\n",
    "        fig_scatter = px.scatter(\n",
    "            df, x=num_cols[0], y=num_cols[1],\n",
    "            title=f\"Scatter Plot: {num_cols[0]} vs {num_cols[1]}\",\n",
    "            opacity=0.6\n",
    "        )\n",
    "        figs.append(fig_scatter)\n",
    "\n",
    "    # Histogram (first numeric column if available)\n",
    "    if len(num_cols) >= 1:\n",
    "        fig_hist = px.histogram(\n",
    "            df, x=num_cols[0],\n",
    "            title=f\"Distribution of {num_cols[0]}\"\n",
    "        )\n",
    "        figs.append(fig_hist)\n",
    "\n",
    "    # Bar chart (first categorical column if available)\n",
    "    cat_cols = df.select_dtypes(include=[\"object\", \"category\"]).columns\n",
    "    if len(cat_cols) >= 1:\n",
    "        fig_bar = px.bar(\n",
    "            df[cat_cols[0]].value_counts().reset_index(),\n",
    "            x=\"index\", y=cat_cols[0],\n",
    "            title=f\"Counts of {cat_cols[0]}\",\n",
    "            labels={\"index\": cat_cols[0], cat_cols[0]: \"Count\"}\n",
    "        )\n",
    "        figs.append(fig_bar)\n",
    "\n",
    "    # Combine plots into one HTML dashboard\n",
    "    html_parts = [pio.to_html(fig, full_html=False, include_plotlyjs='cdn') for fig in figs]\n",
    "    dashboard_html = \"\\n\".join(html_parts)\n",
    "\n",
    "    return dashboard_html\n"
   ]
  },
  {
   "cell_type": "code",
   "execution_count": 55,
   "id": "4973033e-c3ec-4ce3-89fc-907eab96fffb",
   "metadata": {},
   "outputs": [
    {
     "ename": "ValueError",
     "evalue": "Value of 'x' is not the name of a column in 'data_frame'. Expected one of ['DOB', 'count'] but received: index\n To use the index, pass it in directly as `df.index`.",
     "output_type": "error",
     "traceback": [
      "\u001b[31m---------------------------------------------------------------------------\u001b[39m",
      "\u001b[31mValueError\u001b[39m                                Traceback (most recent call last)",
      "\u001b[36mCell\u001b[39m\u001b[36m \u001b[39m\u001b[32mIn[55]\u001b[39m\u001b[32m, line 1\u001b[39m\n\u001b[32m----> \u001b[39m\u001b[32m1\u001b[39m \u001b[43mtool_dashboard\u001b[49m\u001b[43m(\u001b[49m\u001b[43m)\u001b[49m\n",
      "\u001b[36mCell\u001b[39m\u001b[36m \u001b[39m\u001b[32mIn[54]\u001b[39m\u001b[32m, line 33\u001b[39m, in \u001b[36mtool_dashboard\u001b[39m\u001b[34m()\u001b[39m\n\u001b[32m     31\u001b[39m cat_cols = df.select_dtypes(include=[\u001b[33m\"\u001b[39m\u001b[33mobject\u001b[39m\u001b[33m\"\u001b[39m, \u001b[33m\"\u001b[39m\u001b[33mcategory\u001b[39m\u001b[33m\"\u001b[39m]).columns\n\u001b[32m     32\u001b[39m \u001b[38;5;28;01mif\u001b[39;00m \u001b[38;5;28mlen\u001b[39m(cat_cols) >= \u001b[32m1\u001b[39m:\n\u001b[32m---> \u001b[39m\u001b[32m33\u001b[39m     fig_bar = \u001b[43mpx\u001b[49m\u001b[43m.\u001b[49m\u001b[43mbar\u001b[49m\u001b[43m(\u001b[49m\n\u001b[32m     34\u001b[39m \u001b[43m        \u001b[49m\u001b[43mdf\u001b[49m\u001b[43m[\u001b[49m\u001b[43mcat_cols\u001b[49m\u001b[43m[\u001b[49m\u001b[32;43m0\u001b[39;49m\u001b[43m]\u001b[49m\u001b[43m]\u001b[49m\u001b[43m.\u001b[49m\u001b[43mvalue_counts\u001b[49m\u001b[43m(\u001b[49m\u001b[43m)\u001b[49m\u001b[43m.\u001b[49m\u001b[43mreset_index\u001b[49m\u001b[43m(\u001b[49m\u001b[43m)\u001b[49m\u001b[43m,\u001b[49m\n\u001b[32m     35\u001b[39m \u001b[43m        \u001b[49m\u001b[43mx\u001b[49m\u001b[43m=\u001b[49m\u001b[33;43m\"\u001b[39;49m\u001b[33;43mindex\u001b[39;49m\u001b[33;43m\"\u001b[39;49m\u001b[43m,\u001b[49m\u001b[43m \u001b[49m\u001b[43my\u001b[49m\u001b[43m=\u001b[49m\u001b[43mcat_cols\u001b[49m\u001b[43m[\u001b[49m\u001b[32;43m0\u001b[39;49m\u001b[43m]\u001b[49m\u001b[43m,\u001b[49m\n\u001b[32m     36\u001b[39m \u001b[43m        \u001b[49m\u001b[43mtitle\u001b[49m\u001b[43m=\u001b[49m\u001b[33;43mf\u001b[39;49m\u001b[33;43m\"\u001b[39;49m\u001b[33;43mCounts of \u001b[39;49m\u001b[38;5;132;43;01m{\u001b[39;49;00m\u001b[43mcat_cols\u001b[49m\u001b[43m[\u001b[49m\u001b[32;43m0\u001b[39;49m\u001b[43m]\u001b[49m\u001b[38;5;132;43;01m}\u001b[39;49;00m\u001b[33;43m\"\u001b[39;49m\u001b[43m,\u001b[49m\n\u001b[32m     37\u001b[39m \u001b[43m        \u001b[49m\u001b[43mlabels\u001b[49m\u001b[43m=\u001b[49m\u001b[43m{\u001b[49m\u001b[33;43m\"\u001b[39;49m\u001b[33;43mindex\u001b[39;49m\u001b[33;43m\"\u001b[39;49m\u001b[43m:\u001b[49m\u001b[43m \u001b[49m\u001b[43mcat_cols\u001b[49m\u001b[43m[\u001b[49m\u001b[32;43m0\u001b[39;49m\u001b[43m]\u001b[49m\u001b[43m,\u001b[49m\u001b[43m \u001b[49m\u001b[43mcat_cols\u001b[49m\u001b[43m[\u001b[49m\u001b[32;43m0\u001b[39;49m\u001b[43m]\u001b[49m\u001b[43m:\u001b[49m\u001b[43m \u001b[49m\u001b[33;43m\"\u001b[39;49m\u001b[33;43mCount\u001b[39;49m\u001b[33;43m\"\u001b[39;49m\u001b[43m}\u001b[49m\n\u001b[32m     38\u001b[39m \u001b[43m    \u001b[49m\u001b[43m)\u001b[49m\n\u001b[32m     39\u001b[39m     figs.append(fig_bar)\n\u001b[32m     41\u001b[39m \u001b[38;5;66;03m# Combine plots into one HTML dashboard\u001b[39;00m\n",
      "\u001b[36mFile \u001b[39m\u001b[32m~\\Desktop\\New-Era-Projects\\Data-Analyst-Assistant-App\\.venv\\Lib\\site-packages\\plotly\\express\\_chart_types.py:381\u001b[39m, in \u001b[36mbar\u001b[39m\u001b[34m(data_frame, x, y, color, pattern_shape, facet_row, facet_col, facet_col_wrap, facet_row_spacing, facet_col_spacing, hover_name, hover_data, custom_data, text, base, error_x, error_x_minus, error_y, error_y_minus, animation_frame, animation_group, category_orders, labels, color_discrete_sequence, color_discrete_map, color_continuous_scale, pattern_shape_sequence, pattern_shape_map, range_color, color_continuous_midpoint, opacity, orientation, barmode, log_x, log_y, range_x, range_y, text_auto, title, subtitle, template, width, height)\u001b[39m\n\u001b[32m    332\u001b[39m \u001b[38;5;28;01mdef\u001b[39;00m\u001b[38;5;250m \u001b[39m\u001b[34mbar\u001b[39m(\n\u001b[32m    333\u001b[39m     data_frame=\u001b[38;5;28;01mNone\u001b[39;00m,\n\u001b[32m    334\u001b[39m     x=\u001b[38;5;28;01mNone\u001b[39;00m,\n\u001b[32m   (...)\u001b[39m\u001b[32m    375\u001b[39m     height=\u001b[38;5;28;01mNone\u001b[39;00m,\n\u001b[32m    376\u001b[39m ) -> go.Figure:\n\u001b[32m    377\u001b[39m \u001b[38;5;250m    \u001b[39m\u001b[33;03m\"\"\"\u001b[39;00m\n\u001b[32m    378\u001b[39m \u001b[33;03m    In a bar plot, each row of `data_frame` is represented as a rectangular\u001b[39;00m\n\u001b[32m    379\u001b[39m \u001b[33;03m    mark.\u001b[39;00m\n\u001b[32m    380\u001b[39m \u001b[33;03m    \"\"\"\u001b[39;00m\n\u001b[32m--> \u001b[39m\u001b[32m381\u001b[39m     \u001b[38;5;28;01mreturn\u001b[39;00m \u001b[43mmake_figure\u001b[49m\u001b[43m(\u001b[49m\n\u001b[32m    382\u001b[39m \u001b[43m        \u001b[49m\u001b[43margs\u001b[49m\u001b[43m=\u001b[49m\u001b[38;5;28;43mlocals\u001b[39;49m\u001b[43m(\u001b[49m\u001b[43m)\u001b[49m\u001b[43m,\u001b[49m\n\u001b[32m    383\u001b[39m \u001b[43m        \u001b[49m\u001b[43mconstructor\u001b[49m\u001b[43m=\u001b[49m\u001b[43mgo\u001b[49m\u001b[43m.\u001b[49m\u001b[43mBar\u001b[49m\u001b[43m,\u001b[49m\n\u001b[32m    384\u001b[39m \u001b[43m        \u001b[49m\u001b[43mtrace_patch\u001b[49m\u001b[43m=\u001b[49m\u001b[38;5;28;43mdict\u001b[39;49m\u001b[43m(\u001b[49m\u001b[43mtextposition\u001b[49m\u001b[43m=\u001b[49m\u001b[33;43m\"\u001b[39;49m\u001b[33;43mauto\u001b[39;49m\u001b[33;43m\"\u001b[39;49m\u001b[43m)\u001b[49m\u001b[43m,\u001b[49m\n\u001b[32m    385\u001b[39m \u001b[43m        \u001b[49m\u001b[43mlayout_patch\u001b[49m\u001b[43m=\u001b[49m\u001b[38;5;28;43mdict\u001b[39;49m\u001b[43m(\u001b[49m\u001b[43mbarmode\u001b[49m\u001b[43m=\u001b[49m\u001b[43mbarmode\u001b[49m\u001b[43m)\u001b[49m\u001b[43m,\u001b[49m\n\u001b[32m    386\u001b[39m \u001b[43m    \u001b[49m\u001b[43m)\u001b[49m\n",
      "\u001b[36mFile \u001b[39m\u001b[32m~\\Desktop\\New-Era-Projects\\Data-Analyst-Assistant-App\\.venv\\Lib\\site-packages\\plotly\\express\\_core.py:2491\u001b[39m, in \u001b[36mmake_figure\u001b[39m\u001b[34m(args, constructor, trace_patch, layout_patch)\u001b[39m\n\u001b[32m   2488\u001b[39m layout_patch = layout_patch \u001b[38;5;129;01mor\u001b[39;00m {}\n\u001b[32m   2489\u001b[39m apply_default_cascade(args)\n\u001b[32m-> \u001b[39m\u001b[32m2491\u001b[39m args = \u001b[43mbuild_dataframe\u001b[49m\u001b[43m(\u001b[49m\u001b[43margs\u001b[49m\u001b[43m,\u001b[49m\u001b[43m \u001b[49m\u001b[43mconstructor\u001b[49m\u001b[43m)\u001b[49m\n\u001b[32m   2492\u001b[39m \u001b[38;5;28;01mif\u001b[39;00m constructor \u001b[38;5;129;01min\u001b[39;00m [go.Treemap, go.Sunburst, go.Icicle] \u001b[38;5;129;01mand\u001b[39;00m args[\u001b[33m\"\u001b[39m\u001b[33mpath\u001b[39m\u001b[33m\"\u001b[39m] \u001b[38;5;129;01mis\u001b[39;00m \u001b[38;5;129;01mnot\u001b[39;00m \u001b[38;5;28;01mNone\u001b[39;00m:\n\u001b[32m   2493\u001b[39m     args = process_dataframe_hierarchy(args)\n",
      "\u001b[36mFile \u001b[39m\u001b[32m~\\Desktop\\New-Era-Projects\\Data-Analyst-Assistant-App\\.venv\\Lib\\site-packages\\plotly\\express\\_core.py:1737\u001b[39m, in \u001b[36mbuild_dataframe\u001b[39m\u001b[34m(args, constructor)\u001b[39m\n\u001b[32m   1734\u001b[39m     args[\u001b[33m\"\u001b[39m\u001b[33mcolor\u001b[39m\u001b[33m\"\u001b[39m] = \u001b[38;5;28;01mNone\u001b[39;00m\n\u001b[32m   1735\u001b[39m \u001b[38;5;66;03m# now that things have been prepped, we do the systematic rewriting of `args`\u001b[39;00m\n\u001b[32m-> \u001b[39m\u001b[32m1737\u001b[39m df_output, wide_id_vars = \u001b[43mprocess_args_into_dataframe\u001b[49m\u001b[43m(\u001b[49m\n\u001b[32m   1738\u001b[39m \u001b[43m    \u001b[49m\u001b[43margs\u001b[49m\u001b[43m,\u001b[49m\n\u001b[32m   1739\u001b[39m \u001b[43m    \u001b[49m\u001b[43mwide_mode\u001b[49m\u001b[43m,\u001b[49m\n\u001b[32m   1740\u001b[39m \u001b[43m    \u001b[49m\u001b[43mvar_name\u001b[49m\u001b[43m,\u001b[49m\n\u001b[32m   1741\u001b[39m \u001b[43m    \u001b[49m\u001b[43mvalue_name\u001b[49m\u001b[43m,\u001b[49m\n\u001b[32m   1742\u001b[39m \u001b[43m    \u001b[49m\u001b[43mis_pd_like\u001b[49m\u001b[43m,\u001b[49m\n\u001b[32m   1743\u001b[39m \u001b[43m    \u001b[49m\u001b[43mnative_namespace\u001b[49m\u001b[43m,\u001b[49m\n\u001b[32m   1744\u001b[39m \u001b[43m\u001b[49m\u001b[43m)\u001b[49m\n\u001b[32m   1745\u001b[39m df_output: nw.DataFrame\n\u001b[32m   1746\u001b[39m \u001b[38;5;66;03m# now that `df_output` exists and `args` contains only references, we complete\u001b[39;00m\n\u001b[32m   1747\u001b[39m \u001b[38;5;66;03m# the special-case and wide-mode handling by further rewriting args and/or mutating\u001b[39;00m\n\u001b[32m   1748\u001b[39m \u001b[38;5;66;03m# df_output\u001b[39;00m\n",
      "\u001b[36mFile \u001b[39m\u001b[32m~\\Desktop\\New-Era-Projects\\Data-Analyst-Assistant-App\\.venv\\Lib\\site-packages\\plotly\\express\\_core.py:1338\u001b[39m, in \u001b[36mprocess_args_into_dataframe\u001b[39m\u001b[34m(args, wide_mode, var_name, value_name, is_pd_like, native_namespace)\u001b[39m\n\u001b[32m   1336\u001b[39m         \u001b[38;5;28;01mif\u001b[39;00m argument == \u001b[33m\"\u001b[39m\u001b[33mindex\u001b[39m\u001b[33m\"\u001b[39m:\n\u001b[32m   1337\u001b[39m             err_msg += \u001b[33m\"\u001b[39m\u001b[38;5;130;01m\\n\u001b[39;00m\u001b[33m To use the index, pass it in directly as `df.index`.\u001b[39m\u001b[33m\"\u001b[39m\n\u001b[32m-> \u001b[39m\u001b[32m1338\u001b[39m         \u001b[38;5;28;01mraise\u001b[39;00m \u001b[38;5;167;01mValueError\u001b[39;00m(err_msg)\n\u001b[32m   1339\u001b[39m \u001b[38;5;28;01melif\u001b[39;00m length \u001b[38;5;129;01mand\u001b[39;00m (actual_len := \u001b[38;5;28mlen\u001b[39m(df_input)) != length:\n\u001b[32m   1340\u001b[39m     \u001b[38;5;28;01mraise\u001b[39;00m \u001b[38;5;167;01mValueError\u001b[39;00m(\n\u001b[32m   1341\u001b[39m         \u001b[33m\"\u001b[39m\u001b[33mAll arguments should have the same length. \u001b[39m\u001b[33m\"\u001b[39m\n\u001b[32m   1342\u001b[39m         \u001b[33m\"\u001b[39m\u001b[33mThe length of column argument `df[\u001b[39m\u001b[38;5;132;01m%s\u001b[39;00m\u001b[33m]` is \u001b[39m\u001b[38;5;132;01m%d\u001b[39;00m\u001b[33m, whereas the \u001b[39m\u001b[33m\"\u001b[39m\n\u001b[32m   (...)\u001b[39m\u001b[32m   1349\u001b[39m         )\n\u001b[32m   1350\u001b[39m     )\n",
      "\u001b[31mValueError\u001b[39m: Value of 'x' is not the name of a column in 'data_frame'. Expected one of ['DOB', 'count'] but received: index\n To use the index, pass it in directly as `df.index`."
     ]
    }
   ],
   "source": [
    "tool_dashboard()"
   ]
  },
  {
   "cell_type": "code",
   "execution_count": null,
   "id": "dc93deb4-f330-4310-a985-8fc83214f518",
   "metadata": {},
   "outputs": [],
   "source": []
  }
 ],
 "metadata": {
  "kernelspec": {
   "display_name": "venv-(DA Assistant)",
   "language": "python",
   "name": ".venv"
  },
  "language_info": {
   "codemirror_mode": {
    "name": "ipython",
    "version": 3
   },
   "file_extension": ".py",
   "mimetype": "text/x-python",
   "name": "python",
   "nbconvert_exporter": "python",
   "pygments_lexer": "ipython3",
   "version": "3.11.0"
  }
 },
 "nbformat": 4,
 "nbformat_minor": 5
}
